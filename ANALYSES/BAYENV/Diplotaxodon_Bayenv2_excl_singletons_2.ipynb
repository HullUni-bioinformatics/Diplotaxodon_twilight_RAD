{
 "cells": [
  {
   "cell_type": "markdown",
   "metadata": {},
   "source": [
    "__Import the functions__ (assumes that `QTLight_functions.py` is in your current working directory or in your python path)"
   ]
  },
  {
   "cell_type": "code",
   "execution_count": 2,
   "metadata": {
    "collapsed": true
   },
   "outputs": [],
   "source": [
    "import QTLight_functions as QTL"
   ]
  },
  {
   "cell_type": "markdown",
   "metadata": {},
   "source": [
    "__Fetch relevant files from stacks populations run__"
   ]
  },
  {
   "cell_type": "code",
   "execution_count": 2,
   "metadata": {
    "collapsed": true
   },
   "outputs": [],
   "source": [
    "%%bash\n",
    "\n",
    "#vcf result from populations\n",
    "ln -s /media/chrishah/STORAGE/RAD/stacks/ALL/mapping/excl_PCR_dupl/BWA-8MM/M_zebra/3-populations/Diplotaxodon_4pop/m5_mpop5_kernel_iterate_ONE_SNP_PER_TAG/r_0.8-p_4/batch_1.vcf.gz .\n",
    "#populationmap as used by stacks\n",
    "ln -s /media/chrishah/STORAGE/RAD/stacks/ALL/mapping/excl_PCR_dupl/BWA-8MM/M_zebra/3-populations/Diplotaxodon_4pop/populationmap .\n",
    "mkdir matrix"
   ]
  },
  {
   "cell_type": "markdown",
   "metadata": {},
   "source": [
    "__create 10 Bayenv input files with 5000 randomly selected loci in each__"
   ]
  },
  {
   "cell_type": "code",
   "execution_count": 3,
   "metadata": {
    "collapsed": false
   },
   "outputs": [
    {
     "name": "stdout",
     "output_type": "stream",
     "text": [
      "\n",
      "repitition 1:\n",
      "\n",
      "\n",
      "individuals per population (as specified by populationmap):\n",
      "Di_1 (10): sample_BBNB1.1, sample_BBNB10.1, sample_BBNB2.1, sample_BBNB3.1, sample_BBNB4.1, sample_BBNB5.1, sample_BBNB6.1, sample_BBNB7.1, sample_BBNB8.1, sample_BBNB9.1\n",
      "Di_2 (6): sample_LBPNK2.1, sample_LBPNK3.1, sample_LBPNK4.1, sample_LBPNK5.1, sample_LBPNK6.1, sample_LBPNK7.1\n",
      "Di_4 (8): sample_MONB11.1, sample_MONB2.1, sample_MONB3.1, sample_MONB4.1, sample_MONB5.1, sample_MONB7.1, sample_MONB8.1, sample_MONB9.1\n",
      "Di_5 (10): sample_NJ1.1, sample_NJ10.1, sample_NJ2.1, sample_NJ3.1, sample_NJ4.1, sample_NJ5.1, sample_NJ6.1, sample_NJ7.1, sample_NJ8.1, sample_NJ9.1\n",
      "\n",
      "specified minimum counts of required individuals per population:\n",
      "Di_1:\t5\n",
      "Di_2:\t5\n",
      "Di_4:\t5\n",
      "Di_5:\t5\n",
      "\n",
      "you specified minimum minor allele count: 2\n",
      "\n",
      "\n",
      "requested randomly selected subset of 5000 SNPs\n",
      "\n",
      "writing files:\n",
      "\n",
      "\tmatrix/random_5000_rep_1.bayenv.SNPfile\n",
      "\tmatrix/random_5000_rep_1.bayenv.SNPmap\n",
      "\n",
      "\n",
      "repitition 2:\n",
      "\n",
      "\n",
      "individuals per population (as specified by populationmap):\n",
      "Di_1 (10): sample_BBNB1.1, sample_BBNB10.1, sample_BBNB2.1, sample_BBNB3.1, sample_BBNB4.1, sample_BBNB5.1, sample_BBNB6.1, sample_BBNB7.1, sample_BBNB8.1, sample_BBNB9.1\n",
      "Di_2 (6): sample_LBPNK2.1, sample_LBPNK3.1, sample_LBPNK4.1, sample_LBPNK5.1, sample_LBPNK6.1, sample_LBPNK7.1\n",
      "Di_4 (8): sample_MONB11.1, sample_MONB2.1, sample_MONB3.1, sample_MONB4.1, sample_MONB5.1, sample_MONB7.1, sample_MONB8.1, sample_MONB9.1\n",
      "Di_5 (10): sample_NJ1.1, sample_NJ10.1, sample_NJ2.1, sample_NJ3.1, sample_NJ4.1, sample_NJ5.1, sample_NJ6.1, sample_NJ7.1, sample_NJ8.1, sample_NJ9.1\n",
      "\n",
      "specified minimum counts of required individuals per population:\n",
      "Di_1:\t5\n",
      "Di_2:\t5\n",
      "Di_4:\t5\n",
      "Di_5:\t5\n",
      "\n",
      "you specified minimum minor allele count: 2\n",
      "\n",
      "\n",
      "requested randomly selected subset of 5000 SNPs\n",
      "\n",
      "writing files:\n",
      "\n",
      "\tmatrix/random_5000_rep_2.bayenv.SNPfile\n",
      "\tmatrix/random_5000_rep_2.bayenv.SNPmap\n",
      "\n",
      "\n",
      "repitition 3:\n",
      "\n",
      "\n",
      "individuals per population (as specified by populationmap):\n",
      "Di_1 (10): sample_BBNB1.1, sample_BBNB10.1, sample_BBNB2.1, sample_BBNB3.1, sample_BBNB4.1, sample_BBNB5.1, sample_BBNB6.1, sample_BBNB7.1, sample_BBNB8.1, sample_BBNB9.1\n",
      "Di_2 (6): sample_LBPNK2.1, sample_LBPNK3.1, sample_LBPNK4.1, sample_LBPNK5.1, sample_LBPNK6.1, sample_LBPNK7.1\n",
      "Di_4 (8): sample_MONB11.1, sample_MONB2.1, sample_MONB3.1, sample_MONB4.1, sample_MONB5.1, sample_MONB7.1, sample_MONB8.1, sample_MONB9.1\n",
      "Di_5 (10): sample_NJ1.1, sample_NJ10.1, sample_NJ2.1, sample_NJ3.1, sample_NJ4.1, sample_NJ5.1, sample_NJ6.1, sample_NJ7.1, sample_NJ8.1, sample_NJ9.1\n",
      "\n",
      "specified minimum counts of required individuals per population:\n",
      "Di_1:\t5\n",
      "Di_2:\t5\n",
      "Di_4:\t5\n",
      "Di_5:\t5\n",
      "\n",
      "you specified minimum minor allele count: 2\n",
      "\n",
      "\n",
      "requested randomly selected subset of 5000 SNPs\n",
      "\n",
      "writing files:\n",
      "\n",
      "\tmatrix/random_5000_rep_3.bayenv.SNPfile\n",
      "\tmatrix/random_5000_rep_3.bayenv.SNPmap\n",
      "\n",
      "\n",
      "repitition 4:\n",
      "\n",
      "\n",
      "individuals per population (as specified by populationmap):\n",
      "Di_1 (10): sample_BBNB1.1, sample_BBNB10.1, sample_BBNB2.1, sample_BBNB3.1, sample_BBNB4.1, sample_BBNB5.1, sample_BBNB6.1, sample_BBNB7.1, sample_BBNB8.1, sample_BBNB9.1\n",
      "Di_2 (6): sample_LBPNK2.1, sample_LBPNK3.1, sample_LBPNK4.1, sample_LBPNK5.1, sample_LBPNK6.1, sample_LBPNK7.1\n",
      "Di_4 (8): sample_MONB11.1, sample_MONB2.1, sample_MONB3.1, sample_MONB4.1, sample_MONB5.1, sample_MONB7.1, sample_MONB8.1, sample_MONB9.1\n",
      "Di_5 (10): sample_NJ1.1, sample_NJ10.1, sample_NJ2.1, sample_NJ3.1, sample_NJ4.1, sample_NJ5.1, sample_NJ6.1, sample_NJ7.1, sample_NJ8.1, sample_NJ9.1\n",
      "\n",
      "specified minimum counts of required individuals per population:\n",
      "Di_1:\t5\n",
      "Di_2:\t5\n",
      "Di_4:\t5\n",
      "Di_5:\t5\n",
      "\n",
      "you specified minimum minor allele count: 2\n",
      "\n",
      "\n",
      "requested randomly selected subset of 5000 SNPs\n",
      "\n",
      "writing files:\n",
      "\n",
      "\tmatrix/random_5000_rep_4.bayenv.SNPfile\n",
      "\tmatrix/random_5000_rep_4.bayenv.SNPmap\n",
      "\n",
      "\n",
      "repitition 5:\n",
      "\n",
      "\n",
      "individuals per population (as specified by populationmap):\n",
      "Di_1 (10): sample_BBNB1.1, sample_BBNB10.1, sample_BBNB2.1, sample_BBNB3.1, sample_BBNB4.1, sample_BBNB5.1, sample_BBNB6.1, sample_BBNB7.1, sample_BBNB8.1, sample_BBNB9.1\n",
      "Di_2 (6): sample_LBPNK2.1, sample_LBPNK3.1, sample_LBPNK4.1, sample_LBPNK5.1, sample_LBPNK6.1, sample_LBPNK7.1\n",
      "Di_4 (8): sample_MONB11.1, sample_MONB2.1, sample_MONB3.1, sample_MONB4.1, sample_MONB5.1, sample_MONB7.1, sample_MONB8.1, sample_MONB9.1\n",
      "Di_5 (10): sample_NJ1.1, sample_NJ10.1, sample_NJ2.1, sample_NJ3.1, sample_NJ4.1, sample_NJ5.1, sample_NJ6.1, sample_NJ7.1, sample_NJ8.1, sample_NJ9.1\n",
      "\n",
      "specified minimum counts of required individuals per population:\n",
      "Di_1:\t5\n",
      "Di_2:\t5\n",
      "Di_4:\t5\n",
      "Di_5:\t5\n",
      "\n",
      "you specified minimum minor allele count: 2\n",
      "\n",
      "\n",
      "requested randomly selected subset of 5000 SNPs\n",
      "\n",
      "writing files:\n",
      "\n",
      "\tmatrix/random_5000_rep_5.bayenv.SNPfile\n",
      "\tmatrix/random_5000_rep_5.bayenv.SNPmap\n",
      "\n",
      "\n",
      "repitition 6:\n",
      "\n",
      "\n",
      "individuals per population (as specified by populationmap):\n",
      "Di_1 (10): sample_BBNB1.1, sample_BBNB10.1, sample_BBNB2.1, sample_BBNB3.1, sample_BBNB4.1, sample_BBNB5.1, sample_BBNB6.1, sample_BBNB7.1, sample_BBNB8.1, sample_BBNB9.1\n",
      "Di_2 (6): sample_LBPNK2.1, sample_LBPNK3.1, sample_LBPNK4.1, sample_LBPNK5.1, sample_LBPNK6.1, sample_LBPNK7.1\n",
      "Di_4 (8): sample_MONB11.1, sample_MONB2.1, sample_MONB3.1, sample_MONB4.1, sample_MONB5.1, sample_MONB7.1, sample_MONB8.1, sample_MONB9.1\n",
      "Di_5 (10): sample_NJ1.1, sample_NJ10.1, sample_NJ2.1, sample_NJ3.1, sample_NJ4.1, sample_NJ5.1, sample_NJ6.1, sample_NJ7.1, sample_NJ8.1, sample_NJ9.1\n",
      "\n",
      "specified minimum counts of required individuals per population:\n",
      "Di_1:\t5\n",
      "Di_2:\t5\n",
      "Di_4:\t5\n",
      "Di_5:\t5\n",
      "\n",
      "you specified minimum minor allele count: 2\n",
      "\n",
      "\n",
      "requested randomly selected subset of 5000 SNPs\n",
      "\n",
      "writing files:\n",
      "\n",
      "\tmatrix/random_5000_rep_6.bayenv.SNPfile\n",
      "\tmatrix/random_5000_rep_6.bayenv.SNPmap\n",
      "\n",
      "\n",
      "repitition 7:\n",
      "\n",
      "\n",
      "individuals per population (as specified by populationmap):\n",
      "Di_1 (10): sample_BBNB1.1, sample_BBNB10.1, sample_BBNB2.1, sample_BBNB3.1, sample_BBNB4.1, sample_BBNB5.1, sample_BBNB6.1, sample_BBNB7.1, sample_BBNB8.1, sample_BBNB9.1\n",
      "Di_2 (6): sample_LBPNK2.1, sample_LBPNK3.1, sample_LBPNK4.1, sample_LBPNK5.1, sample_LBPNK6.1, sample_LBPNK7.1\n",
      "Di_4 (8): sample_MONB11.1, sample_MONB2.1, sample_MONB3.1, sample_MONB4.1, sample_MONB5.1, sample_MONB7.1, sample_MONB8.1, sample_MONB9.1\n",
      "Di_5 (10): sample_NJ1.1, sample_NJ10.1, sample_NJ2.1, sample_NJ3.1, sample_NJ4.1, sample_NJ5.1, sample_NJ6.1, sample_NJ7.1, sample_NJ8.1, sample_NJ9.1\n",
      "\n",
      "specified minimum counts of required individuals per population:\n",
      "Di_1:\t5\n",
      "Di_2:\t5\n",
      "Di_4:\t5\n",
      "Di_5:\t5\n",
      "\n",
      "you specified minimum minor allele count: 2\n",
      "\n",
      "\n",
      "requested randomly selected subset of 5000 SNPs\n",
      "\n",
      "writing files:\n",
      "\n",
      "\tmatrix/random_5000_rep_7.bayenv.SNPfile\n",
      "\tmatrix/random_5000_rep_7.bayenv.SNPmap\n",
      "\n",
      "\n",
      "repitition 8:\n",
      "\n",
      "\n",
      "individuals per population (as specified by populationmap):\n",
      "Di_1 (10): sample_BBNB1.1, sample_BBNB10.1, sample_BBNB2.1, sample_BBNB3.1, sample_BBNB4.1, sample_BBNB5.1, sample_BBNB6.1, sample_BBNB7.1, sample_BBNB8.1, sample_BBNB9.1\n",
      "Di_2 (6): sample_LBPNK2.1, sample_LBPNK3.1, sample_LBPNK4.1, sample_LBPNK5.1, sample_LBPNK6.1, sample_LBPNK7.1\n",
      "Di_4 (8): sample_MONB11.1, sample_MONB2.1, sample_MONB3.1, sample_MONB4.1, sample_MONB5.1, sample_MONB7.1, sample_MONB8.1, sample_MONB9.1\n",
      "Di_5 (10): sample_NJ1.1, sample_NJ10.1, sample_NJ2.1, sample_NJ3.1, sample_NJ4.1, sample_NJ5.1, sample_NJ6.1, sample_NJ7.1, sample_NJ8.1, sample_NJ9.1\n",
      "\n",
      "specified minimum counts of required individuals per population:\n",
      "Di_1:\t5\n",
      "Di_2:\t5\n",
      "Di_4:\t5\n",
      "Di_5:\t5\n",
      "\n",
      "you specified minimum minor allele count: 2\n",
      "\n",
      "\n",
      "requested randomly selected subset of 5000 SNPs\n",
      "\n",
      "writing files:\n",
      "\n",
      "\tmatrix/random_5000_rep_8.bayenv.SNPfile\n",
      "\tmatrix/random_5000_rep_8.bayenv.SNPmap\n",
      "\n",
      "\n",
      "repitition 9:\n",
      "\n",
      "\n",
      "individuals per population (as specified by populationmap):\n",
      "Di_1 (10): sample_BBNB1.1, sample_BBNB10.1, sample_BBNB2.1, sample_BBNB3.1, sample_BBNB4.1, sample_BBNB5.1, sample_BBNB6.1, sample_BBNB7.1, sample_BBNB8.1, sample_BBNB9.1\n",
      "Di_2 (6): sample_LBPNK2.1, sample_LBPNK3.1, sample_LBPNK4.1, sample_LBPNK5.1, sample_LBPNK6.1, sample_LBPNK7.1\n",
      "Di_4 (8): sample_MONB11.1, sample_MONB2.1, sample_MONB3.1, sample_MONB4.1, sample_MONB5.1, sample_MONB7.1, sample_MONB8.1, sample_MONB9.1\n",
      "Di_5 (10): sample_NJ1.1, sample_NJ10.1, sample_NJ2.1, sample_NJ3.1, sample_NJ4.1, sample_NJ5.1, sample_NJ6.1, sample_NJ7.1, sample_NJ8.1, sample_NJ9.1\n",
      "\n",
      "specified minimum counts of required individuals per population:\n",
      "Di_1:\t5\n",
      "Di_2:\t5\n",
      "Di_4:\t5\n",
      "Di_5:\t5\n",
      "\n",
      "you specified minimum minor allele count: 2\n",
      "\n",
      "\n",
      "requested randomly selected subset of 5000 SNPs\n",
      "\n",
      "writing files:\n",
      "\n",
      "\tmatrix/random_5000_rep_9.bayenv.SNPfile\n",
      "\tmatrix/random_5000_rep_9.bayenv.SNPmap\n",
      "\n",
      "\n",
      "repitition 10:\n",
      "\n",
      "\n",
      "individuals per population (as specified by populationmap):\n",
      "Di_1 (10): sample_BBNB1.1, sample_BBNB10.1, sample_BBNB2.1, sample_BBNB3.1, sample_BBNB4.1, sample_BBNB5.1, sample_BBNB6.1, sample_BBNB7.1, sample_BBNB8.1, sample_BBNB9.1\n",
      "Di_2 (6): sample_LBPNK2.1, sample_LBPNK3.1, sample_LBPNK4.1, sample_LBPNK5.1, sample_LBPNK6.1, sample_LBPNK7.1\n",
      "Di_4 (8): sample_MONB11.1, sample_MONB2.1, sample_MONB3.1, sample_MONB4.1, sample_MONB5.1, sample_MONB7.1, sample_MONB8.1, sample_MONB9.1\n",
      "Di_5 (10): sample_NJ1.1, sample_NJ10.1, sample_NJ2.1, sample_NJ3.1, sample_NJ4.1, sample_NJ5.1, sample_NJ6.1, sample_NJ7.1, sample_NJ8.1, sample_NJ9.1\n",
      "\n",
      "specified minimum counts of required individuals per population:\n",
      "Di_1:\t5\n",
      "Di_2:\t5\n",
      "Di_4:\t5\n",
      "Di_5:\t5\n",
      "\n",
      "you specified minimum minor allele count: 2\n",
      "\n",
      "\n",
      "requested randomly selected subset of 5000 SNPs\n",
      "\n",
      "writing files:\n",
      "\n",
      "\tmatrix/random_5000_rep_10.bayenv.SNPfile\n",
      "\tmatrix/random_5000_rep_10.bayenv.SNPmap\n",
      "\n"
     ]
    }
   ],
   "source": [
    "%%bash\n",
    "#pip install pyvcf\n",
    "\n",
    "for a in {1..10}\n",
    "do\n",
    "    echo -e \"\\nrepitition $a:\\n\"\n",
    "    python /media/chrishah/STORAGE/Dropbox/Github/genomisc/popogeno/QTlight/vcf_2_div.py --min_number 5 -r 5000 -o matrix/random_5000_rep_$a -m populationmap --exclude_singletons batch_1.vcf.gz\n",
    "done"
   ]
  },
  {
   "cell_type": "markdown",
   "metadata": {},
   "source": [
    "__create 10 covariance matrizes with 100000 iterations each__"
   ]
  },
  {
   "cell_type": "code",
   "execution_count": 14,
   "metadata": {
    "collapsed": false,
    "scrolled": true
   },
   "outputs": [
    {
     "name": "stdout",
     "output_type": "stream",
     "text": [
      "repitition 1 (random seed: -20158)\n",
      "\n",
      "repitition 2 (random seed: -16468)\n",
      "\n",
      "repitition 3 (random seed: -20371)\n",
      "\n",
      "repitition 4 (random seed: -13871)\n",
      "\n",
      "repitition 5 (random seed: -19331)\n",
      "\n",
      "repitition 6 (random seed: -30726)\n",
      "\n",
      "repitition 7 (random seed: -1792)\n",
      "\n",
      "repitition 8 (random seed: -17363)\n",
      "\n",
      "repitition 9 (random seed: -26042)\n",
      "\n",
      "repitition 10 (random seed: -20693)\n",
      "\n"
     ]
    }
   ],
   "source": [
    "%%bash\n",
    "cd matrix/\n",
    "\n",
    "for a in {1..10}\n",
    "do\n",
    "    rand=$RANDOM\n",
    "    echo -e \"repitition $a (random seed: -$rand)\\n\"\n",
    "    /home/chrishah/src/Bayenv/bayenv2 0 -p 4 -r -$RANDOM -k 100000 -i random_5000_rep_$a.bayenv.SNPfile > random_5000_rep_$a.log\n",
    "    \n",
    "done\n",
    "cd ../"
   ]
  },
  {
   "cell_type": "markdown",
   "metadata": {},
   "source": [
    "__extract covariance matrizes__ from final iteration into txt file"
   ]
  },
  {
   "cell_type": "code",
   "execution_count": 15,
   "metadata": {
    "collapsed": true
   },
   "outputs": [],
   "source": [
    "%%bash\n",
    "dimensions=4\n",
    "\n",
    "for a in {1..10}\n",
    "do\n",
    "    tail -n $((dimensions+1)) matrix/random_5000_rep_$a.log | grep \"^$\" -v > matrix/random_5000_rep_$a\\_it-10e5.matrix\n",
    "done\n"
   ]
  },
  {
   "cell_type": "markdown",
   "metadata": {},
   "source": [
    "__construct average covariance matrix from 10 random sets__"
   ]
  },
  {
   "cell_type": "code",
   "execution_count": 16,
   "metadata": {
    "collapsed": true
   },
   "outputs": [],
   "source": [
    "import numpy as np\n",
    "main_list = []\n",
    "\n",
    "for a in range(10):\n",
    "    current = \"matrix/random_5000_rep_\"+str(a+1)+\"_it-10e5.matrix\"\n",
    "#    print current\n",
    "    IN = open(current,\"r\")\n",
    "    temp_list = []\n",
    "    for line in IN:\n",
    "        temp_list.extend(line.rstrip().split(\"\\t\"))\n",
    "\n",
    "    for i in range(len(temp_list)):\n",
    "        if a == 0:\n",
    "            main_list.append([float(temp_list[i])])\n",
    "        else:\n",
    "            main_list[i].append(float(temp_list[i]))\n",
    "        \n",
    "#print main_list\n",
    "\n",
    "av_out_list = []\n",
    "std_out_list = []\n",
    "for j in range(len(main_list)):\n",
    "    av_out_list.append(np.mean(main_list[j]))\n",
    "\n",
    "#print av_out_list\n",
    "\n",
    "outstring = \"\"\n",
    "for z in range(len(av_out_list)):\n",
    "    av_out_list[z] = \"%s\\t\" %av_out_list[z]\n",
    "    if not outstring:\n",
    "        outstring = av_out_list[z]\n",
    "    else:\n",
    "        outstring = outstring+av_out_list[z]\n",
    "        if ((z+1) % 4 == 0):\n",
    "            outstring = \"%s\\n\" %(outstring)\n",
    "\n",
    "\n",
    "OUT = open(\"matrix/av_matrix.matrix\",\"w\")\n",
    "OUT.write(outstring)\n",
    "OUT.close()\n",
    "        "
   ]
  },
  {
   "cell_type": "markdown",
   "metadata": {},
   "source": [
    "__Prepare__ environmental data - average and normalize\n",
    "\n",
    "raw data is provided in a csv file with the first column containing the population id. See example in test-data."
   ]
  },
  {
   "cell_type": "code",
   "execution_count": 24,
   "metadata": {
    "collapsed": false
   },
   "outputs": [],
   "source": [
    "%%bash\n",
    "mkdir morpho_data\n",
    "cat /media/chrishah/STORAGE/Dropbox/Diplotaxodon/Morpho_raw_data/Diplotaxodon_Morphometric_Data_corrected_TL.csv | sed 's/ /_/g' >  morpho_data/Diplotaxodon_Morphometric_Data_corrected_TL.csv\n"
   ]
  },
  {
   "cell_type": "code",
   "execution_count": 2,
   "metadata": {
    "collapsed": false,
    "scrolled": true
   },
   "outputs": [
    {
     "name": "stdout",
     "output_type": "stream",
     "text": [
      "Creating boxplot for PC1\n",
      "\n",
      "Creating boxplot for PC2\n",
      "\n",
      "Creating boxplot for PC3\n",
      "\n",
      "Creating boxplot for PC4\n",
      "\n",
      "Creating boxplot for Head_Length\n",
      "\n",
      "Creating boxplot for Body_Depth\n",
      "\n",
      "Creating boxplot for CP_Length\n",
      "\n",
      "Creating boxplot for CP_Depth\n",
      "\n",
      "Creating boxplot for Snout_L\n",
      "\n",
      "Creating boxplot for Snout_Dorsal\n",
      "\n",
      "Creating boxplot for Snout_Pelvic\n",
      "\n",
      "Creating boxplot for Pectoral_FL\n",
      "\n",
      "Creating boxplot for Pelvic_FL\n",
      "\n",
      "Creating boxplot for Dorsal_BL\n",
      "\n",
      "Creating boxplot for Anal_BL\n",
      "\n",
      "Creating boxplot for H_Ey_D\n",
      "\n",
      "Creating boxplot for H_Ey_D_p_TL\n",
      "\n",
      "Creating boxplot for V_Ey_D\n",
      "\n",
      "Creating boxplot for V_EY_D_p_TL\n",
      "\n",
      "Creating boxplot for POHL\n",
      "\n",
      "Creating boxplot for POD\n",
      "\n",
      "Creating boxplot for LJL\n",
      "\n",
      "Creating boxplot for IOW\n",
      "\n",
      "Creating boxplot for POW\n",
      "\n",
      "Creating boxplot for CD\n",
      "\n",
      "Creating boxplot for HD\n",
      "\n",
      "\n",
      "normalizing 26 environmental factors across 4 populations\n",
      "writing to:\n",
      "\tmorpho_data/Diplotaxodon_Morphometric_Data_normalized.bayenv\n",
      "\tmorpho_data/Diplotaxodon_Morphometric_Data_normalized.csv\n"
     ]
    }
   ],
   "source": [
    "populations, IDs = QTL.normalize(csv='./morpho_data/Diplotaxodon_Morphometric_Data_corrected_TL.csv', normalize=True, norm_prefix='morpho_data/Diplotaxodon_Morphometric_Data_normalized', boxplot=True, boxplots_prefix=\"morpho_data/boxplot\")"
   ]
  },
  {
   "cell_type": "code",
   "execution_count": 3,
   "metadata": {
    "collapsed": false
   },
   "outputs": [
    {
     "name": "stdout",
     "output_type": "stream",
     "text": [
      "['Di_1', 'Di_2', 'Di_4', 'Di_5']\n",
      "['Anal_BL', 'Body_Depth', 'CD', 'CP_Depth', 'CP_Length', 'Dorsal_BL', 'HD', 'H_Ey_D', 'H_Ey_D_p_TL', 'Head_Length', 'IOW', 'LJL', 'PC1', 'PC2', 'PC3', 'PC4', 'POD', 'POHL', 'POW', 'Pectoral_FL', 'Pelvic_FL', 'Snout_Dorsal', 'Snout_L', 'Snout_Pelvic', 'V_EY_D_p_TL', 'V_Ey_D']\n"
     ]
    }
   ],
   "source": [
    "print populations\n",
    "print IDs"
   ]
  },
  {
   "cell_type": "markdown",
   "metadata": {},
   "source": [
    "__convert vcf to bayenv - generate full SNP file (excluding singletons)__"
   ]
  },
  {
   "cell_type": "code",
   "execution_count": 13,
   "metadata": {
    "collapsed": false
   },
   "outputs": [
    {
     "name": "stdout",
     "output_type": "stream",
     "text": [
      "\n",
      "individuals per population (as specified by populationmap):\n",
      "Di_1 (10): sample_BBNB1.1, sample_BBNB10.1, sample_BBNB2.1, sample_BBNB3.1, sample_BBNB4.1, sample_BBNB5.1, sample_BBNB6.1, sample_BBNB7.1, sample_BBNB8.1, sample_BBNB9.1\n",
      "Di_2 (6): sample_LBPNK2.1, sample_LBPNK3.1, sample_LBPNK4.1, sample_LBPNK5.1, sample_LBPNK6.1, sample_LBPNK7.1\n",
      "Di_4 (8): sample_MONB11.1, sample_MONB2.1, sample_MONB3.1, sample_MONB4.1, sample_MONB5.1, sample_MONB7.1, sample_MONB8.1, sample_MONB9.1\n",
      "Di_5 (10): sample_NJ1.1, sample_NJ10.1, sample_NJ2.1, sample_NJ3.1, sample_NJ4.1, sample_NJ5.1, sample_NJ6.1, sample_NJ7.1, sample_NJ8.1, sample_NJ9.1\n",
      "\n",
      "specified minimum counts of required individuals per population:\n",
      "Di_1:\t5\n",
      "Di_2:\t5\n",
      "Di_4:\t5\n",
      "Di_5:\t5\n",
      "\n",
      "you specified minimum minor allele count: 2\n",
      "\n",
      "\n",
      "requested full set of 11786 SNPs (12262 loci were removed because they did not meet the minimum criteria)\n",
      "\n",
      "writing files:\n",
      "\n",
      "\tSNPfiles/full_set.bayenv.SNPfile\n",
      "\tSNPfiles/full_set.bayenv.SNPmap\n",
      "\n"
     ]
    }
   ],
   "source": [
    "%%bash\n",
    "\n",
    "mkdir SNPfiles\n",
    "python /media/chrishah/STORAGE/Dropbox/Github/genomisc/popogeno/QTlight/vcf_2_div.py batch_1.vcf.gz --min_number 5 -o SNPfiles/full_set -m populationmap --exclude_singletons\n"
   ]
  },
  {
   "cell_type": "markdown",
   "metadata": {},
   "source": [
    "__split up SNPfiles into single files__"
   ]
  },
  {
   "cell_type": "code",
   "execution_count": 22,
   "metadata": {
    "collapsed": false
   },
   "outputs": [],
   "source": [
    "QTL.split_for_Bayenv(infile='SNPfiles/full_set.bayenv.SNPfile', out_prefix='SNPfiles/Diplo_SNP')"
   ]
  },
  {
   "cell_type": "markdown",
   "metadata": {},
   "source": [
    "__Run Bayenv for 10 replications__ serially"
   ]
  },
  {
   "cell_type": "code",
   "execution_count": 23,
   "metadata": {
    "collapsed": false
   },
   "outputs": [
    {
     "name": "stdout",
     "output_type": "stream",
     "text": [
      "11786\r\n"
     ]
    }
   ],
   "source": [
    "#find the number of SNP files to add to specify in loop below\n",
    "!ls -1 SNPfiles/Diplo* |wc -l"
   ]
  },
  {
   "cell_type": "code",
   "execution_count": 20,
   "metadata": {
    "collapsed": false
   },
   "outputs": [],
   "source": [
    "!mkdir running_Bayenv"
   ]
  },
  {
   "cell_type": "markdown",
   "metadata": {},
   "source": [
    "for this run I used bayenv2 version: `tguenther-bayenv2_public-48f0b51ced16`"
   ]
  },
  {
   "cell_type": "code",
   "execution_count": null,
   "metadata": {
    "collapsed": true
   },
   "outputs": [],
   "source": [
    "%%bash\n",
    "#adjust bayenv command to your requirements\n",
    "\n",
    "\n",
    "iterations=1000000\n",
    "\n",
    "cd running_Bayenv/\n",
    "\n",
    "for rep in {1..20}; do ran=$RANDOM; for a in {0000001..0023571}; do /home/chrishah/src/Bayenv/bayenv2_2801205/tguenther-bayenv2_public-48f0b51ced16/bayenv2 -i ../SNPfiles/Diplo_SNP-$a.txt -e ../morpho_data/Diplotaxodon_Morphometric_Data_normalized.bayenv -m ../matrix/av_matrix.matrix -k $iterations -r -$ran -p 4 -n 20 -t -X -c -o bayenv_out_k100000_env_rep_$rep-rand_$ran; done > log_rep_$rep; done"
   ]
  },
  {
   "cell_type": "markdown",
   "metadata": {},
   "source": [
    "__ALTERNATIVE__\n",
    "\n",
    "__Bayenv__ can be run on a HPC cluster in parallel. I provide a script `submit_Bayenv_array_multi.sh` that I used to run 10 replicates as arrayjob on a cluster that was running a PBS scheduling system. Total runtime for 10 replicates with 1M Bayenv iterations/SNP was ~ 24h. The results from the individual runs were then concatenated with the script `concat_sorted.sh` and moved to the directory `running_Bayenv` on the local machine."
   ]
  },
  {
   "cell_type": "markdown",
   "metadata": {},
   "source": [
    "#ANALYSE RANK STATISTICS#\n",
    "please make sure you load all functions below first"
   ]
  },
  {
   "cell_type": "markdown",
   "metadata": {},
   "source": [
    "__Calculating RANK STATISTICS__"
   ]
  },
  {
   "cell_type": "code",
   "execution_count": 5,
   "metadata": {
    "collapsed": true
   },
   "outputs": [],
   "source": [
    "mkdir RANK_STATISTIC_2/"
   ]
  },
  {
   "cell_type": "code",
   "execution_count": 4,
   "metadata": {
    "collapsed": false
   },
   "outputs": [
    {
     "name": "stdout",
     "output_type": "stream",
     "text": [
      "./running_bayenv/ANALYSES_FOR_PAPER_exclude_singletons/run_Bayenv/all_replicates//rep_2.bf\n",
      "./running_bayenv/ANALYSES_FOR_PAPER_exclude_singletons/run_Bayenv/all_replicates//rep_14.bf\n",
      "./running_bayenv/ANALYSES_FOR_PAPER_exclude_singletons/run_Bayenv/all_replicates//rep_1.bf\n",
      "./running_bayenv/ANALYSES_FOR_PAPER_exclude_singletons/run_Bayenv/all_replicates//rep_11.bf\n",
      "./running_bayenv/ANALYSES_FOR_PAPER_exclude_singletons/run_Bayenv/all_replicates//rep_20.bf\n",
      "./running_bayenv/ANALYSES_FOR_PAPER_exclude_singletons/run_Bayenv/all_replicates//rep_10.bf\n",
      "./running_bayenv/ANALYSES_FOR_PAPER_exclude_singletons/run_Bayenv/all_replicates//rep_7.bf\n",
      "./running_bayenv/ANALYSES_FOR_PAPER_exclude_singletons/run_Bayenv/all_replicates//rep_6.bf\n",
      "./running_bayenv/ANALYSES_FOR_PAPER_exclude_singletons/run_Bayenv/all_replicates//rep_18.bf\n",
      "./running_bayenv/ANALYSES_FOR_PAPER_exclude_singletons/run_Bayenv/all_replicates//rep_8.bf\n",
      "./running_bayenv/ANALYSES_FOR_PAPER_exclude_singletons/run_Bayenv/all_replicates//rep_12.bf\n",
      "./running_bayenv/ANALYSES_FOR_PAPER_exclude_singletons/run_Bayenv/all_replicates//rep_9.bf\n",
      "./running_bayenv/ANALYSES_FOR_PAPER_exclude_singletons/run_Bayenv/all_replicates//rep_19.bf\n",
      "./running_bayenv/ANALYSES_FOR_PAPER_exclude_singletons/run_Bayenv/all_replicates//rep_17.bf\n",
      "./running_bayenv/ANALYSES_FOR_PAPER_exclude_singletons/run_Bayenv/all_replicates//rep_13.bf\n",
      "./running_bayenv/ANALYSES_FOR_PAPER_exclude_singletons/run_Bayenv/all_replicates//rep_4.bf\n",
      "./running_bayenv/ANALYSES_FOR_PAPER_exclude_singletons/run_Bayenv/all_replicates//rep_16.bf\n",
      "./running_bayenv/ANALYSES_FOR_PAPER_exclude_singletons/run_Bayenv/all_replicates//rep_15.bf\n",
      "./running_bayenv/ANALYSES_FOR_PAPER_exclude_singletons/run_Bayenv/all_replicates//rep_3.bf\n",
      "./running_bayenv/ANALYSES_FOR_PAPER_exclude_singletons/run_Bayenv/all_replicates//rep_5.bf\n"
     ]
    }
   ],
   "source": [
    "#create the list of Bayenv results files to be processed\n",
    "import os\n",
    "\n",
    "bayenv_res_dir = './running_bayenv/ANALYSES_FOR_PAPER_exclude_singletons/run_Bayenv/all_replicates/'\n",
    "bayenv_files = []\n",
    "\n",
    "for fil in os.listdir(bayenv_res_dir):\n",
    "    if fil.endswith(\".bf\"):\n",
    "        print(bayenv_res_dir+\"/\"+fil)\n",
    "        bayenv_files.append(bayenv_res_dir+\"/\"+fil)"
   ]
  },
  {
   "cell_type": "code",
   "execution_count": 5,
   "metadata": {
    "collapsed": false
   },
   "outputs": [
    {
     "name": "stdout",
     "output_type": "stream",
     "text": [
      "['./running_bayenv/ANALYSES_FOR_PAPER_exclude_singletons/run_Bayenv/all_replicates//rep_2.bf', './running_bayenv/ANALYSES_FOR_PAPER_exclude_singletons/run_Bayenv/all_replicates//rep_14.bf', './running_bayenv/ANALYSES_FOR_PAPER_exclude_singletons/run_Bayenv/all_replicates//rep_1.bf', './running_bayenv/ANALYSES_FOR_PAPER_exclude_singletons/run_Bayenv/all_replicates//rep_11.bf', './running_bayenv/ANALYSES_FOR_PAPER_exclude_singletons/run_Bayenv/all_replicates//rep_20.bf', './running_bayenv/ANALYSES_FOR_PAPER_exclude_singletons/run_Bayenv/all_replicates//rep_10.bf', './running_bayenv/ANALYSES_FOR_PAPER_exclude_singletons/run_Bayenv/all_replicates//rep_7.bf', './running_bayenv/ANALYSES_FOR_PAPER_exclude_singletons/run_Bayenv/all_replicates//rep_6.bf', './running_bayenv/ANALYSES_FOR_PAPER_exclude_singletons/run_Bayenv/all_replicates//rep_18.bf', './running_bayenv/ANALYSES_FOR_PAPER_exclude_singletons/run_Bayenv/all_replicates//rep_8.bf', './running_bayenv/ANALYSES_FOR_PAPER_exclude_singletons/run_Bayenv/all_replicates//rep_12.bf', './running_bayenv/ANALYSES_FOR_PAPER_exclude_singletons/run_Bayenv/all_replicates//rep_9.bf', './running_bayenv/ANALYSES_FOR_PAPER_exclude_singletons/run_Bayenv/all_replicates//rep_19.bf', './running_bayenv/ANALYSES_FOR_PAPER_exclude_singletons/run_Bayenv/all_replicates//rep_17.bf', './running_bayenv/ANALYSES_FOR_PAPER_exclude_singletons/run_Bayenv/all_replicates//rep_13.bf', './running_bayenv/ANALYSES_FOR_PAPER_exclude_singletons/run_Bayenv/all_replicates//rep_4.bf', './running_bayenv/ANALYSES_FOR_PAPER_exclude_singletons/run_Bayenv/all_replicates//rep_16.bf', './running_bayenv/ANALYSES_FOR_PAPER_exclude_singletons/run_Bayenv/all_replicates//rep_15.bf', './running_bayenv/ANALYSES_FOR_PAPER_exclude_singletons/run_Bayenv/all_replicates//rep_3.bf', './running_bayenv/ANALYSES_FOR_PAPER_exclude_singletons/run_Bayenv/all_replicates//rep_5.bf']\n",
      "\n",
      "20\n",
      "['Anal_BL', 'Body_Depth', 'CD', 'CP_Depth', 'CP_Length', 'Dorsal_BL', 'HD', 'H_Ey_D', 'H_Ey_D_p_TL', 'Head_Length', 'IOW', 'LJL', 'PC1', 'PC2', 'PC3', 'PC4', 'POD', 'POHL', 'POW', 'Pectoral_FL', 'Pelvic_FL', 'Snout_Dorsal', 'Snout_L', 'Snout_Pelvic', 'V_EY_D_p_TL', 'V_Ey_D']\n",
      "26\n"
     ]
    }
   ],
   "source": [
    "print bayenv_files\n",
    "print \"\\n%i\" %len(bayenv_files)\n",
    "print IDs\n",
    "print len(IDs)"
   ]
  },
  {
   "cell_type": "code",
   "execution_count": 6,
   "metadata": {
    "collapsed": false,
    "scrolled": true
   },
   "outputs": [
    {
     "name": "stdout",
     "output_type": "stream",
     "text": [
      "Total number of SNPs (according to the SNPmap): 11786\n",
      "Number of Bayenv replicates: 20\n",
      "Number of environmental factors analysed: 26\n",
      "parsing bayenv files\n",
      "\n",
      "processing replicate 0:\n",
      "./running_bayenv/ANALYSES_FOR_PAPER_exclude_singletons/run_Bayenv/all_replicates//rep_1.bf\n",
      "\n",
      "processing replicate 1:\n",
      "./running_bayenv/ANALYSES_FOR_PAPER_exclude_singletons/run_Bayenv/all_replicates//rep_10.bf\n",
      "\n",
      "processing replicate 2:\n",
      "./running_bayenv/ANALYSES_FOR_PAPER_exclude_singletons/run_Bayenv/all_replicates//rep_11.bf\n",
      "\n",
      "processing replicate 3:\n",
      "./running_bayenv/ANALYSES_FOR_PAPER_exclude_singletons/run_Bayenv/all_replicates//rep_12.bf\n",
      "\n",
      "processing replicate 4:\n",
      "./running_bayenv/ANALYSES_FOR_PAPER_exclude_singletons/run_Bayenv/all_replicates//rep_13.bf\n",
      "\n",
      "processing replicate 5:\n",
      "./running_bayenv/ANALYSES_FOR_PAPER_exclude_singletons/run_Bayenv/all_replicates//rep_14.bf\n",
      "\n",
      "processing replicate 6:\n",
      "./running_bayenv/ANALYSES_FOR_PAPER_exclude_singletons/run_Bayenv/all_replicates//rep_15.bf\n",
      "\n",
      "processing replicate 7:\n",
      "./running_bayenv/ANALYSES_FOR_PAPER_exclude_singletons/run_Bayenv/all_replicates//rep_16.bf\n",
      "\n",
      "processing replicate 8:\n",
      "./running_bayenv/ANALYSES_FOR_PAPER_exclude_singletons/run_Bayenv/all_replicates//rep_17.bf\n",
      "\n",
      "processing replicate 9:\n",
      "./running_bayenv/ANALYSES_FOR_PAPER_exclude_singletons/run_Bayenv/all_replicates//rep_18.bf\n",
      "\n",
      "processing replicate 10:\n",
      "./running_bayenv/ANALYSES_FOR_PAPER_exclude_singletons/run_Bayenv/all_replicates//rep_19.bf\n",
      "\n",
      "processing replicate 11:\n",
      "./running_bayenv/ANALYSES_FOR_PAPER_exclude_singletons/run_Bayenv/all_replicates//rep_2.bf\n",
      "\n",
      "processing replicate 12:\n",
      "./running_bayenv/ANALYSES_FOR_PAPER_exclude_singletons/run_Bayenv/all_replicates//rep_20.bf\n",
      "\n",
      "processing replicate 13:\n",
      "./running_bayenv/ANALYSES_FOR_PAPER_exclude_singletons/run_Bayenv/all_replicates//rep_3.bf\n",
      "\n",
      "processing replicate 14:\n",
      "./running_bayenv/ANALYSES_FOR_PAPER_exclude_singletons/run_Bayenv/all_replicates//rep_4.bf\n",
      "\n",
      "processing replicate 15:\n",
      "./running_bayenv/ANALYSES_FOR_PAPER_exclude_singletons/run_Bayenv/all_replicates//rep_5.bf\n",
      "\n",
      "processing replicate 16:\n",
      "./running_bayenv/ANALYSES_FOR_PAPER_exclude_singletons/run_Bayenv/all_replicates//rep_6.bf\n",
      "\n",
      "processing replicate 17:\n",
      "./running_bayenv/ANALYSES_FOR_PAPER_exclude_singletons/run_Bayenv/all_replicates//rep_7.bf\n",
      "\n",
      "processing replicate 18:\n",
      "./running_bayenv/ANALYSES_FOR_PAPER_exclude_singletons/run_Bayenv/all_replicates//rep_8.bf\n",
      "\n",
      "processing replicate 19:\n",
      "./running_bayenv/ANALYSES_FOR_PAPER_exclude_singletons/run_Bayenv/all_replicates//rep_9.bf\n",
      "\n",
      "SUMMARY:\n",
      "\n",
      "Wrting stats to RANK_STATISTIC_2/Diplo_1M_Anal_BL.txt\n",
      "factor Anal_BL\treplicate 16 gave the most extreme ranks for 17.86 % of the SNPs\n",
      "Wrting stats to RANK_STATISTIC_2/Diplo_1M_Body_Depth.txt\n",
      "factor Body_Depth\treplicate 12 gave the most extreme ranks for 15.31 % of the SNPs\n",
      "Wrting stats to RANK_STATISTIC_2/Diplo_1M_CD.txt\n",
      "factor CD\treplicate 7 gave the most extreme ranks for 25.21 % of the SNPs\n",
      "Wrting stats to RANK_STATISTIC_2/Diplo_1M_CP_Depth.txt\n",
      "factor CP_Depth\treplicate 18 gave the most extreme ranks for 14.98 % of the SNPs\n",
      "Wrting stats to RANK_STATISTIC_2/Diplo_1M_CP_Length.txt\n",
      "factor CP_Length\treplicate 12 gave the most extreme ranks for 12.82 % of the SNPs\n",
      "Wrting stats to RANK_STATISTIC_2/Diplo_1M_Dorsal_BL.txt\n",
      "factor Dorsal_BL\treplicate 18 gave the most extreme ranks for 14.41 % of the SNPs\n",
      "Wrting stats to RANK_STATISTIC_2/Diplo_1M_HD.txt\n",
      "factor HD\treplicate 11 gave the most extreme ranks for 16.36 % of the SNPs\n",
      "Wrting stats to RANK_STATISTIC_2/Diplo_1M_H_Ey_D.txt\n",
      "factor H_Ey_D\treplicate 12 gave the most extreme ranks for 12.25 % of the SNPs\n",
      "Wrting stats to RANK_STATISTIC_2/Diplo_1M_H_Ey_D_p_TL.txt\n",
      "factor H_Ey_D_p_TL\treplicate 18 gave the most extreme ranks for 10.79 % of the SNPs\n",
      "Wrting stats to RANK_STATISTIC_2/Diplo_1M_Head_Length.txt\n",
      "factor Head_Length\treplicate 12 gave the most extreme ranks for 16.60 % of the SNPs\n",
      "Wrting stats to RANK_STATISTIC_2/Diplo_1M_IOW.txt\n",
      "factor IOW\treplicate 16 gave the most extreme ranks for 18.01 % of the SNPs\n",
      "Wrting stats to RANK_STATISTIC_2/Diplo_1M_LJL.txt\n",
      "factor LJL\treplicate 12 gave the most extreme ranks for 16.31 % of the SNPs\n",
      "Wrting stats to RANK_STATISTIC_2/Diplo_1M_PC1.txt\n",
      "factor PC1\treplicate 12 gave the most extreme ranks for 15.52 % of the SNPs\n",
      "Wrting stats to RANK_STATISTIC_2/Diplo_1M_PC2.txt\n",
      "factor PC2\treplicate 7 gave the most extreme ranks for 31.36 % of the SNPs\n",
      "Wrting stats to RANK_STATISTIC_2/Diplo_1M_PC3.txt\n",
      "factor PC3\treplicate 7 gave the most extreme ranks for 8.75 % of the SNPs\n",
      "Wrting stats to RANK_STATISTIC_2/Diplo_1M_PC4.txt\n",
      "factor PC4\treplicate 16 gave the most extreme ranks for 22.48 % of the SNPs\n",
      "Wrting stats to RANK_STATISTIC_2/Diplo_1M_POD.txt\n",
      "factor POD\treplicate 18 gave the most extreme ranks for 20.86 % of the SNPs\n",
      "Wrting stats to RANK_STATISTIC_2/Diplo_1M_POHL.txt\n",
      "factor POHL\treplicate 12 gave the most extreme ranks for 17.52 % of the SNPs\n",
      "Wrting stats to RANK_STATISTIC_2/Diplo_1M_POW.txt\n",
      "factor POW\treplicate 11 gave the most extreme ranks for 15.08 % of the SNPs\n",
      "Wrting stats to RANK_STATISTIC_2/Diplo_1M_Pectoral_FL.txt\n",
      "factor Pectoral_FL\treplicate 12 gave the most extreme ranks for 16.61 % of the SNPs\n",
      "Wrting stats to RANK_STATISTIC_2/Diplo_1M_Pelvic_FL.txt\n",
      "factor Pelvic_FL\treplicate 13 gave the most extreme ranks for 13.86 % of the SNPs\n",
      "Wrting stats to RANK_STATISTIC_2/Diplo_1M_Snout_Dorsal.txt\n",
      "factor Snout_Dorsal\treplicate 12 gave the most extreme ranks for 19.51 % of the SNPs\n",
      "Wrting stats to RANK_STATISTIC_2/Diplo_1M_Snout_L.txt\n",
      "factor Snout_L\treplicate 7 gave the most extreme ranks for 21.02 % of the SNPs\n",
      "Wrting stats to RANK_STATISTIC_2/Diplo_1M_Snout_Pelvic.txt\n",
      "factor Snout_Pelvic\treplicate 16 gave the most extreme ranks for 19.27 % of the SNPs\n",
      "Wrting stats to RANK_STATISTIC_2/Diplo_1M_V_EY_D_p_TL.txt\n",
      "factor V_EY_D_p_TL\treplicate 18 gave the most extreme ranks for 12.11 % of the SNPs\n",
      "Wrting stats to RANK_STATISTIC_2/Diplo_1M_V_Ey_D.txt\n",
      "factor V_Ey_D\treplicate 12 gave the most extreme ranks for 10.83 % of the SNPs\n"
     ]
    }
   ],
   "source": [
    "\n",
    "rank_results = QTL.calculate_rank_stats(SNP_map=\"SNPfiles/full_set.bayenv.SNPmap\", infiles = bayenv_files, ids = IDs, prefix = 'RANK_STATISTIC_2/Diplo_1M')"
   ]
  },
  {
   "cell_type": "markdown",
   "metadata": {},
   "source": [
    "__CREATE POPE PLOTS and extract the SNP ids in the top 5 percent__ (assumes that the script `pope_plot.sh` is in your working directory)"
   ]
  },
  {
   "cell_type": "code",
   "execution_count": 11,
   "metadata": {
    "collapsed": true
   },
   "outputs": [],
   "source": [
    "!ln -s /media/chrishah/STORAGE/Dropbox/Github/genomisc/popogeno/QTlight/plot_pope.sh ."
   ]
  },
  {
   "cell_type": "code",
   "execution_count": 7,
   "metadata": {
    "collapsed": false
   },
   "outputs": [
    {
     "name": "stdout",
     "output_type": "stream",
     "text": [
      "['Anal_BL', 'Body_Depth', 'CD', 'CP_Depth', 'CP_Length', 'Dorsal_BL', 'HD', 'H_Ey_D', 'H_Ey_D_p_TL', 'Head_Length', 'IOW', 'LJL', 'PC1', 'PC2', 'PC3', 'PC4', 'POD', 'POHL', 'POW', 'Pectoral_FL', 'Pelvic_FL', 'Snout_Dorsal', 'Snout_L', 'Snout_Pelvic', 'V_EY_D_p_TL', 'V_Ey_D']\n"
     ]
    }
   ],
   "source": [
    "print IDs"
   ]
  },
  {
   "cell_type": "code",
   "execution_count": 8,
   "metadata": {
    "collapsed": true
   },
   "outputs": [],
   "source": [
    "full_rank_files = []\n",
    "\n",
    "file_dir = 'RANK_STATISTIC_2/'\n",
    "for id in IDs:\n",
    "#    print id\n",
    "    for file in os.listdir(file_dir):\n",
    "        if file.endswith('_'+id+'.txt'):\n",
    "#            print [id,file_dir+'/'+file]\n",
    "            full_rank_files.append([id,file_dir+'/'+file])\n",
    "            break\n",
    "        "
   ]
  },
  {
   "cell_type": "code",
   "execution_count": 9,
   "metadata": {
    "collapsed": false
   },
   "outputs": [
    {
     "name": "stdout",
     "output_type": "stream",
     "text": [
      "[['Anal_BL', 'RANK_STATISTIC_2//Diplo_1M_Anal_BL.txt'], ['Body_Depth', 'RANK_STATISTIC_2//Diplo_1M_Body_Depth.txt'], ['CD', 'RANK_STATISTIC_2//Diplo_1M_CD.txt'], ['CP_Depth', 'RANK_STATISTIC_2//Diplo_1M_CP_Depth.txt'], ['CP_Length', 'RANK_STATISTIC_2//Diplo_1M_CP_Length.txt'], ['Dorsal_BL', 'RANK_STATISTIC_2//Diplo_1M_Dorsal_BL.txt'], ['HD', 'RANK_STATISTIC_2//Diplo_1M_HD.txt'], ['H_Ey_D', 'RANK_STATISTIC_2//Diplo_1M_H_Ey_D.txt'], ['H_Ey_D_p_TL', 'RANK_STATISTIC_2//Diplo_1M_smoothed_H_Ey_D_p_TL.txt'], ['Head_Length', 'RANK_STATISTIC_2//Diplo_1M_Head_Length.txt'], ['IOW', 'RANK_STATISTIC_2//Diplo_1M_IOW.txt'], ['LJL', 'RANK_STATISTIC_2//Diplo_1M_LJL.txt'], ['PC1', 'RANK_STATISTIC_2//Diplo_1M_PC1.txt'], ['PC2', 'RANK_STATISTIC_2//Diplo_1M_PC2.txt'], ['PC3', 'RANK_STATISTIC_2//Diplo_1M_PC3.txt'], ['PC4', 'RANK_STATISTIC_2//Diplo_1M_PC4.txt'], ['POD', 'RANK_STATISTIC_2//Diplo_1M_POD.txt'], ['POHL', 'RANK_STATISTIC_2//Diplo_1M_POHL.txt'], ['POW', 'RANK_STATISTIC_2//Diplo_1M_POW.txt'], ['Pectoral_FL', 'RANK_STATISTIC_2//Diplo_1M_Pectoral_FL.txt'], ['Pelvic_FL', 'RANK_STATISTIC_2//Diplo_1M_Pelvic_FL.txt'], ['Snout_Dorsal', 'RANK_STATISTIC_2//Diplo_1M_Snout_Dorsal.txt'], ['Snout_L', 'RANK_STATISTIC_2//Diplo_1M_Snout_L.txt'], ['Snout_Pelvic', 'RANK_STATISTIC_2//Diplo_1M_Snout_Pelvic.txt'], ['V_EY_D_p_TL', 'RANK_STATISTIC_2//Diplo_1M_V_EY_D_p_TL.txt'], ['V_Ey_D', 'RANK_STATISTIC_2//Diplo_1M_V_Ey_D.txt']]\n"
     ]
    }
   ],
   "source": [
    "print full_rank_files"
   ]
  },
  {
   "cell_type": "code",
   "execution_count": 10,
   "metadata": {
    "collapsed": false
   },
   "outputs": [
    {
     "name": "stdout",
     "output_type": "stream",
     "text": [
      "processing Anal_BL:\n",
      "data in file: RANK_STATISTIC_2//Diplo_1M_Anal_BL.txt\n",
      "RANK_STATISTIC_2//Diplo_1M_Anal_BL.txt\n",
      "0.95\n",
      "Anal_BL\n",
      "RANK_STATISTIC_2//Diplo_1M_Anal_BL\n",
      "20\n",
      "null device \n",
      "          1 \n",
      "\n",
      "processing Body_Depth:\n",
      "data in file: RANK_STATISTIC_2//Diplo_1M_Body_Depth.txt\n",
      "RANK_STATISTIC_2//Diplo_1M_Body_Depth.txt\n",
      "0.95\n",
      "Body_Depth\n",
      "RANK_STATISTIC_2//Diplo_1M_Body_Depth\n",
      "20\n",
      "null device \n",
      "          1 \n",
      "\n",
      "processing CD:\n",
      "data in file: RANK_STATISTIC_2//Diplo_1M_CD.txt\n",
      "RANK_STATISTIC_2//Diplo_1M_CD.txt\n",
      "0.95\n",
      "CD\n",
      "RANK_STATISTIC_2//Diplo_1M_CD\n",
      "20\n",
      "null device \n",
      "          1 \n",
      "\n",
      "processing CP_Depth:\n",
      "data in file: RANK_STATISTIC_2//Diplo_1M_CP_Depth.txt\n",
      "RANK_STATISTIC_2//Diplo_1M_CP_Depth.txt\n",
      "0.95\n",
      "CP_Depth\n",
      "RANK_STATISTIC_2//Diplo_1M_CP_Depth\n",
      "20\n",
      "null device \n",
      "          1 \n",
      "\n",
      "processing CP_Length:\n",
      "data in file: RANK_STATISTIC_2//Diplo_1M_CP_Length.txt\n",
      "RANK_STATISTIC_2//Diplo_1M_CP_Length.txt\n",
      "0.95\n",
      "CP_Length\n",
      "RANK_STATISTIC_2//Diplo_1M_CP_Length\n",
      "20\n",
      "null device \n",
      "          1 \n",
      "\n",
      "processing Dorsal_BL:\n",
      "data in file: RANK_STATISTIC_2//Diplo_1M_Dorsal_BL.txt\n",
      "RANK_STATISTIC_2//Diplo_1M_Dorsal_BL.txt\n",
      "0.95\n",
      "Dorsal_BL\n",
      "RANK_STATISTIC_2//Diplo_1M_Dorsal_BL\n",
      "20\n",
      "null device \n",
      "          1 \n",
      "\n",
      "processing HD:\n",
      "data in file: RANK_STATISTIC_2//Diplo_1M_HD.txt\n",
      "RANK_STATISTIC_2//Diplo_1M_HD.txt\n",
      "0.95\n",
      "HD\n",
      "RANK_STATISTIC_2//Diplo_1M_HD\n",
      "20\n",
      "null device \n",
      "          1 \n",
      "\n",
      "processing H_Ey_D:\n",
      "data in file: RANK_STATISTIC_2//Diplo_1M_H_Ey_D.txt\n",
      "RANK_STATISTIC_2//Diplo_1M_H_Ey_D.txt\n",
      "0.95\n",
      "H_Ey_D\n",
      "RANK_STATISTIC_2//Diplo_1M_H_Ey_D\n",
      "20\n",
      "null device \n",
      "          1 \n",
      "\n",
      "processing H_Ey_D_p_TL:\n",
      "data in file: RANK_STATISTIC_2//Diplo_1M_smoothed_H_Ey_D_p_TL.txt\n",
      "Error in eval(expr, envir, enclos) : object 'std_rank' not found\n",
      "Calls: subset -> subset.data.frame -> eval -> eval\n",
      "Execution halted\n",
      "\n",
      "processing Head_Length:\n",
      "data in file: RANK_STATISTIC_2//Diplo_1M_Head_Length.txt\n",
      "RANK_STATISTIC_2//Diplo_1M_Head_Length.txt\n",
      "0.95\n",
      "Head_Length\n",
      "RANK_STATISTIC_2//Diplo_1M_Head_Length\n",
      "20\n",
      "null device \n",
      "          1 \n",
      "\n",
      "processing IOW:\n",
      "data in file: RANK_STATISTIC_2//Diplo_1M_IOW.txt\n",
      "RANK_STATISTIC_2//Diplo_1M_IOW.txt\n",
      "0.95\n",
      "IOW\n",
      "RANK_STATISTIC_2//Diplo_1M_IOW\n",
      "20\n",
      "null device \n",
      "          1 \n",
      "\n",
      "processing LJL:\n",
      "data in file: RANK_STATISTIC_2//Diplo_1M_LJL.txt\n",
      "RANK_STATISTIC_2//Diplo_1M_LJL.txt\n",
      "0.95\n",
      "LJL\n",
      "RANK_STATISTIC_2//Diplo_1M_LJL\n",
      "20\n",
      "null device \n",
      "          1 \n",
      "\n",
      "processing PC1:\n",
      "data in file: RANK_STATISTIC_2//Diplo_1M_PC1.txt\n",
      "RANK_STATISTIC_2//Diplo_1M_PC1.txt\n",
      "0.95\n",
      "PC1\n",
      "RANK_STATISTIC_2//Diplo_1M_PC1\n",
      "20\n",
      "null device \n",
      "          1 \n",
      "\n",
      "processing PC2:\n",
      "data in file: RANK_STATISTIC_2//Diplo_1M_PC2.txt\n",
      "RANK_STATISTIC_2//Diplo_1M_PC2.txt\n",
      "0.95\n",
      "PC2\n",
      "RANK_STATISTIC_2//Diplo_1M_PC2\n",
      "20\n",
      "null device \n",
      "          1 \n",
      "\n",
      "processing PC3:\n",
      "data in file: RANK_STATISTIC_2//Diplo_1M_PC3.txt\n",
      "RANK_STATISTIC_2//Diplo_1M_PC3.txt\n",
      "0.95\n",
      "PC3\n",
      "RANK_STATISTIC_2//Diplo_1M_PC3\n",
      "20\n",
      "null device \n",
      "          1 \n",
      "\n",
      "processing PC4:\n",
      "data in file: RANK_STATISTIC_2//Diplo_1M_PC4.txt\n",
      "RANK_STATISTIC_2//Diplo_1M_PC4.txt\n",
      "0.95\n",
      "PC4\n",
      "RANK_STATISTIC_2//Diplo_1M_PC4\n",
      "20\n",
      "null device \n",
      "          1 \n",
      "\n",
      "processing POD:\n",
      "data in file: RANK_STATISTIC_2//Diplo_1M_POD.txt\n",
      "RANK_STATISTIC_2//Diplo_1M_POD.txt\n",
      "0.95\n",
      "POD\n",
      "RANK_STATISTIC_2//Diplo_1M_POD\n",
      "20\n",
      "null device \n",
      "          1 \n",
      "\n",
      "processing POHL:\n",
      "data in file: RANK_STATISTIC_2//Diplo_1M_POHL.txt\n",
      "RANK_STATISTIC_2//Diplo_1M_POHL.txt\n",
      "0.95\n",
      "POHL\n",
      "RANK_STATISTIC_2//Diplo_1M_POHL\n",
      "20\n",
      "null device \n",
      "          1 \n",
      "\n",
      "processing POW:\n",
      "data in file: RANK_STATISTIC_2//Diplo_1M_POW.txt\n",
      "RANK_STATISTIC_2//Diplo_1M_POW.txt\n",
      "0.95\n",
      "POW\n",
      "RANK_STATISTIC_2//Diplo_1M_POW\n",
      "20\n",
      "null device \n",
      "          1 \n",
      "\n",
      "processing Pectoral_FL:\n",
      "data in file: RANK_STATISTIC_2//Diplo_1M_Pectoral_FL.txt\n",
      "RANK_STATISTIC_2//Diplo_1M_Pectoral_FL.txt\n",
      "0.95\n",
      "Pectoral_FL\n",
      "RANK_STATISTIC_2//Diplo_1M_Pectoral_FL\n",
      "20\n",
      "null device \n",
      "          1 \n",
      "\n",
      "processing Pelvic_FL:\n",
      "data in file: RANK_STATISTIC_2//Diplo_1M_Pelvic_FL.txt\n",
      "RANK_STATISTIC_2//Diplo_1M_Pelvic_FL.txt\n",
      "0.95\n",
      "Pelvic_FL\n",
      "RANK_STATISTIC_2//Diplo_1M_Pelvic_FL\n",
      "20\n",
      "null device \n",
      "          1 \n",
      "\n",
      "processing Snout_Dorsal:\n",
      "data in file: RANK_STATISTIC_2//Diplo_1M_Snout_Dorsal.txt\n",
      "RANK_STATISTIC_2//Diplo_1M_Snout_Dorsal.txt\n",
      "0.95\n",
      "Snout_Dorsal\n",
      "RANK_STATISTIC_2//Diplo_1M_Snout_Dorsal\n",
      "20\n",
      "null device \n",
      "          1 \n",
      "\n",
      "processing Snout_L:\n",
      "data in file: RANK_STATISTIC_2//Diplo_1M_Snout_L.txt\n",
      "RANK_STATISTIC_2//Diplo_1M_Snout_L.txt\n",
      "0.95\n",
      "Snout_L\n",
      "RANK_STATISTIC_2//Diplo_1M_Snout_L\n",
      "20\n",
      "null device \n",
      "          1 \n",
      "\n",
      "processing Snout_Pelvic:\n",
      "data in file: RANK_STATISTIC_2//Diplo_1M_Snout_Pelvic.txt\n",
      "RANK_STATISTIC_2//Diplo_1M_Snout_Pelvic.txt\n",
      "0.95\n",
      "Snout_Pelvic\n",
      "RANK_STATISTIC_2//Diplo_1M_Snout_Pelvic\n",
      "20\n",
      "null device \n",
      "          1 \n",
      "\n",
      "processing V_EY_D_p_TL:\n",
      "data in file: RANK_STATISTIC_2//Diplo_1M_V_EY_D_p_TL.txt\n",
      "RANK_STATISTIC_2//Diplo_1M_V_EY_D_p_TL.txt\n",
      "0.95\n",
      "V_EY_D_p_TL\n",
      "RANK_STATISTIC_2//Diplo_1M_V_EY_D_p_TL\n",
      "20\n",
      "null device \n",
      "          1 \n",
      "\n",
      "processing V_Ey_D:\n",
      "data in file: RANK_STATISTIC_2//Diplo_1M_V_Ey_D.txt\n",
      "RANK_STATISTIC_2//Diplo_1M_V_Ey_D.txt\n",
      "0.95\n",
      "V_Ey_D\n",
      "RANK_STATISTIC_2//Diplo_1M_V_Ey_D\n",
      "20\n",
      "null device \n",
      "          1 \n",
      "\n"
     ]
    }
   ],
   "source": [
    "QTL.plot_pope(files_list=full_rank_files, cutoff=0.95, num_replicates=20)"
   ]
  },
  {
   "cell_type": "code",
   "execution_count": 14,
   "metadata": {
    "collapsed": false
   },
   "outputs": [
    {
     "name": "stdout",
     "output_type": "stream",
     "text": [
      "Scaffols to process:\n",
      "['scaffold_110', 'scaffold_12', 'scaffold_13', 'scaffold_145', 'scaffold_148', 'scaffold_149', 'scaffold_159', 'scaffold_16', 'scaffold_162', 'scaffold_19', 'scaffold_193', 'scaffold_197', 'scaffold_2', 'scaffold_21', 'scaffold_215', 'scaffold_23', 'scaffold_230', 'scaffold_236', 'scaffold_254', 'scaffold_258', 'scaffold_267', 'scaffold_269', 'scaffold_292', 'scaffold_30', 'scaffold_36', 'scaffold_361', 'scaffold_38', 'scaffold_39', 'scaffold_404', 'scaffold_44', 'scaffold_62', 'scaffold_74', 'scaffold_91']\n",
      "\n",
      "### Kernel smoothing ###\n",
      "Factor: H_Ey_D_p_TL\n",
      "Statistic: avg_rank_rel\n",
      "Window size: 50000 bp\n",
      "determining p-value based on 10000 bootstrap replicates\n",
      "processing scaffold_110\n",
      "scaffold_110\t274029\t0.740595879156 - p = 0.049\n",
      "scaffold_110\t284607\t0.771057634312 - p = 0.0259\n",
      "scaffold_110\t452484\t0.85875931522 - p = 0.0005\n",
      "scaffold_110\t452630\t0.863766927999 - p = 0.0004\n",
      "scaffold_110\t512023\t0.802290941518 - p = 0.0005\n",
      "scaffold_110\t566581\t0.799506298351 - p = 0.0002\n",
      "scaffold_110\t611393\t0.684523216599 - p = 0.0395\n",
      "scaffold_110\t623630\t0.730147505314 - p = 0.0072\n",
      "scaffold_110\t636842\t0.663928471212 - p = 0.0495\n",
      "scaffold_110\t1867007\t0.827731764635 - p = 0.0177\n",
      "scaffold_110\t2268317\t0.760670914371 - p = 0.0175\n",
      "scaffold_110\t2273118\t0.724774618456 - p = 0.0363\n",
      "processing scaffold_12\n",
      "scaffold_12\t2401139\t0.778353547782 - p = 0.0447\n",
      "scaffold_12\t2985917\t0.682142854982 - p = 0.0301\n",
      "scaffold_12\t3799847\t0.933497673116 - p = 0.0\n",
      "scaffold_12\t3885790\t0.89493369427 - p = 0.0\n",
      "scaffold_12\t3913836\t0.877140221872 - p = 0.0\n",
      "scaffold_12\t3934807\t0.879345921949 - p = 0.0002\n",
      "scaffold_12\t4201555\t0.784159582542 - p = 0.0338\n",
      "processing scaffold_13\n",
      "processing scaffold_145\n",
      "scaffold_145\t1007020\t0.732084988379 - p = 0.0455\n",
      "scaffold_145\t1550522\t0.830361337421 - p = 0.0189\n",
      "scaffold_145\t1635031\t0.771879836011 - p = 0.0246\n",
      "processing scaffold_148\n",
      "scaffold_148\t478769\t0.844536196453 - p = 0.0141\n",
      "scaffold_148\t543741\t0.921703409859 - p = 0.0006\n",
      "processing scaffold_149\n",
      "scaffold_149\t1281289\t0.701749845434 - p = 0.0129\n",
      "scaffold_149\t1329647\t0.705775190618 - p = 0.0186\n",
      "scaffold_149\t1332312\t0.765385366162 - p = 0.0016\n",
      "processing scaffold_159\n",
      "scaffold_159\t594470\t0.940558816011 - p = 0.0008\n",
      "processing scaffold_16\n",
      "scaffold_16\t5632891\t0.781831084193 - p = 0.0279\n",
      "scaffold_16\t7594455\t0.757526083752 - p = 0.0244\n",
      "scaffold_16\t7623954\t0.746864483448 - p = 0.0309\n",
      "processing scaffold_162\n",
      "scaffold_162\t709445\t0.683324559349 - p = 0.032\n",
      "scaffold_162\t714551\t0.741454797604 - p = 0.0038\n",
      "scaffold_162\t757444\t0.744012056321 - p = 0.0032\n",
      "scaffold_162\t770217\t0.75195262886 - p = 0.0024\n",
      "scaffold_162\t774569\t0.737869909994 - p = 0.0039\n",
      "scaffold_162\t869193\t0.716864439817 - p = 0.0097\n",
      "scaffold_162\t1301107\t0.690478109792 - p = 0.0135\n",
      "processing scaffold_19\n",
      "scaffold_19\t3354875\t0.680560042875 - p = 0.0278\n",
      "scaffold_19\t3372155\t0.690984362133 - p = 0.0243\n",
      "scaffold_19\t5161220\t0.704526875564 - p = 0.0351\n",
      "processing scaffold_193\n",
      "scaffold_193\t396152\t0.650815959787 - p = 0.0193\n",
      "scaffold_193\t504998\t0.724006236509 - p = 0.0012\n",
      "scaffold_193\t533063\t0.639450871538 - p = 0.0379\n",
      "scaffold_193\t537410\t0.721041106925 - p = 0.0024\n",
      "scaffold_193\t552836\t0.696457909454 - p = 0.0079\n",
      "scaffold_193\t579879\t0.683988104055 - p = 0.0088\n",
      "processing scaffold_197\n",
      "scaffold_197\t29498\t0.766011631588 - p = 0.03\n",
      "scaffold_197\t125383\t0.777853839743 - p = 0.0003\n",
      "scaffold_197\t143069\t0.788611108456 - p = 0.0001\n",
      "scaffold_197\t150472\t0.787573282612 - p = 0.0\n",
      "scaffold_197\t204900\t0.648431943135 - p = 0.0463\n",
      "scaffold_197\t205101\t0.72665770519 - p = 0.0038\n",
      "scaffold_197\t212070\t0.697723886225 - p = 0.0077\n",
      "scaffold_197\t261801\t0.678551424298 - p = 0.0214\n",
      "scaffold_197\t792060\t0.816947177127 - p = 0.0217\n",
      "processing scaffold_2\n",
      "scaffold_2\t1272988\t0.810114575836 - p = 0.0103\n",
      "scaffold_2\t2070518\t0.846724120258 - p = 0.0022\n",
      "scaffold_2\t2105119\t0.735409845154 - p = 0.0316\n",
      "scaffold_2\t3891575\t0.758480617222 - p = 0.0379\n",
      "scaffold_2\t4083295\t0.81656671672 - p = 0.0271\n",
      "scaffold_2\t7529143\t0.814932849211 - p = 0.0236\n",
      "scaffold_2\t9161690\t0.703971087972 - p = 0.0287\n",
      "scaffold_2\t9243906\t0.757957152086 - p = 0.038\n",
      "scaffold_2\t10036157\t0.676529748437 - p = 0.0464\n",
      "scaffold_2\t13641798\t0.753236515013 - p = 0.0333\n",
      "scaffold_2\t14572160\t0.629721987849 - p = 0.0426\n",
      "scaffold_2\t14658390\t0.67376480005 - p = 0.0202\n",
      "scaffold_2\t14658478\t0.682232924075 - p = 0.0117\n",
      "scaffold_2\t14709510\t0.670523707361 - p = 0.0283\n",
      "scaffold_2\t14840534\t0.707175100013 - p = 0.0414\n",
      "processing scaffold_21\n",
      "processing scaffold_215\n",
      "scaffold_215\t135282\t0.754574727658 - p = 0.0212\n",
      "scaffold_215\t176038\t0.725458129548 - p = 0.0202\n",
      "scaffold_215\t576905\t0.845537364101 - p = 0.0007\n",
      "scaffold_215\t615107\t0.866941694686 - p = 0.0\n",
      "scaffold_215\t706922\t0.79874129876 - p = 0.0029\n",
      "processing scaffold_23\n",
      "scaffold_23\t6086778\t0.798445296027 - p = 0.0406\n",
      "processing scaffold_230\n",
      "processing scaffold_236\n",
      "processing scaffold_254\n",
      "scaffold_254\t347101\t0.625096896196 - p = 0.0263\n",
      "scaffold_254\t393908\t0.61999536189 - p = 0.0412\n",
      "scaffold_254\t406579\t0.620370510158 - p = 0.04\n",
      "processing scaffold_258\n",
      "scaffold_258\t454546\t0.755687383487 - p = 0.0241\n",
      "processing scaffold_267\n",
      "scaffold_267\t295934\t0.718846508383 - p = 0.0318\n",
      "scaffold_267\t372013\t0.767472318851 - p = 0.0134\n",
      "processing scaffold_269\n",
      "scaffold_269\t183513\t0.828284993137 - p = 0.021\n",
      "scaffold_269\t229285\t0.880975994476 - p = 0.0028\n",
      "scaffold_269\t510533\t0.954560495503 - p = 0.0025\n",
      "processing scaffold_292\n",
      "scaffold_292\t437500\t0.956227727813 - p = 0.0029\n",
      "processing scaffold_30\n",
      "scaffold_30\t1177726\t0.743629877093 - p = 0.0494\n",
      "scaffold_30\t1273610\t0.862831480593 - p = 0.0018\n",
      "scaffold_30\t1987332\t0.761224970965 - p = 0.022\n",
      "scaffold_30\t3623959\t0.79346032229 - p = 0.048\n",
      "scaffold_30\t5054406\t0.831298091746 - p = 0.0011\n",
      "scaffold_30\t5054467\t0.825290092788 - p = 0.0015\n",
      "scaffold_30\t5060668\t0.822488144622 - p = 0.0014\n",
      "scaffold_30\t5106595\t0.754577889717 - p = 0.0076\n",
      "processing scaffold_36\n",
      "scaffold_36\t127024\t0.731337248099 - p = 0.0229\n",
      "scaffold_36\t189904\t0.727229202019 - p = 0.0165\n",
      "scaffold_36\t195915\t0.714152799751 - p = 0.0217\n",
      "scaffold_36\t2712714\t0.838063231096 - p = 0.0474\n",
      "scaffold_36\t4031780\t0.785705371367 - p = 0.0169\n",
      "scaffold_36\t4110629\t0.735430291014 - p = 0.0216\n",
      "scaffold_36\t4165442\t0.733282784846 - p = 0.0166\n",
      "scaffold_36\t4165464\t0.733215017962 - p = 0.0172\n",
      "scaffold_36\t4717057\t0.720097676605 - p = 0.0138\n",
      "processing scaffold_361\n",
      "scaffold_361\t62963\t0.769879783078 - p = 0.008\n",
      "scaffold_361\t82948\t0.684669756328 - p = 0.0444\n",
      "processing scaffold_38\n",
      "scaffold_38\t1544564\t0.764853388115 - p = 0.0319\n",
      "scaffold_38\t1579211\t0.78762284328 - p = 0.017\n",
      "scaffold_38\t2614041\t0.727211903542 - p = 0.0417\n",
      "scaffold_38\t4252011\t0.808612597699 - p = 0.0042\n",
      "scaffold_38\t4347834\t0.767724263722 - p = 0.0343\n",
      "processing scaffold_39\n",
      "scaffold_39\t1141784\t0.831187460373 - p = 0.0016\n",
      "scaffold_39\t1277431\t0.800780403936 - p = 0.008\n",
      "scaffold_39\t1673547\t0.689947218987 - p = 0.0256\n",
      "scaffold_39\t1688054\t0.674028990915 - p = 0.0349\n",
      "scaffold_39\t1771937\t0.817435135644 - p = 0.0002\n",
      "scaffold_39\t1814976\t0.827751825971 - p = 0.0014\n",
      "scaffold_39\t1815035\t0.850994769258 - p = 0.0004\n",
      "scaffold_39\t2072806\t0.631396086968 - p = 0.0356\n",
      "scaffold_39\t2127729\t0.609823975849 - p = 0.0471\n",
      "scaffold_39\t2127806\t0.612439579876 - p = 0.0404\n",
      "processing scaffold_404\n",
      "scaffold_404\t79400\t0.793576388607 - p = 0.0167\n",
      "processing scaffold_44\n",
      "scaffold_44\t234576\t0.801690343947 - p = 0.0339\n",
      "scaffold_44\t338829\t0.892985914165 - p = 0.0007\n",
      "scaffold_44\t338920\t0.888492146352 - p = 0.0006\n",
      "scaffold_44\t2687074\t0.655071081924 - p = 0.0217\n",
      "scaffold_44\t2691398\t0.628901624015 - p = 0.0494\n",
      "scaffold_44\t2691477\t0.674876397702 - p = 0.0105\n",
      "scaffold_44\t2716034\t0.649161577798 - p = 0.0288\n",
      "scaffold_44\t2724350\t0.677362159479 - p = 0.0096\n",
      "processing scaffold_62\n",
      "scaffold_62\t2613588\t0.86727869591 - p = 0.0042\n",
      "processing scaffold_74\n",
      "scaffold_74\t464838\t0.898468521975 - p = 0.0181\n",
      "processing scaffold_91\n",
      "Wrting stats to ./RANK_STATISTIC_2/Diplo_1M_smoothed_H_Ey_D_p_TL.txt\n"
     ]
    }
   ],
   "source": [
    "#calculate p values for H_Ey_D_p_TL\n",
    "#identifying scaffolds that contain SNPS with ARR >0.95\n",
    "IN = open('RANK_STATISTIC_2/Diplo_1M_H_Ey_D_p_TL-top-0.95.tsv')\n",
    "scaffolds = []\n",
    "\n",
    "for line in IN:\n",
    "    if not line.startswith('chrom'):\n",
    "            scaffolds.append(line.split(\"\\t\")[0])\n",
    "IN.close()           \n",
    "scaffolds = sorted(list(set(scaffolds)))\n",
    "\n",
    "print \"Scaffols to process:\\n\"+str(scaffolds)\n",
    "\n",
    "QTL.smoothing(dictionary = rank_results, window_size=50000, bootstrap_reps=10000, factor='H_Ey_D_p_TL', \n",
    "              to_smooth='avg_rank_rel', verbose=1, chromos=scaffolds)\n",
    "\n",
    "QTL.write_stats(dictionary=rank_results, \n",
    "            out_columns=['std_rank','avg_rank_rel','avg_rank_rel_smoothed','avg_rank_rel_smoothed_p'], \n",
    "            factor='H_Ey_D_p_TL', \n",
    "            chromos=scaffolds,\n",
    "            prefix = './RANK_STATISTIC_2/Diplo_1M_smoothed')"
   ]
  },
  {
   "cell_type": "code",
   "execution_count": null,
   "metadata": {
    "collapsed": false
   },
   "outputs": [],
   "source": [
    "#calculate p values for V_EY_D_p_TL\n",
    "#identifying scaffolds that contain SNPS with ARR >0.95\n",
    "IN = open('RANK_STATISTIC_2/Diplo_1M_V_EY_D_p_TL-top-0.95.tsv')\n",
    "scaffolds = []\n",
    "\n",
    "for line in IN:\n",
    "    if not line.startswith('chrom'):\n",
    "            scaffolds.append(line.split(\"\\t\")[0])\n",
    "IN.close()           \n",
    "scaffolds = sorted(list(set(scaffolds)))\n",
    "\n",
    "print \"Scaffols to process:\\n\"+str(scaffolds)\n",
    "\n",
    "QTL.smoothing(dictionary = rank_results, window_size=50000, bootstrap_reps=10000, factor='V_EY_D_p_TL', \n",
    "              to_smooth='avg_rank_rel', verbose=1, chromos=scaffolds)\n",
    "\n",
    "QTL.write_stats(dictionary=rank_results, \n",
    "            out_columns=['std_rank','avg_rank_rel','avg_rank_rel_smoothed','avg_rank_rel_smoothed_p'], \n",
    "            factor='V_EY_D_p_TL', \n",
    "            chromos=scaffolds,\n",
    "            prefix = './RANK_STATISTIC_2/Diplo_1M_smoothed')"
   ]
  },
  {
   "cell_type": "code",
   "execution_count": 11,
   "metadata": {
    "collapsed": false
   },
   "outputs": [
    {
     "name": "stdout",
     "output_type": "stream",
     "text": [
      "['avg_rank_rel', 'p20_rank_rel', 'avg_rank', 'med_rank_rel', 'ranks', 'var_rank_rel', 'var_weighted_avg_rank', 'p20_rank', 'var_rank_weight', 'var_weighted_rel_avg_rank', 'med_rank_rel_smoothed', 'med_rank', 'std_rank', 'avg_rank_rel_smoothed_p', 'avg_rank_rel_smoothed', 'med_rank_rel_smoothed_p', 'mad_rank', 'var_rank']\n"
     ]
    }
   ],
   "source": [
    "print rank_results['global']['H_Ey_D_p_TL'][1].keys()\n",
    "\n"
   ]
  },
  {
   "cell_type": "markdown",
   "metadata": {},
   "source": [
    "__Apply stringent filters to identify candidate regions__\n",
    "\n",
    "Filters:\n",
    " - ARR >= 0.95\n",
    " - smotthed ARR p < 0.001\n",
    " \n",
    " "
   ]
  },
  {
   "cell_type": "code",
   "execution_count": 44,
   "metadata": {
    "collapsed": false
   },
   "outputs": [],
   "source": [
    "!cat RANK_STATISTIC_2/Diplo_1M_smoothed_H_Ey_D_p_TL.txt RANK_STATISTIC_2/Diplo_1M_smoothed_V_EY_D_p_TL.txt | perl -ne 'chomp; @a=split(\"\\t\"); if (($a[-1] < 0.001) and ($a[-3] >= 0.95)){ print \"\\n$_\\n\"}' | cut -f 1-3 |sort | uniq > RANK_STATISTIC_2/EYE_regions.tsv "
   ]
  },
  {
   "cell_type": "code",
   "execution_count": 51,
   "metadata": {
    "collapsed": false
   },
   "outputs": [
    {
     "name": "stdout",
     "output_type": "stream",
     "text": [
      "\r\n",
      "scaffold_12\t3799847\t6728\r\n",
      "scaffold_148\t543741\t9559\r\n",
      "scaffold_159\t594470\t11119\r\n",
      "scaffold_197\t125383\t16065\r\n",
      "scaffold_197\t143069\t16067\r\n",
      "scaffold_197\t150472\t16069\r\n",
      "scaffold_215\t576905\t19268\r\n",
      "scaffold_39\t1771937\t31651\r\n"
     ]
    }
   ],
   "source": [
    "!cat RANK_STATISTIC_2/EYE_regions.tsv"
   ]
  },
  {
   "cell_type": "markdown",
   "metadata": {},
   "source": [
    "__find genes__ up and downstream of correlated SNPs"
   ]
  },
  {
   "cell_type": "code",
   "execution_count": 8,
   "metadata": {
    "collapsed": false
   },
   "outputs": [],
   "source": [
    "#make list desired rank statistic tsv files\n",
    "\n",
    "regions = ['RANK_STATISTIC_2/EYE_regions.tsv']"
   ]
  },
  {
   "cell_type": "markdown",
   "metadata": {},
   "source": [
    "__parse a gff__ file"
   ]
  },
  {
   "cell_type": "code",
   "execution_count": 9,
   "metadata": {
    "collapsed": false
   },
   "outputs": [],
   "source": [
    "gff_per_scaffold = QTL.parse_gff(gff='/media/chrishah/STORAGE/DATA/Cichlids/reference_data/M_zebra/annotations/Metriaclima_zebra.BROADMZ2.gtf')"
   ]
  },
  {
   "cell_type": "markdown",
   "metadata": {},
   "source": [
    "__identify genes__ within a defined distance (in kb) up and down-stream of the SNPs"
   ]
  },
  {
   "cell_type": "code",
   "execution_count": 17,
   "metadata": {
    "collapsed": false,
    "scrolled": true
   },
   "outputs": [
    {
     "name": "stdout",
     "output_type": "stream",
     "text": [
      "processing rank statistic file: RANK_STATISTIC_2/EYE_regions.tsv\n",
      "EYE_regions:\n",
      "identified 71 gene(s)\n"
     ]
    }
   ],
   "source": [
    "genes_per_analysis = QTL.find_genes(rank_stats = regions, gff = gff_per_scaffold, distance = 50)"
   ]
  },
  {
   "cell_type": "markdown",
   "metadata": {},
   "source": [
    "__annotated relevant genes__ based on blast2go annotation table"
   ]
  },
  {
   "cell_type": "code",
   "execution_count": 18,
   "metadata": {
    "collapsed": false,
    "scrolled": true
   },
   "outputs": [
    {
     "name": "stdout",
     "output_type": "stream",
     "text": [
      "EYE_regions\n",
      "adding annoation for EYE_regions\n"
     ]
    }
   ],
   "source": [
    "QTL.annotate_genes(SNPs_to_genes=genes_per_analysis, annotations='/media/chrishah/STORAGE/DATA/Cichlids/reference_data/M_zebra/annotations/blast2GO/blast2GO/blast2go_table_20150630_0957.txt')"
   ]
  },
  {
   "cell_type": "code",
   "execution_count": 19,
   "metadata": {
    "collapsed": false
   },
   "outputs": [
    {
     "name": "stdout",
     "output_type": "stream",
     "text": [
      "mkdir: cannot create directory ‘find_genes’: File exists\r\n"
     ]
    }
   ],
   "source": [
    "mkdir find_genes"
   ]
  },
  {
   "cell_type": "markdown",
   "metadata": {},
   "source": [
    "__write__ summary table for SNPs and relevant genes in the vicinity"
   ]
  },
  {
   "cell_type": "code",
   "execution_count": 20,
   "metadata": {
    "collapsed": false,
    "scrolled": true
   },
   "outputs": [
    {
     "name": "stdout",
     "output_type": "stream",
     "text": [
      "EYE_regions\n",
      "writing to: ./find_genes/EYE_regions.genes.annotated.tsv\n"
     ]
    }
   ],
   "source": [
    "QTL.write_candidates(SNPs_to_genes=genes_per_analysis, whitelist=genes_per_analysis.keys(), out_dir='./find_genes/')"
   ]
  },
  {
   "cell_type": "markdown",
   "metadata": {},
   "source": [
    "__Prepare list of genes for Enrichment analysis in BLAST2GO__ from most stringently filtered SNPs."
   ]
  },
  {
   "cell_type": "code",
   "execution_count": 25,
   "metadata": {
    "collapsed": true
   },
   "outputs": [],
   "source": [
    "!cat find_genes/EYE_regions.genes.annotated.tsv | cut -f 4 | grep \"gene\" -v | sort -n | uniq > \\\n",
    "find_genes/EYE_regions.genes.txt"
   ]
  },
  {
   "cell_type": "markdown",
   "metadata": {},
   "source": [
    "##Prepare less stringent test datasets for Enrichment analyses\n",
    "\n",
    "Extract genes for loci with 'smoothed ARR p<0.05'."
   ]
  },
  {
   "cell_type": "code",
   "execution_count": 12,
   "metadata": {
    "collapsed": true
   },
   "outputs": [],
   "source": [
    "%%bash\n",
    "\n",
    "cat RANK_STATISTIC_2/Diplo_1M_smoothed_H_Ey_D_p_TL.txt RANK_STATISTIC_2/Diplo_1M_smoothed_V_EY_D_p_TL.txt | \\\n",
    "perl -ne 'chomp; @a=split(\"\\t\"); if ($a[-1] < 0.05){ print \"\\n$_\\n\"}' | grep \"chrom\" -v | cut -f 1-3 |sort | uniq \\\n",
    "> RANK_STATISTIC_2/EYE_regions.p-0.05.tsv  "
   ]
  },
  {
   "cell_type": "code",
   "execution_count": 13,
   "metadata": {
    "collapsed": false
   },
   "outputs": [],
   "source": [
    "#make list desired rank statistic tsv files\n",
    "\n",
    "regions = ['RANK_STATISTIC_2/EYE_regions.p-0.05.tsv']"
   ]
  },
  {
   "cell_type": "code",
   "execution_count": 14,
   "metadata": {
    "collapsed": false
   },
   "outputs": [],
   "source": [
    "gff_per_scaffold = QTL.parse_gff(gff='/media/chrishah/STORAGE/DATA/Cichlids/reference_data/M_zebra/annotations/Metriaclima_zebra.BROADMZ2.gtf')"
   ]
  },
  {
   "cell_type": "code",
   "execution_count": 15,
   "metadata": {
    "collapsed": false,
    "scrolled": true
   },
   "outputs": [
    {
     "name": "stdout",
     "output_type": "stream",
     "text": [
      "processing rank statistic file: RANK_STATISTIC_2/EYE_regions.p-0.05.tsv\n",
      "EYE_regions.p-0.05:\n",
      "identified 743 gene(s)\n"
     ]
    }
   ],
   "source": [
    "genes_per_analysis = QTL.find_genes(rank_stats = regions, gff = gff_per_scaffold, distance = 50)"
   ]
  },
  {
   "cell_type": "code",
   "execution_count": 16,
   "metadata": {
    "collapsed": false,
    "scrolled": true
   },
   "outputs": [
    {
     "name": "stdout",
     "output_type": "stream",
     "text": [
      "EYE_regions.p-0.05\n",
      "adding annoation for EYE_regions.p-0.05\n"
     ]
    }
   ],
   "source": [
    "QTL.annotate_genes(SNPs_to_genes=genes_per_analysis, annotations='/media/chrishah/STORAGE/DATA/Cichlids/reference_data/M_zebra/annotations/blast2GO/blast2GO/blast2go_table_20150630_0957.txt')"
   ]
  },
  {
   "cell_type": "code",
   "execution_count": 17,
   "metadata": {
    "collapsed": false,
    "scrolled": true
   },
   "outputs": [
    {
     "name": "stdout",
     "output_type": "stream",
     "text": [
      "EYE_regions.p-0.05\n",
      "writing to: ./find_genes/EYE_regions.p-0.05.genes.annotated.tsv\n"
     ]
    }
   ],
   "source": [
    "QTL.write_candidates(SNPs_to_genes=genes_per_analysis, whitelist=genes_per_analysis.keys(), out_dir='./find_genes/')"
   ]
  },
  {
   "cell_type": "markdown",
   "metadata": {},
   "source": [
    "__Prepare list of genes for Enrichment analysis in BLAST2GO__ from SNPs with 'smoothed ARR p <0.05'"
   ]
  },
  {
   "cell_type": "code",
   "execution_count": 29,
   "metadata": {
    "collapsed": false
   },
   "outputs": [
    {
     "name": "stdout",
     "output_type": "stream",
     "text": [
      "434 find_genes/EYE_regions.p-0.05.genes.txt\n"
     ]
    }
   ],
   "source": [
    "%%bash\n",
    "\n",
    "cat find_genes/EYE_regions.p-0.05.genes.annotated.tsv | cut -f 4 | grep \"gene\" -v | sort | uniq \\\n",
    "> find_genes/EYE_regions.p-0.05.genes.txt\n",
    "\n",
    "wc -l find_genes/EYE_regions.p-0.05.genes.txt"
   ]
  },
  {
   "cell_type": "markdown",
   "metadata": {},
   "source": [
    "Extract genes for loci with ARR >= 0.95."
   ]
  },
  {
   "cell_type": "code",
   "execution_count": 19,
   "metadata": {
    "collapsed": true
   },
   "outputs": [],
   "source": [
    "%%bash\n",
    "\n",
    "cat RANK_STATISTIC_2/Diplo_1M_smoothed_H_Ey_D_p_TL.txt RANK_STATISTIC_2/Diplo_1M_smoothed_V_EY_D_p_TL.txt | \\\n",
    "perl -ne 'chomp; @a=split(\"\\t\"); if ($a[-3] >= 0.95){ print \"\\n$_\\n\"}' | grep \"chrom\" -v | cut -f 1-3 |sort | uniq \\\n",
    "> RANK_STATISTIC_2/EYE_regions.top-0.95.tsv"
   ]
  },
  {
   "cell_type": "code",
   "execution_count": 20,
   "metadata": {
    "collapsed": true
   },
   "outputs": [],
   "source": [
    "#make list desired rank statistic tsv files\n",
    "\n",
    "regions = ['RANK_STATISTIC_2/EYE_regions.top-0.95.tsv']"
   ]
  },
  {
   "cell_type": "code",
   "execution_count": 21,
   "metadata": {
    "collapsed": false
   },
   "outputs": [
    {
     "name": "stdout",
     "output_type": "stream",
     "text": [
      "processing rank statistic file: RANK_STATISTIC_2/EYE_regions.top-0.95.tsv\n",
      "EYE_regions.top-0.95:\n",
      "identified 277 gene(s)\n"
     ]
    }
   ],
   "source": [
    "genes_per_analysis = QTL.find_genes(rank_stats = regions, gff = gff_per_scaffold, distance = 50)"
   ]
  },
  {
   "cell_type": "code",
   "execution_count": 22,
   "metadata": {
    "collapsed": false
   },
   "outputs": [
    {
     "name": "stdout",
     "output_type": "stream",
     "text": [
      "EYE_regions.top-0.95\n",
      "adding annoation for EYE_regions.top-0.95\n"
     ]
    }
   ],
   "source": [
    "QTL.annotate_genes(SNPs_to_genes=genes_per_analysis, annotations='/media/chrishah/STORAGE/DATA/Cichlids/reference_data/M_zebra/annotations/blast2GO/blast2GO/blast2go_table_20150630_0957.txt')"
   ]
  },
  {
   "cell_type": "code",
   "execution_count": 23,
   "metadata": {
    "collapsed": false,
    "scrolled": true
   },
   "outputs": [
    {
     "name": "stdout",
     "output_type": "stream",
     "text": [
      "EYE_regions.top-0.95\n",
      "writing to: ./find_genes/EYE_regions.top-0.95.genes.annotated.tsv\n"
     ]
    }
   ],
   "source": [
    "QTL.write_candidates(SNPs_to_genes=genes_per_analysis, whitelist=genes_per_analysis.keys(), out_dir='./find_genes/')"
   ]
  },
  {
   "cell_type": "markdown",
   "metadata": {},
   "source": [
    "__Prepare list of genes for Enrichment analysis in BLAST2GO__ from SNPs with 'ARR >=0.95'"
   ]
  },
  {
   "cell_type": "code",
   "execution_count": 30,
   "metadata": {
    "collapsed": false,
    "scrolled": true
   },
   "outputs": [
    {
     "name": "stdout",
     "output_type": "stream",
     "text": [
      "238 find_genes/EYE_regions.top-0.95.genes.txt\n"
     ]
    }
   ],
   "source": [
    "%%bash\n",
    "\n",
    "cat find_genes/EYE_regions.top-0.95.genes.annotated.tsv | cut -f 4 | grep \"gene\" -v | sort | uniq \\\n",
    "> find_genes/EYE_regions.top-0.95.genes.txt\n",
    "\n",
    "wc -l find_genes/EYE_regions.top-0.95.genes.txt"
   ]
  },
  {
   "cell_type": "markdown",
   "metadata": {},
   "source": [
    "##ANALYZE XTX"
   ]
  },
  {
   "cell_type": "code",
   "execution_count": 53,
   "metadata": {
    "collapsed": true
   },
   "outputs": [],
   "source": [
    "mkdir XTX"
   ]
  },
  {
   "cell_type": "code",
   "execution_count": 54,
   "metadata": {
    "collapsed": false
   },
   "outputs": [
    {
     "name": "stdout",
     "output_type": "stream",
     "text": [
      "./running_bayenv/ANALYSES_FOR_PAPER_exclude_singletons/run_Bayenv/all_replicates//rep_4.xtx\n",
      "./running_bayenv/ANALYSES_FOR_PAPER_exclude_singletons/run_Bayenv/all_replicates//rep_10.xtx\n",
      "./running_bayenv/ANALYSES_FOR_PAPER_exclude_singletons/run_Bayenv/all_replicates//rep_13.xtx\n",
      "./running_bayenv/ANALYSES_FOR_PAPER_exclude_singletons/run_Bayenv/all_replicates//rep_2.xtx\n",
      "./running_bayenv/ANALYSES_FOR_PAPER_exclude_singletons/run_Bayenv/all_replicates//rep_12.xtx\n",
      "./running_bayenv/ANALYSES_FOR_PAPER_exclude_singletons/run_Bayenv/all_replicates//rep_20.xtx\n",
      "./running_bayenv/ANALYSES_FOR_PAPER_exclude_singletons/run_Bayenv/all_replicates//rep_16.xtx\n",
      "./running_bayenv/ANALYSES_FOR_PAPER_exclude_singletons/run_Bayenv/all_replicates//rep_6.xtx\n",
      "./running_bayenv/ANALYSES_FOR_PAPER_exclude_singletons/run_Bayenv/all_replicates//rep_3.xtx\n",
      "./running_bayenv/ANALYSES_FOR_PAPER_exclude_singletons/run_Bayenv/all_replicates//rep_18.xtx\n",
      "./running_bayenv/ANALYSES_FOR_PAPER_exclude_singletons/run_Bayenv/all_replicates//rep_1.xtx\n",
      "./running_bayenv/ANALYSES_FOR_PAPER_exclude_singletons/run_Bayenv/all_replicates//rep_9.xtx\n",
      "./running_bayenv/ANALYSES_FOR_PAPER_exclude_singletons/run_Bayenv/all_replicates//rep_11.xtx\n",
      "./running_bayenv/ANALYSES_FOR_PAPER_exclude_singletons/run_Bayenv/all_replicates//rep_17.xtx\n",
      "./running_bayenv/ANALYSES_FOR_PAPER_exclude_singletons/run_Bayenv/all_replicates//rep_15.xtx\n",
      "./running_bayenv/ANALYSES_FOR_PAPER_exclude_singletons/run_Bayenv/all_replicates//rep_19.xtx\n",
      "./running_bayenv/ANALYSES_FOR_PAPER_exclude_singletons/run_Bayenv/all_replicates//rep_5.xtx\n",
      "./running_bayenv/ANALYSES_FOR_PAPER_exclude_singletons/run_Bayenv/all_replicates//rep_7.xtx\n",
      "./running_bayenv/ANALYSES_FOR_PAPER_exclude_singletons/run_Bayenv/all_replicates//rep_14.xtx\n",
      "./running_bayenv/ANALYSES_FOR_PAPER_exclude_singletons/run_Bayenv/all_replicates//rep_8.xtx\n"
     ]
    }
   ],
   "source": [
    "#create the list of Bayenv results files to be processed\n",
    "import os\n",
    "\n",
    "bayenv_res_dir = './running_bayenv/ANALYSES_FOR_PAPER_exclude_singletons/run_Bayenv/all_replicates/'\n",
    "bayenv_files = []\n",
    "\n",
    "for fil in os.listdir(bayenv_res_dir):\n",
    "    if fil.endswith(\".xtx\"):\n",
    "        print(bayenv_res_dir+\"/\"+fil)\n",
    "        bayenv_files.append(bayenv_res_dir+\"/\"+fil)"
   ]
  },
  {
   "cell_type": "code",
   "execution_count": 56,
   "metadata": {
    "collapsed": false
   },
   "outputs": [],
   "source": [
    "IDs = ['xtx']"
   ]
  },
  {
   "cell_type": "code",
   "execution_count": 57,
   "metadata": {
    "collapsed": false
   },
   "outputs": [
    {
     "name": "stdout",
     "output_type": "stream",
     "text": [
      "['./running_bayenv/ANALYSES_FOR_PAPER_exclude_singletons/run_Bayenv/all_replicates//rep_4.xtx', './running_bayenv/ANALYSES_FOR_PAPER_exclude_singletons/run_Bayenv/all_replicates//rep_10.xtx', './running_bayenv/ANALYSES_FOR_PAPER_exclude_singletons/run_Bayenv/all_replicates//rep_13.xtx', './running_bayenv/ANALYSES_FOR_PAPER_exclude_singletons/run_Bayenv/all_replicates//rep_2.xtx', './running_bayenv/ANALYSES_FOR_PAPER_exclude_singletons/run_Bayenv/all_replicates//rep_12.xtx', './running_bayenv/ANALYSES_FOR_PAPER_exclude_singletons/run_Bayenv/all_replicates//rep_20.xtx', './running_bayenv/ANALYSES_FOR_PAPER_exclude_singletons/run_Bayenv/all_replicates//rep_16.xtx', './running_bayenv/ANALYSES_FOR_PAPER_exclude_singletons/run_Bayenv/all_replicates//rep_6.xtx', './running_bayenv/ANALYSES_FOR_PAPER_exclude_singletons/run_Bayenv/all_replicates//rep_3.xtx', './running_bayenv/ANALYSES_FOR_PAPER_exclude_singletons/run_Bayenv/all_replicates//rep_18.xtx', './running_bayenv/ANALYSES_FOR_PAPER_exclude_singletons/run_Bayenv/all_replicates//rep_1.xtx', './running_bayenv/ANALYSES_FOR_PAPER_exclude_singletons/run_Bayenv/all_replicates//rep_9.xtx', './running_bayenv/ANALYSES_FOR_PAPER_exclude_singletons/run_Bayenv/all_replicates//rep_11.xtx', './running_bayenv/ANALYSES_FOR_PAPER_exclude_singletons/run_Bayenv/all_replicates//rep_17.xtx', './running_bayenv/ANALYSES_FOR_PAPER_exclude_singletons/run_Bayenv/all_replicates//rep_15.xtx', './running_bayenv/ANALYSES_FOR_PAPER_exclude_singletons/run_Bayenv/all_replicates//rep_19.xtx', './running_bayenv/ANALYSES_FOR_PAPER_exclude_singletons/run_Bayenv/all_replicates//rep_5.xtx', './running_bayenv/ANALYSES_FOR_PAPER_exclude_singletons/run_Bayenv/all_replicates//rep_7.xtx', './running_bayenv/ANALYSES_FOR_PAPER_exclude_singletons/run_Bayenv/all_replicates//rep_14.xtx', './running_bayenv/ANALYSES_FOR_PAPER_exclude_singletons/run_Bayenv/all_replicates//rep_8.xtx']\n",
      "\n",
      "20\n",
      "['xtx']\n",
      "1\n"
     ]
    }
   ],
   "source": [
    "print bayenv_files\n",
    "print \"\\n%i\" %len(bayenv_files)\n",
    "print IDs\n",
    "print len(IDs)"
   ]
  },
  {
   "cell_type": "code",
   "execution_count": 58,
   "metadata": {
    "collapsed": false,
    "scrolled": true
   },
   "outputs": [
    {
     "name": "stdout",
     "output_type": "stream",
     "text": [
      "Total number of SNPs (according to the SNPmap): 11786\n",
      "Number of Bayenv replicates: 20\n",
      "Number of environmental factors analysed: 1\n",
      "parsing bayenv files\n",
      "\n",
      "processing replicate 0:\n",
      "./running_bayenv/ANALYSES_FOR_PAPER_exclude_singletons/run_Bayenv/all_replicates//rep_1.xtx\n",
      "\n",
      "processing replicate 1:\n",
      "./running_bayenv/ANALYSES_FOR_PAPER_exclude_singletons/run_Bayenv/all_replicates//rep_10.xtx\n",
      "\n",
      "processing replicate 2:\n",
      "./running_bayenv/ANALYSES_FOR_PAPER_exclude_singletons/run_Bayenv/all_replicates//rep_11.xtx\n",
      "\n",
      "processing replicate 3:\n",
      "./running_bayenv/ANALYSES_FOR_PAPER_exclude_singletons/run_Bayenv/all_replicates//rep_12.xtx\n",
      "\n",
      "processing replicate 4:\n",
      "./running_bayenv/ANALYSES_FOR_PAPER_exclude_singletons/run_Bayenv/all_replicates//rep_13.xtx\n",
      "\n",
      "processing replicate 5:\n",
      "./running_bayenv/ANALYSES_FOR_PAPER_exclude_singletons/run_Bayenv/all_replicates//rep_14.xtx\n",
      "\n",
      "processing replicate 6:\n",
      "./running_bayenv/ANALYSES_FOR_PAPER_exclude_singletons/run_Bayenv/all_replicates//rep_15.xtx\n",
      "\n",
      "processing replicate 7:\n",
      "./running_bayenv/ANALYSES_FOR_PAPER_exclude_singletons/run_Bayenv/all_replicates//rep_16.xtx\n",
      "\n",
      "processing replicate 8:\n",
      "./running_bayenv/ANALYSES_FOR_PAPER_exclude_singletons/run_Bayenv/all_replicates//rep_17.xtx\n",
      "\n",
      "processing replicate 9:\n",
      "./running_bayenv/ANALYSES_FOR_PAPER_exclude_singletons/run_Bayenv/all_replicates//rep_18.xtx\n",
      "\n",
      "processing replicate 10:\n",
      "./running_bayenv/ANALYSES_FOR_PAPER_exclude_singletons/run_Bayenv/all_replicates//rep_19.xtx\n",
      "\n",
      "processing replicate 11:\n",
      "./running_bayenv/ANALYSES_FOR_PAPER_exclude_singletons/run_Bayenv/all_replicates//rep_2.xtx\n",
      "\n",
      "processing replicate 12:\n",
      "./running_bayenv/ANALYSES_FOR_PAPER_exclude_singletons/run_Bayenv/all_replicates//rep_20.xtx\n",
      "\n",
      "processing replicate 13:\n",
      "./running_bayenv/ANALYSES_FOR_PAPER_exclude_singletons/run_Bayenv/all_replicates//rep_3.xtx\n",
      "\n",
      "processing replicate 14:\n",
      "./running_bayenv/ANALYSES_FOR_PAPER_exclude_singletons/run_Bayenv/all_replicates//rep_4.xtx\n",
      "\n",
      "processing replicate 15:\n",
      "./running_bayenv/ANALYSES_FOR_PAPER_exclude_singletons/run_Bayenv/all_replicates//rep_5.xtx\n",
      "\n",
      "processing replicate 16:\n",
      "./running_bayenv/ANALYSES_FOR_PAPER_exclude_singletons/run_Bayenv/all_replicates//rep_6.xtx\n",
      "\n",
      "processing replicate 17:\n",
      "./running_bayenv/ANALYSES_FOR_PAPER_exclude_singletons/run_Bayenv/all_replicates//rep_7.xtx\n",
      "\n",
      "processing replicate 18:\n",
      "./running_bayenv/ANALYSES_FOR_PAPER_exclude_singletons/run_Bayenv/all_replicates//rep_8.xtx\n",
      "\n",
      "processing replicate 19:\n",
      "./running_bayenv/ANALYSES_FOR_PAPER_exclude_singletons/run_Bayenv/all_replicates//rep_9.xtx\n",
      "\n",
      "SUMMARY:\n",
      "\n",
      "Wrting stats to XTX/Diplo_xtx_1M_xtx.txt\n",
      "factor xtx\treplicate 12 gave the most extreme ranks for 7.40 % of the SNPs\n"
     ]
    }
   ],
   "source": [
    "rank_results = QTL.calculate_rank_stats(SNP_map=\"SNPfiles/full_set.bayenv.SNPmap\", infiles = bayenv_files, ids = IDs, prefix = 'XTX/Diplo_xtx_1M')"
   ]
  },
  {
   "cell_type": "markdown",
   "metadata": {},
   "source": [
    "__CREATE POPE PLOTS and extract the SNP ids in the top 5 percent__ (assumes that the script `pope_plot.sh` is in your working directory)"
   ]
  },
  {
   "cell_type": "code",
   "execution_count": 59,
   "metadata": {
    "collapsed": true
   },
   "outputs": [],
   "source": [
    "full_rank_files = []\n",
    "\n",
    "file_dir = 'XTX/'\n",
    "for id in IDs:\n",
    "#    print id\n",
    "    for file in os.listdir(file_dir):\n",
    "        if file.endswith('_'+id+'.txt'):\n",
    "#            print [id,file_dir+'/'+file]\n",
    "            full_rank_files.append([id,file_dir+'/'+file])\n",
    "            break\n",
    "        "
   ]
  },
  {
   "cell_type": "code",
   "execution_count": 60,
   "metadata": {
    "collapsed": false
   },
   "outputs": [
    {
     "name": "stdout",
     "output_type": "stream",
     "text": [
      "[['xtx', 'XTX//Diplo_xtx_1M_xtx.txt']]\n"
     ]
    }
   ],
   "source": [
    "print full_rank_files"
   ]
  },
  {
   "cell_type": "code",
   "execution_count": 61,
   "metadata": {
    "collapsed": false
   },
   "outputs": [
    {
     "name": "stdout",
     "output_type": "stream",
     "text": [
      "processing xtx:\n",
      "data in file: XTX//Diplo_xtx_1M_xtx.txt\n",
      "XTX//Diplo_xtx_1M_xtx.txt\n",
      "0.95\n",
      "xtx\n",
      "XTX//Diplo_xtx_1M_xtx\n",
      "20\n",
      "null device \n",
      "          1 \n",
      "\n"
     ]
    }
   ],
   "source": [
    "QTL.plot_pope(files_list=full_rank_files, cutoff=0.95, num_replicates=20)"
   ]
  },
  {
   "cell_type": "code",
   "execution_count": 62,
   "metadata": {
    "collapsed": false
   },
   "outputs": [
    {
     "name": "stdout",
     "output_type": "stream",
     "text": [
      "processing xtx:\n",
      "data in file: XTX//Diplo_xtx_1M_xtx.txt\n",
      "XTX//Diplo_xtx_1M_xtx.txt\n",
      "0.99\n",
      "xtx\n",
      "XTX//Diplo_xtx_1M_xtx\n",
      "20\n",
      "null device \n",
      "          1 \n",
      "\n"
     ]
    }
   ],
   "source": [
    "QTL.plot_pope(files_list=full_rank_files, cutoff=0.99, num_replicates=20)"
   ]
  },
  {
   "cell_type": "code",
   "execution_count": 65,
   "metadata": {
    "collapsed": false
   },
   "outputs": [
    {
     "name": "stdout",
     "output_type": "stream",
     "text": [
      "544\n",
      "110\n"
     ]
    }
   ],
   "source": [
    "!cat XTX/Diplo_xtx_1M_xtx-top-0.95.tsv |wc -l\n",
    "!cat XTX/Diplo_xtx_1M_xtx-top-0.99.tsv |wc -l"
   ]
  },
  {
   "cell_type": "code",
   "execution_count": null,
   "metadata": {
    "collapsed": true
   },
   "outputs": [],
   "source": []
  },
  {
   "cell_type": "code",
   "execution_count": null,
   "metadata": {
    "collapsed": false,
    "scrolled": true
   },
   "outputs": [
    {
     "name": "stdout",
     "output_type": "stream",
     "text": [
      "214 scaffols to process:\n",
      "['scaffold_0', 'scaffold_1', 'scaffold_10', 'scaffold_100', 'scaffold_101', 'scaffold_102', 'scaffold_103', 'scaffold_104', 'scaffold_106', 'scaffold_107', 'scaffold_109', 'scaffold_11', 'scaffold_110', 'scaffold_111', 'scaffold_112', 'scaffold_114', 'scaffold_115', 'scaffold_117', 'scaffold_119', 'scaffold_12', 'scaffold_120', 'scaffold_121', 'scaffold_122', 'scaffold_123', 'scaffold_125', 'scaffold_127', 'scaffold_128', 'scaffold_129', 'scaffold_13', 'scaffold_132', 'scaffold_133', 'scaffold_134', 'scaffold_135', 'scaffold_136', 'scaffold_138', 'scaffold_139', 'scaffold_14', 'scaffold_140', 'scaffold_143', 'scaffold_144', 'scaffold_145', 'scaffold_147', 'scaffold_148', 'scaffold_149', 'scaffold_15', 'scaffold_150', 'scaffold_154', 'scaffold_156', 'scaffold_157', 'scaffold_158', 'scaffold_159', 'scaffold_16', 'scaffold_160', 'scaffold_161', 'scaffold_1616', 'scaffold_162', 'scaffold_163', 'scaffold_164', 'scaffold_167', 'scaffold_168', 'scaffold_17', 'scaffold_171', 'scaffold_172', 'scaffold_174', 'scaffold_177', 'scaffold_180', 'scaffold_184', 'scaffold_185', 'scaffold_186', 'scaffold_189', 'scaffold_19', 'scaffold_190', 'scaffold_191', 'scaffold_192', 'scaffold_193', 'scaffold_194', 'scaffold_197', 'scaffold_2', 'scaffold_20', 'scaffold_200', 'scaffold_201', 'scaffold_203', 'scaffold_205', 'scaffold_207', 'scaffold_209', 'scaffold_21', 'scaffold_210', 'scaffold_211', 'scaffold_212', 'scaffold_215', 'scaffold_218', 'scaffold_219', 'scaffold_22', 'scaffold_220', 'scaffold_221', 'scaffold_227', 'scaffold_229', 'scaffold_23', 'scaffold_232', 'scaffold_233', 'scaffold_237', 'scaffold_24', 'scaffold_240', 'scaffold_242', 'scaffold_243', 'scaffold_244', 'scaffold_249', 'scaffold_25', 'scaffold_251', 'scaffold_253', 'scaffold_254', 'scaffold_255', 'scaffold_258', 'scaffold_26', 'scaffold_262', 'scaffold_264', 'scaffold_267', 'scaffold_269', 'scaffold_27', 'scaffold_271', 'scaffold_275', 'scaffold_276', 'scaffold_282', 'scaffold_284', 'scaffold_285', 'scaffold_286', 'scaffold_29', 'scaffold_292', 'scaffold_3', 'scaffold_30', 'scaffold_308', 'scaffold_31', 'scaffold_314', 'scaffold_315', 'scaffold_32', 'scaffold_33', 'scaffold_332', 'scaffold_338', 'scaffold_34', 'scaffold_344', 'scaffold_346', 'scaffold_347', 'scaffold_349', 'scaffold_35', 'scaffold_351', 'scaffold_36', 'scaffold_361', 'scaffold_37', 'scaffold_38', 'scaffold_387', 'scaffold_388', 'scaffold_39', 'scaffold_4', 'scaffold_404', 'scaffold_41', 'scaffold_412', 'scaffold_42', 'scaffold_43', 'scaffold_44', 'scaffold_447', 'scaffold_45', 'scaffold_450', 'scaffold_46', 'scaffold_47', 'scaffold_48', 'scaffold_5', 'scaffold_50', 'scaffold_501', 'scaffold_51', 'scaffold_52', 'scaffold_53', 'scaffold_55', 'scaffold_56', 'scaffold_57', 'scaffold_58', 'scaffold_59', 'scaffold_6', 'scaffold_60', 'scaffold_61', 'scaffold_62', 'scaffold_64', 'scaffold_67', 'scaffold_69', 'scaffold_7', 'scaffold_70', 'scaffold_71', 'scaffold_72', 'scaffold_74', 'scaffold_749', 'scaffold_75', 'scaffold_76', 'scaffold_77', 'scaffold_78', 'scaffold_79', 'scaffold_8', 'scaffold_80', 'scaffold_81', 'scaffold_82', 'scaffold_83', 'scaffold_84', 'scaffold_85', 'scaffold_86', 'scaffold_87', 'scaffold_88', 'scaffold_89', 'scaffold_9', 'scaffold_90', 'scaffold_91', 'scaffold_92', 'scaffold_93', 'scaffold_94', 'scaffold_96', 'scaffold_97', 'scaffold_98']\n",
      "\n",
      "### Kernel smoothing ###\n",
      "Factor: xtx\n",
      "Statistic: avg_rank_rel\n",
      "Window size: 50000 bp\n",
      "determining p-value based on 10000 bootstrap replicates\n",
      "processing scaffold_0\n",
      "scaffold_0\t168243\t0.731966156652 - p = 0.0335\n",
      "scaffold_0\t207363\t0.746943400468 - p = 0.031\n",
      "scaffold_0\t2213688\t0.712035083709 - p = 0.0329\n",
      "scaffold_0\t2278458\t0.677652319487 - p = 0.0324\n",
      "scaffold_0\t2782878\t0.964173392795 - p = 0.0129\n",
      "scaffold_0\t5944335\t0.936972591201 - p = 0.0115\n",
      "scaffold_0\t6689448\t0.757572006703 - p = 0.0279\n",
      "scaffold_0\t8761802\t0.947166129306 - p = 0.0471\n",
      "scaffold_0\t16132305\t0.814657326524 - p = 0.0098\n",
      "scaffold_0\t16140761\t0.765449660328 - p = 0.0287\n",
      "processing scaffold_1\n",
      "scaffold_1\t246677\t0.705467702455 - p = 0.0387\n",
      "scaffold_1\t282371\t0.749595858492 - p = 0.0045\n",
      "scaffold_1\t330683\t0.77409698217 - p = 0.0001\n",
      "scaffold_1\t381141\t0.700076710457 - p = 0.006\n",
      "scaffold_1\t400941\t0.7354540622 - p = 0.0017\n",
      "scaffold_1\t402210\t0.733953906661 - p = 0.0008\n",
      "scaffold_1\t403614\t0.713023137215 - p = 0.0037\n",
      "scaffold_1\t414299\t0.679718864803 - p = 0.0116\n",
      "scaffold_1\t444724\t0.671490134249 - p = 0.0171\n",
      "scaffold_1\t490509\t0.687960532252 - p = 0.0118\n",
      "scaffold_1\t2128264\t0.756421445574 - p = 0.013\n",
      "scaffold_1\t2173672\t0.730199066039 - p = 0.0123\n",
      "scaffold_1\t2250732\t0.742701634554 - p = 0.0152\n",
      "scaffold_1\t2413056\t0.724582161777 - p = 0.0129\n",
      "scaffold_1\t2443664\t0.679428273236 - p = 0.0262\n",
      "scaffold_1\t6150344\t0.792587273786 - p = 0.0237\n",
      "scaffold_1\t10372072\t0.717258475801 - p = 0.0487\n",
      "scaffold_1\t12689610\t0.731751383572 - p = 0.0352\n",
      "processing scaffold_10\n",
      "scaffold_10\t8846791\t0.684583828768 - p = 0.0493\n",
      "scaffold_10\t8919106\t0.709542766364 - p = 0.0269\n",
      "processing scaffold_100\n",
      "scaffold_100\t780853\t0.76337974237 - p = 0.0417\n",
      "scaffold_100\t780879\t0.770196685854 - p = 0.0321\n",
      "processing scaffold_101\n",
      "scaffold_101\t1370869\t0.768676577714 - p = 0.0188\n",
      "scaffold_101\t2155141\t0.809362626186 - p = 0.0349\n",
      "scaffold_101\t2583528\t0.789177428588 - p = 0.0202\n",
      "processing scaffold_102\n",
      "scaffold_102\t1562973\t0.766918895887 - p = 0.0297\n",
      "processing scaffold_103\n",
      "scaffold_103\t304035\t0.635953460336 - p = 0.0438\n",
      "scaffold_103\t312776\t0.656427349983 - p = 0.0213\n",
      "scaffold_103\t672537\t0.620488857374 - p = 0.0373\n",
      "scaffold_103\t902989\t0.725128185412 - p = 0.0467\n",
      "scaffold_103\t1012055\t0.777730390663 - p = 0.0243\n",
      "scaffold_103\t1225639\t0.642168933092 - p = 0.0408\n",
      "scaffold_103\t1313449\t0.694638418242 - p = 0.0068\n",
      "scaffold_103\t1330067\t0.638377937609 - p = 0.0373\n",
      "scaffold_103\t1359917\t0.645414819511 - p = 0.0403\n",
      "scaffold_103\t1385364\t0.693685195642 - p = 0.0135\n",
      "scaffold_103\t1428851\t0.691244111256 - p = 0.0151\n",
      "scaffold_103\t1440388\t0.703691132668 - p = 0.0093\n",
      "scaffold_103\t1458209\t0.681284840226 - p = 0.0182\n",
      "scaffold_103\t1524042\t0.750772421225 - p = 0.0079\n",
      "scaffold_103\t1531303\t0.80396647945 - p = 0.0022\n",
      "scaffold_103\t1580146\t0.876424875992 - p = 0.0024\n",
      "scaffold_103\t1775917\t0.712014358391 - p = 0.0244\n",
      "scaffold_103\t1803806\t0.683781842191 - p = 0.0457\n",
      "scaffold_103\t2308024\t0.762410492187 - p = 0.0361\n",
      "processing scaffold_104\n",
      "scaffold_104\t1040401\t0.82835057573 - p = 0.0184\n",
      "scaffold_104\t1054595\t0.800964813601 - p = 0.0377\n",
      "scaffold_104\t1706047\t0.79210604735 - p = 0.038\n",
      "scaffold_104\t2211410\t0.771901735618 - p = 0.0254\n",
      "scaffold_104\t2271835\t0.791565088879 - p = 0.0188\n",
      "scaffold_104\t2286844\t0.883681177519 - p = 0.003\n",
      "processing scaffold_106\n",
      "scaffold_106\t505652\t0.713303928459 - p = 0.0279\n",
      "scaffold_106\t597884\t0.780829862828 - p = 0.0018\n",
      "scaffold_106\t638732\t0.758520923299 - p = 0.0013\n",
      "scaffold_106\t638808\t0.712920210154 - p = 0.008\n",
      "scaffold_106\t641825\t0.716818991006 - p = 0.0063\n",
      "scaffold_106\t679067\t0.723958171775 - p = 0.0031\n",
      "scaffold_106\t714373\t0.650161745617 - p = 0.0286\n",
      "scaffold_106\t716333\t0.643673724432 - p = 0.0362\n",
      "scaffold_106\t765308\t0.631143291732 - p = 0.0365\n",
      "scaffold_106\t765344\t0.627194597875 - p = 0.0435\n",
      "scaffold_106\t872880\t0.602293161326 - p = 0.0453\n",
      "scaffold_106\t889246\t0.631787323461 - p = 0.0165\n",
      "scaffold_106\t933161\t0.625552640172 - p = 0.021\n",
      "scaffold_106\t933211\t0.62600554152 - p = 0.0196\n",
      "scaffold_106\t958150\t0.60447455003 - p = 0.0389\n",
      "scaffold_106\t960512\t0.602567979667 - p = 0.04\n",
      "scaffold_106\t990584\t0.603191191451 - p = 0.0487\n",
      "scaffold_106\t1283246\t0.819666031509 - p = 0.038\n",
      "scaffold_106\t1660539\t0.775580213016 - p = 0.0051\n",
      "scaffold_106\t1750638\t0.673046926739 - p = 0.0205\n",
      "scaffold_106\t1794221\t0.636108749165 - p = 0.0472\n",
      "processing scaffold_107\n",
      "processing scaffold_109\n",
      "scaffold_109\t2382206\t0.743123997906 - p = 0.0454\n",
      "processing scaffold_11\n",
      "scaffold_11\t2810176\t0.860821387727 - p = 0.036\n",
      "scaffold_11\t2939451\t0.949453021271 - p = 0.009\n",
      "scaffold_11\t5651180\t0.698248016176 - p = 0.0463\n",
      "scaffold_11\t6264057\t0.831894826231 - p = 0.0092\n",
      "scaffold_11\t6298229\t0.850460221565 - p = 0.0103\n",
      "scaffold_11\t6325789\t0.859653712405 - p = 0.005\n",
      "processing scaffold_110\n",
      "scaffold_110\t19064\t0.760244312908 - p = 0.0322\n",
      "scaffold_110\t95096\t0.762607883357 - p = 0.0208\n",
      "scaffold_110\t114547\t0.797339304516 - p = 0.0088\n",
      "scaffold_110\t234239\t0.789832133511 - p = 0.0124\n",
      "scaffold_110\t274029\t0.874224659483 - p = 0.0062\n",
      "scaffold_110\t284607\t0.873467634579 - p = 0.0066\n",
      "scaffold_110\t452484\t0.92611379339 - p = 0.0006\n",
      "scaffold_110\t452630\t0.935403818013 - p = 0.0002\n",
      "scaffold_110\t512023\t0.898197070766 - p = 0.0\n",
      "scaffold_110\t566581\t0.896667664838 - p = 0.0\n",
      "scaffold_110\t611393\t0.826804100451 - p = 0.0009\n",
      "scaffold_110\t623630\t0.858150025175 - p = 0.0\n",
      "scaffold_110\t636842\t0.861548600629 - p = 0.0003\n",
      "scaffold_110\t718445\t0.745691881759 - p = 0.0334\n",
      "scaffold_110\t718504\t0.870850997845 - p = 0.0006\n",
      "scaffold_110\t1867007\t0.863782896529 - p = 0.0374\n",
      "processing scaffold_111\n",
      "scaffold_111\t1164812\t0.719946096329 - p = 0.04\n",
      "scaffold_111\t1209503\t0.757676300847 - p = 0.0265\n",
      "scaffold_111\t1396071\t0.896004972848 - p = 0.0049\n",
      "scaffold_111\t1440086\t0.790913802274 - p = 0.0109\n",
      "scaffold_111\t1456329\t0.832492983878 - p = 0.0004\n",
      "scaffold_111\t1551773\t0.76919832477 - p = 0.0086\n",
      "scaffold_111\t2183250\t0.906783494512 - p = 0.0\n",
      "scaffold_111\t2202355\t0.935370444628 - p = 0.0\n",
      "scaffold_111\t2213547\t0.934690380228 - p = 0.0\n",
      "scaffold_111\t2232550\t0.925417755846 - p = 0.0\n",
      "scaffold_111\t2248113\t0.916747459704 - p = 0.0\n",
      "scaffold_111\t2357375\t0.825976426298 - p = 0.0192\n",
      "processing scaffold_112\n",
      "scaffold_112\t514389\t0.911737626749 - p = 0.0025\n",
      "scaffold_112\t514527\t0.823936642457 - p = 0.0221\n",
      "scaffold_112\t577527\t0.909820826845 - p = 0.0026\n",
      "scaffold_112\t2295022\t0.977990836586 - p = 0.022\n",
      "processing scaffold_114\n",
      "scaffold_114\t1476321\t0.676583169523 - p = 0.0196\n",
      "scaffold_114\t1491770\t0.758465597391 - p = 0.0002\n",
      "scaffold_114\t1491831\t0.721707346994 - p = 0.0022\n",
      "scaffold_114\t1512630\t0.7247365876 - p = 0.0023\n",
      "scaffold_114\t1512695\t0.742520335909 - p = 0.0004\n",
      "scaffold_114\t1532311\t0.761471199074 - p = 0.0006\n",
      "scaffold_114\t1532613\t0.780145855167 - p = 0.0004\n",
      "scaffold_114\t1585277\t0.804373984486 - p = 0.0001\n",
      "scaffold_114\t1587945\t0.809722401802 - p = 0.0001\n",
      "scaffold_114\t1587986\t0.811677463439 - p = 0.0\n",
      "processing scaffold_115\n",
      "scaffold_115\t1312800\t0.768921901083 - p = 0.0292\n",
      "scaffold_115\t1709719\t0.68238864419 - p = 0.0351\n",
      "scaffold_115\t1784374\t0.716969495945 - p = 0.0185\n",
      "scaffold_115\t1907417\t0.698447333692 - p = 0.0221\n",
      "scaffold_115\t1953537\t0.677278486247 - p = 0.0455\n",
      "processing scaffold_117\n",
      "processing scaffold_119\n",
      "scaffold_119\t421371\t0.802887317321 - p = 0.0137\n",
      "scaffold_119\t421390\t0.772843398708 - p = 0.0259\n",
      "scaffold_119\t551988\t0.789474263415 - p = 0.0052\n",
      "scaffold_119\t622339\t0.741474949689 - p = 0.0242\n",
      "scaffold_119\t643623\t0.707090861812 - p = 0.0361\n",
      "scaffold_119\t757311\t0.775867179809 - p = 0.0072\n",
      "scaffold_119\t852541\t0.765675553215 - p = 0.0333\n",
      "scaffold_119\t1084454\t0.863257166463 - p = 0.0039\n",
      "scaffold_119\t1105838\t0.842977071851 - p = 0.0025\n",
      "scaffold_119\t1123622\t0.880972255972 - p = 0.0005\n",
      "scaffold_119\t1188760\t0.919111367752 - p = 0.0\n",
      "scaffold_119\t1227005\t0.903457576863 - p = 0.0\n",
      "scaffold_119\t1259725\t0.877351854266 - p = 0.0006\n",
      "scaffold_119\t1567017\t0.939775006588 - p = 0.033\n",
      "processing scaffold_12\n",
      "scaffold_12\t1653749\t0.74323642241 - p = 0.0324\n",
      "scaffold_12\t3799847\t0.906791753109 - p = 0.0026\n",
      "scaffold_12\t3885790\t0.831544654498 - p = 0.007\n",
      "scaffold_12\t3934807\t0.838258822803 - p = 0.0102\n",
      "processing scaffold_120\n",
      "scaffold_120\t1390443\t0.922979766601 - p = 0.0065\n",
      "processing scaffold_121\n",
      "processing scaffold_122\n",
      "scaffold_122\t1466243\t0.710077299122 - p = 0.0309\n",
      "scaffold_122\t1469205\t0.694152219168 - p = 0.0304\n",
      "scaffold_122\t1482364\t0.693123795241 - p = 0.0317\n",
      "processing scaffold_123\n",
      "processing scaffold_125\n",
      "scaffold_125\t1591767\t0.785509217764 - p = 0.0135\n",
      "scaffold_125\t1591842\t0.786591954667 - p = 0.0158\n",
      "processing scaffold_127\n",
      "scaffold_127\t322174\t0.778220299651 - p = 0.0124\n",
      "scaffold_127\t348224\t0.835356632364 - p = 0.0027\n",
      "scaffold_127\t484684\t0.737716626895 - p = 0.0365\n",
      "processing scaffold_128\n",
      "scaffold_128\t243344\t0.746067084558 - p = 0.0151\n",
      "scaffold_128\t257318\t0.695434366648 - p = 0.043\n",
      "processing scaffold_129\n",
      "scaffold_129\t1105653\t0.981719837095 - p = 0.0166\n",
      "processing scaffold_13\n",
      "scaffold_13\t2847955\t0.829157903537 - p = 0.0339\n",
      "scaffold_13\t6868032\t0.765841380484 - p = 0.0154\n",
      "scaffold_13\t6936629\t0.723909283283 - p = 0.0359\n",
      "scaffold_13\t7270886\t0.753967840434 - p = 0.0301\n",
      "processing scaffold_132\n",
      "scaffold_132\t1964434\t0.808304526053 - p = 0.0114\n",
      "processing scaffold_133\n",
      "scaffold_133\t215234\t0.797680378479 - p = 0.0155\n",
      "scaffold_133\t315149\t0.832373455552 - p = 0.0015\n",
      "scaffold_133\t414449\t0.799700522906 - p = 0.0045\n",
      "scaffold_133\t414478\t0.847407315615 - p = 0.0003\n",
      "scaffold_133\t466386\t0.794684156179 - p = 0.0018\n",
      "scaffold_133\t466460\t0.794322566262 - p = 0.0019\n",
      "scaffold_133\t1158459\t0.66679485602 - p = 0.0437\n",
      "processing scaffold_134\n",
      "processing scaffold_135\n",
      "processing scaffold_136\n",
      "scaffold_136\t317205\t0.912075273862 - p = 0.0043\n",
      "scaffold_136\t375679\t0.810632724786 - p = 0.0181\n",
      "scaffold_136\t487569\t0.703112695248 - p = 0.0473\n",
      "processing scaffold_138\n",
      "processing scaffold_139\n",
      "scaffold_139\t274933\t0.883094581937 - p = 0.0116\n",
      "scaffold_139\t330773\t0.939620218129 - p = 0.006\n",
      "processing scaffold_14\n",
      "scaffold_14\t3306225\t0.757261500806 - p = 0.0256\n",
      "scaffold_14\t3336297\t0.755254616465 - p = 0.0329\n",
      "scaffold_14\t3698568\t0.77990228975 - p = 0.0491\n",
      "scaffold_14\t3797691\t0.805124914053 - p = 0.0245\n",
      "scaffold_14\t6430957\t0.746957586793 - p = 0.0449\n",
      "scaffold_14\t6441511\t0.802055768618 - p = 0.0135\n",
      "processing scaffold_140\n",
      "processing scaffold_143\n",
      "scaffold_143\t245956\t0.730982091694 - p = 0.0174\n",
      "scaffold_143\t308888\t0.708901659741 - p = 0.0206\n",
      "processing scaffold_144\n",
      "processing scaffold_145\n",
      "scaffold_145\t935605\t0.777697952882 - p = 0.0263\n",
      "scaffold_145\t1007020\t0.829304058631 - p = 0.0113\n",
      "scaffold_145\t1550522\t0.912143553106 - p = 0.0133\n",
      "scaffold_145\t1635031\t0.91696892592 - p = 0.0018\n",
      "scaffold_145\t1712666\t0.834047566052 - p = 0.046\n",
      "processing scaffold_147\n",
      "scaffold_147\t1450924\t0.853927633931 - p = 0.023\n",
      "processing scaffold_148\n",
      "scaffold_148\t1114738\t0.710162356538 - p = 0.0483\n",
      "processing scaffold_149\n",
      "scaffold_149\t629021\t0.798551093517 - p = 0.0482\n",
      "processing scaffold_15\n",
      "scaffold_15\t1655166\t0.870878531764 - p = 0.0014\n",
      "scaffold_15\t1695624\t0.917844560761 - p = 0.0001\n",
      "scaffold_15\t1708653\t0.908308275999 - p = 0.0002\n",
      "scaffold_15\t1751993\t0.847303945622 - p = 0.0002\n",
      "scaffold_15\t1791039\t0.748940295946 - p = 0.0037\n",
      "scaffold_15\t2132467\t0.792934340614 - p = 0.0393\n",
      "scaffold_15\t4369348\t0.689492396995 - p = 0.0416\n",
      "processing scaffold_150\n",
      "processing scaffold_154\n",
      "processing scaffold_156\n",
      "processing scaffold_157\n",
      "processing scaffold_158\n",
      "processing scaffold_159\n",
      "scaffold_159\t594470\t0.958218822802 - p = 0.0059\n",
      "scaffold_159\t711299\t0.953918458719 - p = 0.0065\n",
      "scaffold_159\t1410408\t0.92454233543 - p = 0.0201\n",
      "processing scaffold_16\n",
      "scaffold_16\t865775\t0.951463600882 - p = 0.0425\n",
      "scaffold_16\t1906413\t0.681327734026 - p = 0.05\n",
      "scaffold_16\t5607716\t0.963634841585 - p = 0.0013\n",
      "scaffold_16\t5632891\t0.880035558866 - p = 0.0096\n",
      "processing scaffold_160\n",
      "processing scaffold_161\n",
      "processing scaffold_1616\n",
      "scaffold_1616\t1361\t0.966286271848 - p = 0.0319\n",
      "processing scaffold_162\n",
      "scaffold_162\t162253\t0.691524617025 - p = 0.0292\n",
      "scaffold_162\t1268349\t0.650421085162 - p = 0.0337\n",
      "scaffold_162\t1284513\t0.677267523585 - p = 0.0194\n",
      "scaffold_162\t1301107\t0.736184089516 - p = 0.0086\n",
      "processing scaffold_163\n",
      "scaffold_163\t1226315\t0.948531335276 - p = 0.0075\n",
      "processing scaffold_164\n",
      "scaffold_164\t91577\t0.793614210029 - p = 0.0331\n",
      "processing scaffold_167\n",
      "scaffold_167\t70588\t0.871816079138 - p = 0.0017\n",
      "scaffold_167\t79612\t0.820322199158 - p = 0.0085\n",
      "scaffold_167\t157645\t0.782961496349 - p = 0.005\n",
      "scaffold_167\t157760\t0.830844930682 - p = 0.0011\n",
      "scaffold_167\t256610\t0.828668274214 - p = 0.0071\n",
      "processing scaffold_168\n",
      "scaffold_168\t945358\t0.831520838938 - p = 0.0119\n",
      "scaffold_168\t1235466\t0.855413937266 - p = 0.0214\n",
      "processing scaffold_17\n",
      "scaffold_17\t257753\t0.818519793406 - p = 0.0179\n",
      "scaffold_17\t1975612\t0.784588642828 - p = 0.0334\n",
      "scaffold_17\t2538305\t0.754635924297 - p = 0.041\n",
      "scaffold_17\t4815598\t0.703677360965 - p = 0.0235\n",
      "scaffold_17\t4893385\t0.714793267899 - p = 0.0252\n",
      "processing scaffold_171\n",
      "scaffold_171\t199108\t0.69614154234 - p = 0.0421\n",
      "processing scaffold_172\n",
      "processing scaffold_174\n",
      "scaffold_174\t404072\t0.814960333493 - p = 0.0017\n",
      "scaffold_174\t406499\t0.801822139114 - p = 0.0023\n",
      "scaffold_174\t451897\t0.801875161861 - p = 0.0037\n",
      "scaffold_174\t465116\t0.844390562944 - p = 0.0006\n",
      "scaffold_174\t1098924\t0.747819947437 - p = 0.0273\n",
      "processing scaffold_177\n",
      "scaffold_177\t80436\t0.769009709376 - p = 0.0291\n",
      "processing scaffold_180\n",
      "scaffold_180\t1118361\t0.986246394027 - p = 0.015\n",
      "processing scaffold_184\n",
      "scaffold_184\t28943\t0.717013743754 - p = 0.0338\n",
      "scaffold_184\t625522\t0.661770063616 - p = 0.0249\n",
      "scaffold_184\t642350\t0.662186477764 - p = 0.0223\n",
      "scaffold_184\t642444\t0.657902277606 - p = 0.0264\n",
      "scaffold_184\t733101\t0.708102164196 - p = 0.0116\n",
      "scaffold_184\t951862\t0.706738302755 - p = 0.0188\n",
      "scaffold_184\t1038260\t0.808330656079 - p = 0.0044\n",
      "scaffold_184\t1118226\t0.786897213068 - p = 0.0413\n",
      "processing scaffold_185\n",
      "scaffold_185\t904977\t0.812401249794 - p = 0.0266\n",
      "scaffold_185\t969409\t0.754986981112 - p = 0.0229\n",
      "processing scaffold_186\n",
      "processing scaffold_189\n",
      "scaffold_189\t502946\t0.836538129439 - p = 0.0054\n",
      "scaffold_189\t503187\t0.835774954633 - p = 0.0058\n",
      "processing scaffold_19\n",
      "scaffold_19\t3319855\t0.689870505098 - p = 0.0481\n",
      "processing scaffold_190\n",
      "scaffold_190\t636891\t0.988681486509 - p = 0.0102\n",
      "processing scaffold_191\n",
      "scaffold_191\t786731\t0.715122537766 - p = 0.0479\n",
      "processing scaffold_192\n",
      "processing scaffold_193\n",
      "scaffold_193\t504998\t0.69023859399 - p = 0.0133\n",
      "scaffold_193\t533063\t0.676978362055 - p = 0.0183\n",
      "scaffold_193\t537410\t0.682705871561 - p = 0.0178\n",
      "scaffold_193\t552836\t0.683826256746 - p = 0.0188\n",
      "scaffold_193\t579879\t0.69530686936 - p = 0.0124\n",
      "processing scaffold_194\n",
      "processing scaffold_197\n",
      "scaffold_197\t29498\t0.867938029843 - p = 0.0089\n",
      "scaffold_197\t125383\t0.888481501931 - p = 0.0\n",
      "scaffold_197\t143069\t0.895957176075 - p = 0.0\n",
      "scaffold_197\t150472\t0.895789438299 - p = 0.0\n",
      "scaffold_197\t204900\t0.80298394985 - p = 0.0001\n",
      "scaffold_197\t205101\t0.841951834098 - p = 0.0\n",
      "scaffold_197\t212070\t0.861990199433 - p = 0.0\n",
      "scaffold_197\t261749\t0.706382672712 - p = 0.0156\n",
      "scaffold_197\t261801\t0.838163751985 - p = 0.0\n",
      "scaffold_197\t353220\t0.80531606012 - p = 0.0049\n",
      "scaffold_197\t389207\t0.883718806447 - p = 0.0056\n",
      "processing scaffold_2\n",
      "scaffold_2\t203756\t0.773768420187 - p = 0.0244\n",
      "scaffold_2\t1193926\t0.780938128053 - p = 0.0471\n",
      "scaffold_2\t1272988\t0.830024240789 - p = 0.0213\n",
      "scaffold_2\t4083295\t0.828792625541 - p = 0.049\n",
      "scaffold_2\t6656517\t0.798306974312 - p = 0.0229\n",
      "scaffold_2\t6846075\t0.832718578927 - p = 0.0206\n",
      "scaffold_2\t9161690\t0.723033523796 - p = 0.0292\n",
      "scaffold_2\t9243906\t0.846979041779 - p = 0.0136\n",
      "scaffold_2\t10676913\t0.846874373364 - p = 0.0266\n",
      "scaffold_2\t11429421\t0.771423749509 - p = 0.0395\n",
      "scaffold_2\t13641798\t0.784072453735 - p = 0.0368\n",
      "processing scaffold_20\n",
      "scaffold_20\t1587208\t0.710291051068 - p = 0.0272\n",
      "scaffold_20\t3866661\t0.8693408288 - p = 0.0045\n",
      "scaffold_20\t3866738\t0.876797786238 - p = 0.0034\n",
      "processing scaffold_200\n",
      "scaffold_200\t109216\t0.762702858262 - p = 0.0185\n",
      "processing scaffold_201\n",
      "scaffold_201\t54947\t0.846517185417 - p = 0.0029\n",
      "scaffold_201\t126503\t0.75867863835 - p = 0.0067\n",
      "scaffold_201\t143919\t0.705128928237 - p = 0.0227\n",
      "scaffold_201\t159882\t0.686613935981 - p = 0.0425\n",
      "scaffold_201\t190790\t0.705512893839 - p = 0.0258\n",
      "processing scaffold_203\n",
      "scaffold_203\t136120\t0.809029927472 - p = 0.0068\n",
      "scaffold_203\t246620\t0.870351027042 - p = 0.0005\n",
      "scaffold_203\t270170\t0.742049214898 - p = 0.0318\n",
      "scaffold_203\t270239\t0.8909103025 - p = 0.0001\n",
      "scaffold_203\t275712\t0.890347903762 - p = 0.0006\n",
      "processing scaffold_205\n",
      "processing scaffold_207\n",
      "scaffold_207\t1935\t0.754730349112 - p = 0.0298\n",
      "scaffold_207\t115019\t0.782993951429 - p = 0.0015\n",
      "scaffold_207\t150710\t0.796414764724 - p = 0.0008\n",
      "scaffold_207\t170978\t0.791861480704 - p = 0.0008\n",
      "scaffold_207\t172156\t0.801390851513 - p = 0.0002\n",
      "scaffold_207\t271754\t0.795115436192 - p = 0.0003\n",
      "scaffold_207\t290646\t0.696112589518 - p = 0.0164\n",
      "scaffold_207\t298989\t0.706444459295 - p = 0.0141\n",
      "scaffold_207\t305265\t0.681555371467 - p = 0.0303\n",
      "scaffold_207\t338410\t0.666513567255 - p = 0.0382\n",
      "scaffold_207\t366524\t0.710839692531 - p = 0.0069\n",
      "scaffold_207\t409357\t0.703999121689 - p = 0.0108\n",
      "scaffold_207\t500571\t0.69895296158 - p = 0.0213\n",
      "scaffold_207\t627792\t0.786521358509 - p = 0.0202\n",
      "scaffold_207\t634101\t0.761411918632 - p = 0.034\n",
      "processing scaffold_209\n",
      "scaffold_209\t72741\t0.693438474827 - p = 0.0434\n",
      "processing scaffold_21\n",
      "scaffold_21\t3250318\t0.758861286363 - p = 0.0372\n",
      "processing scaffold_210\n",
      "processing scaffold_211\n",
      "processing scaffold_212\n",
      "scaffold_212\t41256\t0.959803224961 - p = 0.0049\n",
      "scaffold_212\t153588\t0.971586151252 - p = 0.0001\n",
      "scaffold_212\t213406\t0.91214823125 - p = 0.0052\n",
      "scaffold_212\t515203\t0.709055069969 - p = 0.0221\n",
      "scaffold_212\t552532\t0.729654850423 - p = 0.0232\n",
      "scaffold_212\t553224\t0.726350436859 - p = 0.0232\n",
      "processing scaffold_215\n",
      "scaffold_215\t135282\t0.954615452654 - p = 0.0\n",
      "scaffold_215\t174157\t0.904254051792 - p = 0.0002\n",
      "scaffold_215\t176038\t0.906101849374 - p = 0.0\n",
      "scaffold_215\t260009\t0.743534251495 - p = 0.0084\n",
      "scaffold_215\t260105\t0.782584339989 - p = 0.0022\n",
      "scaffold_215\t576905\t0.859731344844 - p = 0.0057\n",
      "scaffold_215\t615107\t0.849280845825 - p = 0.003\n",
      "scaffold_215\t706922\t0.745631294015 - p = 0.0391\n",
      "processing scaffold_218\n",
      "scaffold_218\t542722\t0.731196276879 - p = 0.0187\n",
      "scaffold_218\t621240\t0.730521871872 - p = 0.0167\n",
      "scaffold_218\t635020\t0.802141924993 - p = 0.0022\n",
      "scaffold_218\t635114\t0.793121517078 - p = 0.0034\n",
      "scaffold_218\t639747\t0.805795988256 - p = 0.0028\n",
      "processing scaffold_219\n",
      "scaffold_219\t806\t0.981316346819 - p = 0.0\n",
      "scaffold_219\t11670\t0.983444071196 - p = 0.0\n",
      "scaffold_219\t105700\t0.944399137062 - p = 0.0\n",
      "scaffold_219\t126399\t0.854087922451 - p = 0.0005\n",
      "scaffold_219\t200631\t0.733385869039 - p = 0.0038\n",
      "scaffold_219\t240878\t0.709138230881 - p = 0.0133\n",
      "processing scaffold_22\n",
      "scaffold_22\t909531\t0.949732733752 - p = 0.0486\n",
      "scaffold_22\t3536289\t0.677492770426 - p = 0.0355\n",
      "scaffold_22\t3553469\t0.651901732878 - p = 0.046\n",
      "processing scaffold_220\n",
      "scaffold_220\t569365\t0.659989525371 - p = 0.0492\n",
      "processing scaffold_221\n",
      "scaffold_221\t368419\t0.864753428266 - p = 0.0221\n",
      "processing scaffold_227\n",
      "scaffold_227\t140509\t0.971450292571 - p = 0.002\n",
      "scaffold_227\t206676\t0.93635828516 - p = 0.0013\n",
      "processing scaffold_229\n",
      "scaffold_229\t186566\t0.910569477967 - p = 0.0299\n",
      "scaffold_229\t294348\t0.964248102212 - p = 0.0042\n",
      "processing scaffold_23\n",
      "scaffold_23\t27805\t0.989076022399 - p = 0.0101\n",
      "scaffold_23\t6086778\t0.860161469867 - p = 0.0399\n",
      "processing scaffold_232\n",
      "processing scaffold_233\n",
      "scaffold_233\t353358\t0.78220382889 - p = 0.0339\n",
      "processing scaffold_237\n",
      "processing scaffold_24\n",
      "scaffold_24\t225058\t0.856959684604 - p = 0.0365\n",
      "scaffold_24\t4760285\t0.906258693729 - p = 0.0065\n",
      "processing scaffold_240\n",
      "processing scaffold_242\n",
      "scaffold_242\t261383\t0.999461225182 - p = 0.0004\n",
      "processing scaffold_243\n",
      "scaffold_243\t248595\t0.86363245344 - p = 0.0083\n",
      "scaffold_243\t324540\t0.856502025151 - p = 0.0069\n",
      "processing scaffold_244\n",
      "scaffold_244\t651101\t0.867219067677 - p = 0.0293\n",
      "processing scaffold_249\n",
      "processing scaffold_25\n",
      "scaffold_25\t1307351\t0.687222992969 - p = 0.0157\n",
      "scaffold_25\t5589778\t0.67085142022 - p = 0.0419\n",
      "scaffold_25\t5640975\t0.710289220826 - p = 0.0247\n",
      "processing scaffold_251\n",
      "processing scaffold_253\n",
      "scaffold_253\t625312\t0.783531079525 - p = 0.0323\n",
      "scaffold_253\t646677\t0.813230622511 - p = 0.0292\n",
      "processing scaffold_254\n",
      "processing scaffold_255\n",
      "processing scaffold_258\n",
      "scaffold_258\t42438\t0.756298721578 - p = 0.0248\n",
      "scaffold_258\t335636\t0.915183188634 - p = 0.0065\n",
      "scaffold_258\t454546\t0.79553057073 - p = 0.0262\n",
      "processing scaffold_26\n",
      "scaffold_26\t531752\t0.747879633509 - p = 0.0241\n",
      "processing scaffold_262\n",
      "scaffold_262\t328731\t0.882450963508 - p = 0.0125\n",
      "processing scaffold_264\n",
      "scaffold_264\t409491\t0.962221657964 - p = 0.0003\n",
      "scaffold_264\t445478\t0.886280747554 - p = 0.0036\n",
      "processing scaffold_267\n",
      "scaffold_267\t76845\t0.845252930044 - p = 0.0257\n",
      "scaffold_267\t289328\t0.736324498448 - p = 0.0288\n",
      "scaffold_267\t295934\t0.821575327748 - p = 0.0058\n",
      "scaffold_267\t339936\t0.785546087985 - p = 0.0171\n",
      "scaffold_267\t372013\t0.841276666269 - p = 0.0043\n",
      "processing scaffold_269\n",
      "scaffold_269\t510533\t0.967304428984 - p = 0.0299\n",
      "processing scaffold_27\n",
      "scaffold_27\t1048418\t0.690152117078 - p = 0.0423\n",
      "scaffold_27\t1641271\t0.922201031864 - p = 0.0019\n",
      "scaffold_27\t1710657\t0.918267592263 - p = 0.0019\n",
      "scaffold_27\t1710793\t0.846002612934 - p = 0.0117\n",
      "scaffold_27\t1899389\t0.953296283726 - p = 0.0446\n",
      "scaffold_27\t4421948\t0.91546007225 - p = 0.0145\n",
      "processing scaffold_271\n",
      "processing scaffold_275\n",
      "scaffold_275\t338724\t0.720582783412 - p = 0.0405\n",
      "processing scaffold_276\n",
      "scaffold_276\t49879\t0.672995610764 - p = 0.0437\n",
      "scaffold_276\t85087\t0.717449385093 - p = 0.0038\n",
      "scaffold_276\t91904\t0.719303798204 - p = 0.0038\n",
      "scaffold_276\t133647\t0.685316169144 - p = 0.0044\n",
      "scaffold_276\t199826\t0.708611760298 - p = 0.0017\n",
      "scaffold_276\t199880\t0.661256580414 - p = 0.0182\n",
      "scaffold_276\t214640\t0.687362717971 - p = 0.0059\n",
      "scaffold_276\t214768\t0.720721013153 - p = 0.0016\n",
      "scaffold_276\t225222\t0.695668467927 - p = 0.0026\n",
      "scaffold_276\t225276\t0.639256234493 - p = 0.0237\n",
      "scaffold_276\t238981\t0.685803204455 - p = 0.0048\n",
      "scaffold_276\t278471\t0.676571930179 - p = 0.0041\n",
      "scaffold_276\t283232\t0.634680094037 - p = 0.0245\n",
      "scaffold_276\t305941\t0.673427025383 - p = 0.0043\n",
      "scaffold_276\t318088\t0.637701062638 - p = 0.0191\n",
      "scaffold_276\t371246\t0.658599078654 - p = 0.0155\n",
      "scaffold_276\t374392\t0.645895531233 - p = 0.0253\n",
      "processing scaffold_282\n",
      "scaffold_282\t494639\t0.873466077002 - p = 0.012\n",
      "processing scaffold_284\n",
      "scaffold_284\t455986\t0.787673348975 - p = 0.042\n",
      "scaffold_284\t480958\t0.862387072125 - p = 0.0092\n",
      "processing scaffold_285\n",
      "processing scaffold_286\n",
      "processing scaffold_29\n",
      "scaffold_29\t10035\t0.728339379505 - p = 0.0164\n",
      "scaffold_29\t10169\t0.714872950877 - p = 0.0241\n",
      "scaffold_29\t431456\t0.726439082884 - p = 0.0087\n",
      "scaffold_29\t441477\t0.698844678404 - p = 0.0206\n",
      "scaffold_29\t495219\t0.703594570609 - p = 0.017\n",
      "scaffold_29\t839974\t0.86145749246 - p = 0.0309\n",
      "scaffold_29\t1556891\t0.978999495761 - p = 0.0017\n",
      "scaffold_29\t1759516\t0.996440910013 - p = 0.0\n",
      "scaffold_29\t1854798\t0.998438608059 - p = 0.0\n",
      "scaffold_29\t3543123\t0.935538623615 - p = 0.0137\n",
      "scaffold_29\t3739316\t0.754687555149 - p = 0.0352\n",
      "scaffold_29\t3804711\t0.816500350335 - p = 0.0271\n",
      "scaffold_29\t4059449\t0.72688428987 - p = 0.0174\n",
      "scaffold_29\t4080686\t0.739077572635 - p = 0.0118\n",
      "scaffold_29\t4104679\t0.751610130557 - p = 0.0066\n",
      "scaffold_29\t4133190\t0.757381012782 - p = 0.0044\n",
      "processing scaffold_292\n",
      "scaffold_292\t437500\t0.965874766672 - p = 0.0304\n",
      "processing scaffold_3\n",
      "scaffold_3\t4136307\t0.775617536975 - p = 0.0474\n",
      "scaffold_3\t6467617\t0.799208313501 - p = 0.0141\n",
      "scaffold_3\t6501562\t0.832548452361 - p = 0.0038\n",
      "scaffold_3\t7549997\t0.663180427889 - p = 0.0462\n",
      "scaffold_3\t7569760\t0.682734708659 - p = 0.0484\n",
      "scaffold_3\t7613595\t0.778574721939 - p = 0.0094\n",
      "scaffold_3\t7613659\t0.77137590929 - p = 0.0086\n",
      "scaffold_3\t10415273\t0.756141963637 - p = 0.0145\n",
      "scaffold_3\t10508087\t0.779743842196 - p = 0.0153\n",
      "scaffold_3\t10744702\t0.708832146876 - p = 0.0386\n",
      "scaffold_3\t12951991\t0.811169502402 - p = 0.0396\n",
      "scaffold_3\t13405584\t0.758575290045 - p = 0.0177\n",
      "scaffold_3\t13412754\t0.7584849342 - p = 0.0184\n",
      "scaffold_3\t13535509\t0.805287163274 - p = 0.0287\n",
      "processing scaffold_30\n",
      "scaffold_30\t425687\t0.790141836327 - p = 0.0434\n",
      "scaffold_30\t1849750\t0.833234774469 - p = 0.0047\n",
      "scaffold_30\t1861778\t0.795249178539 - p = 0.0182\n",
      "scaffold_30\t1987332\t0.878363244079 - p = 0.0022\n",
      "scaffold_30\t1987508\t0.889072431099 - p = 0.0015\n",
      "scaffold_30\t5054467\t0.791399952299 - p = 0.0162\n",
      "scaffold_30\t5060668\t0.748675979233 - p = 0.0439\n",
      "scaffold_30\t5106595\t0.779989758478 - p = 0.0132\n",
      "processing scaffold_308\n",
      "processing scaffold_31\n",
      "scaffold_31\t5440635\t0.944968606822 - p = 0.0488\n",
      "processing scaffold_314\n",
      "scaffold_314\t7633\t0.868697170896 - p = 0.0024\n",
      "scaffold_314\t7769\t0.874179963919 - p = 0.0021\n",
      "scaffold_314\t19523\t0.831939473642 - p = 0.0042\n",
      "scaffold_314\t160510\t0.706437728999 - p = 0.029\n",
      "scaffold_314\t181610\t0.762922694203 - p = 0.0088\n",
      "scaffold_314\t181706\t0.75456265328 - p = 0.0096\n",
      "scaffold_314\t220165\t0.70066268832 - p = 0.0187\n",
      "processing scaffold_315\n",
      "processing scaffold_32\n",
      "scaffold_32\t5228148\t0.949775156966 - p = 0.0487\n",
      "processing scaffold_33\n",
      "scaffold_33\t3543445\t0.783898722909 - p = 0.0455\n",
      "processing scaffold_332\n",
      "processing scaffold_338\n",
      "scaffold_338\t252902\t0.868251728117 - p = 0.0287\n",
      "processing scaffold_34\n",
      "scaffold_34\t681945\t0.777103147986 - p = 0.0054\n",
      "scaffold_34\t682017\t0.757824214065 - p = 0.0119\n",
      "scaffold_34\t741373\t0.672866049707 - p = 0.035\n",
      "scaffold_34\t741442\t0.663463777643 - p = 0.0449\n",
      "scaffold_34\t1255334\t0.781531912773 - p = 0.023\n",
      "scaffold_34\t1337994\t0.722761919543 - p = 0.0317\n",
      "scaffold_34\t1391854\t0.723458222319 - p = 0.0495\n",
      "scaffold_34\t3675286\t0.883981206639 - p = 0.0232\n",
      "processing scaffold_344\n",
      "scaffold_344\t7389\t0.991578992024 - p = 0.0074\n",
      "processing scaffold_346\n",
      "processing scaffold_347\n",
      "processing scaffold_349\n",
      "scaffold_349\t72330\t0.973345494655 - p = 0.0245\n",
      "processing scaffold_35\n",
      "scaffold_35\t321088\t0.669220587748 - p = 0.022\n",
      "scaffold_35\t326543\t0.649412039688 - p = 0.0373\n",
      "scaffold_35\t369793\t0.731612624507 - p = 0.0171\n",
      "scaffold_35\t392902\t0.775751124309 - p = 0.0033\n",
      "scaffold_35\t408717\t0.777774711908 - p = 0.0027\n",
      "scaffold_35\t470944\t0.792512363107 - p = 0.0077\n",
      "scaffold_35\t847875\t0.687407219909 - p = 0.0131\n",
      "scaffold_35\t847953\t0.652391760518 - p = 0.0391\n",
      "scaffold_35\t883764\t0.713776202712 - p = 0.0033\n",
      "scaffold_35\t889482\t0.644965479579 - p = 0.0352\n",
      "scaffold_35\t894513\t0.718459053514 - p = 0.0038\n",
      "scaffold_35\t911097\t0.634553934647 - p = 0.0485\n",
      "scaffold_35\t920242\t0.741966572729 - p = 0.0008\n",
      "scaffold_35\t960753\t0.731399870347 - p = 0.0018\n",
      "scaffold_35\t1018361\t0.695027575432 - p = 0.0175\n",
      "scaffold_35\t3471778\t0.894303665341 - p = 0.0099\n",
      "scaffold_35\t3549396\t0.737751138895 - p = 0.0399\n",
      "processing scaffold_351\n",
      "scaffold_351\t158129\t0.699996024937 - p = 0.0196\n",
      "scaffold_351\t165535\t0.684069291124 - p = 0.0309\n",
      "scaffold_351\t227132\t0.688277858155 - p = 0.0397\n",
      "processing scaffold_36\n",
      "processing scaffold_361\n",
      "processing scaffold_37\n",
      "scaffold_37\t1763722\t0.777613229812 - p = 0.0475\n",
      "scaffold_37\t1763764\t0.788220848156 - p = 0.0408\n",
      "scaffold_37\t4181000\t0.806124340516 - p = 0.0413\n",
      "scaffold_37\t4345681\t0.683929575854 - p = 0.0369\n",
      "scaffold_37\t4442120\t0.691620895899 - p = 0.0433\n",
      "scaffold_37\t5073832\t0.870143635623 - p = 0.0277\n",
      "processing scaffold_38\n",
      "scaffold_38\t1579211\t0.828405553279 - p = 0.0206\n",
      "scaffold_38\t2734841\t0.875139512299 - p = 0.0093\n",
      "scaffold_38\t4252011\t0.768612532424 - p = 0.0454\n",
      "processing scaffold_387\n",
      "processing scaffold_388\n",
      "scaffold_388\t112894\t0.769261805954 - p = 0.0293\n",
      "scaffold_388\t131792\t0.754088198572 - p = 0.0343\n",
      "processing scaffold_39\n",
      "scaffold_39\t1141784\t0.901710684491 - p = 0.0009\n",
      "scaffold_39\t1250171\t0.769351228026 - p = 0.0453\n",
      "scaffold_39\t1277431\t0.835589590877 - p = 0.011\n",
      "scaffold_39\t1673547\t0.692173658206 - p = 0.0377\n",
      "scaffold_39\t1688054\t0.696719109535 - p = 0.029\n",
      "scaffold_39\t1771937\t0.864636402801 - p = 0.0005\n",
      "scaffold_39\t1814976\t0.93924675849 - p = 0.0001\n",
      "scaffold_39\t1815035\t0.912115798081 - p = 0.0003\n",
      "scaffold_39\t2072806\t0.657631685259 - p = 0.0252\n",
      "scaffold_39\t2123769\t0.62145923867 - p = 0.0462\n",
      "scaffold_39\t2127729\t0.648748707358 - p = 0.0147\n",
      "scaffold_39\t2127806\t0.648683781017 - p = 0.015\n",
      "scaffold_39\t2189321\t0.623195880739 - p = 0.0446\n",
      "scaffold_39\t2193278\t0.626448191366 - p = 0.0364\n",
      "scaffold_39\t3444196\t0.72737377908 - p = 0.0406\n",
      "scaffold_39\t3913450\t0.774449191577 - p = 0.0252\n",
      "processing scaffold_4\n",
      "scaffold_4\t9534304\t0.768997037084 - p = 0.0103\n",
      "scaffold_4\t9545275\t0.738354948627 - p = 0.0153\n",
      "scaffold_4\t9545388\t0.746415996574 - p = 0.0159\n",
      "processing scaffold_404\n",
      "processing scaffold_41\n",
      "scaffold_41\t248454\t0.786107288992 - p = 0.0366\n",
      "scaffold_41\t1677447\t0.764539542616 - p = 0.0161\n",
      "scaffold_41\t2330820\t0.728684680047 - p = 0.0481\n",
      "scaffold_41\t2721690\t0.861362236222 - p = 0.0189\n",
      "scaffold_41\t2950619\t0.747592482721 - p = 0.0313\n",
      "scaffold_41\t4503583\t0.861990131806 - p = 0.0324\n",
      "processing scaffold_412\n",
      "scaffold_412\t146778\t0.807536357728 - p = 0.0284\n",
      "scaffold_412\t146826\t0.792714119103 - p = 0.0367\n",
      "processing scaffold_42\n",
      "scaffold_42\t85977\t0.873972831075 - p = 0.0133\n",
      "processing scaffold_43\n",
      "scaffold_43\t3287918\t0.833400170857 - p = 0.0032\n",
      "scaffold_43\t3316659\t0.871758223692 - p = 0.0026\n",
      "scaffold_43\t3316800\t0.841189198655 - p = 0.0036\n",
      "scaffold_43\t3332565\t0.880656130062 - p = 0.0016\n",
      "processing scaffold_44\n",
      "scaffold_44\t234576\t0.913997090591 - p = 0.0058\n",
      "scaffold_44\t2687074\t0.700429433166 - p = 0.0078\n",
      "scaffold_44\t2687215\t0.70512526991 - p = 0.0057\n",
      "scaffold_44\t2691398\t0.658276889831 - p = 0.0301\n",
      "scaffold_44\t2691477\t0.70745093099 - p = 0.0074\n",
      "scaffold_44\t2715932\t0.70397671189 - p = 0.0089\n",
      "scaffold_44\t2724350\t0.711444572284 - p = 0.0071\n",
      "scaffold_44\t4211676\t0.73836460951 - p = 0.0369\n",
      "scaffold_44\t4250339\t0.737010651615 - p = 0.032\n",
      "scaffold_44\t4356859\t0.883622382396 - p = 0.0092\n",
      "processing scaffold_447\n",
      "scaffold_447\t60166\t0.798905647948 - p = 0.0335\n",
      "scaffold_447\t81764\t0.908655719601 - p = 0.002\n",
      "scaffold_447\t86899\t0.902242637202 - p = 0.0037\n",
      "processing scaffold_45\n",
      "scaffold_45\t197789\t0.664639636795 - p = 0.0378\n",
      "scaffold_45\t209434\t0.674622762144 - p = 0.0234\n",
      "scaffold_45\t223764\t0.724239484562 - p = 0.0033\n",
      "scaffold_45\t242116\t0.68163993901 - p = 0.0219\n",
      "scaffold_45\t242716\t0.695053156733 - p = 0.0135\n",
      "scaffold_45\t286325\t0.681727161515 - p = 0.0112\n",
      "scaffold_45\t306239\t0.746050088032 - p = 0.0009\n",
      "scaffold_45\t357477\t0.784849713328 - p = 0.0003\n",
      "scaffold_45\t359054\t0.677731605873 - p = 0.0137\n",
      "scaffold_45\t384978\t0.759023678127 - p = 0.0003\n",
      "scaffold_45\t393141\t0.777684896884 - p = 0.0004\n",
      "scaffold_45\t406192\t0.753076198727 - p = 0.0009\n",
      "scaffold_45\t454980\t0.72870911537 - p = 0.0016\n",
      "scaffold_45\t472454\t0.760554553766 - p = 0.001\n",
      "scaffold_45\t472546\t0.663513581808 - p = 0.0312\n",
      "scaffold_45\t637328\t0.731825755853 - p = 0.0258\n",
      "scaffold_45\t2650598\t0.824302971531 - p = 0.0361\n",
      "scaffold_45\t4213863\t0.937041601459 - p = 0.0137\n",
      "processing scaffold_450\n",
      "processing scaffold_46\n",
      "scaffold_46\t1468110\t0.738733017035 - p = 0.0277\n",
      "scaffold_46\t1475608\t0.738267013493 - p = 0.026\n",
      "scaffold_46\t1496355\t0.775831317021 - p = 0.0059\n",
      "scaffold_46\t1549115\t0.718243406914 - p = 0.011\n",
      "scaffold_46\t1549235\t0.721316797743 - p = 0.0089\n",
      "processing scaffold_47\n",
      "scaffold_47\t3294306\t0.722449629144 - p = 0.0459\n",
      "processing scaffold_48\n",
      "scaffold_48\t102744\t0.882394006294 - p = 0.0247\n",
      "scaffold_48\t442068\t0.822508975152 - p = 0.0021\n",
      "scaffold_48\t451329\t0.778600703621 - p = 0.0156\n",
      "scaffold_48\t475828\t0.764534837936 - p = 0.0174\n",
      "scaffold_48\t2073968\t0.776678427272 - p = 0.0128\n",
      "scaffold_48\t2117426\t0.877556666236 - p = 0.0015\n",
      "scaffold_48\t2514170\t0.756523466567 - p = 0.0269\n",
      "scaffold_48\t2575885\t0.809135789385 - p = 0.0024\n",
      "scaffold_48\t2642899\t0.859853258856 - p = 0.0017\n",
      "scaffold_48\t2674369\t0.836222443531 - p = 0.006\n",
      "scaffold_48\t4259792\t0.812016136046 - p = 0.0243\n",
      "scaffold_48\t4306093\t0.77939608744 - p = 0.0449\n",
      "processing scaffold_5\n",
      "scaffold_5\t4388812\t0.737475986561 - p = 0.0146\n",
      "scaffold_5\t4392301\t0.713414878059 - p = 0.0298\n",
      "scaffold_5\t4429338\t0.718193294933 - p = 0.0181\n",
      "scaffold_5\t8253596\t0.928195075687 - p = 0.0185\n",
      "scaffold_5\t8354467\t0.772669667422 - p = 0.0391\n",
      "scaffold_5\t8452150\t0.774974634526 - p = 0.039\n",
      "scaffold_5\t10262685\t0.743107435925 - p = 0.043\n",
      "scaffold_5\t11329155\t0.663157406789 - p = 0.0422\n",
      "scaffold_5\t11344946\t0.670605431598 - p = 0.0382\n",
      "processing scaffold_50\n",
      "scaffold_50\t3392122\t0.796412387176 - p = 0.0304\n",
      "scaffold_50\t3479567\t0.787793775594 - p = 0.0413\n",
      "scaffold_50\t3702547\t0.880092537286 - p = 0.0001\n",
      "scaffold_50\t3704096\t0.867329399015 - p = 0.0001\n",
      "scaffold_50\t3728274\t0.869450578868 - p = 0.0002\n",
      "scaffold_50\t3736371\t0.779043964392 - p = 0.0036\n",
      "scaffold_50\t3755494\t0.826639924919 - p = 0.0\n",
      "scaffold_50\t3773542\t0.85412810787 - p = 0.0003\n",
      "scaffold_50\t3840566\t0.746901877829 - p = 0.0256\n",
      "processing scaffold_501\n",
      "scaffold_501\t1716\t0.981741048702 - p = 0.0192\n",
      "processing scaffold_51\n",
      "processing scaffold_52\n",
      "processing scaffold_53\n",
      "scaffold_53\t3345970\t0.974717428153 - p = 0.0016\n",
      "scaffold_53\t3421361\t0.932710876615 - p = 0.0088\n",
      "scaffold_53\t3927324\t0.982445274054 - p = 0.018\n",
      "processing scaffold_55\n",
      "scaffold_55\t1971203\t0.710809886876 - p = 0.0303\n",
      "scaffold_55\t2064704\t0.676375515885 - p = 0.0448\n",
      "processing scaffold_56\n",
      "scaffold_56\t514376\t0.747623073304 - p = 0.0435\n",
      "scaffold_56\t2031637\t0.924727971549 - p = 0.0208\n",
      "processing scaffold_57\n",
      "scaffold_57\t724166\t0.767867040902 - p = 0.0499\n",
      "scaffold_57\t1084251\t0.850124173944 - p = 0.0264\n",
      "scaffold_57\t1723684\t0.794094614749 - p = 0.033\n",
      "scaffold_57\t1869889\t0.812577847037 - p = 0.039\n",
      "processing scaffold_58\n",
      "scaffold_58\t705660\t0.712840691112 - p = 0.0272\n",
      "scaffold_58\t850833\t0.751225815971 - p = 0.0255\n",
      "scaffold_58\t942817\t0.859980470335 - p = 0.0069\n",
      "scaffold_58\t2167775\t0.720654506417 - p = 0.0161\n",
      "scaffold_58\t3394394\t0.774585543359 - p = 0.0129\n",
      "processing scaffold_59\n",
      "scaffold_59\t2291062\t0.782037767225 - p = 0.0162\n",
      "scaffold_59\t2717636\t0.801505310697 - p = 0.0331\n",
      "scaffold_59\t2730555\t0.805845838712 - p = 0.0103\n",
      "scaffold_59\t2826424\t0.738086229674 - p = 0.0222\n",
      "processing scaffold_6\n",
      "scaffold_6\t1019099\t0.698461631628 - p = 0.048\n",
      "scaffold_6\t1087996\t0.700959361493 - p = 0.0408\n",
      "processing scaffold_60\n",
      "scaffold_60\t167605\t0.803673927268 - p = 0.022\n",
      "processing scaffold_61\n",
      "scaffold_61\t1640287\t0.743957275654 - p = 0.0362\n",
      "processing scaffold_62\n",
      "scaffold_62\t2613588\t0.868952063299 - p = 0.0341\n",
      "processing scaffold_64\n",
      "processing scaffold_67\n",
      "scaffold_67\t52510\t0.888552724986 - p = 0.0182\n",
      "scaffold_67\t2376665\t0.731790525887 - p = 0.0498\n",
      "scaffold_67\t3100968\t0.771231724277 - p = 0.0487\n",
      "scaffold_67\t3104077\t0.821618683888 - p = 0.0233\n",
      "processing scaffold_69\n",
      "scaffold_69\t325542\t0.723969633074 - p = 0.0496\n",
      "scaffold_69\t744546\t0.988371797047 - p = 0.0119\n",
      "scaffold_69\t973753\t0.790598292356 - p = 0.0384\n",
      "scaffold_69\t2647749\t0.849340672861 - p = 0.0423\n",
      "scaffold_69\t2898655\t0.97439334804 - p = 0.0212\n",
      "processing scaffold_7\n",
      "scaffold_7\t1772649\t0.830075321936 - p = 0.0432\n",
      "scaffold_7\t3766708\t0.814154482648 - p = 0.0438\n",
      "scaffold_7\t4966702\t0.815495913743 - p = 0.0396\n",
      "scaffold_7\t5087552\t0.881970146021 - p = 0.0115\n",
      "scaffold_7\t7293166\t0.727662031481 - p = 0.0374\n",
      "scaffold_7\t7661154\t0.873658203226 - p = 0.0076\n",
      "scaffold_7\t7739906\t0.926454534686 - p = 0.0007\n",
      "processing scaffold_70\n",
      "scaffold_70\t1850755\t0.810526061571 - p = 0.0169\n",
      "processing scaffold_71\n",
      "scaffold_71\t2157615\t0.836792342668 - p = 0.0022\n",
      "scaffold_71\t2183279\t0.869836314712 - p = 0.0005\n",
      "scaffold_71\t2203119\t0.873540855909 - p = 0.0002\n",
      "scaffold_71\t2203778\t0.785415174619 - p = 0.0135\n",
      "processing scaffold_72\n",
      "processing scaffold_74\n",
      "scaffold_74\t788361\t0.833409564748 - p = 0.05\n",
      "scaffold_74\t854903\t0.795817916244 - p = 0.0393\n",
      "scaffold_74\t1136239\t0.766732330719 - p = 0.0428\n",
      "scaffold_74\t2770538\t0.787748276444 - p = 0.0403\n",
      "processing scaffold_749\n",
      "scaffold_749\t12722\t0.86079959148 - p = 0.0327\n",
      "processing scaffold_75\n",
      "scaffold_75\t323729\t0.696252398916 - p = 0.0449\n",
      "scaffold_75\t379337\t0.709084291916 - p = 0.0266\n",
      "scaffold_75\t2205928\t0.722381512939 - p = 0.0221\n",
      "scaffold_75\t2279520\t0.696547594118 - p = 0.0122\n",
      "scaffold_75\t2297123\t0.722936736158 - p = 0.0064\n",
      "scaffold_75\t2317055\t0.681184916566 - p = 0.0257\n",
      "scaffold_75\t2326027\t0.658671693861 - p = 0.0299\n",
      "scaffold_75\t2358790\t0.668865951693 - p = 0.0281\n",
      "processing scaffold_76\n",
      "scaffold_76\t2284971\t0.858913257975 - p = 0.0004\n",
      "scaffold_76\t2285039\t0.831426508337 - p = 0.0017\n",
      "scaffold_76\t2304606\t0.830381353485 - p = 0.0011\n",
      "scaffold_76\t2333525\t0.818564155721 - p = 0.0021\n",
      "scaffold_76\t2349181\t0.824163778643 - p = 0.0017\n",
      "scaffold_76\t2406676\t0.775259441285 - p = 0.0081\n",
      "processing scaffold_77\n",
      "scaffold_77\t474923\t0.724544354621 - p = 0.0124\n",
      "scaffold_77\t517078\t0.687160018889 - p = 0.0145\n",
      "scaffold_77\t566355\t0.688789320576 - p = 0.0076\n",
      "scaffold_77\t566442\t0.684655115915 - p = 0.0101\n",
      "scaffold_77\t1185381\t0.678619619398 - p = 0.0313\n",
      "scaffold_77\t1236825\t0.681971648625 - p = 0.0419\n",
      "scaffold_77\t1925778\t0.729998169848 - p = 0.0337\n",
      "scaffold_77\t1978997\t0.684021089254 - p = 0.04\n",
      "scaffold_77\t2052472\t0.774808582958 - p = 0.0042\n",
      "scaffold_77\t2054706\t0.78382724088 - p = 0.0054\n",
      "scaffold_77\t2054748\t0.723242545958 - p = 0.0234\n",
      "scaffold_77\t2064731\t0.711473119892 - p = 0.0256\n",
      "processing scaffold_78\n",
      "scaffold_78\t163648\t0.805086998344 - p = 0.0209\n",
      "scaffold_78\t249293\t0.689193755669 - p = 0.0337\n",
      "scaffold_78\t1650984\t0.719785482188 - p = 0.0342\n",
      "scaffold_78\t1675279\t0.738107681051 - p = 0.0217\n",
      "scaffold_78\t2044183\t0.956866221018 - p = 0.0052\n",
      "processing scaffold_79\n",
      "scaffold_79\t617197\t0.984971375421 - p = 0.0002\n",
      "scaffold_79\t729207\t0.866930632728 - p = 0.0032\n",
      "processing scaffold_8\n",
      "scaffold_8\t2328792\t0.758733468203 - p = 0.0377\n",
      "scaffold_8\t2380065\t0.820742827305 - p = 0.04\n",
      "scaffold_8\t3904419\t0.773518756798 - p = 0.0276\n",
      "scaffold_8\t3949952\t0.79441481428 - p = 0.0171\n",
      "scaffold_8\t7109114\t0.87114243761 - p = 0.0022\n",
      "scaffold_8\t7183866\t0.86228153168 - p = 0.0033\n",
      "processing scaffold_80\n",
      "scaffold_80\t429607\t0.845895249968 - p = 0.0062\n",
      "scaffold_80\t469459\t0.82061876085 - p = 0.014\n",
      "scaffold_80\t1854828\t0.867919553658 - p = 0.0291\n",
      "processing scaffold_81\n",
      "scaffold_81\t303989\t0.77411784199 - p = 0.0048\n",
      "scaffold_81\t316267\t0.757813615735 - p = 0.0051\n",
      "scaffold_81\t335627\t0.740349587066 - p = 0.0104\n",
      "scaffold_81\t368635\t0.824261120242 - p = 0.0002\n",
      "scaffold_81\t374833\t0.84431807101 - p = 0.0\n",
      "scaffold_81\t450741\t0.86886108572 - p = 0.0003\n",
      "scaffold_81\t450839\t0.816659529142 - p = 0.0019\n",
      "scaffold_81\t516115\t0.754163318854 - p = 0.0428\n",
      "scaffold_81\t2916513\t0.694340316783 - p = 0.0239\n",
      "processing scaffold_82\n",
      "scaffold_82\t649054\t0.942450009481 - p = 0.007\n",
      "scaffold_82\t693294\t0.874638061111 - p = 0.0271\n",
      "scaffold_82\t1187847\t0.800310247885 - p = 0.0223\n",
      "scaffold_82\t1571203\t0.797864039553 - p = 0.0259\n",
      "processing scaffold_83\n",
      "scaffold_83\t1156482\t0.938136142766 - p = 0.0132\n",
      "scaffold_83\t1588166\t0.799819634457 - p = 0.0338\n",
      "processing scaffold_84\n",
      "scaffold_84\t1139901\t0.9559477346 - p = 0.0435\n",
      "processing scaffold_85\n",
      "scaffold_85\t719225\t0.855305384747 - p = 0.0009\n",
      "scaffold_85\t771962\t0.836621825652 - p = 0.0008\n",
      "scaffold_85\t784722\t0.821347751602 - p = 0.0023\n",
      "scaffold_85\t784821\t0.823112993457 - p = 0.0016\n",
      "processing scaffold_86\n",
      "scaffold_86\t1889054\t0.734702029082 - p = 0.0469\n",
      "scaffold_86\t1898257\t0.785116699732 - p = 0.0209\n",
      "processing scaffold_87\n",
      "scaffold_87\t2301618\t0.707330251427 - p = 0.0347\n",
      "scaffold_87\t2371434\t0.767677950403 - p = 0.0041\n",
      "scaffold_87\t2414134\t0.705905335368 - p = 0.0366\n",
      "scaffold_87\t2414166\t0.774766028221 - p = 0.0068\n",
      "scaffold_87\t2539015\t0.79773817461 - p = 0.0099\n",
      "scaffold_87\t2596610\t0.75093401219 - p = 0.0291\n",
      "scaffold_87\t2596653\t0.743026679184 - p = 0.0368\n",
      "processing scaffold_88\n",
      "scaffold_88\t1647237\t0.975538774818 - p = 0.0226\n",
      "scaffold_88\t2388376\t0.726046667531 - p = 0.0178\n",
      "scaffold_88\t2440362\t0.813269861928 - p = 0.003\n",
      "scaffold_88\t2483362\t0.721219879165 - p = 0.0273\n",
      "processing scaffold_89\n",
      "scaffold_89\t1896564\t0.810301764085 - p = 0.0103\n",
      "scaffold_89\t1896640\t0.810136043766 - p = 0.013\n",
      "scaffold_89\t1935723\t0.74964685248 - p = 0.0368\n",
      "scaffold_89\t2261753\t0.724813865436 - p = 0.0227\n",
      "scaffold_89\t2271381\t0.730261432482 - p = 0.0211\n",
      "scaffold_89\t2320024\t0.725868812106 - p = 0.0234\n",
      "scaffold_89\t2591246\t0.7285675941 - p = 0.0426\n",
      "scaffold_89\t2637631\t0.727368257056 - p = 0.0294\n",
      "processing scaffold_9\n",
      "scaffold_9\t658592\t0.773397318775 - p = 0.0474\n",
      "scaffold_9\t2080937\t0.922943224443 - p = 0.0097\n",
      "scaffold_9\t2116778\t0.903503407154 - p = 0.0156\n",
      "scaffold_9\t2312288\t0.867603384727 - p = 0.0309\n",
      "scaffold_9\t3808610\t0.784536621885 - p = 0.0455\n",
      "scaffold_9\t5836168\t0.73392786243 - p = 0.0437\n",
      "scaffold_9\t10301396\t0.79985900546 - p = 0.0366\n",
      "scaffold_9\t10321478\t0.861144603403 - p = 0.0227\n",
      "processing scaffold_90\n",
      "processing scaffold_91\n",
      "scaffold_91\t1019849\t0.988393008654 - p = 0.0111\n",
      "scaffold_91\t2606509\t0.796083643499 - p = 0.036\n",
      "processing scaffold_92\n",
      "scaffold_92\t496234\t0.870011784671 - p = 0.0168\n",
      "scaffold_92\t600452\t0.978002571118 - p = 0.0013\n",
      "scaffold_92\t882845\t0.899528994555 - p = 0.0018\n",
      "scaffold_92\t919384\t0.842527024898 - p = 0.0051\n",
      "scaffold_92\t931074\t0.792052439979 - p = 0.0193\n",
      "scaffold_92\t2105640\t0.703136805708 - p = 0.0451\n",
      "scaffold_92\t2535327\t0.855176524244 - p = 0.0062\n",
      "processing scaffold_93\n",
      "processing scaffold_94\n",
      "scaffold_94\t1604382\t0.727099569182 - p = 0.0362\n",
      "scaffold_94\t1646459\t0.779961670066 - p = 0.0226\n",
      "processing scaffold_96\n",
      "scaffold_96\t1243742\t0.820140018222 - p = 0.014\n",
      "scaffold_96\t1243809\t0.785685807803 - p = 0.0299\n",
      "scaffold_96\t2569738\t0.929119000718 - p = 0.0096\n",
      "processing scaffold_97\n",
      "processing scaffold_98\n",
      "scaffold_98\t1289815\t0.820899903253 - p = 0.0227\n",
      "scaffold_98\t1681428\t0.848553909703 - p = 0.0397\n",
      "scaffold_98\t1681468\t0.920655321589 - p = 0.0102\n",
      "Wrting stats to ./XTX/Diplo_xtx_1M-top-0.95-smoothed_xtx.txt\n"
     ]
    }
   ],
   "source": [
    "#calculate p values for xtx\n",
    "#identifying scaffolds that contain SNPS with ARR >0.95\n",
    "#only bootstrap SNPs on these scaffolds\n",
    "IN = open('XTX/Diplo_xtx_1M_xtx-top-0.95.tsv')\n",
    "scaffolds = []\n",
    "\n",
    "for line in IN:\n",
    "    if not line.startswith('chrom'):\n",
    "            scaffolds.append(line.split(\"\\t\")[0])\n",
    "IN.close()           \n",
    "scaffolds = sorted(list(set(scaffolds)))\n",
    "\n",
    "print \"%i scaffols to process:\\n%s\" %(len(scaffolds),str(scaffolds))\n",
    "\n",
    "QTL.smoothing(dictionary = rank_results, window_size=50000, bootstrap_reps=10000, factor='xtx', \n",
    "              to_smooth='avg_rank_rel', verbose=1, chromos=scaffolds)\n",
    "\n",
    "QTL.write_stats(dictionary=rank_results, \n",
    "            out_columns=['std_rank','avg_rank_rel','avg_rank_rel_smoothed','avg_rank_rel_smoothed_p'], \n",
    "            factor='xtx', \n",
    "            chromos=scaffolds,\n",
    "            prefix = './XTX/Diplo_xtx_1M-top-0.95-smoothed')"
   ]
  },
  {
   "cell_type": "markdown",
   "metadata": {},
   "source": [
    "Extract IDs of tags with ARR > 0.95 and p < 0.005."
   ]
  },
  {
   "cell_type": "code",
   "execution_count": 5,
   "metadata": {
    "collapsed": false
   },
   "outputs": [],
   "source": [
    "%%bash\n",
    "\n",
    "cat XTX/Diplo_xtx_1M-top-0.95-smoothed_xtx.txt | \\\n",
    "perl -ne 'chomp; @a=split(\"\\t\"); if (($a[4] > 0.95) and ($a[-1] < 0.005)){print \"$a[2]\\n\"}' | \\\n",
    "sort -n | uniq > XTX/XTX.candidates.txt"
   ]
  }
 ],
 "metadata": {
  "kernelspec": {
   "display_name": "Python 2",
   "language": "python",
   "name": "python2"
  },
  "language_info": {
   "codemirror_mode": {
    "name": "ipython",
    "version": 2
   },
   "file_extension": ".py",
   "mimetype": "text/x-python",
   "name": "python",
   "nbconvert_exporter": "python",
   "pygments_lexer": "ipython2",
   "version": "2.7.9"
  }
 },
 "nbformat": 4,
 "nbformat_minor": 0
}
