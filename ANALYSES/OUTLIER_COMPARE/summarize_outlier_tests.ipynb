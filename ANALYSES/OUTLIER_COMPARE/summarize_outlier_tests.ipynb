{
 "cells": [
  {
   "cell_type": "markdown",
   "metadata": {},
   "source": [
    "In this noteobook I combine the results of three candidate outlier detection approaches, implemented in:\n",
    "\n",
    " - Stacks\n",
    " - Bayescan\n",
    " - Bayenv\n",
    " \n"
   ]
  },
  {
   "cell_type": "markdown",
   "metadata": {},
   "source": [
    "#*Stacks*"
   ]
  },
  {
   "cell_type": "markdown",
   "metadata": {},
   "source": [
    "Fst was calculated for pairwise comparisons uing `populations` from the Stacks program suite. Initial Fst significance levels were calculated across 50kb sliding windows using 10,000 bootstrap replicates. For windows with p < 0.001, significance levels were recalculated using 1,000,000 bootstrap replicates. "
   ]
  },
  {
   "cell_type": "code",
   "execution_count": 1,
   "metadata": {
    "collapsed": true
   },
   "outputs": [],
   "source": [
    "!mkdir Stacks"
   ]
  },
  {
   "cell_type": "code",
   "execution_count": 2,
   "metadata": {
    "collapsed": false
   },
   "outputs": [
    {
     "name": "stdout",
     "output_type": "stream",
     "text": [
      "/media/chrishah/STORAGE/RAD/popgen/Fst-outlier/Diplotaxodon_FOR_PAPER/Stacks\n"
     ]
    }
   ],
   "source": [
    "cd Stacks/"
   ]
  },
  {
   "cell_type": "markdown",
   "metadata": {},
   "source": [
    "Identify all tags that were assigned __*p < 0.00005*__ in at least one pairwise comparison by `populations`."
   ]
  },
  {
   "cell_type": "code",
   "execution_count": 40,
   "metadata": {
    "collapsed": false
   },
   "outputs": [
    {
     "name": "stdout",
     "output_type": "stream",
     "text": [
      "Number of candidates highlighted by Stacks (list of tag IDs saved in 'Stacks.candidates.txt'):\n",
      "125\n"
     ]
    }
   ],
   "source": [
    "%%bash\n",
    "\n",
    "#specify the directory where populations had been run\n",
    "stacks_dir=/media/chrishah/STORAGE/RAD/stacks/ALL/mapping/excl_PCR_dupl/BWA-8MM/M_zebra/3-populations/pairwise_single_SNP/Diplotaxodon/excl_singletons\n",
    "\n",
    "#extract the most significant SNPs\n",
    "for b in $(ls -1 $stacks_dir | grep \"Di\"); do for a in $(zcat $stacks_dir/$b/r_0.8-p_2-w50kb-1M_bs/bootstrap_whitelist.txt.gz); do zcat $stacks_dir/$b/r_0.8-p_2-w50kb-1M_bs/batch_1.fst_$b.tsv.gz | grep -P \"1\\t$a\\tDi\"; done | perl -ne 'chomp; @a=split(\"\\t\"); if ($a[-2] < 0.00005){print \"$a[1]\\n\"}'; done | sort -n |uniq > Stacks.candidates.txt \n",
    "\n",
    "echo -e \"Number of candidates highlighted by Stacks (list of tag IDs saved in 'Stacks.candidates.txt'):\\n$(cat Stacks.candidates.txt |wc -l)\""
   ]
  },
  {
   "cell_type": "code",
   "execution_count": 3,
   "metadata": {
    "collapsed": false
   },
   "outputs": [
    {
     "name": "stdout",
     "output_type": "stream",
     "text": [
      "/media/chrishah/STORAGE/RAD/popgen/Fst-outlier/Diplotaxodon_FOR_PAPER\n"
     ]
    }
   ],
   "source": [
    "cd .."
   ]
  },
  {
   "cell_type": "markdown",
   "metadata": {},
   "source": [
    "#*Bayescan*"
   ]
  },
  {
   "cell_type": "markdown",
   "metadata": {},
   "source": [
    "Fst outlier scans with `Bayescan` were performed for all pairwise comparisons and also for a global dataset containing all 4 populations. In all cases prior odds for the neutral model were set to 10 (`--pr_odds 10`) and false discovery rate was set to 0.05."
   ]
  },
  {
   "cell_type": "code",
   "execution_count": 13,
   "metadata": {
    "collapsed": true
   },
   "outputs": [],
   "source": [
    "!mkdir Bayescan"
   ]
  },
  {
   "cell_type": "code",
   "execution_count": 4,
   "metadata": {
    "collapsed": false
   },
   "outputs": [
    {
     "name": "stdout",
     "output_type": "stream",
     "text": [
      "/media/chrishah/STORAGE/RAD/popgen/Fst-outlier/Diplotaxodon_FOR_PAPER/Bayescan\n"
     ]
    }
   ],
   "source": [
    "cd Bayescan/"
   ]
  },
  {
   "cell_type": "code",
   "execution_count": 18,
   "metadata": {
    "collapsed": false
   },
   "outputs": [
    {
     "name": "stdout",
     "output_type": "stream",
     "text": [
      "Number of candidates highlighted by pairwise Bayescan runs \n",
      "(list of tag IDs saved in 'Bayescan.pairwise.candidates.txt'):\n",
      "98\n"
     ]
    }
   ],
   "source": [
    "%%bash\n",
    "#summarize results from pairwise runs\n",
    "\n",
    "#this is where the pairwise results are\n",
    "bayescan_dir=/media/chrishah/STORAGE/RAD/stacks/ALL/mapping/excl_PCR_dupl/BWA-8MM/M_zebra/3-populations/pairwise_single_SNP/Diplotaxodon/excl_singletons/BAYESCAN_pairwise\n",
    "\n",
    "for a in $(ls -1 $bayescan_dir/ | grep \"^Di_\"); do cat $bayescan_dir/$a/$a-10-FDR-0.05.outlier_stacks_ID.list; done |sort -n |uniq > Bayescan.pairwise.candidates.txt\n",
    "\n",
    "echo -e \"Number of candidates highlighted by pairwise Bayescan runs \\n\\\n",
    "(list of tag IDs saved in 'Bayescan.pairwise.candidates.txt'):\\n\\\n",
    "$(cat Bayescan.pairwise.candidates.txt |wc -l)\"\n"
   ]
  },
  {
   "cell_type": "code",
   "execution_count": 20,
   "metadata": {
    "collapsed": false
   },
   "outputs": [
    {
     "name": "stdout",
     "output_type": "stream",
     "text": [
      "Number of candidates highlighted by global Bayescan run \n",
      "(list of tag IDs saved in 'Bayescan.global.candidates.txt'):\n",
      "76\n"
     ]
    }
   ],
   "source": [
    "%%bash\n",
    "#sumamrize results from global run\n",
    "\n",
    "bayescan_dir=/media/chrishah/STORAGE/RAD/stacks/ALL/mapping/excl_PCR_dupl/BWA-8MM/M_zebra/3-populations/Diplotaxodon_4pop/m5_mpop5_kernel_iterate_ONE_SNP_PER_TAG_EXCL_SINGLETONS_BOOTSTRAP/r_0.8-p_4/Bayescan\n",
    "\n",
    "cat $bayescan_dir/Di_4pop_r_0.8_p4/Di_4pop_r_0.8_p4-10-FDR-0.05.outlier_stacks_ID.list > Bayescan.global.candidates.txt\n",
    "\n",
    "echo -e \"Number of candidates highlighted by global Bayescan run \\n\\\n",
    "(list of tag IDs saved in 'Bayescan.global.candidates.txt'):\\n\\\n",
    "$(cat Bayescan.global.candidates.txt |wc -l)\""
   ]
  },
  {
   "cell_type": "code",
   "execution_count": 21,
   "metadata": {
    "collapsed": false
   },
   "outputs": [
    {
     "name": "stdout",
     "output_type": "stream",
     "text": [
      "Number of candidates highlighted by Bayescan runs \n",
      "(list of tag IDs saved in 'Bayescan.candidates.txt'):\n",
      "122\n"
     ]
    }
   ],
   "source": [
    "%%bash\n",
    "#summarize all Bayescan results\n",
    "\n",
    "cat Bayescan.global.candidates.txt Bayescan.pairwise.candidates.txt | sort -n |uniq > Bayescan.candidates.txt\n",
    "\n",
    "echo -e \"Number of candidates highlighted by Bayescan runs \\n\\\n",
    "(list of tag IDs saved in 'Bayescan.candidates.txt'):\\n\\\n",
    "$(cat Bayescan.candidates.txt |wc -l)\""
   ]
  },
  {
   "cell_type": "code",
   "execution_count": 5,
   "metadata": {
    "collapsed": false
   },
   "outputs": [
    {
     "name": "stdout",
     "output_type": "stream",
     "text": [
      "/media/chrishah/STORAGE/RAD/popgen/Fst-outlier/Diplotaxodon_FOR_PAPER\n"
     ]
    }
   ],
   "source": [
    "cd .."
   ]
  },
  {
   "cell_type": "markdown",
   "metadata": {},
   "source": [
    "#*Bayenv*"
   ]
  },
  {
   "cell_type": "markdown",
   "metadata": {},
   "source": [
    "XTX was calculated using `Bayenv` for the global dataset containing all 4 Diplotaxodon populations. Bayenv was run 20 times. Initially we identified SNPs with the strongest signal for selection (top 5% XTX across 20 independent Bayenv runs, i.e. ARR > 0.95). Then we assigned a p-value to each of these SNPs using 10,000 boostrap replicates. Bayenv candidate SNPs have __ARR > 0.95 and p < 0.005__."
   ]
  },
  {
   "cell_type": "code",
   "execution_count": 27,
   "metadata": {
    "collapsed": true
   },
   "outputs": [],
   "source": [
    "mkdir Bayenv"
   ]
  },
  {
   "cell_type": "code",
   "execution_count": 6,
   "metadata": {
    "collapsed": false
   },
   "outputs": [
    {
     "name": "stdout",
     "output_type": "stream",
     "text": [
      "/media/chrishah/STORAGE/RAD/popgen/Fst-outlier/Diplotaxodon_FOR_PAPER/Bayenv\n"
     ]
    }
   ],
   "source": [
    "cd Bayenv/"
   ]
  },
  {
   "cell_type": "code",
   "execution_count": 29,
   "metadata": {
    "collapsed": false
   },
   "outputs": [
    {
     "name": "stdout",
     "output_type": "stream",
     "text": [
      "Number of candidates highlighted by Bayenv runs \n",
      "(list of tag IDs saved in 'Bayenv.candidates.txt'):\n",
      "96\n"
     ]
    }
   ],
   "source": [
    "%%bash\n",
    "\n",
    "Bayenv_dir=/media/chrishah/STORAGE/RAD/popgen/Bayenv/Diplotaxodon/4_populations/M_zebra-BWA-8MM-stacks_m5_n5_r_0.8_p4_ONLY_ONE_SNP/ANALYSES_FOR_DIPLOTAXODON_PAPER_EXCLUDE_SINGLETONS/XTX\n",
    "\n",
    "cat $Bayenv_dir/XTX.candidates.txt > Bayenv.candidates.txt\n",
    "\n",
    "echo -e \"Number of candidates highlighted by Bayenv runs \\n\\\n",
    "(list of tag IDs saved in 'Bayenv.candidates.txt'):\\n\\\n",
    "$(cat Bayenv.candidates.txt |wc -l)\""
   ]
  },
  {
   "cell_type": "code",
   "execution_count": 7,
   "metadata": {
    "collapsed": false
   },
   "outputs": [
    {
     "name": "stdout",
     "output_type": "stream",
     "text": [
      "/media/chrishah/STORAGE/RAD/popgen/Fst-outlier/Diplotaxodon_FOR_PAPER\n"
     ]
    }
   ],
   "source": [
    "cd .."
   ]
  },
  {
   "cell_type": "markdown",
   "metadata": {},
   "source": [
    "#Identify overlaps between the three approaches"
   ]
  },
  {
   "cell_type": "code",
   "execution_count": 31,
   "metadata": {
    "collapsed": true
   },
   "outputs": [],
   "source": [
    "mkdir summarize"
   ]
  },
  {
   "cell_type": "code",
   "execution_count": 8,
   "metadata": {
    "collapsed": false
   },
   "outputs": [
    {
     "name": "stdout",
     "output_type": "stream",
     "text": [
      "/media/chrishah/STORAGE/RAD/popgen/Fst-outlier/Diplotaxodon_FOR_PAPER/summarize\n"
     ]
    }
   ],
   "source": [
    "cd summarize"
   ]
  },
  {
   "cell_type": "code",
   "execution_count": 9,
   "metadata": {
    "collapsed": false
   },
   "outputs": [
    {
     "name": "stdout",
     "output_type": "stream",
     "text": [
      "In total the three approaches identified 276 candidates\n",
      "\n"
     ]
    }
   ],
   "source": [
    "%%bash\n",
    "\n",
    "cat ../Stacks/Stacks.candidates.txt ../Bayescan/Bayescan.candidates.txt ../Bayenv/Bayenv.candidates.txt | sort -n | uniq > Candidates.cummulative.txt\n",
    "\n",
    "echo -e \"In total the three approaches identified $(cat Candidates.cummulative.txt |wc -l) candidates\\n\"\n",
    "\n",
    "cat ../Stacks/Stacks.candidates.txt ../Bayescan/Bayescan.candidates.txt ../Bayenv/Bayenv.candidates.txt | sort -n > Candidates.cummulative.redundant.txt\n",
    "\n"
   ]
  },
  {
   "cell_type": "code",
   "execution_count": 360,
   "metadata": {
    "collapsed": false
   },
   "outputs": [
    {
     "name": "stdout",
     "output_type": "stream",
     "text": [
      "125\n",
      "76\n",
      "96\n",
      "Cummulative Number of candidates: 243\n"
     ]
    }
   ],
   "source": [
    "\n",
    "Stacks = []\n",
    "IN = open('../Stacks/Stacks.candidates.txt')\n",
    "for line in IN:\n",
    "    Stacks.append(line.strip())\n",
    "IN.close()\n",
    "print len(Stacks)\n",
    "\n",
    "Bayescan = []\n",
    "IN = open('../Bayescan/Bayescan.global.candidates.txt')\n",
    "for line in IN:\n",
    "    Bayescan.append(line.strip())\n",
    "IN.close()\n",
    "print len(Bayescan)\n",
    "\n",
    "Bayenv = []\n",
    "IN = open('../Bayenv/Bayenv.candidates.txt')\n",
    "for line in IN:\n",
    "    Bayenv.append(line.strip())\n",
    "IN.close()\n",
    "print len(Bayenv)\n",
    "\n",
    "tags = {'Stacks':Stacks, 'Bayescan':Bayescan, 'Bayenv':Bayenv}\n",
    "\n",
    "cummulative = []\n",
    "cummulative.extend(Stacks)\n",
    "cummulative.extend(Bayescan)\n",
    "cummulative.extend(Bayenv)\n",
    "cummulative=list(set(cummulative))\n",
    "print \"Cummulative Number of candidates: %i\" %len(cummulative)\n",
    "\n",
    "Headers=['Stacks','Bayescan','Bayenv']\n",
    "\n",
    "matrix = {}\n",
    "\n",
    "OUT=open('matrix.csv','w')\n",
    "OUT.write(\"tag_ID,\"+\",\".join(Headers)+\"\\n\")\n",
    "\n",
    "for i in cummulative:\n",
    "    outstring=str(i)\n",
    "    matrix[i] = {}\n",
    "    for h in Headers:\n",
    "        if i in tags[h]:\n",
    "            matrix[i][h] = 1\n",
    "        else:\n",
    "            matrix[i][h] = 0\n",
    "        outstring+=\",\"+str(matrix[i][h])\n",
    "    OUT.write(outstring+\"\\n\")\n",
    "\n",
    "OUT.close()"
   ]
  },
  {
   "cell_type": "code",
   "execution_count": 361,
   "metadata": {
    "collapsed": false
   },
   "outputs": [
    {
     "name": "stdout",
     "output_type": "stream",
     "text": [
      "[1] 125\n",
      "[1] 96\n",
      "[1] 76\n",
      "[1] 1\n"
     ]
    },
    {
     "name": "stderr",
     "output_type": "stream",
     "text": [
      "Loading required package: VennDiagram\n",
      "Loading required package: grid\n"
     ]
    }
   ],
   "source": [
    "%%bash\n",
    "\n",
    "Rscript Venn.R"
   ]
  },
  {
   "cell_type": "code",
   "execution_count": 377,
   "metadata": {
    "collapsed": false
   },
   "outputs": [
    {
     "name": "stdout",
     "output_type": "stream",
     "text": [
      "\n",
      "### minimum 3 of 3 ###\n",
      "\n",
      "Total number of candidates at these filtering criteria: 13\n",
      "Distributed across a total number of scaffolds: 8\n",
      "scaffold_114 ['1587947']\n",
      "scaffold_174 ['404159']\n",
      "scaffold_197 ['125372', '143015', '150458']\n",
      "scaffold_219 ['11706', '774']\n",
      "scaffold_242 ['261422']\n",
      "scaffold_29 ['1759443', '1854859']\n",
      "scaffold_45 ['357551']\n",
      "scaffold_81 ['374911', '450783']\n",
      "\n"
     ]
    }
   ],
   "source": [
    "#find reference locations for relevant tag IDs from stacks catalog\n",
    "\n",
    "print \"\\n### minimum 3 of 3 ###\\n\"\n",
    "\n",
    "out='min_3_of_3.tsv'\n",
    "catalog='/media/chrishah/STORAGE/RAD/stacks/ALL/mapping/excl_PCR_dupl/BWA-8MM/M_zebra/2-cstacks/m5/n0/data/batch_1.catalog.tags.tsv.gz'\n",
    "\n",
    "minimum = ['Stacks','Bayescan','Bayenv']\n",
    "\n",
    "#minimum = ['Bayenv']\n",
    "tags_coordinates = {}\n",
    "tags_ids = {}\n",
    "count=0\n",
    "\n",
    "import gzip\n",
    "\n",
    "FH = gzip.open(catalog,'rb')\n",
    "\n",
    "for line in FH:\n",
    "    if line.split(\"\\t\")[2] in matrix.keys():\n",
    "        to_test = minimum[:]\n",
    "#        print matrix[line.split(\"\\t\")[2]]\n",
    "        for m in reversed(range(len(to_test))):\n",
    "            if not matrix[line.split(\"\\t\")[2]][to_test[m]]:\n",
    "                continue\n",
    "            else:\n",
    "                del to_test[m]\n",
    "        if len(to_test) <= 0:\n",
    "            count+=1\n",
    "#            print \"OK\\n\"\n",
    "#            print line.strip().split(\"\\t\")[2:5]\n",
    "            if not line.split(\"\\t\")[3] in tags_coordinates.keys():\n",
    "                tags_coordinates[line.split(\"\\t\")[3]] = [line.split(\"\\t\")[4]]\n",
    "                tags_ids[line.split(\"\\t\")[3]] = [line.split(\"\\t\")[2]]\n",
    "            else:\n",
    "                tags_coordinates[line.split(\"\\t\")[3]].append(line.split(\"\\t\")[4])\n",
    "                tags_ids[line.split(\"\\t\")[3]].append(line.split(\"\\t\")[2])\n",
    "#            print line.split(\"\\t\")[3],tags_coordinates[line.split(\"\\t\")[3]]\n",
    "        else:\n",
    "#            print \"not good enough\\n\"\n",
    "            pass\n",
    "    \n",
    "print \"Total number of candidates at these filtering criteria: %i\" %count\n",
    "print \"Distributed across a total number of scaffolds: %i\" %len(tags_coordinates)\n",
    "\n",
    "\n",
    "OUT=open(out,'w')\n",
    "for scf in sorted(tags_coordinates):\n",
    "    print scf, tags_coordinates[scf]\n",
    "    for i in range(len(tags_coordinates[scf])):\n",
    "        \n",
    "        OUT.write(\"%s\\t%s\\t%s\\n\" %(scf, tags_coordinates[scf][i], tags_ids[scf][i]))\n",
    "OUT.close()\n",
    "print\n"
   ]
  },
  {
   "cell_type": "code",
   "execution_count": 376,
   "metadata": {
    "collapsed": false
   },
   "outputs": [
    {
     "name": "stdout",
     "output_type": "stream",
     "text": [
      "\n",
      "### minimum 2 of 3 ###\n",
      "\n",
      "Total number of candidates at these filtering criteria: 41\n",
      "Distributed across a total number of scaffolds: 26\n",
      "scaffold_103 ['1580155']\n",
      "scaffold_111 ['2213607', '2232468']\n",
      "scaffold_114 ['1587947', '1587950']\n",
      "scaffold_12 ['3799856']\n",
      "scaffold_125 ['1591798']\n",
      "scaffold_133 ['466413', '466416']\n",
      "scaffold_136 ['317152']\n",
      "scaffold_162 ['1301127']\n",
      "scaffold_174 ['404159']\n",
      "scaffold_190 ['169576']\n",
      "scaffold_197 ['125372', '143015', '150458', '212091']\n",
      "scaffold_203 ['246632', '270184', '275720']\n",
      "scaffold_212 ['153555']\n",
      "scaffold_215 ['135319', '176053', '174230']\n",
      "scaffold_219 ['105692', '11706', '774']\n",
      "scaffold_227 ['206705']\n",
      "scaffold_242 ['261422']\n",
      "scaffold_29 ['1759443', '1854859']\n",
      "scaffold_344 ['7411']\n",
      "scaffold_39 ['1771946', '1815005']\n",
      "scaffold_45 ['357551']\n",
      "scaffold_48 ['2642963']\n",
      "scaffold_53 ['3346004']\n",
      "scaffold_55 ['1871864']\n",
      "scaffold_58 ['942901']\n",
      "scaffold_81 ['374911', '450783']\n",
      "\n"
     ]
    }
   ],
   "source": [
    "#find reference locations for relevant tag IDs from stacks catalog\n",
    "\n",
    "print \"\\n### minimum 2 of 3 ###\\n\"\n",
    "\n",
    "out='min_2_of_3.tsv'\n",
    "catalog='/media/chrishah/STORAGE/RAD/stacks/ALL/mapping/excl_PCR_dupl/BWA-8MM/M_zebra/2-cstacks/m5/n0/data/batch_1.catalog.tags.tsv.gz'\n",
    "\n",
    "minimum = ['Stacks','Bayescan','Bayenv']\n",
    "\n",
    "#minimum = ['Bayenv']\n",
    "tags_coordinates = {}\n",
    "tags_ids = {}\n",
    "count=0\n",
    "\n",
    "import gzip\n",
    "\n",
    "FH = gzip.open(catalog,'rb')\n",
    "\n",
    "for line in FH:\n",
    "    if line.split(\"\\t\")[2] in matrix.keys():\n",
    "        to_test = minimum[:]\n",
    "#        print matrix[line.split(\"\\t\")[2]]\n",
    "        for m in reversed(range(len(to_test))):\n",
    "            if not matrix[line.split(\"\\t\")[2]][to_test[m]]:\n",
    "                continue\n",
    "            else:\n",
    "                del to_test[m]\n",
    "        if len(to_test) <= 1:\n",
    "            count+=1\n",
    "#            print matrix[line.split(\"\\t\")[2]]\n",
    "            #            print \"OK\\n\"\n",
    "#            print line.strip().split(\"\\t\")[2:5]\n",
    "            if not line.split(\"\\t\")[3] in tags_coordinates.keys():\n",
    "                tags_coordinates[line.split(\"\\t\")[3]] = [line.split(\"\\t\")[4]]\n",
    "                tags_ids[line.split(\"\\t\")[3]] = [line.split(\"\\t\")[2]]\n",
    "            else:\n",
    "                tags_coordinates[line.split(\"\\t\")[3]].append(line.split(\"\\t\")[4])\n",
    "                tags_ids[line.split(\"\\t\")[3]].append(line.split(\"\\t\")[2])\n",
    "#            print line.split(\"\\t\")[3],tags_coordinates[line.split(\"\\t\")[3]]\n",
    "        else:\n",
    "#            print \"not good enough\\n\"\n",
    "            pass\n",
    "    \n",
    "print \"Total number of candidates at these filtering criteria: %i\" %count\n",
    "print \"Distributed across a total number of scaffolds: %i\" %len(tags_coordinates)\n",
    "\n",
    "\n",
    "OUT=open(out,'w')\n",
    "for scf in sorted(tags_coordinates):\n",
    "    print scf, tags_coordinates[scf]\n",
    "    for i in range(len(tags_coordinates[scf])):\n",
    "        \n",
    "        OUT.write(\"%s\\t%s\\t%s\\n\" %(scf, tags_coordinates[scf][i], tags_ids[scf][i]))\n",
    "OUT.close()\n",
    "print\n"
   ]
  },
  {
   "cell_type": "code",
   "execution_count": 379,
   "metadata": {
    "collapsed": false
   },
   "outputs": [
    {
     "name": "stdout",
     "output_type": "stream",
     "text": [
      "\n",
      "### minimum 1 of 3 ###\n",
      "\n",
      "Total number of candidates at these filtering criteria: 243\n",
      "Distributed across a total number of scaffolds: 103\n",
      "scaffold_0 ['12990281', '8979020'] ['117', '864']\n",
      "scaffold_1 ['330745', '6150413'] ['17242', '17509']\n",
      "scaffold_103 ['1580155', '1964245', '1971523', '1979541'] ['1562', '1611', '1614', '1616']\n",
      "scaffold_104 ['2286919'] ['1868']\n",
      "scaffold_106 ['638748'] ['2264']\n",
      "scaffold_110 ['2268305', '636788', '718485'] ['3405', '3461', '3464']\n",
      "scaffold_111 ['1164830', '1209473', '1456276', '2183279', '2193336', '2202289', '2213607', '2232468', '2248059'] ['3505', '3514', '3556', '3652', '3658', '3661', '3666', '3667', '3669']\n",
      "scaffold_112 ['514446', '577510'] ['3836', '3839']\n",
      "scaffold_114 ['1532328', '1532602', '1587947', '1587950'] ['4118', '4119', '4122', '4123']\n",
      "scaffold_119 ['1188769', '1259748', '1566980', '1569637', '852616'] ['4826', '4834', '4860', '4863', '4955']\n",
      "scaffold_12 ['3799856'] ['6728']\n",
      "scaffold_122 ['1482278'] ['5764']\n",
      "scaffold_125 ['1591798', '1591801'] ['6090', '6091']\n",
      "scaffold_127 ['348312'] ['6340']\n",
      "scaffold_13 ['5319898'] ['8547']\n",
      "scaffold_132 ['1964427'] ['7304']\n",
      "scaffold_133 ['1341814', '414466', '414469', '466413', '466416', '469620'] ['7435', '7495', '7496', '7497', '7498', '7499']\n",
      "scaffold_136 ['317152'] ['7844']\n",
      "scaffold_145 ['1634970'] ['9221']\n",
      "scaffold_15 ['1695633', '1751960'] ['11178', '11187']\n",
      "scaffold_156 ['1439080', '1454622', '1454625'] ['10743', '10744', '10745']\n",
      "scaffold_16 ['5607698'] ['12869']\n",
      "scaffold_162 ['1268369', '1268372', '1284521', '1301127'] ['11882', '11883', '11888', '11894']\n",
      "scaffold_164 ['666956'] ['12201']\n",
      "scaffold_168 ['945405'] ['12540']\n",
      "scaffold_17 ['5290889'] ['14214']\n",
      "scaffold_174 ['404159', '406575', '409096', '444403'] ['13433', '13435', '13436', '13447']\n",
      "scaffold_177 ['1111608'] ['55327']\n",
      "scaffold_180 ['1118275'] ['14377']\n",
      "scaffold_184 ['767486', '784479', '784482', '819003'] ['14763', '14764', '14765', '14780']\n",
      "scaffold_190 ['169576', '172270'] ['15577', '15580']\n",
      "scaffold_193 ['579901'] ['15808']\n",
      "scaffold_197 ['125372', '143015', '150458', '205062', '212091', '261755', '678946', '680550', '741872', '792073'] ['16065', '16067', '16069', '16077', '16078', '16081', '16139', '16141', '16151', '16160']\n",
      "scaffold_2 ['13641835', '4083333'] ['26433', '26730']\n",
      "scaffold_20 ['3866663', '3866666'] ['18636', '18637']\n",
      "scaffold_200 ['109165'] ['17754']\n",
      "scaffold_201 ['54866'] ['17852']\n",
      "scaffold_203 ['246632', '263022', '263025', '270184', '275720'] ['17952', '17963', '17964', '17967', '17970']\n",
      "scaffold_207 ['115076', '170984', '271763'] ['18182', '18192', '18223']\n",
      "scaffold_211 ['486523'] ['19001']\n",
      "scaffold_212 ['153555', '41173', '552616', '558131', '553169'] ['19042', '19064', '19079', '19081', '52692']\n",
      "scaffold_215 ['135319', '144479', '146520', '176053', '174230'] ['19195', '19196', '19199', '19205', '50449']\n",
      "scaffold_218 ['635039', '639798'] ['19439', '19441']\n",
      "scaffold_219 ['105692', '11706', '774'] ['19444', '19447', '19543']\n",
      "scaffold_227 ['140502', '206705'] ['20368', '20380']\n",
      "scaffold_229 ['294406'] ['20535']\n",
      "scaffold_237 ['512840'] ['21220']\n",
      "scaffold_24 ['4760263', '4760266'] ['22331', '22332']\n",
      "scaffold_240 ['106994', '146332', '149815', '62281', '69072', '60090'] ['21681', '21682', '21685', '21740', '21745', '52400']\n",
      "scaffold_242 ['261422'] ['21791']\n",
      "scaffold_254 ['347120'] ['22638']\n",
      "scaffold_258 ['454571', '507186', '566106'] ['22839', '22846', '22855']\n",
      "scaffold_264 ['294700', '409415', '445560'] ['23484', '23488', '23493']\n",
      "scaffold_267 ['76894'] ['23634']\n",
      "scaffold_27 ['1641249', '1710727'] ['24436', '24439']\n",
      "scaffold_275 ['338758'] ['24217']\n",
      "scaffold_276 ['85077', '91931'] ['24311', '24313']\n",
      "scaffold_282 ['494611'] ['24889']\n",
      "scaffold_29 ['1556827', '1759443', '1854859', '4133226'] ['25853', '25867', '25871', '26049']\n",
      "scaffold_3 ['6501570'] ['32561']\n",
      "scaffold_30 ['1273534'] ['27274']\n",
      "scaffold_31 ['5910726'] ['28090']\n",
      "scaffold_314 ['7691', '7694'] ['27653', '27654']\n",
      "scaffold_332 ['103315'] ['28744']\n",
      "scaffold_344 ['7411'] ['29332']\n",
      "scaffold_35 ['3753294', '883769', '894484', '920289'] ['30034', '30191', '30196', '30203']\n",
      "scaffold_36 ['5276102'] ['30641']\n",
      "scaffold_38 ['4252034'] ['31446']\n",
      "scaffold_388 ['112867'] ['31202']\n",
      "scaffold_39 ['1141800', '1771946', '1815002', '1815005'] ['31596', '31651', '31654', '31655']\n",
      "scaffold_4 ['1867993'] ['36564']\n",
      "scaffold_41 ['2950635', '4503588'] ['33384', '33471']\n",
      "scaffold_44 ['2724359', '4356937'] ['34426', '34535']\n",
      "scaffold_447 ['81800', '86967'] ['34321', '34323']\n",
      "scaffold_45 ['223722', '306253', '358803', '363854', '384984', '393117', '406127', '406130', '472480', '357551', '370220'] ['34655', '34699', '34720', '34723', '34744', '34757', '34771', '34772', '34794', '53279', '53280']\n",
      "scaffold_46 ['1241390', '3394123', '3403028', '3431672'] ['34884', '35155', '35156', '35161']\n",
      "scaffold_48 ['2074055', '2642963', '442057', '2117443'] ['35777', '35820', '36016', '60957']\n",
      "scaffold_5 ['4388770', '4390443', '4392306', '4392309', '4429329'] ['39944', '39946', '39948', '39949', '39952']\n",
      "scaffold_50 ['3247217', '3702569', '3773579'] ['37214', '37244', '37252']\n",
      "scaffold_501 ['1700'] ['37087']\n",
      "scaffold_53 ['3346004', '3927256'] ['37925', '37939']\n",
      "scaffold_55 ['1867457', '1871861', '1871864', '3795415'] ['38239', '38240', '38241', '38364']\n",
      "scaffold_56 ['3282393'] ['38567']\n",
      "scaffold_58 ['942901', '944403', '984838', '942898'] ['39283', '39285', '39294', '53374']\n",
      "scaffold_61 ['81559', '113270', '113273'] ['40655', '53385', '60983']\n",
      "scaffold_7 ['7661231', '7739929'] ['45136', '45143']\n",
      "scaffold_71 ['2157596', '2203170'] ['43039', '43047']\n",
      "scaffold_72 ['2132930'] ['43267']\n",
      "scaffold_74 ['2770494'] ['43732']\n",
      "scaffold_79 ['617211', '875351'] ['44713', '44721']\n",
      "scaffold_8 ['7109085', '7183933'] ['47444', '47448']\n",
      "scaffold_80 ['429614'] ['45381']\n",
      "scaffold_81 ['368596', '374911', '388618', '450783'] ['45600', '45603', '45605', '45610']\n",
      "scaffold_82 ['1571215'] ['45670']\n",
      "scaffold_83 ['1876902'] ['45851']\n",
      "scaffold_85 ['719218', '771876'] ['46323', '46327']\n",
      "scaffold_87 ['2371444'] ['46665']\n",
      "scaffold_88 ['1647307'] ['46777']\n",
      "scaffold_89 ['2637675'] ['46984']\n",
      "scaffold_9 ['1045424'] ['49117']\n",
      "scaffold_900 ['9467'] ['51566']\n",
      "scaffold_92 ['600376', '882801', '919351'] ['48023', '48031', '48032']\n",
      "scaffold_96 ['2001336', '2569728', '316998', '363044'] ['48598', '48622', '48627', '48629']\n",
      "\n"
     ]
    }
   ],
   "source": [
    "#find reference locations for relevant tag IDs from stacks catalog\n",
    "\n",
    "print \"\\n### minimum 1 of 3 ###\\n\"\n",
    "\n",
    "out='min_1_of_3.tsv'\n",
    "catalog='/media/chrishah/STORAGE/RAD/stacks/ALL/mapping/excl_PCR_dupl/BWA-8MM/M_zebra/2-cstacks/m5/n0/data/batch_1.catalog.tags.tsv.gz'\n",
    "\n",
    "minimum = ['Stacks','Bayescan','Bayenv']\n",
    "\n",
    "#minimum = ['Bayenv']\n",
    "tags_coordinates = {}\n",
    "tags_ids = {}\n",
    "count=0\n",
    "\n",
    "import gzip\n",
    "\n",
    "FH = gzip.open(catalog,'rb')\n",
    "\n",
    "for line in FH:\n",
    "    if line.split(\"\\t\")[2] in matrix.keys():\n",
    "        to_test = minimum[:]\n",
    "#        print len(to_test)\n",
    "#        print matrix[line.split(\"\\t\")[2]]\n",
    "        for m in reversed(range(len(to_test))):\n",
    "            if not matrix[line.split(\"\\t\")[2]][to_test[m]]:\n",
    "                continue\n",
    "            else:\n",
    "                del to_test[m]\n",
    "        if len(to_test) <= 3:\n",
    "#            print matrix[line.split(\"\\t\")[2]]\n",
    "            count+=1\n",
    "#            print \"OK\\n\"\n",
    "#            print line.strip().split(\"\\t\")[2:5]\n",
    "            if not line.split(\"\\t\")[3] in tags_coordinates.keys():\n",
    "                tags_coordinates[line.split(\"\\t\")[3]] = [line.split(\"\\t\")[4]]\n",
    "                tags_ids[line.split(\"\\t\")[3]] = [line.split(\"\\t\")[2]]\n",
    "            else:\n",
    "                tags_coordinates[line.split(\"\\t\")[3]].append(line.split(\"\\t\")[4])\n",
    "                tags_ids[line.split(\"\\t\")[3]].append(line.split(\"\\t\")[2])\n",
    "#            print line.split(\"\\t\")[3],tags_coordinates[line.split(\"\\t\")[3]]\n",
    "        else:\n",
    "#            print \"not good enough\\n\"\n",
    "            pass\n",
    "    \n",
    "print \"Total number of candidates at these filtering criteria: %i\" %count\n",
    "print \"Distributed across a total number of scaffolds: %i\" %len(tags_coordinates)\n",
    "\n",
    "\n",
    "OUT=open(out,'w')\n",
    "for scf in sorted(tags_coordinates):\n",
    "    print scf, tags_coordinates[scf], tags_ids[scf]\n",
    "    for i in range(len(tags_coordinates[scf])):\n",
    "        \n",
    "        OUT.write(\"%s\\t%s\\t%s\\n\" %(scf, tags_coordinates[scf][i], tags_ids[scf][i]))\n",
    "OUT.close()\n",
    "print\n"
   ]
  },
  {
   "cell_type": "markdown",
   "metadata": {},
   "source": [
    "find genes"
   ]
  },
  {
   "cell_type": "code",
   "execution_count": 240,
   "metadata": {
    "collapsed": false
   },
   "outputs": [
    {
     "name": "stdout",
     "output_type": "stream",
     "text": [
      "ln: failed to create symbolic link ‘./QTLight_functions.py’: File exists\r\n"
     ]
    }
   ],
   "source": [
    "!ln -s /media/chrishah/STORAGE/Dropbox/Github/genomisc/popogeno/QTlight/QTLight_functions.py ."
   ]
  },
  {
   "cell_type": "code",
   "execution_count": 5,
   "metadata": {
    "collapsed": false
   },
   "outputs": [],
   "source": [
    "import QTLight_functions as QTL"
   ]
  },
  {
   "cell_type": "code",
   "execution_count": 6,
   "metadata": {
    "collapsed": true
   },
   "outputs": [],
   "source": [
    "files = ['min_3_of_3.tsv', 'min_2_of_3.tsv', 'min_1_of_3.tsv']"
   ]
  },
  {
   "cell_type": "code",
   "execution_count": 7,
   "metadata": {
    "collapsed": true
   },
   "outputs": [],
   "source": [
    "gff_per_scaffold = QTL.parse_gff(gff='/media/chrishah/STORAGE/DATA/Cichlids/reference_data/M_zebra/annotations/Metriaclima_zebra.BROADMZ2.gtf')"
   ]
  },
  {
   "cell_type": "code",
   "execution_count": 8,
   "metadata": {
    "collapsed": false
   },
   "outputs": [
    {
     "name": "stdout",
     "output_type": "stream",
     "text": [
      "processing rank statistic file: min_3_of_3.tsv\n",
      "processing rank statistic file: min_2_of_3.tsv\n",
      "processing rank statistic file: min_1_of_3.tsv\n",
      "min_1_of_3:\n",
      "identified 1333 gene(s)\n",
      "min_2_of_3:\n",
      "identified 236 gene(s)\n",
      "min_3_of_3:\n",
      "identified 91 gene(s)\n"
     ]
    }
   ],
   "source": [
    "genes_per_analysis = QTL.find_genes(rank_stats = files, gff = gff_per_scaffold, distance = 50)"
   ]
  },
  {
   "cell_type": "code",
   "execution_count": 9,
   "metadata": {
    "collapsed": false,
    "scrolled": true
   },
   "outputs": [
    {
     "name": "stdout",
     "output_type": "stream",
     "text": [
      "min_3_of_3\n",
      "adding annoation for min_3_of_3\n",
      "min_1_of_3\n",
      "adding annoation for min_1_of_3\n",
      "min_2_of_3\n",
      "adding annoation for min_2_of_3\n"
     ]
    }
   ],
   "source": [
    "QTL.annotate_genes(SNPs_to_genes=genes_per_analysis, annotations='/media/chrishah/STORAGE/DATA/Cichlids/reference_data/M_zebra/annotations/blast2GO/blast2GO/blast2go_table_20150630_0957.txt')"
   ]
  },
  {
   "cell_type": "code",
   "execution_count": 257,
   "metadata": {
    "collapsed": false
   },
   "outputs": [
    {
     "name": "stdout",
     "output_type": "stream",
     "text": [
      "mkdir: cannot create directory ‘find_genes’: File exists\r\n"
     ]
    }
   ],
   "source": [
    "mkdir find_genes"
   ]
  },
  {
   "cell_type": "code",
   "execution_count": 10,
   "metadata": {
    "collapsed": false
   },
   "outputs": [
    {
     "name": "stdout",
     "output_type": "stream",
     "text": [
      "min_1_of_3\n",
      "writing to: ./find_genes/min_1_of_3.genes.annotated.tsv\n",
      "min_2_of_3\n",
      "writing to: ./find_genes/min_2_of_3.genes.annotated.tsv\n",
      "min_3_of_3\n",
      "writing to: ./find_genes/min_3_of_3.genes.annotated.tsv\n"
     ]
    }
   ],
   "source": [
    "QTL.write_candidates(SNPs_to_genes=genes_per_analysis, whitelist=genes_per_analysis.keys(), out_dir='./find_genes/')"
   ]
  },
  {
   "cell_type": "markdown",
   "metadata": {},
   "source": [
    "Prepare lists of genes in txt files for Enrichment analyses in Blast2GO."
   ]
  },
  {
   "cell_type": "code",
   "execution_count": 11,
   "metadata": {
    "collapsed": false
   },
   "outputs": [],
   "source": [
    "%%bash\n",
    "\n",
    "\n",
    "cat find_genes/min_1_of_3.genes.annotated.tsv | cut -f 4 | grep \"gene\" -v | sort -n | uniq > find_genes/min_1_of_3.genes.txt\n",
    "cat find_genes/min_2_of_3.genes.annotated.tsv | cut -f 4 | grep \"gene\" -v | sort -n | uniq > find_genes/min_2_of_3.genes.txt\n",
    "cat find_genes/min_3_of_3.genes.annotated.tsv | cut -f 4 | grep \"gene\" -v | sort -n | uniq > find_genes/min_3_of_3.genes.txt"
   ]
  },
  {
   "cell_type": "markdown",
   "metadata": {},
   "source": [
    "Prepare non redundant lists of genes for Enrichment analyses"
   ]
  },
  {
   "cell_type": "code",
   "execution_count": 8,
   "metadata": {
    "collapsed": false
   },
   "outputs": [
    {
     "name": "stdout",
     "output_type": "stream",
     "text": [
      "find_genes/min_1_of_3.genes.nr.txt\n",
      "find_genes/min_2_of_3.genes.nr.txt\n",
      "find_genes/min_3_of_3.genes.nr.txt\n"
     ]
    }
   ],
   "source": [
    "%%bash\n",
    "\n",
    "for a in $(ls -1 find_genes/*of_3.genes.txt)\n",
    "do\n",
    "    new=$(echo \"$a\" | sed 's/\\.genes./.genes.nr./g')\n",
    "    echo \"$new\"\n",
    "    cat $a | grep \"\\.1$\" | sort | uniq > $new\n",
    "done"
   ]
  },
  {
   "cell_type": "markdown",
   "metadata": {},
   "source": [
    "Create non-redundant list of full gene complement."
   ]
  },
  {
   "cell_type": "code",
   "execution_count": 11,
   "metadata": {
    "collapsed": true
   },
   "outputs": [],
   "source": [
    "%%bash\n",
    "\n",
    "cat /media/chrishah/STORAGE/DATA/Cichlids/functional_annotation/BLAST2GO/22_02_2015/full_blast_mapped_ips_annotated_annexed_EC.txt | \\\n",
    "cut -f 1 | grep \"SeqName\" -v | grep \"\\.1$\" |sort | uniq > find_genes/genes.list.nr.txt"
   ]
  },
  {
   "cell_type": "markdown",
   "metadata": {},
   "source": [
    "\n",
    "#Identify outliers in the Di_2 vs. Di_4 pairwise comparison"
   ]
  },
  {
   "cell_type": "markdown",
   "metadata": {},
   "source": [
    "###*Stacks*"
   ]
  },
  {
   "cell_type": "code",
   "execution_count": 337,
   "metadata": {
    "collapsed": false
   },
   "outputs": [
    {
     "name": "stdout",
     "output_type": "stream",
     "text": [
      "/media/chrishah/STORAGE/RAD/popgen/Fst-outlier/Diplotaxodon_FOR_PAPER\n"
     ]
    }
   ],
   "source": [
    "cd .."
   ]
  },
  {
   "cell_type": "code",
   "execution_count": 344,
   "metadata": {
    "collapsed": false
   },
   "outputs": [],
   "source": [
    "%%bash\n",
    "\n",
    "stacks_dir=/media/chrishah/STORAGE/RAD/stacks/ALL/mapping/excl_PCR_dupl/BWA-8MM/M_zebra/3-populations/pairwise_single_SNP/Diplotaxodon/excl_singletons\n",
    "\n",
    "for a in $(zcat $stacks_dir/Di_2-Di_4/r_0.8-p_2-w50kb-1M_bs/bootstrap_whitelist.txt.gz); do zcat $stacks_dir/Di_2-Di_4/r_0.8-p_2-w50kb-1M_bs/batch_1.fst_Di_2-Di_4.tsv.gz | grep -P \"1\\t$a\\tDi\"; done | \\\n",
    "perl -ne 'chomp; @a=split(\"\\t\"); if ($a[-2] < 0.00005){print \"$a[1]\\n\"}' | sort | uniq > Stacks/Stacks.Di_2-Di_4.candidates.txt "
   ]
  },
  {
   "cell_type": "code",
   "execution_count": 345,
   "metadata": {
    "collapsed": false
   },
   "outputs": [
    {
     "name": "stdout",
     "output_type": "stream",
     "text": [
      "Total candidates: 18\n",
      "on 7 scaffolds\n",
      "scaffold_212 ['552616', '558131', '553169'] ['19079', '19081', '52692']\n",
      "scaffold_240 ['106994', '146332', '149815', '69072', '60090'] ['21681', '21682', '21685', '21745', '52400']\n",
      "scaffold_31 ['5910726'] ['28090']\n",
      "scaffold_39 ['1771946', '1815002', '1815005'] ['31651', '31654', '31655']\n",
      "scaffold_61 ['81559', '113270', '113273'] ['40655', '53385', '60983']\n",
      "scaffold_9 ['1045424'] ['49117']\n",
      "scaffold_96 ['316998', '363044'] ['48627', '48629']\n"
     ]
    }
   ],
   "source": [
    "catalog='/media/chrishah/STORAGE/RAD/stacks/ALL/mapping/excl_PCR_dupl/BWA-8MM/M_zebra/2-cstacks/m5/n0/data/batch_1.catalog.tags.tsv.gz'\n",
    "cat={}\n",
    "by_scaffold = {}\n",
    "count=0\n",
    "out='Stacks/Stacks.Di_2-Di_4.candidates.locations.txt'\n",
    "\n",
    "import gzip\n",
    "\n",
    "FH = gzip.open(catalog,'rb')\n",
    "\n",
    "for line in FH:\n",
    "    cat[line.split(\"\\t\")[2]] = line.split(\"\\t\")[3:5]\n",
    "    \n",
    "FH. close()\n",
    "\n",
    "IN=open('Stacks/Stacks.Di_2-Di_4.candidates.txt')\n",
    "for line in IN:\n",
    "    count+=1\n",
    "    if line.strip() in cat.keys():\n",
    "#        print line.strip(),cat[line.strip()]\n",
    "#        print by_scaffold\n",
    "        if not cat[line.strip()][0] in by_scaffold.keys():\n",
    "            by_scaffold[cat[line.strip()][0]] = {}\n",
    "#            print by_scaffold\n",
    "            by_scaffold[cat[line.strip()][0]]['coordinate'] = [cat[line.strip()][1]]\n",
    "#            print by_scaffold\n",
    "            by_scaffold[cat[line.strip()][0]]['id'] = [line.strip()]\n",
    "#            print by_scaffold\n",
    "        else:\n",
    "            by_scaffold[cat[line.strip()][0]]['coordinate'].append(cat[line.strip()][1])\n",
    "            by_scaffold[cat[line.strip()][0]]['id'].append(line.strip())\n",
    "\n",
    "#        print\n",
    "#        print cat[line.strip()][0],by_scaffold[cat[line.strip()][0]]\n",
    "        \n",
    "IN.close()\n",
    "\n",
    "print \"Total candidates: %i\" %count\n",
    "print \"on %i scaffolds\" %len(by_scaffold)\n",
    "\n",
    "OUT=open(out,'w')\n",
    "for scf in sorted(by_scaffold):\n",
    "    print scf, by_scaffold[scf]['coordinate'], by_scaffold[scf]['id']\n",
    "    \n",
    "    \n",
    "    for i in range(len(by_scaffold[scf]['coordinate'])):\n",
    "        \n",
    "        OUT.write(\"%s\\t%s\\t%s\\n\" %(scf, by_scaffold[scf]['coordinate'][i], by_scaffold[scf]['id'][i]))\n",
    "OUT.close()\n"
   ]
  },
  {
   "cell_type": "markdown",
   "metadata": {},
   "source": [
    "###*Bayescan*"
   ]
  },
  {
   "cell_type": "code",
   "execution_count": 291,
   "metadata": {
    "collapsed": false
   },
   "outputs": [],
   "source": [
    "!cat /media/chrishah/STORAGE/RAD/stacks/ALL/mapping/excl_PCR_dupl/BWA-8MM/M_zebra/3-populations/pairwise_single_SNP/Diplotaxodon/excl_singletons/BAYESCAN_pairwise/Di_2-Di_4/Di_2-Di_4-10-FDR-0.05.outlier_stacks_ID.list > Bayescan/Bayescan.pairwise.Di_2-Di_4.candidates.txt"
   ]
  },
  {
   "cell_type": "code",
   "execution_count": 293,
   "metadata": {
    "collapsed": false
   },
   "outputs": [
    {
     "name": "stdout",
     "output_type": "stream",
     "text": [
      "6728\r\n",
      "7014\r\n",
      "30641\r\n",
      "60983\r\n"
     ]
    }
   ],
   "source": [
    "!cat Bayescan/Bayescan.pairwise.Di_2-Di_4.candidates.txt"
   ]
  },
  {
   "cell_type": "code",
   "execution_count": 296,
   "metadata": {
    "collapsed": false
   },
   "outputs": [
    {
     "name": "stdout",
     "output_type": "stream",
     "text": [
      "scaffold_12 ['3799856', '8415472'] ['6728', '7014']\n",
      "scaffold_36 ['5276102'] ['30641']\n",
      "scaffold_61 ['113273'] ['60983']\n"
     ]
    }
   ],
   "source": [
    "catalog='/media/chrishah/STORAGE/RAD/stacks/ALL/mapping/excl_PCR_dupl/BWA-8MM/M_zebra/2-cstacks/m5/n0/data/batch_1.catalog.tags.tsv.gz'\n",
    "cat={}\n",
    "by_scaffold = {}\n",
    "count=0\n",
    "out='Bayescan/Bayescan.pairwise.Di_2-Di_4.candidates.locations.txt'\n",
    "\n",
    "import gzip\n",
    "\n",
    "FH = gzip.open(catalog,'rb')\n",
    "\n",
    "for line in FH:\n",
    "    cat[line.split(\"\\t\")[2]] = line.split(\"\\t\")[3:5]\n",
    "    \n",
    "FH. close()\n",
    "\n",
    "IN=open('Bayescan/Bayescan.pairwise.Di_2-Di_4.candidates.txt')\n",
    "for line in IN:\n",
    "    if line.strip() in cat.keys():\n",
    "#        print line.strip(),cat[line.strip()]\n",
    "#        print by_scaffold\n",
    "        if not cat[line.strip()][0] in by_scaffold.keys():\n",
    "            by_scaffold[cat[line.strip()][0]] = {}\n",
    "#            print by_scaffold\n",
    "            by_scaffold[cat[line.strip()][0]]['coordinate'] = [cat[line.strip()][1]]\n",
    "#            print by_scaffold\n",
    "            by_scaffold[cat[line.strip()][0]]['id'] = [line.strip()]\n",
    "#            print by_scaffold\n",
    "        else:\n",
    "            by_scaffold[cat[line.strip()][0]]['coordinate'].append(cat[line.strip()][1])\n",
    "            by_scaffold[cat[line.strip()][0]]['id'].append(line.strip())\n",
    "\n",
    "#        print\n",
    "#        print cat[line.strip()][0],by_scaffold[cat[line.strip()][0]]\n",
    "        \n",
    "IN.close()\n",
    "\n",
    "\n",
    "OUT=open(out,'w')\n",
    "for scf in sorted(by_scaffold):\n",
    "    print scf, by_scaffold[scf]['coordinate'], by_scaffold[scf]['id']\n",
    "    \n",
    "    \n",
    "    for i in range(len(by_scaffold[scf]['coordinate'])):\n",
    "        \n",
    "        OUT.write(\"%s\\t%s\\t%s\\n\" %(scf, by_scaffold[scf]['coordinate'][i], by_scaffold[scf]['id'][i]))\n",
    "OUT.close()\n"
   ]
  },
  {
   "cell_type": "code",
   "execution_count": 346,
   "metadata": {
    "collapsed": false
   },
   "outputs": [
    {
     "name": "stdout",
     "output_type": "stream",
     "text": [
      "/media/chrishah/STORAGE/RAD/popgen/Fst-outlier/Diplotaxodon_FOR_PAPER/summarize\n"
     ]
    }
   ],
   "source": [
    "cd summarize/"
   ]
  },
  {
   "cell_type": "code",
   "execution_count": 298,
   "metadata": {
    "collapsed": true
   },
   "outputs": [],
   "source": [
    "!mkdir pairwise.Di_2-Di_4"
   ]
  },
  {
   "cell_type": "code",
   "execution_count": 347,
   "metadata": {
    "collapsed": false
   },
   "outputs": [
    {
     "name": "stdout",
     "output_type": "stream",
     "text": [
      "/media/chrishah/STORAGE/RAD/popgen/Fst-outlier/Diplotaxodon_FOR_PAPER/summarize/pairwise.Di_2-Di_4\n"
     ]
    }
   ],
   "source": [
    "cd pairwise.Di_2-Di_4/"
   ]
  },
  {
   "cell_type": "code",
   "execution_count": 348,
   "metadata": {
    "collapsed": true
   },
   "outputs": [],
   "source": [
    "!cat ../../Stacks/Stacks.Di_2-Di_4.candidates.locations.txt ../../Bayescan/Bayescan.pairwise.Di_2-Di_4.candidates.locations.txt > Di_2-Di_4.pairwise.tsv"
   ]
  },
  {
   "cell_type": "code",
   "execution_count": 349,
   "metadata": {
    "collapsed": true
   },
   "outputs": [],
   "source": [
    "files = ['Di_2-Di_4.pairwise.tsv']"
   ]
  },
  {
   "cell_type": "code",
   "execution_count": 350,
   "metadata": {
    "collapsed": false
   },
   "outputs": [
    {
     "name": "stdout",
     "output_type": "stream",
     "text": [
      "processing rank statistic file: Di_2-Di_4.pairwise.tsv\n",
      "Di_2-Di_4.pairwise:\n",
      "identified 115 gene(s)\n"
     ]
    }
   ],
   "source": [
    "genes_per_analysis = QTL.find_genes(rank_stats = files, gff = gff_per_scaffold, distance = 50)"
   ]
  },
  {
   "cell_type": "code",
   "execution_count": 351,
   "metadata": {
    "collapsed": false
   },
   "outputs": [
    {
     "name": "stdout",
     "output_type": "stream",
     "text": [
      "Di_2-Di_4.pairwise\n",
      "adding annoation for Di_2-Di_4.pairwise\n"
     ]
    }
   ],
   "source": [
    "QTL.annotate_genes(SNPs_to_genes=genes_per_analysis, annotations='/media/chrishah/STORAGE/DATA/Cichlids/reference_data/M_zebra/annotations/blast2GO/blast2GO/blast2go_table_20150630_0957.txt')"
   ]
  },
  {
   "cell_type": "code",
   "execution_count": 352,
   "metadata": {
    "collapsed": false
   },
   "outputs": [
    {
     "name": "stdout",
     "output_type": "stream",
     "text": [
      "Di_2-Di_4.pairwise\n",
      "writing to: ./Di_2-Di_4.pairwise.genes.annotated.tsv\n"
     ]
    }
   ],
   "source": [
    "QTL.write_candidates(SNPs_to_genes=genes_per_analysis, whitelist=genes_per_analysis.keys(), out_dir='./')"
   ]
  },
  {
   "cell_type": "code",
   "execution_count": 354,
   "metadata": {
    "collapsed": false
   },
   "outputs": [
    {
     "name": "stdout",
     "output_type": "stream",
     "text": [
      "/media/chrishah/STORAGE/RAD/popgen/Fst-outlier/Diplotaxodon_FOR_PAPER\n"
     ]
    }
   ],
   "source": [
    "cd .."
   ]
  },
  {
   "cell_type": "markdown",
   "metadata": {},
   "source": [
    "Investigate Stacks pairwise"
   ]
  },
  {
   "cell_type": "code",
   "execution_count": 388,
   "metadata": {
    "collapsed": false
   },
   "outputs": [
    {
     "name": "stdout",
     "output_type": "stream",
     "text": [
      "/media/chrishah/STORAGE/RAD/popgen/Fst-outlier/Diplotaxodon_FOR_PAPER/Stacks\n"
     ]
    }
   ],
   "source": [
    "cd Stacks/"
   ]
  },
  {
   "cell_type": "code",
   "execution_count": 329,
   "metadata": {
    "collapsed": false
   },
   "outputs": [],
   "source": [
    "mkdir pairwise"
   ]
  },
  {
   "cell_type": "code",
   "execution_count": 389,
   "metadata": {
    "collapsed": false
   },
   "outputs": [
    {
     "name": "stdout",
     "output_type": "stream",
     "text": [
      "/media/chrishah/STORAGE/RAD/popgen/Fst-outlier/Diplotaxodon_FOR_PAPER/Stacks/pairwise\n"
     ]
    }
   ],
   "source": [
    "cd pairwise/"
   ]
  },
  {
   "cell_type": "code",
   "execution_count": 393,
   "metadata": {
    "collapsed": false
   },
   "outputs": [
    {
     "name": "stderr",
     "output_type": "stream",
     "text": [
      "bash: line 2: fg: no job control\n"
     ]
    }
   ],
   "source": [
    "%%bash\n",
    "\n",
    "%%bash\n",
    "\n",
    "#specify the directory where populations had been run\n",
    "stacks_dir=/media/chrishah/STORAGE/RAD/stacks/ALL/mapping/excl_PCR_dupl/BWA-8MM/M_zebra/3-populations/pairwise_single_SNP/Diplotaxodon/excl_singletons\n",
    "\n",
    "#fetch all pairwise candidates\n",
    "for b in $(ls -1 $stacks_dir | grep \"Di\"); do for a in $(zcat $stacks_dir/$b/r_0.8-p_2-w50kb-1M_bs/bootstrap_whitelist.txt.gz); do zcat $stacks_dir/$b/r_0.8-p_2-w50kb-1M_bs/batch_1.fst_$b.tsv.gz | grep -P \"1\\t$a\\tDi\"; done | perl -ne 'chomp; @a=split(\"\\t\"); if ($a[-2] < 0.00005){print \"$a[1]\\n\"}'; done | sort -n |uniq > Stacks.pairwise.candidates.txt \n",
    "\n",
    "\n",
    "#extract the most significant SNPs\n",
    "for b in $(ls -1 $stacks_dir | grep \"Di\"); do for a in $(cat Stacks.pairwise.candidates.txt); do zcat $stacks_dir/$b/r_0.8-p_2-w50kb/batch_1.fst_$b.tsv.gz | grep -P \"1\\t$a\\tDi\"; done | perl -ne 'chomp; @a=split(\"\\t\"); print \"$a[4]\\t$a[5]\\t$a[1]\\t$a[8]\\t$a[-5]\\t$a[-2]\\t$a[2],$a[3]\\n\"'; done  | sort -n > Stacks.pairwise.Fsts.txt\n",
    "\n"
   ]
  }
 ],
 "metadata": {
  "kernelspec": {
   "display_name": "Python 2",
   "language": "python",
   "name": "python2"
  },
  "language_info": {
   "codemirror_mode": {
    "name": "ipython",
    "version": 2
   },
   "file_extension": ".py",
   "mimetype": "text/x-python",
   "name": "python",
   "nbconvert_exporter": "python",
   "pygments_lexer": "ipython2",
   "version": "2.7.9"
  }
 },
 "nbformat": 4,
 "nbformat_minor": 0
}
