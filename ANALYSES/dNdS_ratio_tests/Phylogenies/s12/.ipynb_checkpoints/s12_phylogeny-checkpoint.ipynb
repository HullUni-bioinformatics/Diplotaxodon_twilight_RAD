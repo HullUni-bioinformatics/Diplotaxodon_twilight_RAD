{
 "cells": [
  {
   "cell_type": "markdown",
   "metadata": {},
   "source": [
    "Extract scaffold 12 from full M. zebra genome assembly."
   ]
  },
  {
   "cell_type": "code",
   "execution_count": 1,
   "metadata": {
    "collapsed": true
   },
   "outputs": [],
   "source": [
    "from Bio import SeqIO\n",
    "import gzip\n",
    "\n",
    "target = 'scaffold_12'\n",
    "\n",
    "assembly = gzip.open('../../data/REFERENCE_DATA/M_zebra_v0.assembly.fasta.gz')\n",
    "\n",
    "for rec in SeqIO.parse(assembly, 'fasta'):\n",
    "    if rec.id == target:\n",
    "        out = open(target+'.fasta','w')\n",
    "        SeqIO.write(rec, out, 'fasta')\n",
    "        out.close()"
   ]
  },
  {
   "cell_type": "markdown",
   "metadata": {},
   "source": [
    "Convert data in vcf file to alignment across the entire length of scaffold 12."
   ]
  },
  {
   "cell_type": "code",
   "execution_count": null,
   "metadata": {
    "collapsed": false
   },
   "outputs": [],
   "source": [
    "%%bash\n",
    "python ../../../../Dropbox/Github/genomisc/popogeno/vcf_2_hap.py ../../data/VCF/Malawi2015_all_sc_12_3750000-3850000_beagle_annotated.vcf.gz \\\n",
    "--fasta \\\n",
    "--fill_from_ref_fasta scaffold_12.fasta \\\n",
    "--consensus \\\n",
    "-o s12_vcf_full_consensus"
   ]
  },
  {
   "cell_type": "markdown",
   "metadata": {},
   "source": [
    "Specify list of target taxa to be included in alignment."
   ]
  },
  {
   "cell_type": "markdown",
   "metadata": {},
   "source": [
    "Parse alignment and display all taxa in alignment file."
   ]
  },
  {
   "cell_type": "code",
   "execution_count": 3,
   "metadata": {
    "collapsed": false
   },
   "outputs": [
    {
     "name": "stdout",
     "output_type": "stream",
     "text": [
      "Total length: 8758262\n",
      "\n",
      "A_calliptera_Bua\n",
      "A_calliptera_Chitimba\n",
      "A_calliptera_Chizumulu\n",
      "A_calliptera_Enukweni\n",
      "A_calliptera_Itupi_1\n",
      "A_calliptera_Itupi_2\n",
      "A_calliptera_Itupi_3\n",
      "A_calliptera_Itupi_4\n",
      "A_calliptera_Kitai_Dam\n",
      "A_calliptera_Lake_Chidya\n",
      "A_calliptera_Lake_Chilwa\n",
      "A_calliptera_Luwawa\n",
      "A_calliptera_Mbaka_river_Female\n",
      "A_calliptera_Near_Kyela\n",
      "A_calliptera_North_Rukuru\n",
      "A_calliptera_Rovuma_river_Female\n",
      "A_calliptera_Salima_Father\n",
      "A_calliptera_Salima_Mother\n",
      "A_calliptera_Salima_Offspring\n",
      "A_calliptera_Songwe_River\n",
      "A_calliptera_South_Rukuru\n",
      "A_calliptera_Upper_Rovuma\n",
      "Alticorpus_geoffreyi\n",
      "Alticorpus_macrocleithrum\n",
      "Astatotilapia_Kingiri\n",
      "Astatotilapia_rujewa\n",
      "Astatotilapia_tweddlei\n",
      "Aulonocara_minutus\n",
      "Aulonocara_steveni\n",
      "Aulonocara_stuartgranti_Father\n",
      "Aulonocara_stuartgranti_Mother\n",
      "Aulonocara_stuartgranti_Offspring\n",
      "Aulonocara_yellow\n",
      "Buccochromis_nototaenia\n",
      "Buccochromis_rhoadesii\n",
      "Champsochromis_caeruelus_1\n",
      "Champsochromis_caeruelus_2\n",
      "Chilotilapia_rhoadesii_1\n",
      "Chilotilapia_rhoadesii_2\n",
      "Chilotilapia_rhoadesii_3\n",
      "Chilotilapia_rhoadesii_4\n",
      "Copadichromis_likomae\n",
      "Copadichromis_mloto\n",
      "Copadichromis_quadrimaculatus\n",
      "Copadichromis_trimaculatus\n",
      "Copadichromis_virginalis\n",
      "Copadichromis_virginalis_2\n",
      "Copadichromis_virginalis_3\n",
      "Copadichromis_virginalis_4\n",
      "Copadichromis_virginalis_5\n",
      "Copadichromis_virginalis_LM_1\n",
      "Copadichromis_virginalis_LM_3\n",
      "Ctenopharynx_intermedius_1\n",
      "Ctenopharynx_intermedius_2\n",
      "Ctenopharynx_intermedius_3\n",
      "Ctenopharynx_nitidus\n",
      "Ctenopharynx_nitidus_2\n",
      "Cyathochromis_obliquidens\n",
      "Cynotilapia_afra\n",
      "Cynotilapia_axelrodi\n",
      "Dimidiochromis_compressiceps\n",
      "Dimidiochromis_dimidiatus\n",
      "Dimidiochromis_kiwinge\n",
      "Dimidiochromis_strigatus\n",
      "Dimidiochromis_strigatus_2\n",
      "Diplotaxodon_greenwoodi\n",
      "Diplotaxodon_limnothrissa\n",
      "Diplotaxodon_macrops\n",
      "Diplotaxodon_macrops_black_dorsal\n",
      "Diplotaxodon_ngulube\n",
      "Diplotaxodon_white_back_similis\n",
      "Fossorochromis_rostratus_3\n",
      "Fossorochromis_rostratus_4\n",
      "Genyochromis_mento\n",
      "Hemitaenichromis_spilopterus\n",
      "Hemitaeniochromis_spilopterus_2\n",
      "Hemitilapia_oxyrhynchus\n",
      "Hemitilapia_oxyrhynchus_2\n",
      "Iodotropheus_sprengerae\n",
      "Labeotropheus_trewavasae\n",
      "Lethrinops_albus\n",
      "Lethrinops_auritus\n",
      "Lethrinops_gossei\n",
      "Lethrinops_lethrinus\n",
      "Lethrinops_lethrinus_Mazinzi_Father\n",
      "Lethrinops_lethrinus_Mazinzi_Mother\n",
      "Lethrinops_lethrinus_Mazinzi_Offspring\n",
      "Lethrinops_longimanus_redhead\n",
      "Lethrinops_sp_oliveri\n",
      "Massoko_benthic_HC_1\n",
      "Massoko_benthic_HC_2\n",
      "Massoko_benthic_HC_3\n",
      "Massoko_benthic_HC_4\n",
      "Massoko_benthic_HC_5\n",
      "Massoko_benthic_HC_6\n",
      "Massoko_littoral_HC_1\n",
      "Massoko_littoral_HC_2\n",
      "Massoko_littoral_HC_3\n",
      "Massoko_littoral_HC_4\n",
      "Massoko_littoral_HC_5\n",
      "Massoko_littoral_HC_6\n",
      "Metriaclima_zebra\n",
      "Mylochromis_anaphyrmus\n",
      "Mylochromis_anaphyrmus_2\n",
      "Mylochromis_anaphyrmus_3\n",
      "Mylochromis_anaphyrmus_4\n",
      "Mylochromis_anaphyrmus_5\n",
      "Mylochromis_ericotaenia\n",
      "Mylochromis_melanotaenia\n",
      "Nimbochromis_linni\n",
      "Nimbochromis_livingstoni\n",
      "Nimbochromis_polystigma\n",
      "Otopharynx_brooksi_nkhata\n",
      "Otopharynx_lithobates\n",
      "Otopharynx_speciosus_1\n",
      "Otopharynx_speciosus_2\n",
      "Otopharynx_tetrastigma\n",
      "Pallidochromis_tokolosh\n",
      "Petrotilapia_genalutea\n",
      "Placidochromis_electra\n",
      "Placidochromis_johnstoni\n",
      "Placidochromis_longimanus_1\n",
      "Placidochromis_longimanus_2\n",
      "Placidochromis_longimanus_3\n",
      "Placidochromis_longimanus_4\n",
      "Placidochromis_longimanus_5\n",
      "Placidochromis_milomo\n",
      "Placidochromis_subocularis_1\n",
      "Placidochromis_subocularis_2\n",
      "Placidochromis_subocularis_3\n",
      "Placidochromis_subocularis_4\n",
      "Placidochromis_subocularis_5\n",
      "Placidochromis_subocularis_6\n",
      "Placidochromis_subocularis_7\n",
      "Placidochromis_subocularis_8\n",
      "Protomelas_ornatus_1\n",
      "Protomelas_ornatus_2\n",
      "Rhamphochromis_esox\n",
      "Rhamphochromis_kingiri_brevis\n",
      "Rhamphochromis_kingiri_dwarf\n",
      "Rhamphochromis_longiceps\n",
      "Rhamphochromis_woodi\n",
      "Serranochromis_robustus\n",
      "Stigmatochromis_guttatus\n",
      "Stigmatochromis_modestus\n",
      "Taeniochromis_holotaenia\n",
      "Taeniolethrinops_furcicauda\n",
      "Taeniolethrinops_macrorhynchus\n",
      "Taeniolethrinops_praeorbitalis\n",
      "Trematocranus_placodon_2\n",
      "Trematocranus_placodon_3\n",
      "Trematocranus_placodon_4\n",
      "Trematocranus_placodon_5\n",
      "Tremitochranus_placodon\n",
      "Tropheops_tropheops\n",
      "Tyrannochromis_nigriventer\n"
     ]
    }
   ],
   "source": [
    "from Bio import AlignIO\n",
    "\n",
    "ali = AlignIO.read(open(\"s12_vcf_full_consensus.fas\", 'r'),'fasta')\n",
    "\n",
    "total_length = len(ali[0, :].seq)\n",
    "print \"Total length: %s\\n\" %total_length\n",
    "\n",
    "sps = []\n",
    "\n",
    "for rec in ali:\n",
    "    sps.append(rec.id)\n",
    "    \n",
    "for sp in sorted(sps):\n",
    "    print sp"
   ]
  },
  {
   "cell_type": "markdown",
   "metadata": {},
   "source": [
    "Select a subset of taxa for the test dataset."
   ]
  },
  {
   "cell_type": "code",
   "execution_count": 4,
   "metadata": {
    "collapsed": true
   },
   "outputs": [],
   "source": [
    "target_list = ['Alticorpus_geoffreyi',\n",
    "               'Alticorpus_macrocleithrum',\n",
    "               'Astatotilapia_tweddlei',\n",
    "               'Aulonocara_minutus',\n",
    "               'Aulonocara_steveni',\n",
    "               'Aulonocara_yellow',\n",
    "               'Buccochromis_nototaenia',\n",
    "               'Buccochromis_rhoadesii',\n",
    "               'Chilotilapia_rhoadesii_1',\n",
    "               'Copadichromis_quadrimaculatus',\n",
    "               'Copadichromis_trimaculatus',\n",
    "               'Copadichromis_virginalis',\n",
    "               'Ctenopharynx_nitidus',\n",
    "               'Ctenopharynx_intermedius_1',\n",
    "               'Cynotilapia_afra',\n",
    "               'Cynotilapia_axelrodi',\n",
    "               'Dimidiochromis_compressiceps',\n",
    "               'Dimidiochromis_dimidiatus',\n",
    "               'Dimidiochromis_strigatus',\n",
    "               'Diplotaxodon_greenwoodi',\n",
    "               'Diplotaxodon_limnothrissa',\n",
    "               'Diplotaxodon_macrops',\n",
    "               'Diplotaxodon_macrops_black_dorsal',\n",
    "               'Diplotaxodon_ngulube',\n",
    "               'Diplotaxodon_white_back_similis',\n",
    "               'Iodotropheus_sprengerae',\n",
    "               'Labeotropheus_trewavasae',\n",
    "               'Lethrinops_albus',\n",
    "               'Lethrinops_auritus',\n",
    "               'Lethrinops_lethrinus',\n",
    "               'Lethrinops_gossei',\n",
    "               'Lethrinops_longimanus_redhead',\n",
    "               'Lethrinops_sp_oliveri',\n",
    "               'Metriaclima_zebra',\n",
    "               'Mylochromis_anaphyrmus',\n",
    "               'Nimbochromis_linni',\n",
    "               'Nimbochromis_livingstoni',\n",
    "               'Nimbochromis_polystigma',\n",
    "               'Otopharynx_lithobates',\n",
    "               'Otopharynx_speciosus_1',\n",
    "               'Pallidochromis_tokolosh',\n",
    "               'Genyochromis_mento',\n",
    "               'Petrotilapia_genalutea',\n",
    "               'Placidochromis_johnstoni',\n",
    "               'Placidochromis_longimanus_1',\n",
    "               'Stigmatochromis_guttatus',\n",
    "               'Tropheops_tropheops',\n",
    "               'Taeniolethrinops_furcicauda',\n",
    "               'Tyrannochromis_nigriventer']"
   ]
  },
  {
   "cell_type": "markdown",
   "metadata": {},
   "source": [
    "Check number of target taxa. Should be n < 50 for some tests."
   ]
  },
  {
   "cell_type": "code",
   "execution_count": null,
   "metadata": {
    "collapsed": false
   },
   "outputs": [],
   "source": [
    "print len(target_list)"
   ]
  },
  {
   "cell_type": "markdown",
   "metadata": {},
   "source": [
    "Reduce alignment to only target taxa."
   ]
  },
  {
   "cell_type": "code",
   "execution_count": 6,
   "metadata": {
    "collapsed": true
   },
   "outputs": [],
   "source": [
    "!mkdir target_only_01"
   ]
  },
  {
   "cell_type": "code",
   "execution_count": 4,
   "metadata": {
    "collapsed": false
   },
   "outputs": [
    {
     "name": "stdout",
     "output_type": "stream",
     "text": [
      "/home/chrishah/WORKING/Diplotaxodon/Phylogeny/s12/target_only_01\n"
     ]
    }
   ],
   "source": [
    "cd target_only_01/"
   ]
  },
  {
   "cell_type": "code",
   "execution_count": 8,
   "metadata": {
    "collapsed": false
   },
   "outputs": [
    {
     "data": {
      "text/plain": [
       "1"
      ]
     },
     "execution_count": 8,
     "metadata": {},
     "output_type": "execute_result"
    }
   ],
   "source": [
    "from Bio import AlignIO\n",
    "\n",
    "from Bio.Align import MultipleSeqAlignment\n",
    "\n",
    "reduced_ali = MultipleSeqAlignment([])\n",
    "\n",
    "for rec in ali:\n",
    "    if rec.id in target_list:\n",
    "            reduced_ali.append(rec)\n",
    "\n",
    "AlignIO.write(reduced_ali[:,:], 's12_vcf_full_consensus_target_only_1.fas', 'fasta')"
   ]
  },
  {
   "cell_type": "markdown",
   "metadata": {},
   "source": [
    "Infer Phylogeny using RAxML."
   ]
  },
  {
   "cell_type": "code",
   "execution_count": null,
   "metadata": {
    "collapsed": true
   },
   "outputs": [],
   "source": [
    "%%bash\n",
    "\n",
    "threads=6\n",
    "prefix='s12_consensus_target_only_1'\n",
    "ali='./s12_vcf_full_consensus_target_only_1.fas'\n",
    "\n",
    "/home/chrishah/src/RAXML/RAxML.8.2.9/standard-RAxML/raxmlHPC-PTHREADS-SSE3 \\\n",
    "-f a -m GTRGAMMA \\\n",
    "-T $threads -n $prefix -s $ali \\\n",
    "-p 1234 -x 1234 -N 100"
   ]
  },
  {
   "cell_type": "markdown",
   "metadata": {},
   "source": [
    "Remove branch lengths from tree."
   ]
  },
  {
   "cell_type": "markdown",
   "metadata": {},
   "source": [
    "With a simple command line sed. "
   ]
  },
  {
   "cell_type": "code",
   "execution_count": 9,
   "metadata": {
    "collapsed": true
   },
   "outputs": [],
   "source": [
    "!cat RAxML_bipartitions.s12_consensus_target_only_1 | sed 's/:[0-9].[0-9]\\+//g' > RAxML_bipartitions.s12_consensus_target_only_1.nobranchlenghts.nwk"
   ]
  },
  {
   "cell_type": "markdown",
   "metadata": {},
   "source": [
    "Or using ETE."
   ]
  },
  {
   "cell_type": "code",
   "execution_count": 5,
   "metadata": {
    "collapsed": false
   },
   "outputs": [
    {
     "name": "stdout",
     "output_type": "stream",
     "text": [
      "\n",
      "Unrooted\n",
      "\n",
      "\n",
      "         /-Labeotropheus_trewavasae\n",
      "      /-|\n",
      "     |  |   /-Petrotilapia_genalutea\n",
      "     |   \\-|\n",
      "     |      \\-Metriaclima_zebra\n",
      "   /-|\n",
      "  |  |      /-Iodotropheus_sprengerae\n",
      "  |  |   /-|\n",
      "  |  |  |  |   /-Tropheops_tropheops\n",
      "  |  |  |   \\-|\n",
      "  |   \\-|      \\-Genyochromis_mento\n",
      "  |     |\n",
      "  |     |   /-Cynotilapia_afra\n",
      "  |      \\-|\n",
      "  |         \\-Cynotilapia_axelrodi\n",
      "  |\n",
      "  |      /-Diplotaxodon_limnothrissa\n",
      "  |     |\n",
      "  |     |         /-Diplotaxodon_ngulube\n",
      "  |   /-|      /-|\n",
      "  |  |  |   /-|   \\-Diplotaxodon_white_back_similis\n",
      "  |  |  |  |  |\n",
      "  |  |   \\-|   \\-Diplotaxodon_greenwoodi\n",
      "  |  |     |\n",
      "  |  |     |   /-Pallidochromis_tokolosh\n",
      "  |  |      \\-|\n",
      "  |  |        |   /-Diplotaxodon_macrops_black_dorsal\n",
      "  |  |         \\-|\n",
      "  |  |            \\-Diplotaxodon_macrops\n",
      "  |  |\n",
      "  |  |         /-Tyrannochromis_nigriventer\n",
      "  |  |        |\n",
      "  |  |        |         /-Placidochromis_johnstoni\n",
      "  |  |      /-|      /-|\n",
      "  |  |     |  |   /-|   \\-Lethrinops_auritus\n",
      "  |  |     |  |  |  |\n",
      "  |  |     |  |  |   \\-Lethrinops_albus\n",
      "  |  |     |   \\-|\n",
      "  |  |     |     |   /-Lethrinops_lethrinus\n",
      "  |  |     |     |  |\n",
      "  |  |     |      \\-|      /-Dimidiochromis_compressiceps\n",
      "  |  |     |        |   /-|\n",
      "  |  |     |        |  |  |   /-Dimidiochromis_dimidiatus\n",
      "  |  |     |         \\-|   \\-|\n",
      "  |  |     |           |      \\-Dimidiochromis_strigatus\n",
      "  |--|     |           |\n",
      "  |  |     |            \\-Taeniolethrinops_furcicauda\n",
      "  |  |     |\n",
      "  |  |     |                  /-Copadichromis_trimaculatus\n",
      "  |  |     |               /-|\n",
      "--|  |     |              |  |   /-Copadichromis_quadrimaculatus\n",
      "  |  |     |              |   \\-|\n",
      "  |  |     |              |      \\-Stigmatochromis_guttatus\n",
      "  |  |     |              |\n",
      "  |  |   /-|              |            /-Lethrinops_longimanus_redhead\n",
      "  |  |  |  |              |         /-|\n",
      "  |  |  |  |            /-|        |   \\-Aulonocara_minutus\n",
      "  |  |  |  |           |  |      /-|\n",
      "  |  |  |  |           |  |     |  |   /-Mylochromis_anaphyrmus\n",
      "  |  |  |  |           |  |     |   \\-|\n",
      "  |  |  |  |           |  |   /-|      \\-Alticorpus_geoffreyi\n",
      "  |  |  |  |           |  |  |  |\n",
      "  |  |  |  |           |  |  |  |   /-Lethrinops_sp_oliveri\n",
      "  |  |  |  |           |   \\-|   \\-|\n",
      "  |  |  |  |         /-|     |      \\-Alticorpus_macrocleithrum\n",
      "  |  |  |  |        |  |     |\n",
      "  |  |  |  |        |  |     |   /-Aulonocara_steveni\n",
      "  |  |  |  |        |  |      \\-|\n",
      "  |  |  |  |        |  |        |   /-Ctenopharynx_intermedius_1\n",
      "  |  |  |  |      /-|  |         \\-|\n",
      "  |  |  |  |     |  |  |            \\-Ctenopharynx_nitidus\n",
      "  |   \\-|  |     |  |  |\n",
      "  |     |  |   /-|  |   \\-Aulonocara_yellow\n",
      "  |     |  |  |  |  |\n",
      "  |     |  |  |  |   \\-Lethrinops_gossei\n",
      "  |     |   \\-|  |\n",
      "  |     |     |   \\-Copadichromis_virginalis\n",
      "  |     |     |\n",
      "  |     |     |   /-Otopharynx_lithobates\n",
      "  |     |      \\-|\n",
      "  |     |        |   /-Chilotilapia_rhoadesii_1\n",
      "  |     |         \\-|\n",
      "  |     |           |   /-Otopharynx_speciosus_1\n",
      "  |     |            \\-|\n",
      "  |     |              |   /-Buccochromis_nototaenia\n",
      "  |     |               \\-|\n",
      "  |     |                  \\-Buccochromis_rhoadesii\n",
      "  |     |\n",
      "  |     |   /-Placidochromis_longimanus_1\n",
      "  |      \\-|\n",
      "  |        |   /-Nimbochromis_polystigma\n",
      "  |         \\-|\n",
      "  |           |   /-Nimbochromis_linni\n",
      "  |            \\-|\n",
      "  |               \\-Nimbochromis_livingstoni\n",
      "  |\n",
      "   \\-Astatotilapia_tweddlei\n",
      "\n",
      "Rooted\n",
      "\n",
      "   /-Astatotilapia_tweddlei\n",
      "  |\n",
      "  |         /-Labeotropheus_trewavasae\n",
      "  |      /-|\n",
      "  |     |  |   /-Petrotilapia_genalutea\n",
      "  |     |   \\-|\n",
      "  |     |      \\-Metriaclima_zebra\n",
      "  |   /-|\n",
      "  |  |  |      /-Iodotropheus_sprengerae\n",
      "  |  |  |   /-|\n",
      "  |  |  |  |  |   /-Tropheops_tropheops\n",
      "  |  |  |  |   \\-|\n",
      "  |  |   \\-|      \\-Genyochromis_mento\n",
      "--|  |     |\n",
      "  |  |     |   /-Cynotilapia_afra\n",
      "  |  |      \\-|\n",
      "  |  |         \\-Cynotilapia_axelrodi\n",
      "  |  |\n",
      "  |  |      /-Diplotaxodon_limnothrissa\n",
      "  |  |     |\n",
      "  |  |     |         /-Diplotaxodon_ngulube\n",
      "  |  |   /-|      /-|\n",
      "  |  |  |  |   /-|   \\-Diplotaxodon_white_back_similis\n",
      "  |  |  |  |  |  |\n",
      "  |  |  |   \\-|   \\-Diplotaxodon_greenwoodi\n",
      "  |  |  |     |\n",
      "  |  |  |     |   /-Pallidochromis_tokolosh\n",
      "   \\-|  |      \\-|\n",
      "     |  |        |   /-Diplotaxodon_macrops_black_dorsal\n",
      "     |  |         \\-|\n",
      "     |  |            \\-Diplotaxodon_macrops\n",
      "     |  |\n",
      "     |  |         /-Tyrannochromis_nigriventer\n",
      "     |  |        |\n",
      "     |  |        |         /-Placidochromis_johnstoni\n",
      "     |  |      /-|      /-|\n",
      "     |  |     |  |   /-|   \\-Lethrinops_auritus\n",
      "     |  |     |  |  |  |\n",
      "     |  |     |  |  |   \\-Lethrinops_albus\n",
      "     |  |     |   \\-|\n",
      "     |  |     |     |   /-Lethrinops_lethrinus\n",
      "     |  |     |     |  |\n",
      "     |  |     |      \\-|      /-Dimidiochromis_compressiceps\n",
      "     |  |     |        |   /-|\n",
      "     |  |     |        |  |  |   /-Dimidiochromis_dimidiatus\n",
      "     |  |     |         \\-|   \\-|\n",
      "     |  |     |           |      \\-Dimidiochromis_strigatus\n",
      "      \\-|     |           |\n",
      "        |     |            \\-Taeniolethrinops_furcicauda\n",
      "        |     |\n",
      "        |     |                  /-Copadichromis_trimaculatus\n",
      "        |     |               /-|\n",
      "        |     |              |  |   /-Copadichromis_quadrimaculatus\n",
      "        |     |              |   \\-|\n",
      "        |     |              |      \\-Stigmatochromis_guttatus\n",
      "        |     |              |\n",
      "        |   /-|              |            /-Lethrinops_longimanus_redhead\n",
      "        |  |  |              |         /-|\n",
      "        |  |  |            /-|        |   \\-Aulonocara_minutus\n",
      "        |  |  |           |  |      /-|\n",
      "        |  |  |           |  |     |  |   /-Mylochromis_anaphyrmus\n",
      "        |  |  |           |  |     |   \\-|\n",
      "        |  |  |           |  |   /-|      \\-Alticorpus_geoffreyi\n",
      "        |  |  |           |  |  |  |\n",
      "        |  |  |           |  |  |  |   /-Lethrinops_sp_oliveri\n",
      "        |  |  |           |   \\-|   \\-|\n",
      "        |  |  |         /-|     |      \\-Alticorpus_macrocleithrum\n",
      "        |  |  |        |  |     |\n",
      "        |  |  |        |  |     |   /-Aulonocara_steveni\n",
      "        |  |  |        |  |      \\-|\n",
      "        |  |  |        |  |        |   /-Ctenopharynx_intermedius_1\n",
      "        |  |  |      /-|  |         \\-|\n",
      "        |  |  |     |  |  |            \\-Ctenopharynx_nitidus\n",
      "         \\-|  |     |  |  |\n",
      "           |  |   /-|  |   \\-Aulonocara_yellow\n",
      "           |  |  |  |  |\n",
      "           |  |  |  |   \\-Lethrinops_gossei\n",
      "           |   \\-|  |\n",
      "           |     |   \\-Copadichromis_virginalis\n",
      "           |     |\n",
      "           |     |   /-Otopharynx_lithobates\n",
      "           |      \\-|\n",
      "           |        |   /-Chilotilapia_rhoadesii_1\n",
      "           |         \\-|\n",
      "           |           |   /-Otopharynx_speciosus_1\n",
      "           |            \\-|\n",
      "           |              |   /-Buccochromis_nototaenia\n",
      "           |               \\-|\n",
      "           |                  \\-Buccochromis_rhoadesii\n",
      "           |\n",
      "           |   /-Placidochromis_longimanus_1\n",
      "            \\-|\n",
      "              |   /-Nimbochromis_polystigma\n",
      "               \\-|\n",
      "                 |   /-Nimbochromis_linni\n",
      "                  \\-|\n",
      "                     \\-Nimbochromis_livingstoni\n"
     ]
    }
   ],
   "source": [
    "from ete3 import Tree\n",
    "\n",
    "t = Tree(\"RAxML_bipartitions.s12_consensus_target_only_1\")\n",
    "\n",
    "#display tree\n",
    "print \"\\nUnrooted\\n\"\n",
    "print t\n",
    "\n",
    "#root tree to Astatotilapia tweddlei\n",
    "t.set_outgroup('Astatotilapia_tweddlei')\n",
    "\n",
    "print \"\\nRooted\"\n",
    "print t\n",
    "\n",
    "#Write rooted tree without to file without any branchlengths (format=9)\n",
    "t.write(format=9, outfile='RAxML_bipartitions.s12_consensus_target_only_1.nobranchlenghts.nwk')\n",
    "\n",
    "#Write rooted tree to file with branch lengths (format=3)\n",
    "t.write(format=3, outfile='RAxML_bipartitions.s12_consensus_target_only_1.rooted_branchlenghts.nwk')"
   ]
  },
  {
   "cell_type": "code",
   "execution_count": 3,
   "metadata": {
    "collapsed": false
   },
   "outputs": [
    {
     "name": "stdout",
     "output_type": "stream",
     "text": [
      "/home/chrishah/WORKING/Diplotaxodon/Phylogeny/s12\n"
     ]
    }
   ],
   "source": [
    "cd .."
   ]
  }
 ],
 "metadata": {
  "kernelspec": {
   "display_name": "Python 2",
   "language": "python",
   "name": "python2"
  },
  "language_info": {
   "codemirror_mode": {
    "name": "ipython",
    "version": 2
   },
   "file_extension": ".py",
   "mimetype": "text/x-python",
   "name": "python",
   "nbconvert_exporter": "python",
   "pygments_lexer": "ipython2",
   "version": "2.7.12"
  }
 },
 "nbformat": 4,
 "nbformat_minor": 0
}
