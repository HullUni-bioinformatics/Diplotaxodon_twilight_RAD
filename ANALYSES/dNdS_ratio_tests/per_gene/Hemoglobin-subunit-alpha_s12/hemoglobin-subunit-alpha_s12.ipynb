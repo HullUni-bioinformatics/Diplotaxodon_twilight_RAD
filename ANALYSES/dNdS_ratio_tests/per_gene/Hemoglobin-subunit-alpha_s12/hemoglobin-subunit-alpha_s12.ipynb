{
 "cells": [
  {
   "cell_type": "markdown",
   "metadata": {},
   "source": [
    "Extract scaffold 81 from assembly."
   ]
  },
  {
   "cell_type": "code",
   "execution_count": 1,
   "metadata": {
    "collapsed": true
   },
   "outputs": [],
   "source": [
    "from Bio import SeqIO\n",
    "import gzip\n",
    "\n",
    "target = 'scaffold_81'\n",
    "\n",
    "assembly = gzip.open('../../data/REFERENCE_DATA/M_zebra_v0.assembly.fasta.gz')\n",
    "\n",
    "for rec in SeqIO.parse(assembly, 'fasta'):\n",
    "    if rec.id == target:\n",
    "        out = open(target+'.fasta','w')\n",
    "        SeqIO.write(rec, out, 'fasta')\n",
    "        out.close()"
   ]
  },
  {
   "cell_type": "markdown",
   "metadata": {},
   "source": [
    "Search M. zebra assembly scaffold 81 for alpha-type globin that is between beta-type globin and aquaporin in the other reference genomes, but seems to be missing in M. zebra - it's the gene id 'on.gene.LG8-24.214' in O. niloticus.\n",
    "\n",
    "Extract transcript for the gene from O. niloticus."
   ]
  },
  {
   "cell_type": "code",
   "execution_count": 2,
   "metadata": {
    "collapsed": true
   },
   "outputs": [],
   "source": [
    "import gzip\n",
    "from Bio import SeqIO\n",
    "\n",
    "for rec in SeqIO.parse(gzip.open('../../data/REFERENCE_DATA/Oreochromis_niloticus.BROADON2.cdna.fa.gz','r'),'fasta'):\n",
    "    if 'LG8-24.214' in rec.id:\n",
    "        SeqIO.write(rec, open('O_niloticus_HBA_transcript.fasta','w'), 'fasta')"
   ]
  },
  {
   "cell_type": "markdown",
   "metadata": {},
   "source": [
    "Blast O. niloticus transcript against scaffold 81 for M. zebra."
   ]
  },
  {
   "cell_type": "code",
   "execution_count": 3,
   "metadata": {
    "collapsed": false
   },
   "outputs": [
    {
     "name": "stdout",
     "output_type": "stream",
     "text": [
      "BLASTN 2.2.31+\r\n",
      "\r\n",
      "\r\n",
      "Query= on.mrna.LG8-24.214.1 gene=on.gene.LG8-24.214\r\n",
      "\r\n",
      "Length=432\r\n",
      "\r\n",
      "Subject= scaffold_81\r\n",
      "\r\n",
      "Length=3037336\r\n",
      "\r\n",
      "\r\n",
      " Score = 169 bits (91),  Expect = 1e-42\r\n",
      " Identities = 105/112 (94%), Gaps = 0/112 (0%)\r\n",
      " Strand=Plus/Plus\r\n",
      "\r\n",
      "Query  321     TATGGTGGTGGTCGCCGCTATGTTCCCTAACGATTTCACCCCGGAAGCTCATGTCGCCTT  380\r\n",
      "               |||||||||| |||||  |||||||||||| ||||||||||||||| |||||||||||||\r\n",
      "Sbjct  430280  TATGGTGGTGATCGCCATTATGTTCCCTAAAGATTTCACCCCGGAAACTCATGTCGCCTT  430339\r\n",
      "\r\n",
      "Query  381     CGACAAATTCTTGGCAGCCGTGGCCCTGGGTCTCTCTGAGAGATACCGTTGA  432\r\n",
      "               ||||||||||||||| ||||||||||||||||||||||||| ||||||||||\r\n",
      "Sbjct  430340  CGACAAATTCTTGGCCGCCGTGGCCCTGGGTCTCTCTGAGAAATACCGTTGA  430391\r\n",
      "\r\n",
      "\r\n",
      " Score = 148 bits (80),  Expect = 2e-36\r\n",
      " Identities = 90/95 (95%), Gaps = 0/95 (0%)\r\n",
      " Strand=Plus/Plus\r\n",
      "\r\n",
      "Query  93      CAGGATGCTCCTCGTGTATCCGCAAACCAAGACTTACTTCTCCCACTGGCCGGACCTGAC  152\r\n",
      "               ||||||||||||||||||||||||||||||||||||||||||||||||||||||||||||\r\n",
      "Sbjct  429659  CAGGATGCTCCTCGTGTATCCGCAAACCAAGACTTACTTCTCCCACTGGCCGGACCTGAC  429718\r\n",
      "\r\n",
      "Query  153     TCCCGGTTCTGCCCCCGTGGTGAGTCACGGAAAGC  187\r\n",
      "               |||||||||||  |||||| ||  |||||||||||\r\n",
      "Sbjct  429719  TCCCGGTTCTGAGCCCGTGATGGTTCACGGAAAGC  429753\r\n",
      "\r\n",
      "\r\n",
      " Score = 134 bits (72),  Expect = 5e-32\r\n",
      " Identities = 88/96 (92%), Gaps = 0/96 (0%)\r\n",
      " Strand=Plus/Plus\r\n",
      "\r\n",
      "Query  1       ATGAGTCTGACTGAGAAAGACAAAGCTGCCGTCAAGGCACTCTGGGCCAAGATCTCCAAG  60\r\n",
      "               ||||||||||||||||||||||| ||||||||||||||||||||||||||| ||||||||\r\n",
      "Sbjct  429302  ATGAGTCTGACTGAGAAAGACAAGGCTGCCGTCAAGGCACTCTGGGCCAAGGTCTCCAAG  429361\r\n",
      "\r\n",
      "Query  61      TCTGTGGATGCTATTGGAGCCGAAGCTTTGGGCAGG  96\r\n",
      "                 | ||||| || |||||| ||||||||||||||||\r\n",
      "Sbjct  429362  GTTATGGATACTGTTGGAGGCGAAGCTTTGGGCAGG  429397\r\n",
      "\r\n",
      "\r\n",
      "\r\n",
      "Lambda      K        H\r\n",
      "    1.33    0.621     1.12 \r\n",
      "\r\n",
      "Gapped\r\n",
      "Lambda      K        H\r\n",
      "    1.28    0.460    0.850 \r\n",
      "\r\n",
      "Effective search space used: 1248336465\r\n",
      "\r\n",
      "\r\n",
      "\r\n",
      "\r\n",
      "Matrix: blastn matrix 1 -2\r\n",
      "Gap Penalties: Existence: 0, Extension: 2.5\r\n"
     ]
    }
   ],
   "source": [
    "!blastn -query O_niloticus_HBA_transcript.fasta -subject scaffold_81.fasta -word_size 20"
   ]
  },
  {
   "cell_type": "markdown",
   "metadata": {},
   "source": [
    "Blast finds a good hit for the transcript on scaffold 81 between positions 429302 and 430391 in forward direction."
   ]
  },
  {
   "cell_type": "markdown",
   "metadata": {},
   "source": [
    "Extract stretch where gene seems to be according to blast match from M. zebra assembly."
   ]
  },
  {
   "cell_type": "code",
   "execution_count": 4,
   "metadata": {
    "collapsed": false
   },
   "outputs": [
    {
     "name": "stdout",
     "output_type": "stream",
     "text": [
      "ATGAGTCTGACTGAGAAAGACAAGGCTGCCGTCAAGGCACTCTGGGCCAAGGTCTCCAAGGTTATGGATACTGTTGGAGGCGAAGCTTTGGGCAGGTAAGGCTGTATAGGCACTTCTTTATTGAATTCAGTACAATTGAATTTTATTTATACAGCGCCAAATTACAGCAACAGTCGCCTCAAATATTTAAACACACTTCAGATGTGTGTTTCCACTACTTAAAATAAGCTCGTGCTCCAGGTGAGGCTCGAACTCACAACCTCGGCATAACTCTGCAGGCTACTGTCTTATAAGTACCGCGCGCTGACCGATTGCGCCACTGGAGCTTGTGACCCACCATGTTCATCTCTGATTCCACAGGATGCTCCTCGTGTATCCGCAAACCAAGACTTACTTCTCCCACTGGCCGGACCTGACTCCCGGTTCTGAGCCCGTGATGGTTCACGGAAAGCNNNNNNNNNNNNNNNNNNNNNNNNNNNNNNNNNNNNNNNNNNNNNNNNNNNNNNNNNNNNNNNNNNNNNNNNNNNNNNNNNNNNNNNNNNNNNNNNNNNNNNNNNNNNNNNNNNNNNNNNNNNNNNNNNNNNNNNNNNNNNNNNNNNNNNNNNNNNNNNNNNNNNNNNNNNNNNNNNNNNNNNNNNNNNNNNNNNNNNNNNNNNNNNNNNNNNNNNNNNNNNNNNNNNNNNNNNNNNNNNNNNNNNNNNNNNNNNNNNNNNNNNNNNNNNNNNNNNNNNNNNNNNNNNNNNNNNNNNNNNNNNNNNNNNNNNNNNNNNNNNNNNNNNNTTCCTATTTCACGCACGGTTAATTTATGTAACAAAGTAATCCAACGTATTGAAAAGATTGTTCTTAAGAAGATCGAGTTTATTGACTATGCATTTGCACTAACAAACAGTCTGTTTATTAAAAGCGATTTCTGCCGAGCAAACTTCATATATTTGGTGTAAACTGTTTCCTCTCTCTGCAGATGCTGGCTCATTGCGCTATGGTGGTGATCGCCATTATGTTCCCTAAAGATTTCACCCCGGAAACTCATGTCGCCTTCGACAAATTCTTGGCCGCCGTGGCCCTGGGTCTCTCTGAGAAATACCGTTGA\n"
     ]
    }
   ],
   "source": [
    "import gzip\n",
    "from Bio import SeqIO\n",
    "\n",
    "start=429302\n",
    "end=430391\n",
    "\n",
    "for rec in SeqIO.parse(gzip.open('../../data/REFERENCE_DATA/M_zebra_v0.assembly.fasta.gz','r'),'fasta'):\n",
    "    if rec.id == 'scaffold_81':\n",
    "        print rec.seq[start-1:end]\n",
    "        break"
   ]
  },
  {
   "cell_type": "markdown",
   "metadata": {},
   "source": [
    "Ok. A substantial part of the gene seems to be missing in the assembly. Probably why the gene wasn't predicted correctly."
   ]
  },
  {
   "cell_type": "markdown",
   "metadata": {},
   "source": [
    "Extract full gene from O. niloticus assembly based on cooridnates."
   ]
  },
  {
   "cell_type": "markdown",
   "metadata": {},
   "source": [
    "Find location on scaffold."
   ]
  },
  {
   "cell_type": "code",
   "execution_count": 5,
   "metadata": {
    "collapsed": false
   },
   "outputs": [
    {
     "name": "stdout",
     "output_type": "stream",
     "text": [
      "8965742\t8965836\t+\r\n",
      "8966105\t8966312\t+\r\n",
      "8966544\t8966672\t+\r\n"
     ]
    }
   ],
   "source": [
    "!zcat ../../data/REFERENCE_DATA/Oreochromis_niloticus.BROADON2.gtf.gz | grep \"LG8-24.214\" | grep \"CDS\" | cut -f 4,5,7"
   ]
  },
  {
   "cell_type": "markdown",
   "metadata": {},
   "source": [
    "Extract full length O. niloticus gene."
   ]
  },
  {
   "cell_type": "code",
   "execution_count": 6,
   "metadata": {
    "collapsed": false
   },
   "outputs": [],
   "source": [
    "import gzip\n",
    "from Bio import SeqIO\n",
    "\n",
    "\n",
    "start=8965742\n",
    "end=8966672\n",
    "\n",
    "for rec in SeqIO.parse(gzip.open('../../data/REFERENCE_DATA/20120125_MapAssembly.anchored.assembly.fasta.gz','r'),'fasta'):\n",
    "    if rec.id == 'LG8-24':\n",
    "        rec.seq = rec.seq[start-1:end]\n",
    "        SeqIO.write(rec, open('O_niloticus_HBA_full.fasta','w'), 'fasta')\n",
    "        break"
   ]
  },
  {
   "cell_type": "markdown",
   "metadata": {},
   "source": [
    "Check if exon1 is complete."
   ]
  },
  {
   "cell_type": "code",
   "execution_count": 7,
   "metadata": {
    "collapsed": true
   },
   "outputs": [],
   "source": [
    "import gzip\n",
    "from Bio import SeqIO\n",
    "\n",
    "\n",
    "start=8965742\n",
    "end=8965836\n",
    "\n",
    "for rec in SeqIO.parse(gzip.open('../../data/REFERENCE_DATA/20120125_MapAssembly.anchored.assembly.fasta.gz','r'),'fasta'):\n",
    "    if rec.id == 'LG8-24':\n",
    "        rec.seq = rec.seq[start-1:end]\n",
    "        SeqIO.write(rec, open('O_niloticus_HBA_exon1.fasta','w'), 'fasta')\n",
    "        break"
   ]
  },
  {
   "cell_type": "code",
   "execution_count": 8,
   "metadata": {
    "collapsed": false
   },
   "outputs": [
    {
     "name": "stdout",
     "output_type": "stream",
     "text": [
      ">LG8-24\r\n",
      "ATGAGTCTGACTGAGAAAGACAAAGCTGCCGTCAAGGCACTCTGGGCCAAGATCTCCAAG\r\n",
      "TCTGTGGATGCTATTGGAGCCGAAGCTTTGGGCAG\r\n"
     ]
    }
   ],
   "source": [
    "!cat O_niloticus_HBA_exon1.fasta"
   ]
  },
  {
   "cell_type": "code",
   "execution_count": 9,
   "metadata": {
    "collapsed": false
   },
   "outputs": [
    {
     "name": "stdout",
     "output_type": "stream",
     "text": [
      "BLASTN 2.2.31+\r\n",
      "\r\n",
      "\r\n",
      "Query= LG8-24\r\n",
      "\r\n",
      "Length=95\r\n",
      "\r\n",
      "Subject= scaffold_81\r\n",
      "\r\n",
      "Length=3037336\r\n",
      "\r\n",
      "\r\n",
      " Score = 132 bits (71),  Expect = 4e-32\r\n",
      " Identities = 87/95 (92%), Gaps = 0/95 (0%)\r\n",
      " Strand=Plus/Plus\r\n",
      "\r\n",
      "Query  1       ATGAGTCTGACTGAGAAAGACAAAGCTGCCGTCAAGGCACTCTGGGCCAAGATCTCCAAG  60\r\n",
      "               ||||||||||||||||||||||| ||||||||||||||||||||||||||| ||||||||\r\n",
      "Sbjct  429302  ATGAGTCTGACTGAGAAAGACAAGGCTGCCGTCAAGGCACTCTGGGCCAAGGTCTCCAAG  429361\r\n",
      "\r\n",
      "Query  61      TCTGTGGATGCTATTGGAGCCGAAGCTTTGGGCAG  95\r\n",
      "                 | ||||| || |||||| |||||||||||||||\r\n",
      "Sbjct  429362  GTTATGGATACTGTTGGAGGCGAAGCTTTGGGCAG  429396\r\n",
      "\r\n",
      "\r\n",
      "\r\n",
      "Lambda      K        H\r\n",
      "    1.33    0.621     1.12 \r\n",
      "\r\n",
      "Gapped\r\n",
      "Lambda      K        H\r\n",
      "    1.28    0.460    0.850 \r\n",
      "\r\n",
      "Effective search space used: 230836092\r\n",
      "\r\n",
      "\r\n",
      "\r\n",
      "\r\n",
      "Matrix: blastn matrix 1 -2\r\n",
      "Gap Penalties: Existence: 0, Extension: 2.5\r\n"
     ]
    }
   ],
   "source": [
    "!blastn -query O_niloticus_HBA_exon1.fasta -subject scaffold_81.fasta -word_size 15"
   ]
  },
  {
   "cell_type": "markdown",
   "metadata": {},
   "source": [
    "Exon1 seems to be complete."
   ]
  },
  {
   "cell_type": "markdown",
   "metadata": {},
   "source": [
    "Repeat for exon 2."
   ]
  },
  {
   "cell_type": "code",
   "execution_count": 10,
   "metadata": {
    "collapsed": true
   },
   "outputs": [],
   "source": [
    "import gzip\n",
    "from Bio import SeqIO\n",
    "\n",
    "\n",
    "start=8966105\n",
    "end=8966312\n",
    "\n",
    "for rec in SeqIO.parse(gzip.open('../../data/REFERENCE_DATA/20120125_MapAssembly.anchored.assembly.fasta.gz','r'),'fasta'):\n",
    "    if rec.id == 'LG8-24':\n",
    "        rec.seq = rec.seq[start-1:end]\n",
    "        SeqIO.write(rec, open('O_niloticus_HBA_exon2.fasta','w'), 'fasta')\n",
    "        break"
   ]
  },
  {
   "cell_type": "code",
   "execution_count": 11,
   "metadata": {
    "collapsed": false
   },
   "outputs": [
    {
     "name": "stdout",
     "output_type": "stream",
     "text": [
      ">LG8-24\r\n",
      "GATGCTCCTCGTGTATCCGCAAACCAAGACTTACTTCTCCCACTGGCCGGACCTGACTCC\r\n",
      "CGGTTCTGCCCCCGTGGTGAGTCACGGAAAGCAGATCATGGGTGGAGTCACTGAGGCCAT\r\n",
      "GTCCAAGATTGACAACCTGCGCGGCGGCCTGCTGGAACTGAGCGAGCTGCACGCCTTCAA\r\n",
      "GCTGAGGGTGGACCCATCTAACTTCAAG\r\n"
     ]
    }
   ],
   "source": [
    "!cat O_niloticus_HBA_exon2.fasta"
   ]
  },
  {
   "cell_type": "code",
   "execution_count": 12,
   "metadata": {
    "collapsed": false
   },
   "outputs": [
    {
     "name": "stdout",
     "output_type": "stream",
     "text": [
      "BLASTN 2.2.31+\r\n",
      "\r\n",
      "\r\n",
      "Query= LG8-24\r\n",
      "\r\n",
      "Length=208\r\n",
      "\r\n",
      "Subject= scaffold_81\r\n",
      "\r\n",
      "Length=3037336\r\n",
      "\r\n",
      "\r\n",
      " Score = 143 bits (77),  Expect = 4e-35\r\n",
      " Identities = 87/92 (95%), Gaps = 0/92 (0%)\r\n",
      " Strand=Plus/Plus\r\n",
      "\r\n",
      "Query  1       GATGCTCCTCGTGTATCCGCAAACCAAGACTTACTTCTCCCACTGGCCGGACCTGACTCC  60\r\n",
      "               ||||||||||||||||||||||||||||||||||||||||||||||||||||||||||||\r\n",
      "Sbjct  429662  GATGCTCCTCGTGTATCCGCAAACCAAGACTTACTTCTCCCACTGGCCGGACCTGACTCC  429721\r\n",
      "\r\n",
      "Query  61      CGGTTCTGCCCCCGTGGTGAGTCACGGAAAGC  92\r\n",
      "               ||||||||  |||||| ||  |||||||||||\r\n",
      "Sbjct  429722  CGGTTCTGAGCCCGTGATGGTTCACGGAAAGC  429753\r\n",
      "\r\n",
      "\r\n",
      " Score = 28.8 bits (15),  Expect = 1.2\r\n",
      " Identities = 15/15 (100%), Gaps = 0/15 (0%)\r\n",
      " Strand=Plus/Plus\r\n",
      "\r\n",
      "Query  20       CAAACCAAGACTTAC  34\r\n",
      "                |||||||||||||||\r\n",
      "Sbjct  2875326  CAAACCAAGACTTAC  2875340\r\n",
      "\r\n",
      "\r\n",
      "\r\n",
      "Lambda      K        H\r\n",
      "    1.33    0.621     1.12 \r\n",
      "\r\n",
      "Gapped\r\n",
      "Lambda      K        H\r\n",
      "    1.28    0.460    0.850 \r\n",
      "\r\n",
      "Effective search space used: 571015408\r\n",
      "\r\n",
      "\r\n",
      "\r\n",
      "\r\n",
      "Matrix: blastn matrix 1 -2\r\n",
      "Gap Penalties: Existence: 0, Extension: 2.5\r\n"
     ]
    }
   ],
   "source": [
    "!blastn -query O_niloticus_HBA_exon2.fasta -subject scaffold_81.fasta -word_size 15"
   ]
  },
  {
   "cell_type": "markdown",
   "metadata": {},
   "source": [
    "A big chunk of exon 2 appears to be missing."
   ]
  },
  {
   "cell_type": "markdown",
   "metadata": {},
   "source": [
    "Repeat for exon 3."
   ]
  },
  {
   "cell_type": "code",
   "execution_count": 13,
   "metadata": {
    "collapsed": true
   },
   "outputs": [],
   "source": [
    "import gzip\n",
    "from Bio import SeqIO\n",
    "\n",
    "\n",
    "start=8966544\n",
    "end=8966672\n",
    "\n",
    "for rec in SeqIO.parse(gzip.open('../../data/REFERENCE_DATA/20120125_MapAssembly.anchored.assembly.fasta.gz','r'),'fasta'):\n",
    "    if rec.id == 'LG8-24':\n",
    "        rec.seq = rec.seq[start-1:end]\n",
    "        SeqIO.write(rec, open('O_niloticus_HBA_exon3.fasta','w'), 'fasta')\n",
    "        break"
   ]
  },
  {
   "cell_type": "code",
   "execution_count": 14,
   "metadata": {
    "collapsed": false
   },
   "outputs": [
    {
     "name": "stdout",
     "output_type": "stream",
     "text": [
      ">LG8-24\r\n",
      "ATCTTGGCTCAGACCATTATGGTGGTGGTCGCCGCTATGTTCCCTAACGATTTCACCCCG\r\n",
      "GAAGCTCATGTCGCCTTCGACAAATTCTTGGCAGCCGTGGCCCTGGGTCTCTCTGAGAGA\r\n",
      "TACCGTTGA\r\n"
     ]
    }
   ],
   "source": [
    "!cat O_niloticus_HBA_exon3.fasta"
   ]
  },
  {
   "cell_type": "code",
   "execution_count": 15,
   "metadata": {
    "collapsed": false
   },
   "outputs": [
    {
     "name": "stdout",
     "output_type": "stream",
     "text": [
      "BLASTN 2.2.31+\r\n",
      "\r\n",
      "\r\n",
      "Query= LG8-24\r\n",
      "\r\n",
      "Length=129\r\n",
      "\r\n",
      "Subject= scaffold_81\r\n",
      "\r\n",
      "Length=3037336\r\n",
      "\r\n",
      "\r\n",
      " Score = 169 bits (91),  Expect = 4e-43\r\n",
      " Identities = 105/112 (94%), Gaps = 0/112 (0%)\r\n",
      " Strand=Plus/Plus\r\n",
      "\r\n",
      "Query  18      TATGGTGGTGGTCGCCGCTATGTTCCCTAACGATTTCACCCCGGAAGCTCATGTCGCCTT  77\r\n",
      "               |||||||||| |||||  |||||||||||| ||||||||||||||| |||||||||||||\r\n",
      "Sbjct  430280  TATGGTGGTGATCGCCATTATGTTCCCTAAAGATTTCACCCCGGAAACTCATGTCGCCTT  430339\r\n",
      "\r\n",
      "Query  78      CGACAAATTCTTGGCAGCCGTGGCCCTGGGTCTCTCTGAGAGATACCGTTGA  129\r\n",
      "               ||||||||||||||| ||||||||||||||||||||||||| ||||||||||\r\n",
      "Sbjct  430340  CGACAAATTCTTGGCCGCCGTGGCCCTGGGTCTCTCTGAGAAATACCGTTGA  430391\r\n",
      "\r\n",
      "\r\n",
      " Score = 28.8 bits (15),  Expect = 0.70\r\n",
      " Identities = 15/15 (100%), Gaps = 0/15 (0%)\r\n",
      " Strand=Plus/Plus\r\n",
      "\r\n",
      "Query  86       TCTTGGCAGCCGTGG  100\r\n",
      "                |||||||||||||||\r\n",
      "Sbjct  1112413  TCTTGGCAGCCGTGG  1112427\r\n",
      "\r\n",
      "\r\n",
      " Score = 27.0 bits (14),  Expect = 2.5\r\n",
      " Identities = 14/14 (100%), Gaps = 0/14 (0%)\r\n",
      " Strand=Plus/Minus\r\n",
      "\r\n",
      "Query  3        CTTGGCTCAGACCA  16\r\n",
      "                ||||||||||||||\r\n",
      "Sbjct  1972149  CTTGGCTCAGACCA  1972136\r\n",
      "\r\n",
      "\r\n",
      " Score = 27.0 bits (14),  Expect = 2.5\r\n",
      " Identities = 20/23 (87%), Gaps = 0/23 (0%)\r\n",
      " Strand=Plus/Plus\r\n",
      "\r\n",
      "Query  84       ATTCTTGGCAGCCGTGGCCCTGG  106\r\n",
      "                |||||||||||| |  |||||||\r\n",
      "Sbjct  2066201  ATTCTTGGCAGCAGGAGCCCTGG  2066223\r\n",
      "\r\n",
      "\r\n",
      " Score = 25.1 bits (13),  Expect = 9.0\r\n",
      " Identities = 15/16 (94%), Gaps = 0/16 (0%)\r\n",
      " Strand=Plus/Plus\r\n",
      "\r\n",
      "Query  4       TTGGCTCAGACCATTA  19\r\n",
      "               |||||||||| |||||\r\n",
      "Sbjct  165566  TTGGCTCAGAACATTA  165581\r\n",
      "\r\n",
      "\r\n",
      " Score = 25.1 bits (13),  Expect = 9.0\r\n",
      " Identities = 13/13 (100%), Gaps = 0/13 (0%)\r\n",
      " Strand=Plus/Minus\r\n",
      "\r\n",
      "Query  100     GCCCTGGGTCTCT  112\r\n",
      "               |||||||||||||\r\n",
      "Sbjct  206647  GCCCTGGGTCTCT  206635\r\n",
      "\r\n",
      "\r\n",
      " Score = 25.1 bits (13),  Expect = 9.0\r\n",
      " Identities = 13/13 (100%), Gaps = 0/13 (0%)\r\n",
      " Strand=Plus/Plus\r\n",
      "\r\n",
      "Query  9       TCAGACCATTATG  21\r\n",
      "               |||||||||||||\r\n",
      "Sbjct  294226  TCAGACCATTATG  294238\r\n",
      "\r\n",
      "\r\n",
      " Score = 25.1 bits (13),  Expect = 9.0\r\n",
      " Identities = 13/13 (100%), Gaps = 0/13 (0%)\r\n",
      " Strand=Plus/Minus\r\n",
      "\r\n",
      "Query  62      AAGCTCATGTCGC  74\r\n",
      "               |||||||||||||\r\n",
      "Sbjct  775618  AAGCTCATGTCGC  775606\r\n",
      "\r\n",
      "\r\n",
      " Score = 25.1 bits (13),  Expect = 9.0\r\n",
      " Identities = 15/16 (94%), Gaps = 0/16 (0%)\r\n",
      " Strand=Plus/Minus\r\n",
      "\r\n",
      "Query  14      CCATTATGGTGGTGGT  29\r\n",
      "               |||||| |||||||||\r\n",
      "Sbjct  825262  CCATTAGGGTGGTGGT  825247\r\n",
      "\r\n",
      "\r\n",
      " Score = 25.1 bits (13),  Expect = 9.0\r\n",
      " Identities = 13/13 (100%), Gaps = 0/13 (0%)\r\n",
      " Strand=Plus/Plus\r\n",
      "\r\n",
      "Query  98      TGGCCCTGGGTCT  110\r\n",
      "               |||||||||||||\r\n",
      "Sbjct  954233  TGGCCCTGGGTCT  954245\r\n",
      "\r\n",
      "\r\n",
      " Score = 25.1 bits (13),  Expect = 9.0\r\n",
      " Identities = 17/19 (89%), Gaps = 0/19 (0%)\r\n",
      " Strand=Plus/Plus\r\n",
      "\r\n",
      "Query  15      CATTATGGTGGTGGTCGCC  33\r\n",
      "               |||||||||||| | ||||\r\n",
      "Sbjct  981368  CATTATGGTGGTTGGCGCC  981386\r\n",
      "\r\n",
      "\r\n",
      " Score = 25.1 bits (13),  Expect = 9.0\r\n",
      " Identities = 13/13 (100%), Gaps = 0/13 (0%)\r\n",
      " Strand=Plus/Plus\r\n",
      "\r\n",
      "Query  35       CTATGTTCCCTAA  47\r\n",
      "                |||||||||||||\r\n",
      "Sbjct  1030708  CTATGTTCCCTAA  1030720\r\n",
      "\r\n",
      "\r\n",
      " Score = 25.1 bits (13),  Expect = 9.0\r\n",
      " Identities = 13/13 (100%), Gaps = 0/13 (0%)\r\n",
      " Strand=Plus/Plus\r\n",
      "\r\n",
      "Query  10       CAGACCATTATGG  22\r\n",
      "                |||||||||||||\r\n",
      "Sbjct  1733083  CAGACCATTATGG  1733095\r\n",
      "\r\n",
      "\r\n",
      " Score = 25.1 bits (13),  Expect = 9.0\r\n",
      " Identities = 13/13 (100%), Gaps = 0/13 (0%)\r\n",
      " Strand=Plus/Minus\r\n",
      "\r\n",
      "Query  15       CATTATGGTGGTG  27\r\n",
      "                |||||||||||||\r\n",
      "Sbjct  1940707  CATTATGGTGGTG  1940695\r\n",
      "\r\n",
      "\r\n",
      " Score = 25.1 bits (13),  Expect = 9.0\r\n",
      " Identities = 13/13 (100%), Gaps = 0/13 (0%)\r\n",
      " Strand=Plus/Minus\r\n",
      "\r\n",
      "Query  91       GCAGCCGTGGCCC  103\r\n",
      "                |||||||||||||\r\n",
      "Sbjct  1970137  GCAGCCGTGGCCC  1970125\r\n",
      "\r\n",
      "\r\n",
      " Score = 25.1 bits (13),  Expect = 9.0\r\n",
      " Identities = 15/16 (94%), Gaps = 0/16 (0%)\r\n",
      " Strand=Plus/Plus\r\n",
      "\r\n",
      "Query  101      CCCTGGGTCTCTCTGA  116\r\n",
      "                ||| ||||||||||||\r\n",
      "Sbjct  2166955  CCCAGGGTCTCTCTGA  2166970\r\n",
      "\r\n",
      "\r\n",
      " Score = 25.1 bits (13),  Expect = 9.0\r\n",
      " Identities = 13/13 (100%), Gaps = 0/13 (0%)\r\n",
      " Strand=Plus/Minus\r\n",
      "\r\n",
      "Query  68       ATGTCGCCTTCGA  80\r\n",
      "                |||||||||||||\r\n",
      "Sbjct  2193380  ATGTCGCCTTCGA  2193368\r\n",
      "\r\n",
      "\r\n",
      "\r\n",
      "Lambda      K        H\r\n",
      "    1.33    0.621     1.12 \r\n",
      "\r\n",
      "Gapped\r\n",
      "Lambda      K        H\r\n",
      "    1.28    0.460    0.850 \r\n",
      "\r\n",
      "Effective search space used: 331067444\r\n",
      "\r\n",
      "\r\n",
      "\r\n",
      "\r\n",
      "Matrix: blastn matrix 1 -2\r\n",
      "Gap Penalties: Existence: 0, Extension: 2.5\r\n"
     ]
    }
   ],
   "source": [
    "!blastn -query O_niloticus_HBA_exon3.fasta -subject scaffold_81.fasta -word_size 8"
   ]
  },
  {
   "cell_type": "markdown",
   "metadata": {},
   "source": [
    "The start of exon3 appears to be missing. Upon closer inspection it's there but blast seems to not be sensitive enough to find the match at the beginning of the exon."
   ]
  },
  {
   "cell_type": "markdown",
   "metadata": {},
   "source": [
    "Extract what seems to be the gene in the M. zebra reference genome from the vcf file."
   ]
  },
  {
   "cell_type": "code",
   "execution_count": 16,
   "metadata": {
    "collapsed": false
   },
   "outputs": [
    {
     "name": "stdout",
     "output_type": "stream",
     "text": [
      "no populationmap provided\n",
      "\n",
      "\n",
      "Target region: 429302 - 430391\n",
      "ignoring indels in consensus mode at: 430203\n",
      "ignoring indels in consensus mode at: 430227\n",
      "writing haplotypes to fasta\n",
      "\n"
     ]
    }
   ],
   "source": [
    "%%bash\n",
    "python ../../../../Dropbox/Github/genomisc/popogeno/vcf_2_hap.py ../../data/VCF/Malawi2015_all_sc_81_324832-500718_beagle_annotatedAllGenes.vcf.gz \\\n",
    "--fasta \\\n",
    "--fill_from_ref_fasta scaffold_81.fasta \\\n",
    "--start 429302 \\\n",
    "--end 430391 \\\n",
    "--consensus \\\n",
    "-o globin_alpha-1-full-consensus"
   ]
  },
  {
   "cell_type": "markdown",
   "metadata": {},
   "source": [
    "Concatenate M. zebra alignment and O. niloticus full gene into a single file and align with muscle."
   ]
  },
  {
   "cell_type": "code",
   "execution_count": 17,
   "metadata": {
    "collapsed": false
   },
   "outputs": [
    {
     "name": "stderr",
     "output_type": "stream",
     "text": [
      "\n",
      "MUSCLE v3.8.31 by Robert C. Edgar\n",
      "\n",
      "http://www.drive5.com/muscle\n",
      "This software is donated to the public domain.\n",
      "Please cite: Edgar, R.C. Nucleic Acids Res 32(5), 1792-97.\n",
      "\n",
      "globin_alpha-1-full-consensus.O 157 seqs, max length 1088, avg  length 1087\n",
      "00:00:00    24 MB(-1%)  Iter   1    0.01%  K-mer dist pass 1\r",
      "00:00:00    24 MB(-1%)  Iter   1    4.04%  K-mer dist pass 1\r",
      "00:00:00    24 MB(-1%)  Iter   1    8.07%  K-mer dist pass 1\r",
      "00:00:00    24 MB(-1%)  Iter   1   12.10%  K-mer dist pass 1\r",
      "00:00:00    24 MB(-1%)  Iter   1   16.13%  K-mer dist pass 1\r",
      "00:00:00    24 MB(-1%)  Iter   1   20.16%  K-mer dist pass 1\r",
      "00:00:00    24 MB(-1%)  Iter   1   24.20%  K-mer dist pass 1\r",
      "00:00:00    24 MB(-1%)  Iter   1   28.23%  K-mer dist pass 1\r",
      "00:00:00    24 MB(-1%)  Iter   1   32.26%  K-mer dist pass 1\r",
      "00:00:00    24 MB(-1%)  Iter   1   36.29%  K-mer dist pass 1\r",
      "00:00:00    24 MB(-1%)  Iter   1   40.32%  K-mer dist pass 1\r",
      "00:00:00    24 MB(-1%)  Iter   1   44.35%  K-mer dist pass 1\r",
      "00:00:00    24 MB(-1%)  Iter   1   48.38%  K-mer dist pass 1\r",
      "00:00:00    24 MB(-1%)  Iter   1   52.41%  K-mer dist pass 1\r",
      "00:00:00    24 MB(-1%)  Iter   1   56.45%  K-mer dist pass 1\r",
      "00:00:00    24 MB(-1%)  Iter   1   60.48%  K-mer dist pass 1\r",
      "00:00:00    24 MB(-1%)  Iter   1   64.51%  K-mer dist pass 1\r",
      "00:00:00    24 MB(-1%)  Iter   1   68.54%  K-mer dist pass 1\r",
      "00:00:00    24 MB(-1%)  Iter   1   72.57%  K-mer dist pass 1\r",
      "00:00:00    24 MB(-1%)  Iter   1   76.60%  K-mer dist pass 1\r",
      "00:00:00    24 MB(-1%)  Iter   1   80.63%  K-mer dist pass 1\r",
      "00:00:00    24 MB(-1%)  Iter   1   84.67%  K-mer dist pass 1\r",
      "00:00:00    24 MB(-1%)  Iter   1   88.70%  K-mer dist pass 1\r",
      "00:00:00    24 MB(-1%)  Iter   1   92.73%  K-mer dist pass 1\r",
      "00:00:00    24 MB(-1%)  Iter   1   96.76%  K-mer dist pass 1\r",
      "00:00:00    24 MB(-1%)  Iter   1  100.00%  K-mer dist pass 1\r\n",
      "00:00:00    24 MB(-1%)  Iter   1    0.01%  K-mer dist pass 2\r",
      "00:00:00    24 MB(-1%)  Iter   1    4.04%  K-mer dist pass 2\r",
      "00:00:00    24 MB(-1%)  Iter   1    8.07%  K-mer dist pass 2\r",
      "00:00:00    24 MB(-1%)  Iter   1   12.10%  K-mer dist pass 2\r",
      "00:00:00    24 MB(-1%)  Iter   1   16.13%  K-mer dist pass 2\r",
      "00:00:00    24 MB(-1%)  Iter   1   20.16%  K-mer dist pass 2\r",
      "00:00:00    24 MB(-1%)  Iter   1   24.20%  K-mer dist pass 2\r",
      "00:00:00    24 MB(-1%)  Iter   1   28.23%  K-mer dist pass 2\r",
      "00:00:00    24 MB(-1%)  Iter   1   32.26%  K-mer dist pass 2\r",
      "00:00:00    24 MB(-1%)  Iter   1   36.29%  K-mer dist pass 2\r",
      "00:00:00    24 MB(-1%)  Iter   1   40.32%  K-mer dist pass 2\r",
      "00:00:00    24 MB(-1%)  Iter   1   44.35%  K-mer dist pass 2\r",
      "00:00:00    24 MB(-1%)  Iter   1   48.38%  K-mer dist pass 2\r",
      "00:00:00    24 MB(-1%)  Iter   1   52.41%  K-mer dist pass 2\r",
      "00:00:00    24 MB(-1%)  Iter   1   56.45%  K-mer dist pass 2\r",
      "00:00:00    24 MB(-1%)  Iter   1   60.48%  K-mer dist pass 2\r",
      "00:00:00    24 MB(-1%)  Iter   1   64.51%  K-mer dist pass 2\r",
      "00:00:00    24 MB(-1%)  Iter   1   68.54%  K-mer dist pass 2\r",
      "00:00:00    24 MB(-1%)  Iter   1   72.57%  K-mer dist pass 2\r",
      "00:00:00    24 MB(-1%)  Iter   1   76.60%  K-mer dist pass 2\r",
      "00:00:00    24 MB(-1%)  Iter   1   80.63%  K-mer dist pass 2\r",
      "00:00:00    24 MB(-1%)  Iter   1   84.67%  K-mer dist pass 2\r",
      "00:00:00    24 MB(-1%)  Iter   1   88.70%  K-mer dist pass 2\r",
      "00:00:00    24 MB(-1%)  Iter   1   92.73%  K-mer dist pass 2\r",
      "00:00:00    24 MB(-1%)  Iter   1   96.76%  K-mer dist pass 2\r",
      "00:00:00    24 MB(-1%)  Iter   1  100.00%  K-mer dist pass 2\r\n",
      "00:00:00    24 MB(-1%)  Iter   1    0.64%  Align node       \r",
      "00:00:00    29 MB(-2%)  Iter   1    1.28%  Align node\r",
      "00:00:00    33 MB(-2%)  Iter   1    1.92%  Align node\r",
      "00:00:00    34 MB(-2%)  Iter   1    2.56%  Align node\r",
      "00:00:00    34 MB(-2%)  Iter   1    3.21%  Align node\r",
      "00:00:00    35 MB(-2%)  Iter   1    3.85%  Align node\r",
      "00:00:00    36 MB(-2%)  Iter   1    4.49%  Align node\r",
      "00:00:00    37 MB(-2%)  Iter   1    5.13%  Align node\r",
      "00:00:00    37 MB(-2%)  Iter   1    5.77%  Align node\r",
      "00:00:00    38 MB(-2%)  Iter   1    6.41%  Align node\r",
      "00:00:00    38 MB(-2%)  Iter   1    7.05%  Align node\r",
      "00:00:00    38 MB(-2%)  Iter   1    7.69%  Align node\r",
      "00:00:00    39 MB(-2%)  Iter   1    8.33%  Align node\r",
      "00:00:00    40 MB(-2%)  Iter   1    8.97%  Align node\r",
      "00:00:00    41 MB(-2%)  Iter   1    9.62%  Align node\r",
      "00:00:00    42 MB(-2%)  Iter   1   10.26%  Align node\r",
      "00:00:00    42 MB(-3%)  Iter   1   10.90%  Align node\r",
      "00:00:00    43 MB(-3%)  Iter   1   11.54%  Align node\r",
      "00:00:00    44 MB(-3%)  Iter   1   12.18%  Align node\r",
      "00:00:00    44 MB(-3%)  Iter   1   12.82%  Align node\r",
      "00:00:00    45 MB(-3%)  Iter   1   13.46%  Align node\r",
      "00:00:00    46 MB(-3%)  Iter   1   14.10%  Align node\r",
      "00:00:00    46 MB(-3%)  Iter   1   14.74%  Align node\r",
      "00:00:00    47 MB(-3%)  Iter   1   15.38%  Align node\r",
      "00:00:00    47 MB(-3%)  Iter   1   16.03%  Align node\r",
      "00:00:00    47 MB(-3%)  Iter   1   16.67%  Align node\r",
      "00:00:00    48 MB(-3%)  Iter   1   17.31%  Align node\r",
      "00:00:00    48 MB(-3%)  Iter   1   17.95%  Align node\r",
      "00:00:00    48 MB(-3%)  Iter   1   18.59%  Align node\r",
      "00:00:00    49 MB(-3%)  Iter   1   19.23%  Align node\r",
      "00:00:00    49 MB(-3%)  Iter   1   19.87%  Align node\r",
      "00:00:00    49 MB(-3%)  Iter   1   20.51%  Align node\r",
      "00:00:00    50 MB(-3%)  Iter   1   21.15%  Align node\r",
      "00:00:00    50 MB(-3%)  Iter   1   21.79%  Align node\r",
      "00:00:00    53 MB(-3%)  Iter   1   22.44%  Align node\r",
      "00:00:00    53 MB(-3%)  Iter   1   23.08%  Align node\r",
      "00:00:00    53 MB(-3%)  Iter   1   23.72%  Align node\r",
      "00:00:00    54 MB(-3%)  Iter   1   24.36%  Align node\r",
      "00:00:00    54 MB(-3%)  Iter   1   25.00%  Align node\r",
      "00:00:00    54 MB(-3%)  Iter   1   25.64%  Align node\r",
      "00:00:00    56 MB(-3%)  Iter   1   26.28%  Align node\r",
      "00:00:00    57 MB(-3%)  Iter   1   26.92%  Align node\r",
      "00:00:00    58 MB(-3%)  Iter   1   27.56%  Align node\r",
      "00:00:00    59 MB(-4%)  Iter   1   28.21%  Align node\r",
      "00:00:00    61 MB(-4%)  Iter   1   28.85%  Align node\r",
      "00:00:00    61 MB(-4%)  Iter   1   29.49%  Align node\r",
      "00:00:00    62 MB(-4%)  Iter   1   30.13%  Align node\r",
      "00:00:00    62 MB(-4%)  Iter   1   30.77%  Align node\r",
      "00:00:00    62 MB(-4%)  Iter   1   31.41%  Align node\r",
      "00:00:00    63 MB(-4%)  Iter   1   32.05%  Align node\r",
      "00:00:00    63 MB(-4%)  Iter   1   32.69%  Align node\r",
      "00:00:00    63 MB(-4%)  Iter   1   33.33%  Align node\r",
      "00:00:00    65 MB(-4%)  Iter   1   33.97%  Align node\r",
      "00:00:00    65 MB(-4%)  Iter   1   34.62%  Align node\r",
      "00:00:00    67 MB(-4%)  Iter   1   35.26%  Align node\r",
      "00:00:00    68 MB(-4%)  Iter   1   35.90%  Align node\r",
      "00:00:00    69 MB(-4%)  Iter   1   36.54%  Align node\r",
      "00:00:00    69 MB(-4%)  Iter   1   37.18%  Align node\r",
      "00:00:00    70 MB(-4%)  Iter   1   37.82%  Align node\r",
      "00:00:00    71 MB(-4%)  Iter   1   38.46%  Align node\r",
      "00:00:00    71 MB(-4%)  Iter   1   39.10%  Align node\r",
      "00:00:00    72 MB(-4%)  Iter   1   39.74%  Align node\r",
      "00:00:00    72 MB(-4%)  Iter   1   40.38%  Align node\r",
      "00:00:00    73 MB(-4%)  Iter   1   41.03%  Align node\r",
      "00:00:00    74 MB(-4%)  Iter   1   41.67%  Align node\r",
      "00:00:00    75 MB(-4%)  Iter   1   42.31%  Align node\r",
      "00:00:01    75 MB(-4%)  Iter   1   42.95%  Align node\r",
      "00:00:01    76 MB(-5%)  Iter   1   43.59%  Align node\r",
      "00:00:01    76 MB(-5%)  Iter   1   44.23%  Align node\r",
      "00:00:01    77 MB(-5%)  Iter   1   44.87%  Align node\r",
      "00:00:01    78 MB(-5%)  Iter   1   45.51%  Align node\r",
      "00:00:01    78 MB(-5%)  Iter   1   46.15%  Align node\r",
      "00:00:01    79 MB(-5%)  Iter   1   46.79%  Align node\r",
      "00:00:01    80 MB(-5%)  Iter   1   47.44%  Align node\r",
      "00:00:01    80 MB(-5%)  Iter   1   48.08%  Align node\r",
      "00:00:01    81 MB(-5%)  Iter   1   48.72%  Align node\r",
      "00:00:01    82 MB(-5%)  Iter   1   49.36%  Align node\r",
      "00:00:01    82 MB(-5%)  Iter   1   50.00%  Align node\r",
      "00:00:01    83 MB(-5%)  Iter   1   50.64%  Align node\r",
      "00:00:01    84 MB(-5%)  Iter   1   51.28%  Align node\r",
      "00:00:01    84 MB(-5%)  Iter   1   51.92%  Align node\r",
      "00:00:01    85 MB(-5%)  Iter   1   52.56%  Align node\r",
      "00:00:01    86 MB(-5%)  Iter   1   53.21%  Align node\r",
      "00:00:01    87 MB(-5%)  Iter   1   53.85%  Align node\r",
      "00:00:01    87 MB(-5%)  Iter   1   54.49%  Align node\r",
      "00:00:01    88 MB(-5%)  Iter   1   55.13%  Align node\r",
      "00:00:01    88 MB(-5%)  Iter   1   55.77%  Align node\r",
      "00:00:01    89 MB(-5%)  Iter   1   56.41%  Align node\r",
      "00:00:01    89 MB(-5%)  Iter   1   57.05%  Align node\r",
      "00:00:01    89 MB(-5%)  Iter   1   57.69%  Align node\r",
      "00:00:01    90 MB(-5%)  Iter   1   58.33%  Align node\r",
      "00:00:01    90 MB(-5%)  Iter   1   58.97%  Align node\r",
      "00:00:01    91 MB(-5%)  Iter   1   59.62%  Align node\r",
      "00:00:01    92 MB(-5%)  Iter   1   60.26%  Align node\r",
      "00:00:01    94 MB(-6%)  Iter   1   60.90%  Align node\r",
      "00:00:01    94 MB(-6%)  Iter   1   61.54%  Align node\r",
      "00:00:01    95 MB(-6%)  Iter   1   62.18%  Align node\r",
      "00:00:01    95 MB(-6%)  Iter   1   62.82%  Align node\r",
      "00:00:01    96 MB(-6%)  Iter   1   63.46%  Align node\r",
      "00:00:01    97 MB(-6%)  Iter   1   64.10%  Align node\r",
      "00:00:01    97 MB(-6%)  Iter   1   64.74%  Align node\r",
      "00:00:01    97 MB(-6%)  Iter   1   65.38%  Align node\r",
      "00:00:01    98 MB(-6%)  Iter   1   66.03%  Align node\r",
      "00:00:01    99 MB(-6%)  Iter   1   66.67%  Align node\r",
      "00:00:01   101 MB(-6%)  Iter   1   67.31%  Align node\r",
      "00:00:01   101 MB(-6%)  Iter   1   67.95%  Align node\r",
      "00:00:01   102 MB(-6%)  Iter   1   68.59%  Align node\r",
      "00:00:01   103 MB(-6%)  Iter   1   69.23%  Align node\r",
      "00:00:01   103 MB(-6%)  Iter   1   69.87%  Align node\r",
      "00:00:01   104 MB(-6%)  Iter   1   70.51%  Align node\r",
      "00:00:01   105 MB(-6%)  Iter   1   71.15%  Align node\r",
      "00:00:01   105 MB(-6%)  Iter   1   71.79%  Align node\r",
      "00:00:01   106 MB(-6%)  Iter   1   72.44%  Align node\r",
      "00:00:01   107 MB(-6%)  Iter   1   73.08%  Align node\r",
      "00:00:01   107 MB(-6%)  Iter   1   73.72%  Align node\r",
      "00:00:01   108 MB(-6%)  Iter   1   74.36%  Align node\r",
      "00:00:01   108 MB(-6%)  Iter   1   75.00%  Align node\r",
      "00:00:01   109 MB(-7%)  Iter   1   75.64%  Align node\r",
      "00:00:01   110 MB(-7%)  Iter   1   76.28%  Align node\r",
      "00:00:01   110 MB(-7%)  Iter   1   76.92%  Align node\r",
      "00:00:01   111 MB(-7%)  Iter   1   77.56%  Align node\r",
      "00:00:01   112 MB(-7%)  Iter   1   78.21%  Align node\r",
      "00:00:01   112 MB(-7%)  Iter   1   78.85%  Align node\r",
      "00:00:01   113 MB(-7%)  Iter   1   79.49%  Align node\r",
      "00:00:01   114 MB(-7%)  Iter   1   80.13%  Align node\r",
      "00:00:01   114 MB(-7%)  Iter   1   80.77%  Align node\r",
      "00:00:01   115 MB(-7%)  Iter   1   81.41%  Align node\r",
      "00:00:01   116 MB(-7%)  Iter   1   82.05%  Align node\r",
      "00:00:01   116 MB(-7%)  Iter   1   82.69%  Align node\r",
      "00:00:01   117 MB(-7%)  Iter   1   83.33%  Align node\r",
      "00:00:01   117 MB(-7%)  Iter   1   83.97%  Align node\r",
      "00:00:01   118 MB(-7%)  Iter   1   84.62%  Align node\r",
      "00:00:01   118 MB(-7%)  Iter   1   85.26%  Align node\r",
      "00:00:01   120 MB(-7%)  Iter   1   85.90%  Align node\r",
      "00:00:01   120 MB(-7%)  Iter   1   86.54%  Align node\r",
      "00:00:01   121 MB(-7%)  Iter   1   87.18%  Align node\r",
      "00:00:01   122 MB(-7%)  Iter   1   87.82%  Align node\r",
      "00:00:01   122 MB(-7%)  Iter   1   88.46%  Align node\r",
      "00:00:02   123 MB(-7%)  Iter   1   89.10%  Align node\r",
      "00:00:02   124 MB(-7%)  Iter   1   89.74%  Align node\r",
      "00:00:02   124 MB(-7%)  Iter   1   90.38%  Align node\r",
      "00:00:02   125 MB(-7%)  Iter   1   91.03%  Align node\r",
      "00:00:02   125 MB(-7%)  Iter   1   91.67%  Align node\r",
      "00:00:02   126 MB(-7%)  Iter   1   92.31%  Align node\r",
      "00:00:02   126 MB(-7%)  Iter   1   92.95%  Align node\r",
      "00:00:02   126 MB(-8%)  Iter   1   93.59%  Align node\r",
      "00:00:02   127 MB(-8%)  Iter   1   94.23%  Align node\r",
      "00:00:02   127 MB(-8%)  Iter   1   94.87%  Align node\r",
      "00:00:02   127 MB(-8%)  Iter   1   95.51%  Align node\r",
      "00:00:02   128 MB(-8%)  Iter   1   96.15%  Align node\r",
      "00:00:02   128 MB(-8%)  Iter   1   96.79%  Align node\r",
      "00:00:02   128 MB(-8%)  Iter   1   97.44%  Align node\r",
      "00:00:02   129 MB(-8%)  Iter   1   98.08%  Align node\r",
      "00:00:02   129 MB(-8%)  Iter   1   98.72%  Align node\r",
      "00:00:02   129 MB(-8%)  Iter   1   99.36%  Align node\r",
      "00:00:02   130 MB(-8%)  Iter   1  100.00%  Align node\r",
      "00:00:02   130 MB(-8%)  Iter   1  100.00%  Align node\r\n",
      "00:00:02   130 MB(-8%)  Iter   1    0.64%  Root alignment\r",
      "00:00:02   130 MB(-8%)  Iter   1    1.27%  Root alignment\r",
      "00:00:02   130 MB(-8%)  Iter   1    1.91%  Root alignment\r",
      "00:00:02   130 MB(-8%)  Iter   1    2.55%  Root alignment\r",
      "00:00:02   130 MB(-8%)  Iter   1    3.18%  Root alignment\r",
      "00:00:02   130 MB(-8%)  Iter   1    3.82%  Root alignment\r",
      "00:00:02   130 MB(-8%)  Iter   1    4.46%  Root alignment\r",
      "00:00:02   130 MB(-8%)  Iter   1    5.10%  Root alignment\r",
      "00:00:02   130 MB(-8%)  Iter   1    5.73%  Root alignment\r",
      "00:00:02   130 MB(-8%)  Iter   1    6.37%  Root alignment\r",
      "00:00:02   130 MB(-8%)  Iter   1    7.01%  Root alignment\r",
      "00:00:02   130 MB(-8%)  Iter   1    7.64%  Root alignment\r",
      "00:00:02   130 MB(-8%)  Iter   1    8.28%  Root alignment\r",
      "00:00:02   130 MB(-8%)  Iter   1    8.92%  Root alignment\r",
      "00:00:02   130 MB(-8%)  Iter   1    9.55%  Root alignment\r",
      "00:00:02   130 MB(-8%)  Iter   1   10.19%  Root alignment\r",
      "00:00:02   130 MB(-8%)  Iter   1   10.83%  Root alignment\r",
      "00:00:02   130 MB(-8%)  Iter   1   11.46%  Root alignment\r",
      "00:00:02   130 MB(-8%)  Iter   1   12.10%  Root alignment\r",
      "00:00:02   130 MB(-8%)  Iter   1   12.74%  Root alignment\r",
      "00:00:02   130 MB(-8%)  Iter   1   13.38%  Root alignment\r",
      "00:00:02   130 MB(-8%)  Iter   1   14.01%  Root alignment\r",
      "00:00:02   130 MB(-8%)  Iter   1   14.65%  Root alignment\r",
      "00:00:02   130 MB(-8%)  Iter   1   15.29%  Root alignment\r",
      "00:00:02   130 MB(-8%)  Iter   1   15.92%  Root alignment\r",
      "00:00:02   130 MB(-8%)  Iter   1   16.56%  Root alignment\r",
      "00:00:02   130 MB(-8%)  Iter   1   17.20%  Root alignment\r",
      "00:00:02   130 MB(-8%)  Iter   1   17.83%  Root alignment\r",
      "00:00:02   130 MB(-8%)  Iter   1   18.47%  Root alignment\r",
      "00:00:02   130 MB(-8%)  Iter   1   19.11%  Root alignment\r",
      "00:00:02   130 MB(-8%)  Iter   1   19.75%  Root alignment\r",
      "00:00:02   130 MB(-8%)  Iter   1   20.38%  Root alignment\r",
      "00:00:02   130 MB(-8%)  Iter   1   21.02%  Root alignment\r",
      "00:00:02   130 MB(-8%)  Iter   1   21.66%  Root alignment\r",
      "00:00:02   130 MB(-8%)  Iter   1   22.29%  Root alignment\r",
      "00:00:02   130 MB(-8%)  Iter   1   22.93%  Root alignment\r",
      "00:00:02   130 MB(-8%)  Iter   1   23.57%  Root alignment\r",
      "00:00:02   130 MB(-8%)  Iter   1   24.20%  Root alignment\r",
      "00:00:02   130 MB(-8%)  Iter   1   24.84%  Root alignment\r",
      "00:00:02   130 MB(-8%)  Iter   1   25.48%  Root alignment\r",
      "00:00:02   130 MB(-8%)  Iter   1   26.11%  Root alignment\r",
      "00:00:02   130 MB(-8%)  Iter   1   26.75%  Root alignment\r",
      "00:00:02   130 MB(-8%)  Iter   1   27.39%  Root alignment\r",
      "00:00:02   130 MB(-8%)  Iter   1   28.03%  Root alignment\r",
      "00:00:02   130 MB(-8%)  Iter   1   28.66%  Root alignment\r",
      "00:00:02   130 MB(-8%)  Iter   1   29.30%  Root alignment\r",
      "00:00:02   130 MB(-8%)  Iter   1   29.94%  Root alignment\r",
      "00:00:02   130 MB(-8%)  Iter   1   30.57%  Root alignment\r",
      "00:00:02   130 MB(-8%)  Iter   1   31.21%  Root alignment\r",
      "00:00:02   130 MB(-8%)  Iter   1   31.85%  Root alignment\r",
      "00:00:02   130 MB(-8%)  Iter   1   32.48%  Root alignment\r",
      "00:00:02   130 MB(-8%)  Iter   1   33.12%  Root alignment\r",
      "00:00:02   130 MB(-8%)  Iter   1   33.76%  Root alignment\r",
      "00:00:02   130 MB(-8%)  Iter   1   34.39%  Root alignment\r",
      "00:00:02   130 MB(-8%)  Iter   1   35.03%  Root alignment\r",
      "00:00:02   130 MB(-8%)  Iter   1   35.67%  Root alignment\r",
      "00:00:02   130 MB(-8%)  Iter   1   36.31%  Root alignment\r",
      "00:00:02   130 MB(-8%)  Iter   1   36.94%  Root alignment\r",
      "00:00:02   130 MB(-8%)  Iter   1   37.58%  Root alignment\r",
      "00:00:02   130 MB(-8%)  Iter   1   38.22%  Root alignment\r",
      "00:00:02   130 MB(-8%)  Iter   1   38.85%  Root alignment\r",
      "00:00:02   130 MB(-8%)  Iter   1   39.49%  Root alignment\r",
      "00:00:02   130 MB(-8%)  Iter   1   40.13%  Root alignment\r",
      "00:00:02   130 MB(-8%)  Iter   1   40.76%  Root alignment\r",
      "00:00:02   130 MB(-8%)  Iter   1   41.40%  Root alignment\r",
      "00:00:02   130 MB(-8%)  Iter   1   42.04%  Root alignment\r",
      "00:00:02   130 MB(-8%)  Iter   1   42.68%  Root alignment\r",
      "00:00:02   130 MB(-8%)  Iter   1   43.31%  Root alignment\r",
      "00:00:02   130 MB(-8%)  Iter   1   43.95%  Root alignment\r",
      "00:00:02   130 MB(-8%)  Iter   1   44.59%  Root alignment\r",
      "00:00:02   130 MB(-8%)  Iter   1   45.22%  Root alignment\r",
      "00:00:02   130 MB(-8%)  Iter   1   45.86%  Root alignment\r",
      "00:00:02   130 MB(-8%)  Iter   1   46.50%  Root alignment\r",
      "00:00:02   130 MB(-8%)  Iter   1   47.13%  Root alignment\r",
      "00:00:02   130 MB(-8%)  Iter   1   47.77%  Root alignment\r",
      "00:00:02   130 MB(-8%)  Iter   1   48.41%  Root alignment\r",
      "00:00:02   130 MB(-8%)  Iter   1   49.04%  Root alignment\r",
      "00:00:02   130 MB(-8%)  Iter   1   49.68%  Root alignment\r",
      "00:00:02   130 MB(-8%)  Iter   1   50.32%  Root alignment\r",
      "00:00:02   130 MB(-8%)  Iter   1   50.96%  Root alignment\r",
      "00:00:02   130 MB(-8%)  Iter   1   51.59%  Root alignment\r",
      "00:00:02   130 MB(-8%)  Iter   1   52.23%  Root alignment\r",
      "00:00:02   130 MB(-8%)  Iter   1   52.87%  Root alignment\r",
      "00:00:02   130 MB(-8%)  Iter   1   53.50%  Root alignment\r",
      "00:00:02   130 MB(-8%)  Iter   1   54.14%  Root alignment\r",
      "00:00:02   130 MB(-8%)  Iter   1   54.78%  Root alignment\r",
      "00:00:02   130 MB(-8%)  Iter   1   55.41%  Root alignment\r",
      "00:00:02   130 MB(-8%)  Iter   1   56.05%  Root alignment\r",
      "00:00:02   130 MB(-8%)  Iter   1   56.69%  Root alignment\r",
      "00:00:02   130 MB(-8%)  Iter   1   57.32%  Root alignment\r",
      "00:00:02   130 MB(-8%)  Iter   1   57.96%  Root alignment\r",
      "00:00:02   130 MB(-8%)  Iter   1   58.60%  Root alignment\r",
      "00:00:02   130 MB(-8%)  Iter   1   59.24%  Root alignment\r",
      "00:00:02   130 MB(-8%)  Iter   1   59.87%  Root alignment\r",
      "00:00:02   130 MB(-8%)  Iter   1   60.51%  Root alignment\r",
      "00:00:02   130 MB(-8%)  Iter   1   61.15%  Root alignment\r",
      "00:00:02   130 MB(-8%)  Iter   1   61.78%  Root alignment\r",
      "00:00:02   130 MB(-8%)  Iter   1   62.42%  Root alignment\r",
      "00:00:02   130 MB(-8%)  Iter   1   63.06%  Root alignment\r",
      "00:00:02   130 MB(-8%)  Iter   1   63.69%  Root alignment\r",
      "00:00:02   130 MB(-8%)  Iter   1   64.33%  Root alignment\r",
      "00:00:02   130 MB(-8%)  Iter   1   64.97%  Root alignment\r",
      "00:00:02   130 MB(-8%)  Iter   1   65.61%  Root alignment\r",
      "00:00:02   130 MB(-8%)  Iter   1   66.24%  Root alignment\r",
      "00:00:02   130 MB(-8%)  Iter   1   66.88%  Root alignment\r",
      "00:00:02   130 MB(-8%)  Iter   1   67.52%  Root alignment\r",
      "00:00:02   130 MB(-8%)  Iter   1   68.15%  Root alignment\r",
      "00:00:02   130 MB(-8%)  Iter   1   68.79%  Root alignment\r",
      "00:00:02   130 MB(-8%)  Iter   1   69.43%  Root alignment\r",
      "00:00:02   130 MB(-8%)  Iter   1   70.06%  Root alignment\r",
      "00:00:02   130 MB(-8%)  Iter   1   70.70%  Root alignment\r",
      "00:00:02   130 MB(-8%)  Iter   1   71.34%  Root alignment\r",
      "00:00:02   130 MB(-8%)  Iter   1   71.97%  Root alignment\r",
      "00:00:02   130 MB(-8%)  Iter   1   72.61%  Root alignment\r",
      "00:00:02   130 MB(-8%)  Iter   1   73.25%  Root alignment\r",
      "00:00:02   130 MB(-8%)  Iter   1   73.89%  Root alignment\r",
      "00:00:02   130 MB(-8%)  Iter   1   74.52%  Root alignment\r",
      "00:00:02   130 MB(-8%)  Iter   1   75.16%  Root alignment\r",
      "00:00:02   130 MB(-8%)  Iter   1   75.80%  Root alignment\r",
      "00:00:02   130 MB(-8%)  Iter   1   76.43%  Root alignment\r",
      "00:00:02   130 MB(-8%)  Iter   1   77.07%  Root alignment\r",
      "00:00:02   130 MB(-8%)  Iter   1   77.71%  Root alignment\r",
      "00:00:02   130 MB(-8%)  Iter   1   78.34%  Root alignment\r",
      "00:00:02   130 MB(-8%)  Iter   1   78.98%  Root alignment\r",
      "00:00:02   130 MB(-8%)  Iter   1   79.62%  Root alignment\r",
      "00:00:02   130 MB(-8%)  Iter   1   80.25%  Root alignment\r",
      "00:00:02   130 MB(-8%)  Iter   1   80.89%  Root alignment\r",
      "00:00:02   130 MB(-8%)  Iter   1   81.53%  Root alignment\r",
      "00:00:02   130 MB(-8%)  Iter   1   82.17%  Root alignment\r",
      "00:00:02   130 MB(-8%)  Iter   1   82.80%  Root alignment\r",
      "00:00:02   130 MB(-8%)  Iter   1   83.44%  Root alignment\r",
      "00:00:02   130 MB(-8%)  Iter   1   84.08%  Root alignment\r",
      "00:00:02   130 MB(-8%)  Iter   1   84.71%  Root alignment\r",
      "00:00:02   130 MB(-8%)  Iter   1   85.35%  Root alignment\r",
      "00:00:02   130 MB(-8%)  Iter   1   85.99%  Root alignment\r",
      "00:00:02   130 MB(-8%)  Iter   1   86.62%  Root alignment\r",
      "00:00:02   130 MB(-8%)  Iter   1   87.26%  Root alignment\r",
      "00:00:02   130 MB(-8%)  Iter   1   87.90%  Root alignment\r",
      "00:00:02   130 MB(-8%)  Iter   1   88.54%  Root alignment\r",
      "00:00:02   130 MB(-8%)  Iter   1   89.17%  Root alignment\r",
      "00:00:02   130 MB(-8%)  Iter   1   89.81%  Root alignment\r",
      "00:00:02   130 MB(-8%)  Iter   1   90.45%  Root alignment\r",
      "00:00:02   130 MB(-8%)  Iter   1   91.08%  Root alignment\r",
      "00:00:02   130 MB(-8%)  Iter   1   91.72%  Root alignment\r",
      "00:00:02   130 MB(-8%)  Iter   1   92.36%  Root alignment\r",
      "00:00:02   130 MB(-8%)  Iter   1   92.99%  Root alignment\r",
      "00:00:02   130 MB(-8%)  Iter   1   93.63%  Root alignment\r",
      "00:00:02   130 MB(-8%)  Iter   1   94.27%  Root alignment\r",
      "00:00:02   130 MB(-8%)  Iter   1   94.90%  Root alignment\r",
      "00:00:02   130 MB(-8%)  Iter   1   95.54%  Root alignment\r",
      "00:00:02   130 MB(-8%)  Iter   1   96.18%  Root alignment\r",
      "00:00:02   130 MB(-8%)  Iter   1   96.82%  Root alignment\r",
      "00:00:02   130 MB(-8%)  Iter   1   97.45%  Root alignment\r",
      "00:00:02   130 MB(-8%)  Iter   1   98.09%  Root alignment\r",
      "00:00:02   130 MB(-8%)  Iter   1   98.73%  Root alignment\r",
      "00:00:02   130 MB(-8%)  Iter   1   99.36%  Root alignment\r",
      "00:00:02   130 MB(-8%)  Iter   1  100.00%  Root alignment\r",
      "00:00:02   130 MB(-8%)  Iter   1  100.00%  Root alignment\r\n",
      "00:00:02   130 MB(-8%)  Iter   2    0.65%  Refine tree   \r",
      "00:00:02   130 MB(-8%)  Iter   2    1.29%  Refine tree\r",
      "00:00:02   130 MB(-8%)  Iter   2    1.94%  Refine tree\r",
      "00:00:02   130 MB(-8%)  Iter   2    2.58%  Refine tree\r",
      "00:00:02   130 MB(-8%)  Iter   2    3.23%  Refine tree\r",
      "00:00:02   130 MB(-8%)  Iter   2    3.87%  Refine tree\r",
      "00:00:02   130 MB(-8%)  Iter   2    4.52%  Refine tree\r",
      "00:00:02   130 MB(-8%)  Iter   2    5.16%  Refine tree\r",
      "00:00:02   130 MB(-8%)  Iter   2    5.81%  Refine tree\r",
      "00:00:02   130 MB(-8%)  Iter   2    6.45%  Refine tree\r",
      "00:00:02   130 MB(-8%)  Iter   2    7.10%  Refine tree\r",
      "00:00:02   130 MB(-8%)  Iter   2    7.74%  Refine tree\r",
      "00:00:02   130 MB(-8%)  Iter   2    8.39%  Refine tree\r",
      "00:00:02   130 MB(-8%)  Iter   2    9.03%  Refine tree\r",
      "00:00:02   130 MB(-8%)  Iter   2    9.68%  Refine tree\r",
      "00:00:02   130 MB(-8%)  Iter   2   10.32%  Refine tree\r",
      "00:00:02   130 MB(-8%)  Iter   2   10.97%  Refine tree\r",
      "00:00:02   130 MB(-8%)  Iter   2   11.61%  Refine tree\r",
      "00:00:02   130 MB(-8%)  Iter   2   12.26%  Refine tree\r",
      "00:00:02   130 MB(-8%)  Iter   2   12.90%  Refine tree\r",
      "00:00:02   130 MB(-8%)  Iter   2   13.55%  Refine tree\r",
      "00:00:02   130 MB(-8%)  Iter   2   14.19%  Refine tree\r",
      "00:00:02   130 MB(-8%)  Iter   2   14.84%  Refine tree\r",
      "00:00:02   130 MB(-8%)  Iter   2   15.48%  Refine tree\r",
      "00:00:02   130 MB(-8%)  Iter   2   16.13%  Refine tree\r",
      "00:00:02   130 MB(-8%)  Iter   2   16.77%  Refine tree\r",
      "00:00:02   130 MB(-8%)  Iter   2   17.42%  Refine tree\r",
      "00:00:02   130 MB(-8%)  Iter   2   18.06%  Refine tree\r",
      "00:00:02   130 MB(-8%)  Iter   2   18.71%  Refine tree\r",
      "00:00:02   130 MB(-8%)  Iter   2   19.35%  Refine tree\r",
      "00:00:02   130 MB(-8%)  Iter   2   20.00%  Refine tree\r",
      "00:00:02   130 MB(-8%)  Iter   2   20.65%  Refine tree\r",
      "00:00:02   130 MB(-8%)  Iter   2   21.29%  Refine tree\r",
      "00:00:02   130 MB(-8%)  Iter   2   21.94%  Refine tree\r",
      "00:00:02   130 MB(-8%)  Iter   2   22.58%  Refine tree\r",
      "00:00:02   130 MB(-8%)  Iter   2   23.23%  Refine tree\r",
      "00:00:02   130 MB(-8%)  Iter   2   23.87%  Refine tree\r",
      "00:00:02   130 MB(-8%)  Iter   2   24.52%  Refine tree\r",
      "00:00:02   130 MB(-8%)  Iter   2   25.16%  Refine tree\r",
      "00:00:02   130 MB(-8%)  Iter   2   25.81%  Refine tree\r",
      "00:00:02   130 MB(-8%)  Iter   2   26.45%  Refine tree\r",
      "00:00:02   130 MB(-8%)  Iter   2   27.10%  Refine tree\r",
      "00:00:02   130 MB(-8%)  Iter   2   27.74%  Refine tree\r",
      "00:00:02   130 MB(-8%)  Iter   2   28.39%  Refine tree\r",
      "00:00:02   130 MB(-8%)  Iter   2   29.03%  Refine tree\r",
      "00:00:02   130 MB(-8%)  Iter   2   29.68%  Refine tree\r",
      "00:00:02   130 MB(-8%)  Iter   2   30.32%  Refine tree\r",
      "00:00:02   130 MB(-8%)  Iter   2   30.97%  Refine tree\r",
      "00:00:02   130 MB(-8%)  Iter   2   31.61%  Refine tree\r",
      "00:00:03   130 MB(-8%)  Iter   2   32.26%  Refine tree\r",
      "00:00:03   130 MB(-8%)  Iter   2   32.90%  Refine tree\r",
      "00:00:03   130 MB(-8%)  Iter   2   33.55%  Refine tree\r",
      "00:00:03   130 MB(-8%)  Iter   2   34.19%  Refine tree\r",
      "00:00:03   130 MB(-8%)  Iter   2   34.84%  Refine tree\r",
      "00:00:03   130 MB(-8%)  Iter   2   35.48%  Refine tree\r",
      "00:00:03   130 MB(-8%)  Iter   2   36.13%  Refine tree\r",
      "00:00:03   130 MB(-8%)  Iter   2   36.77%  Refine tree\r",
      "00:00:03   130 MB(-8%)  Iter   2  100.00%  Refine tree\r\n",
      "00:00:03   130 MB(-8%)  Iter   2    0.64%  Root alignment\r",
      "00:00:03   130 MB(-8%)  Iter   2    1.27%  Root alignment\r",
      "00:00:03   130 MB(-8%)  Iter   2    1.91%  Root alignment\r",
      "00:00:03   130 MB(-8%)  Iter   2    2.55%  Root alignment\r",
      "00:00:03   130 MB(-8%)  Iter   2    3.18%  Root alignment\r",
      "00:00:03   130 MB(-8%)  Iter   2    3.82%  Root alignment\r",
      "00:00:03   130 MB(-8%)  Iter   2    4.46%  Root alignment\r",
      "00:00:03   130 MB(-8%)  Iter   2    5.10%  Root alignment\r",
      "00:00:03   130 MB(-8%)  Iter   2    5.73%  Root alignment\r",
      "00:00:03   130 MB(-8%)  Iter   2    6.37%  Root alignment\r",
      "00:00:03   130 MB(-8%)  Iter   2    7.01%  Root alignment\r",
      "00:00:03   130 MB(-8%)  Iter   2    7.64%  Root alignment\r",
      "00:00:03   130 MB(-8%)  Iter   2    8.28%  Root alignment\r",
      "00:00:03   130 MB(-8%)  Iter   2    8.92%  Root alignment\r",
      "00:00:03   130 MB(-8%)  Iter   2    9.55%  Root alignment\r",
      "00:00:03   130 MB(-8%)  Iter   2   10.19%  Root alignment\r",
      "00:00:03   130 MB(-8%)  Iter   2   10.83%  Root alignment\r",
      "00:00:03   130 MB(-8%)  Iter   2   11.46%  Root alignment\r",
      "00:00:03   130 MB(-8%)  Iter   2   12.10%  Root alignment\r",
      "00:00:03   130 MB(-8%)  Iter   2   12.74%  Root alignment\r",
      "00:00:03   130 MB(-8%)  Iter   2   13.38%  Root alignment\r",
      "00:00:03   130 MB(-8%)  Iter   2   14.01%  Root alignment\r",
      "00:00:03   130 MB(-8%)  Iter   2   14.65%  Root alignment\r",
      "00:00:03   130 MB(-8%)  Iter   2   15.29%  Root alignment\r",
      "00:00:03   130 MB(-8%)  Iter   2   15.92%  Root alignment\r",
      "00:00:03   130 MB(-8%)  Iter   2   16.56%  Root alignment\r",
      "00:00:03   130 MB(-8%)  Iter   2   17.20%  Root alignment\r",
      "00:00:03   130 MB(-8%)  Iter   2   17.83%  Root alignment\r",
      "00:00:03   130 MB(-8%)  Iter   2   18.47%  Root alignment\r",
      "00:00:03   130 MB(-8%)  Iter   2   19.11%  Root alignment\r",
      "00:00:03   130 MB(-8%)  Iter   2   19.75%  Root alignment\r",
      "00:00:03   130 MB(-8%)  Iter   2   20.38%  Root alignment\r",
      "00:00:03   130 MB(-8%)  Iter   2   21.02%  Root alignment\r",
      "00:00:03   130 MB(-8%)  Iter   2   21.66%  Root alignment\r",
      "00:00:03   130 MB(-8%)  Iter   2   22.29%  Root alignment\r",
      "00:00:03   130 MB(-8%)  Iter   2   22.93%  Root alignment\r",
      "00:00:03   130 MB(-8%)  Iter   2   23.57%  Root alignment\r",
      "00:00:03   130 MB(-8%)  Iter   2   24.20%  Root alignment\r",
      "00:00:03   130 MB(-8%)  Iter   2   24.84%  Root alignment\r",
      "00:00:03   130 MB(-8%)  Iter   2   25.48%  Root alignment\r",
      "00:00:03   130 MB(-8%)  Iter   2   26.11%  Root alignment\r",
      "00:00:03   130 MB(-8%)  Iter   2   26.75%  Root alignment\r",
      "00:00:03   130 MB(-8%)  Iter   2   27.39%  Root alignment\r",
      "00:00:03   130 MB(-8%)  Iter   2   28.03%  Root alignment\r",
      "00:00:03   130 MB(-8%)  Iter   2   28.66%  Root alignment\r",
      "00:00:03   130 MB(-8%)  Iter   2   29.30%  Root alignment\r",
      "00:00:03   130 MB(-8%)  Iter   2   29.94%  Root alignment\r",
      "00:00:03   130 MB(-8%)  Iter   2   30.57%  Root alignment\r",
      "00:00:03   130 MB(-8%)  Iter   2   31.21%  Root alignment\r",
      "00:00:03   130 MB(-8%)  Iter   2   31.85%  Root alignment\r",
      "00:00:03   130 MB(-8%)  Iter   2   32.48%  Root alignment\r",
      "00:00:03   130 MB(-8%)  Iter   2   33.12%  Root alignment\r",
      "00:00:03   130 MB(-8%)  Iter   2   33.76%  Root alignment\r",
      "00:00:03   130 MB(-8%)  Iter   2   34.39%  Root alignment\r",
      "00:00:03   130 MB(-8%)  Iter   2   35.03%  Root alignment\r",
      "00:00:03   130 MB(-8%)  Iter   2   35.67%  Root alignment\r",
      "00:00:03   130 MB(-8%)  Iter   2   36.31%  Root alignment\r",
      "00:00:03   130 MB(-8%)  Iter   2   36.94%  Root alignment\r",
      "00:00:03   130 MB(-8%)  Iter   2   37.58%  Root alignment\r",
      "00:00:03   130 MB(-8%)  Iter   2   38.22%  Root alignment\r",
      "00:00:03   130 MB(-8%)  Iter   2   38.85%  Root alignment\r",
      "00:00:03   130 MB(-8%)  Iter   2   39.49%  Root alignment\r",
      "00:00:03   130 MB(-8%)  Iter   2   40.13%  Root alignment\r",
      "00:00:03   130 MB(-8%)  Iter   2   40.76%  Root alignment\r",
      "00:00:03   130 MB(-8%)  Iter   2   41.40%  Root alignment\r",
      "00:00:03   130 MB(-8%)  Iter   2   42.04%  Root alignment\r",
      "00:00:03   130 MB(-8%)  Iter   2   42.68%  Root alignment\r",
      "00:00:03   130 MB(-8%)  Iter   2   43.31%  Root alignment\r",
      "00:00:03   130 MB(-8%)  Iter   2   43.95%  Root alignment\r",
      "00:00:03   130 MB(-8%)  Iter   2   44.59%  Root alignment\r",
      "00:00:03   130 MB(-8%)  Iter   2   45.22%  Root alignment\r",
      "00:00:03   130 MB(-8%)  Iter   2   45.86%  Root alignment\r",
      "00:00:03   130 MB(-8%)  Iter   2   46.50%  Root alignment\r",
      "00:00:03   130 MB(-8%)  Iter   2   47.13%  Root alignment\r",
      "00:00:03   130 MB(-8%)  Iter   2   47.77%  Root alignment\r",
      "00:00:03   130 MB(-8%)  Iter   2   48.41%  Root alignment\r",
      "00:00:03   130 MB(-8%)  Iter   2   49.04%  Root alignment\r",
      "00:00:03   130 MB(-8%)  Iter   2   49.68%  Root alignment\r",
      "00:00:03   130 MB(-8%)  Iter   2   50.32%  Root alignment\r",
      "00:00:03   130 MB(-8%)  Iter   2   50.96%  Root alignment\r",
      "00:00:03   130 MB(-8%)  Iter   2   51.59%  Root alignment\r",
      "00:00:03   130 MB(-8%)  Iter   2   52.23%  Root alignment\r",
      "00:00:03   130 MB(-8%)  Iter   2   52.87%  Root alignment\r",
      "00:00:03   130 MB(-8%)  Iter   2   53.50%  Root alignment\r",
      "00:00:03   130 MB(-8%)  Iter   2   54.14%  Root alignment\r",
      "00:00:03   130 MB(-8%)  Iter   2   54.78%  Root alignment\r",
      "00:00:03   130 MB(-8%)  Iter   2   55.41%  Root alignment\r",
      "00:00:03   130 MB(-8%)  Iter   2   56.05%  Root alignment\r",
      "00:00:03   130 MB(-8%)  Iter   2   56.69%  Root alignment\r",
      "00:00:03   130 MB(-8%)  Iter   2   57.32%  Root alignment\r",
      "00:00:03   130 MB(-8%)  Iter   2   57.96%  Root alignment\r",
      "00:00:03   130 MB(-8%)  Iter   2   58.60%  Root alignment\r",
      "00:00:03   130 MB(-8%)  Iter   2   59.24%  Root alignment\r",
      "00:00:03   130 MB(-8%)  Iter   2   59.87%  Root alignment\r",
      "00:00:03   130 MB(-8%)  Iter   2   60.51%  Root alignment\r",
      "00:00:03   130 MB(-8%)  Iter   2   61.15%  Root alignment\r",
      "00:00:03   130 MB(-8%)  Iter   2   61.78%  Root alignment\r",
      "00:00:03   130 MB(-8%)  Iter   2   62.42%  Root alignment\r",
      "00:00:03   130 MB(-8%)  Iter   2   63.06%  Root alignment\r",
      "00:00:03   130 MB(-8%)  Iter   2   63.69%  Root alignment\r",
      "00:00:03   130 MB(-8%)  Iter   2   64.33%  Root alignment\r",
      "00:00:03   130 MB(-8%)  Iter   2   64.97%  Root alignment\r",
      "00:00:03   130 MB(-8%)  Iter   2   65.61%  Root alignment\r",
      "00:00:03   130 MB(-8%)  Iter   2   66.24%  Root alignment\r",
      "00:00:03   130 MB(-8%)  Iter   2   66.88%  Root alignment\r",
      "00:00:03   130 MB(-8%)  Iter   2   67.52%  Root alignment\r",
      "00:00:03   130 MB(-8%)  Iter   2   68.15%  Root alignment\r",
      "00:00:03   130 MB(-8%)  Iter   2   68.79%  Root alignment\r",
      "00:00:03   130 MB(-8%)  Iter   2   69.43%  Root alignment\r",
      "00:00:03   130 MB(-8%)  Iter   2   70.06%  Root alignment\r",
      "00:00:03   130 MB(-8%)  Iter   2   70.70%  Root alignment\r",
      "00:00:03   130 MB(-8%)  Iter   2   71.34%  Root alignment\r",
      "00:00:03   130 MB(-8%)  Iter   2   71.97%  Root alignment\r",
      "00:00:03   130 MB(-8%)  Iter   2   72.61%  Root alignment\r",
      "00:00:03   130 MB(-8%)  Iter   2   73.25%  Root alignment\r",
      "00:00:03   130 MB(-8%)  Iter   2   73.89%  Root alignment\r",
      "00:00:03   130 MB(-8%)  Iter   2   74.52%  Root alignment\r",
      "00:00:03   130 MB(-8%)  Iter   2   75.16%  Root alignment\r",
      "00:00:03   130 MB(-8%)  Iter   2   75.80%  Root alignment\r",
      "00:00:03   130 MB(-8%)  Iter   2   76.43%  Root alignment\r",
      "00:00:03   130 MB(-8%)  Iter   2   77.07%  Root alignment\r",
      "00:00:03   130 MB(-8%)  Iter   2   77.71%  Root alignment\r",
      "00:00:03   130 MB(-8%)  Iter   2   78.34%  Root alignment\r",
      "00:00:03   130 MB(-8%)  Iter   2   78.98%  Root alignment\r",
      "00:00:03   130 MB(-8%)  Iter   2   79.62%  Root alignment\r",
      "00:00:03   130 MB(-8%)  Iter   2   80.25%  Root alignment\r",
      "00:00:03   130 MB(-8%)  Iter   2   80.89%  Root alignment\r",
      "00:00:03   130 MB(-8%)  Iter   2   81.53%  Root alignment\r",
      "00:00:03   130 MB(-8%)  Iter   2   82.17%  Root alignment\r",
      "00:00:03   130 MB(-8%)  Iter   2   82.80%  Root alignment\r",
      "00:00:03   130 MB(-8%)  Iter   2   83.44%  Root alignment\r",
      "00:00:03   130 MB(-8%)  Iter   2   84.08%  Root alignment\r",
      "00:00:03   130 MB(-8%)  Iter   2   84.71%  Root alignment\r",
      "00:00:03   130 MB(-8%)  Iter   2   85.35%  Root alignment\r",
      "00:00:03   130 MB(-8%)  Iter   2   85.99%  Root alignment\r",
      "00:00:03   130 MB(-8%)  Iter   2   86.62%  Root alignment\r",
      "00:00:03   130 MB(-8%)  Iter   2   87.26%  Root alignment\r",
      "00:00:03   130 MB(-8%)  Iter   2   87.90%  Root alignment\r",
      "00:00:03   130 MB(-8%)  Iter   2   88.54%  Root alignment\r",
      "00:00:03   130 MB(-8%)  Iter   2   89.17%  Root alignment\r",
      "00:00:03   130 MB(-8%)  Iter   2   89.81%  Root alignment\r",
      "00:00:03   130 MB(-8%)  Iter   2   90.45%  Root alignment\r",
      "00:00:03   130 MB(-8%)  Iter   2   91.08%  Root alignment\r",
      "00:00:03   130 MB(-8%)  Iter   2   91.72%  Root alignment\r",
      "00:00:03   130 MB(-8%)  Iter   2   92.36%  Root alignment\r",
      "00:00:03   130 MB(-8%)  Iter   2   92.99%  Root alignment\r",
      "00:00:03   130 MB(-8%)  Iter   2   93.63%  Root alignment\r",
      "00:00:03   130 MB(-8%)  Iter   2   94.27%  Root alignment\r",
      "00:00:03   130 MB(-8%)  Iter   2   94.90%  Root alignment\r",
      "00:00:03   130 MB(-8%)  Iter   2   95.54%  Root alignment\r",
      "00:00:03   130 MB(-8%)  Iter   2   96.18%  Root alignment\r",
      "00:00:03   130 MB(-8%)  Iter   2   96.82%  Root alignment\r",
      "00:00:03   130 MB(-8%)  Iter   2   97.45%  Root alignment\r",
      "00:00:03   130 MB(-8%)  Iter   2   98.09%  Root alignment\r",
      "00:00:03   130 MB(-8%)  Iter   2   98.73%  Root alignment\r",
      "00:00:03   130 MB(-8%)  Iter   2   99.36%  Root alignment\r",
      "00:00:03   130 MB(-8%)  Iter   2  100.00%  Root alignment\r",
      "00:00:03   130 MB(-8%)  Iter   2  100.00%  Root alignment\r\n",
      "00:00:03   130 MB(-8%)  Iter   2  100.00%  Root alignment\r\n",
      "00:00:03   130 MB(-8%)  Iter   3    0.64%  Refine biparts\r",
      "00:00:03   130 MB(-8%)  Iter   3    0.96%  Refine biparts\r",
      "00:00:03   130 MB(-8%)  Iter   3    1.29%  Refine biparts\r",
      "00:00:03   130 MB(-8%)  Iter   3    1.61%  Refine biparts\r",
      "00:00:03   130 MB(-8%)  Iter   3    1.93%  Refine biparts\r",
      "00:00:03   130 MB(-8%)  Iter   3    2.25%  Refine biparts\r",
      "00:00:03   130 MB(-8%)  Iter   3    2.57%  Refine biparts\r",
      "00:00:03   130 MB(-8%)  Iter   3    2.89%  Refine biparts\r",
      "00:00:03   130 MB(-8%)  Iter   3    3.22%  Refine biparts\r",
      "00:00:03   130 MB(-8%)  Iter   3    3.54%  Refine biparts\r",
      "00:00:03   130 MB(-8%)  Iter   3    3.86%  Refine biparts\r",
      "00:00:03   130 MB(-8%)  Iter   3    4.18%  Refine biparts\r",
      "00:00:03   130 MB(-8%)  Iter   3    4.50%  Refine biparts\r",
      "00:00:03   130 MB(-8%)  Iter   3    4.82%  Refine biparts\r",
      "00:00:03   130 MB(-8%)  Iter   3    5.14%  Refine biparts\r",
      "00:00:03   130 MB(-8%)  Iter   3    5.47%  Refine biparts\r",
      "00:00:03   130 MB(-8%)  Iter   3    5.79%  Refine biparts\r",
      "00:00:03   130 MB(-8%)  Iter   3    6.11%  Refine biparts\r",
      "00:00:03   130 MB(-8%)  Iter   3    6.43%  Refine biparts\r",
      "00:00:03   130 MB(-8%)  Iter   3    6.75%  Refine biparts\r",
      "00:00:03   130 MB(-8%)  Iter   3    7.07%  Refine biparts\r",
      "00:00:03   130 MB(-8%)  Iter   3    7.40%  Refine biparts\r",
      "00:00:03   130 MB(-8%)  Iter   3    7.72%  Refine biparts\r",
      "00:00:03   130 MB(-8%)  Iter   3    8.04%  Refine biparts\r",
      "00:00:03   130 MB(-8%)  Iter   3    8.36%  Refine biparts\r",
      "00:00:03   130 MB(-8%)  Iter   3    8.68%  Refine biparts\r",
      "00:00:03   130 MB(-8%)  Iter   3    9.00%  Refine biparts\r",
      "00:00:03   130 MB(-8%)  Iter   3    9.32%  Refine biparts\r",
      "00:00:03   130 MB(-8%)  Iter   3    9.65%  Refine biparts\r",
      "00:00:03   130 MB(-8%)  Iter   3    9.97%  Refine biparts\r",
      "00:00:03   130 MB(-8%)  Iter   3   10.29%  Refine biparts\r",
      "00:00:03   130 MB(-8%)  Iter   3   10.61%  Refine biparts\r",
      "00:00:03   130 MB(-8%)  Iter   3   10.93%  Refine biparts\r",
      "00:00:03   130 MB(-8%)  Iter   3   11.25%  Refine biparts\r",
      "00:00:03   130 MB(-8%)  Iter   3   11.58%  Refine biparts\r",
      "00:00:03   130 MB(-8%)  Iter   3   11.90%  Refine biparts\r",
      "00:00:03   130 MB(-8%)  Iter   3   12.22%  Refine biparts\r",
      "00:00:03   130 MB(-8%)  Iter   3   12.54%  Refine biparts\r",
      "00:00:03   130 MB(-8%)  Iter   3   12.86%  Refine biparts\r",
      "00:00:03   130 MB(-8%)  Iter   3   13.18%  Refine biparts\r",
      "00:00:03   130 MB(-8%)  Iter   3   13.50%  Refine biparts\r",
      "00:00:03   130 MB(-8%)  Iter   3   13.83%  Refine biparts\r",
      "00:00:03   130 MB(-8%)  Iter   3   14.15%  Refine biparts\r",
      "00:00:03   130 MB(-8%)  Iter   3   14.47%  Refine biparts\r",
      "00:00:03   130 MB(-8%)  Iter   3   14.79%  Refine biparts\r",
      "00:00:03   130 MB(-8%)  Iter   3   15.11%  Refine biparts\r",
      "00:00:03   130 MB(-8%)  Iter   3   15.43%  Refine biparts\r",
      "00:00:04   130 MB(-8%)  Iter   3   15.76%  Refine biparts\r",
      "00:00:04   130 MB(-8%)  Iter   3   16.08%  Refine biparts\r",
      "00:00:04   130 MB(-8%)  Iter   3   16.40%  Refine biparts\r",
      "00:00:04   130 MB(-8%)  Iter   3   16.72%  Refine biparts\r",
      "00:00:04   130 MB(-8%)  Iter   3   17.04%  Refine biparts\r",
      "00:00:04   130 MB(-8%)  Iter   3   17.36%  Refine biparts\r",
      "00:00:04   130 MB(-8%)  Iter   3   17.68%  Refine biparts\r",
      "00:00:04   130 MB(-8%)  Iter   3   18.01%  Refine biparts\r",
      "00:00:04   130 MB(-8%)  Iter   3   18.33%  Refine biparts\r",
      "00:00:04   130 MB(-8%)  Iter   3   18.65%  Refine biparts\r",
      "00:00:04   130 MB(-8%)  Iter   3   18.97%  Refine biparts\r",
      "00:00:04   130 MB(-8%)  Iter   3   19.29%  Refine biparts\r",
      "00:00:04   130 MB(-8%)  Iter   3   19.61%  Refine biparts\r",
      "00:00:04   130 MB(-8%)  Iter   3   19.94%  Refine biparts\r",
      "00:00:04   130 MB(-8%)  Iter   3   20.26%  Refine biparts\r",
      "00:00:04   130 MB(-8%)  Iter   3   20.58%  Refine biparts\r",
      "00:00:04   130 MB(-8%)  Iter   3   20.90%  Refine biparts\r",
      "00:00:04   130 MB(-8%)  Iter   3   21.22%  Refine biparts\r",
      "00:00:04   130 MB(-8%)  Iter   3   21.54%  Refine biparts\r",
      "00:00:04   130 MB(-8%)  Iter   3   21.86%  Refine biparts\r",
      "00:00:04   130 MB(-8%)  Iter   3   22.19%  Refine biparts\r",
      "00:00:04   130 MB(-8%)  Iter   3   22.51%  Refine biparts\r",
      "00:00:04   130 MB(-8%)  Iter   3   22.83%  Refine biparts\r",
      "00:00:04   130 MB(-8%)  Iter   3   23.15%  Refine biparts\r",
      "00:00:04   130 MB(-8%)  Iter   3   23.47%  Refine biparts\r",
      "00:00:04   130 MB(-8%)  Iter   3   23.79%  Refine biparts\r",
      "00:00:04   130 MB(-8%)  Iter   3   24.12%  Refine biparts\r",
      "00:00:04   130 MB(-8%)  Iter   3   24.44%  Refine biparts\r",
      "00:00:04   130 MB(-8%)  Iter   3   24.76%  Refine biparts\r",
      "00:00:04   130 MB(-8%)  Iter   3   25.08%  Refine biparts\r",
      "00:00:04   130 MB(-8%)  Iter   3   25.40%  Refine biparts\r",
      "00:00:04   130 MB(-8%)  Iter   3   25.72%  Refine biparts\r",
      "00:00:04   130 MB(-8%)  Iter   3   26.05%  Refine biparts\r",
      "00:00:04   130 MB(-8%)  Iter   3   26.37%  Refine biparts\r",
      "00:00:04   130 MB(-8%)  Iter   3   26.69%  Refine biparts\r",
      "00:00:04   130 MB(-8%)  Iter   3   27.01%  Refine biparts\r",
      "00:00:04   130 MB(-8%)  Iter   3   27.33%  Refine biparts\r",
      "00:00:04   130 MB(-8%)  Iter   3   27.65%  Refine biparts\r",
      "00:00:04   130 MB(-8%)  Iter   3   27.97%  Refine biparts\r",
      "00:00:04   130 MB(-8%)  Iter   3   28.30%  Refine biparts\r",
      "00:00:04   130 MB(-8%)  Iter   3   28.62%  Refine biparts\r",
      "00:00:04   130 MB(-8%)  Iter   3   28.94%  Refine biparts\r",
      "00:00:04   130 MB(-8%)  Iter   3   29.26%  Refine biparts\r",
      "00:00:04   130 MB(-8%)  Iter   3   29.58%  Refine biparts\r",
      "00:00:04   130 MB(-8%)  Iter   3   29.90%  Refine biparts\r",
      "00:00:04   130 MB(-8%)  Iter   3   30.23%  Refine biparts\r",
      "00:00:04   130 MB(-8%)  Iter   3   30.55%  Refine biparts\r",
      "00:00:04   130 MB(-8%)  Iter   3   30.87%  Refine biparts\r",
      "00:00:04   130 MB(-8%)  Iter   3   31.19%  Refine biparts\r",
      "00:00:04   130 MB(-8%)  Iter   3   31.51%  Refine biparts\r",
      "00:00:04   130 MB(-8%)  Iter   3   31.83%  Refine biparts\r",
      "00:00:04   130 MB(-8%)  Iter   3   32.15%  Refine biparts\r",
      "00:00:04   130 MB(-8%)  Iter   3   32.48%  Refine biparts\r",
      "00:00:04   130 MB(-8%)  Iter   3   32.80%  Refine biparts\r",
      "00:00:05   130 MB(-8%)  Iter   3   33.12%  Refine biparts\r",
      "00:00:05   130 MB(-8%)  Iter   3   33.44%  Refine biparts\r",
      "00:00:05   130 MB(-8%)  Iter   3   33.76%  Refine biparts\r",
      "00:00:05   130 MB(-8%)  Iter   3   34.08%  Refine biparts\r",
      "00:00:05   130 MB(-8%)  Iter   3   34.41%  Refine biparts\r",
      "00:00:05   130 MB(-8%)  Iter   3   34.73%  Refine biparts\r",
      "00:00:05   130 MB(-8%)  Iter   3   35.05%  Refine biparts\r",
      "00:00:05   130 MB(-8%)  Iter   3   35.37%  Refine biparts\r",
      "00:00:05   130 MB(-8%)  Iter   3   35.69%  Refine biparts\r",
      "00:00:05   130 MB(-8%)  Iter   3   36.01%  Refine biparts\r",
      "00:00:05   130 MB(-8%)  Iter   3   36.33%  Refine biparts\r",
      "00:00:05   130 MB(-8%)  Iter   3   36.66%  Refine biparts\r",
      "00:00:05   130 MB(-8%)  Iter   3   36.98%  Refine biparts\r",
      "00:00:05   130 MB(-8%)  Iter   3   37.30%  Refine biparts\r",
      "00:00:05   130 MB(-8%)  Iter   3   37.62%  Refine biparts\r",
      "00:00:05   130 MB(-8%)  Iter   3   37.94%  Refine biparts\r",
      "00:00:05   130 MB(-8%)  Iter   3   38.26%  Refine biparts\r",
      "00:00:05   130 MB(-8%)  Iter   3   38.59%  Refine biparts\r",
      "00:00:05   130 MB(-8%)  Iter   3   38.91%  Refine biparts\r",
      "00:00:05   130 MB(-8%)  Iter   3   39.23%  Refine biparts\r",
      "00:00:05   130 MB(-8%)  Iter   3   39.55%  Refine biparts\r",
      "00:00:05   130 MB(-8%)  Iter   3   39.87%  Refine biparts\r",
      "00:00:05   130 MB(-8%)  Iter   3   40.19%  Refine biparts\r",
      "00:00:05   130 MB(-8%)  Iter   3   40.51%  Refine biparts\r",
      "00:00:05   130 MB(-8%)  Iter   3   40.84%  Refine biparts\r",
      "00:00:05   130 MB(-8%)  Iter   3   41.16%  Refine biparts\r",
      "00:00:05   130 MB(-8%)  Iter   3   41.48%  Refine biparts\r",
      "00:00:05   130 MB(-8%)  Iter   3   41.80%  Refine biparts\r",
      "00:00:05   130 MB(-8%)  Iter   3   42.12%  Refine biparts\r",
      "00:00:05   130 MB(-8%)  Iter   3   42.44%  Refine biparts\r",
      "00:00:05   130 MB(-8%)  Iter   3   42.77%  Refine biparts\r",
      "00:00:05   130 MB(-8%)  Iter   3   43.09%  Refine biparts\r",
      "00:00:05   130 MB(-8%)  Iter   3   43.41%  Refine biparts\r",
      "00:00:05   130 MB(-8%)  Iter   3   43.73%  Refine biparts\r",
      "00:00:05   130 MB(-8%)  Iter   3   44.05%  Refine biparts\r",
      "00:00:05   130 MB(-8%)  Iter   3   44.37%  Refine biparts\r",
      "00:00:05   130 MB(-8%)  Iter   3   44.69%  Refine biparts\r",
      "00:00:05   130 MB(-8%)  Iter   3   45.02%  Refine biparts\r",
      "00:00:05   130 MB(-8%)  Iter   3   45.34%  Refine biparts\r",
      "00:00:05   130 MB(-8%)  Iter   3   45.66%  Refine biparts\r",
      "00:00:05   130 MB(-8%)  Iter   3   45.98%  Refine biparts\r",
      "00:00:05   130 MB(-8%)  Iter   3   46.30%  Refine biparts\r",
      "00:00:05   130 MB(-8%)  Iter   3   46.62%  Refine biparts\r",
      "00:00:05   130 MB(-8%)  Iter   3   46.95%  Refine biparts\r",
      "00:00:05   130 MB(-8%)  Iter   3   47.27%  Refine biparts\r",
      "00:00:05   130 MB(-8%)  Iter   3   47.59%  Refine biparts\r",
      "00:00:05   130 MB(-8%)  Iter   3   47.91%  Refine biparts\r",
      "00:00:05   130 MB(-8%)  Iter   3   48.23%  Refine biparts\r",
      "00:00:05   130 MB(-8%)  Iter   3   48.55%  Refine biparts\r",
      "00:00:05   130 MB(-8%)  Iter   3   48.87%  Refine biparts\r",
      "00:00:05   130 MB(-8%)  Iter   3   49.20%  Refine biparts\r",
      "00:00:05   130 MB(-8%)  Iter   3   49.52%  Refine biparts\r",
      "00:00:05   130 MB(-8%)  Iter   3   49.84%  Refine biparts\r",
      "00:00:05   130 MB(-8%)  Iter   3   50.16%  Refine biparts\r",
      "00:00:05   130 MB(-8%)  Iter   3   50.48%  Refine biparts\r",
      "00:00:06   130 MB(-8%)  Iter   3   50.80%  Refine biparts\r",
      "00:00:06   130 MB(-8%)  Iter   3   51.13%  Refine biparts\r",
      "00:00:06   130 MB(-8%)  Iter   3   51.45%  Refine biparts\r",
      "00:00:06   130 MB(-8%)  Iter   3   51.77%  Refine biparts\r",
      "00:00:06   130 MB(-8%)  Iter   3   52.09%  Refine biparts\r",
      "00:00:06   130 MB(-8%)  Iter   3   52.41%  Refine biparts\r",
      "00:00:06   130 MB(-8%)  Iter   3   52.73%  Refine biparts\r",
      "00:00:06   130 MB(-8%)  Iter   3   53.05%  Refine biparts\r",
      "00:00:06   130 MB(-8%)  Iter   3   53.38%  Refine biparts\r",
      "00:00:06   130 MB(-8%)  Iter   3   53.70%  Refine biparts\r",
      "00:00:06   130 MB(-8%)  Iter   3   54.02%  Refine biparts\r",
      "00:00:06   130 MB(-8%)  Iter   3   54.34%  Refine biparts\r",
      "00:00:06   130 MB(-8%)  Iter   3   54.66%  Refine biparts\r",
      "00:00:06   130 MB(-8%)  Iter   3   54.98%  Refine biparts\r",
      "00:00:06   130 MB(-8%)  Iter   3   55.31%  Refine biparts\r",
      "00:00:06   130 MB(-8%)  Iter   3   55.63%  Refine biparts\r",
      "00:00:06   130 MB(-8%)  Iter   3   55.95%  Refine biparts\r",
      "00:00:06   130 MB(-8%)  Iter   3   56.27%  Refine biparts\r",
      "00:00:06   130 MB(-8%)  Iter   3   56.59%  Refine biparts\r",
      "00:00:06   130 MB(-8%)  Iter   3   56.91%  Refine biparts\r",
      "00:00:06   130 MB(-8%)  Iter   3   57.23%  Refine biparts\r",
      "00:00:06   130 MB(-8%)  Iter   3   57.56%  Refine biparts\r",
      "00:00:06   130 MB(-8%)  Iter   3   57.88%  Refine biparts\r",
      "00:00:06   130 MB(-8%)  Iter   3   58.20%  Refine biparts\r",
      "00:00:06   130 MB(-8%)  Iter   3   58.52%  Refine biparts\r",
      "00:00:06   130 MB(-8%)  Iter   3   58.84%  Refine biparts\r",
      "00:00:06   130 MB(-8%)  Iter   3   59.16%  Refine biparts\r",
      "00:00:06   130 MB(-8%)  Iter   3   59.49%  Refine biparts\r",
      "00:00:06   130 MB(-8%)  Iter   3   59.81%  Refine biparts\r",
      "00:00:06   130 MB(-8%)  Iter   3   60.13%  Refine biparts\r",
      "00:00:06   130 MB(-8%)  Iter   3   60.45%  Refine biparts\r",
      "00:00:06   130 MB(-8%)  Iter   3   60.77%  Refine biparts\r",
      "00:00:06   130 MB(-8%)  Iter   3   61.09%  Refine biparts\r",
      "00:00:06   130 MB(-8%)  Iter   3   61.41%  Refine biparts\r",
      "00:00:06   130 MB(-8%)  Iter   3   61.74%  Refine biparts\r",
      "00:00:06   130 MB(-8%)  Iter   3   62.06%  Refine biparts\r",
      "00:00:06   130 MB(-8%)  Iter   3   62.38%  Refine biparts\r",
      "00:00:06   130 MB(-8%)  Iter   3   62.70%  Refine biparts\r",
      "00:00:06   130 MB(-8%)  Iter   3   63.02%  Refine biparts\r",
      "00:00:06   130 MB(-8%)  Iter   3   63.34%  Refine biparts\r",
      "00:00:06   130 MB(-8%)  Iter   3   63.67%  Refine biparts\r",
      "00:00:06   130 MB(-8%)  Iter   3   63.99%  Refine biparts\r",
      "00:00:06   130 MB(-8%)  Iter   3   64.31%  Refine biparts\r",
      "00:00:06   130 MB(-8%)  Iter   3   64.63%  Refine biparts\r",
      "00:00:06   130 MB(-8%)  Iter   3   64.95%  Refine biparts\r",
      "00:00:06   130 MB(-8%)  Iter   3   65.27%  Refine biparts\r",
      "00:00:06   130 MB(-8%)  Iter   3   65.59%  Refine biparts\r",
      "00:00:06   130 MB(-8%)  Iter   3   65.92%  Refine biparts\r",
      "00:00:06   130 MB(-8%)  Iter   3   66.24%  Refine biparts\r",
      "00:00:06   130 MB(-8%)  Iter   3   66.56%  Refine biparts\r",
      "00:00:06   130 MB(-8%)  Iter   3   66.88%  Refine biparts\r",
      "00:00:06   130 MB(-8%)  Iter   3   67.20%  Refine biparts\r",
      "00:00:06   130 MB(-8%)  Iter   3   67.52%  Refine biparts\r",
      "00:00:06   130 MB(-8%)  Iter   3   67.85%  Refine biparts\r",
      "00:00:06   130 MB(-8%)  Iter   3   68.17%  Refine biparts\r",
      "00:00:06   130 MB(-8%)  Iter   3   68.49%  Refine biparts\r",
      "00:00:06   130 MB(-8%)  Iter   3   68.81%  Refine biparts\r",
      "00:00:07   130 MB(-8%)  Iter   3   69.13%  Refine biparts\r",
      "00:00:07   130 MB(-8%)  Iter   3   69.45%  Refine biparts\r",
      "00:00:07   130 MB(-8%)  Iter   3   69.77%  Refine biparts\r",
      "00:00:07   130 MB(-8%)  Iter   3   70.10%  Refine biparts\r",
      "00:00:07   130 MB(-8%)  Iter   3   70.42%  Refine biparts\r",
      "00:00:07   130 MB(-8%)  Iter   3   70.74%  Refine biparts\r",
      "00:00:07   130 MB(-8%)  Iter   3   71.06%  Refine biparts\r",
      "00:00:07   130 MB(-8%)  Iter   3   71.38%  Refine biparts\r",
      "00:00:07   130 MB(-8%)  Iter   3   71.70%  Refine biparts\r",
      "00:00:07   130 MB(-8%)  Iter   3   72.03%  Refine biparts\r",
      "00:00:07   130 MB(-8%)  Iter   3   72.35%  Refine biparts\r",
      "00:00:07   130 MB(-8%)  Iter   3   72.67%  Refine biparts\r",
      "00:00:07   130 MB(-8%)  Iter   3   72.99%  Refine biparts\r",
      "00:00:07   130 MB(-8%)  Iter   3   73.31%  Refine biparts\r",
      "00:00:07   130 MB(-8%)  Iter   3   73.63%  Refine biparts\r",
      "00:00:07   130 MB(-8%)  Iter   3   73.95%  Refine biparts\r",
      "00:00:07   130 MB(-8%)  Iter   3   74.28%  Refine biparts\r",
      "00:00:07   130 MB(-8%)  Iter   3   74.60%  Refine biparts\r",
      "00:00:07   130 MB(-8%)  Iter   3   74.92%  Refine biparts\r",
      "00:00:07   130 MB(-8%)  Iter   3   75.24%  Refine biparts\r",
      "00:00:07   130 MB(-8%)  Iter   3   75.56%  Refine biparts\r",
      "00:00:07   130 MB(-8%)  Iter   3   75.88%  Refine biparts\r",
      "00:00:07   130 MB(-8%)  Iter   3   76.21%  Refine biparts\r",
      "00:00:07   130 MB(-8%)  Iter   3   76.53%  Refine biparts\r",
      "00:00:07   130 MB(-8%)  Iter   3   76.85%  Refine biparts\r",
      "00:00:07   130 MB(-8%)  Iter   3   77.17%  Refine biparts\r",
      "00:00:07   130 MB(-8%)  Iter   3   77.49%  Refine biparts\r",
      "00:00:07   130 MB(-8%)  Iter   3   77.81%  Refine biparts\r",
      "00:00:07   130 MB(-8%)  Iter   3   78.14%  Refine biparts\r",
      "00:00:07   130 MB(-8%)  Iter   3   78.46%  Refine biparts\r",
      "00:00:07   130 MB(-8%)  Iter   3   78.78%  Refine biparts\r",
      "00:00:07   130 MB(-8%)  Iter   3   79.10%  Refine biparts\r",
      "00:00:07   130 MB(-8%)  Iter   3   79.42%  Refine biparts\r",
      "00:00:07   130 MB(-8%)  Iter   3   79.74%  Refine biparts\r",
      "00:00:07   130 MB(-8%)  Iter   3   80.06%  Refine biparts\r",
      "00:00:07   130 MB(-8%)  Iter   3   80.39%  Refine biparts\r",
      "00:00:07   130 MB(-8%)  Iter   3   80.71%  Refine biparts\r",
      "00:00:07   130 MB(-8%)  Iter   3   81.03%  Refine biparts\r",
      "00:00:07   130 MB(-8%)  Iter   3   81.35%  Refine biparts\r",
      "00:00:07   130 MB(-8%)  Iter   3   81.67%  Refine biparts\r",
      "00:00:07   130 MB(-8%)  Iter   3   81.99%  Refine biparts\r",
      "00:00:07   130 MB(-8%)  Iter   3   82.32%  Refine biparts\r",
      "00:00:07   130 MB(-8%)  Iter   3   82.64%  Refine biparts\r",
      "00:00:07   130 MB(-8%)  Iter   3   82.96%  Refine biparts\r",
      "00:00:07   130 MB(-8%)  Iter   3   83.28%  Refine biparts\r",
      "00:00:07   130 MB(-8%)  Iter   3   83.60%  Refine biparts\r",
      "00:00:07   130 MB(-8%)  Iter   3   83.92%  Refine biparts\r",
      "00:00:07   130 MB(-8%)  Iter   3   84.24%  Refine biparts\r",
      "00:00:07   130 MB(-8%)  Iter   3   84.57%  Refine biparts\r",
      "00:00:07   130 MB(-8%)  Iter   3   84.89%  Refine biparts\r",
      "00:00:07   130 MB(-8%)  Iter   3   85.21%  Refine biparts\r",
      "00:00:07   130 MB(-8%)  Iter   3   85.53%  Refine biparts\r",
      "00:00:07   130 MB(-8%)  Iter   3   85.85%  Refine biparts\r",
      "00:00:07   130 MB(-8%)  Iter   3   86.17%  Refine biparts\r",
      "00:00:07   130 MB(-8%)  Iter   3   86.50%  Refine biparts\r",
      "00:00:07   130 MB(-8%)  Iter   3   86.82%  Refine biparts\r",
      "00:00:08   130 MB(-8%)  Iter   3   87.14%  Refine biparts\r",
      "00:00:08   130 MB(-8%)  Iter   3   87.46%  Refine biparts\r",
      "00:00:08   130 MB(-8%)  Iter   3   87.78%  Refine biparts\r",
      "00:00:08   130 MB(-8%)  Iter   3   88.10%  Refine biparts\r",
      "00:00:08   130 MB(-8%)  Iter   3   88.42%  Refine biparts\r",
      "00:00:08   130 MB(-8%)  Iter   3   88.75%  Refine biparts\r",
      "00:00:08   130 MB(-8%)  Iter   3   89.07%  Refine biparts\r",
      "00:00:08   130 MB(-8%)  Iter   3   89.39%  Refine biparts\r",
      "00:00:08   130 MB(-8%)  Iter   3   89.71%  Refine biparts\r",
      "00:00:08   130 MB(-8%)  Iter   3   90.03%  Refine biparts\r",
      "00:00:08   130 MB(-8%)  Iter   3   90.35%  Refine biparts\r",
      "00:00:08   130 MB(-8%)  Iter   3   90.68%  Refine biparts\r",
      "00:00:08   130 MB(-8%)  Iter   3   91.00%  Refine biparts\r",
      "00:00:08   130 MB(-8%)  Iter   3   91.32%  Refine biparts\r",
      "00:00:08   130 MB(-8%)  Iter   3   91.64%  Refine biparts\r",
      "00:00:08   130 MB(-8%)  Iter   3   91.96%  Refine biparts\r",
      "00:00:08   130 MB(-8%)  Iter   3   92.28%  Refine biparts\r",
      "00:00:08   130 MB(-8%)  Iter   3   92.60%  Refine biparts\r",
      "00:00:08   130 MB(-8%)  Iter   3   92.93%  Refine biparts\r",
      "00:00:08   130 MB(-8%)  Iter   3   93.25%  Refine biparts\r",
      "00:00:08   130 MB(-8%)  Iter   3   93.57%  Refine biparts\r",
      "00:00:08   130 MB(-8%)  Iter   3   93.89%  Refine biparts\r",
      "00:00:08   130 MB(-8%)  Iter   3   94.21%  Refine biparts\r",
      "00:00:08   130 MB(-8%)  Iter   3   94.53%  Refine biparts\r",
      "00:00:08   130 MB(-8%)  Iter   3   94.86%  Refine biparts\r",
      "00:00:08   130 MB(-8%)  Iter   3   95.18%  Refine biparts\r",
      "00:00:08   130 MB(-8%)  Iter   3   95.50%  Refine biparts\r",
      "00:00:08   130 MB(-8%)  Iter   3   95.82%  Refine biparts\r",
      "00:00:08   130 MB(-8%)  Iter   3   96.14%  Refine biparts\r",
      "00:00:08   130 MB(-8%)  Iter   3   96.46%  Refine biparts\r",
      "00:00:08   130 MB(-8%)  Iter   3   96.78%  Refine biparts\r",
      "00:00:08   130 MB(-8%)  Iter   3   97.11%  Refine biparts\r",
      "00:00:08   130 MB(-8%)  Iter   3   97.43%  Refine biparts\r",
      "00:00:08   130 MB(-8%)  Iter   3   97.75%  Refine biparts\r",
      "00:00:08   130 MB(-8%)  Iter   3   98.07%  Refine biparts\r",
      "00:00:08   130 MB(-8%)  Iter   3   98.39%  Refine biparts\r",
      "00:00:08   130 MB(-8%)  Iter   3   98.71%  Refine biparts\r",
      "00:00:08   130 MB(-8%)  Iter   3   99.04%  Refine biparts\r",
      "00:00:08   130 MB(-8%)  Iter   3   99.36%  Refine biparts\r",
      "00:00:08   130 MB(-8%)  Iter   3   99.68%  Refine biparts\r",
      "00:00:08   130 MB(-8%)  Iter   3  100.00%  Refine biparts\r",
      "00:00:08   130 MB(-8%)  Iter   3  100.32%  Refine biparts\r",
      "00:00:08   130 MB(-8%)  Iter   3  100.00%  Refine biparts\r\n",
      "00:00:08   130 MB(-8%)  Iter   4    0.64%  Refine biparts\r",
      "00:00:08   130 MB(-8%)  Iter   4    0.96%  Refine biparts\r",
      "00:00:08   130 MB(-8%)  Iter   4    1.29%  Refine biparts\r",
      "00:00:08   130 MB(-8%)  Iter   4    1.61%  Refine biparts\r",
      "00:00:08   130 MB(-8%)  Iter   4    1.93%  Refine biparts\r",
      "00:00:08   130 MB(-8%)  Iter   4    2.25%  Refine biparts\r",
      "00:00:08   130 MB(-8%)  Iter   4    2.57%  Refine biparts\r",
      "00:00:08   130 MB(-8%)  Iter   4    2.89%  Refine biparts\r",
      "00:00:08   130 MB(-8%)  Iter   4    3.22%  Refine biparts\r",
      "00:00:08   130 MB(-8%)  Iter   4    3.54%  Refine biparts\r",
      "00:00:08   130 MB(-8%)  Iter   4    3.86%  Refine biparts\r",
      "00:00:08   130 MB(-8%)  Iter   4    4.18%  Refine biparts\r",
      "00:00:08   130 MB(-8%)  Iter   4    4.50%  Refine biparts\r",
      "00:00:08   130 MB(-8%)  Iter   4    4.82%  Refine biparts\r",
      "00:00:08   130 MB(-8%)  Iter   4    5.14%  Refine biparts\r",
      "00:00:09   130 MB(-8%)  Iter   4    5.47%  Refine biparts\r",
      "00:00:09   130 MB(-8%)  Iter   4    5.79%  Refine biparts\r",
      "00:00:09   130 MB(-8%)  Iter   4    6.11%  Refine biparts\r",
      "00:00:09   130 MB(-8%)  Iter   4    6.43%  Refine biparts\r",
      "00:00:09   130 MB(-8%)  Iter   4    6.75%  Refine biparts\r",
      "00:00:09   130 MB(-8%)  Iter   4    7.07%  Refine biparts\r",
      "00:00:09   130 MB(-8%)  Iter   4    7.40%  Refine biparts\r",
      "00:00:09   130 MB(-8%)  Iter   4    7.72%  Refine biparts\r",
      "00:00:09   130 MB(-8%)  Iter   4    8.04%  Refine biparts\r",
      "00:00:09   130 MB(-8%)  Iter   4    8.36%  Refine biparts\r",
      "00:00:09   130 MB(-8%)  Iter   4    8.68%  Refine biparts\r",
      "00:00:09   130 MB(-8%)  Iter   4    9.00%  Refine biparts\r",
      "00:00:09   130 MB(-8%)  Iter   4    9.32%  Refine biparts\r",
      "00:00:09   130 MB(-8%)  Iter   4    9.65%  Refine biparts\r",
      "00:00:09   130 MB(-8%)  Iter   4    9.97%  Refine biparts\r",
      "00:00:09   130 MB(-8%)  Iter   4   10.29%  Refine biparts\r",
      "00:00:09   130 MB(-8%)  Iter   4   10.61%  Refine biparts\r",
      "00:00:09   130 MB(-8%)  Iter   4   10.93%  Refine biparts\r",
      "00:00:09   130 MB(-8%)  Iter   4   11.25%  Refine biparts\r",
      "00:00:09   130 MB(-8%)  Iter   4   11.58%  Refine biparts\r",
      "00:00:09   130 MB(-8%)  Iter   4   11.90%  Refine biparts\r",
      "00:00:09   130 MB(-8%)  Iter   4   12.22%  Refine biparts\r",
      "00:00:09   130 MB(-8%)  Iter   4   12.54%  Refine biparts\r",
      "00:00:09   130 MB(-8%)  Iter   4   12.86%  Refine biparts\r",
      "00:00:09   130 MB(-8%)  Iter   4   13.18%  Refine biparts\r",
      "00:00:09   130 MB(-8%)  Iter   4   13.50%  Refine biparts\r",
      "00:00:09   130 MB(-8%)  Iter   4   13.83%  Refine biparts\r",
      "00:00:09   130 MB(-8%)  Iter   4   14.15%  Refine biparts\r",
      "00:00:09   130 MB(-8%)  Iter   4   14.47%  Refine biparts\r",
      "00:00:09   130 MB(-8%)  Iter   4   14.79%  Refine biparts\r",
      "00:00:09   130 MB(-8%)  Iter   4   15.11%  Refine biparts\r",
      "00:00:09   130 MB(-8%)  Iter   4   15.43%  Refine biparts\r",
      "00:00:09   130 MB(-8%)  Iter   4   15.76%  Refine biparts\r",
      "00:00:09   130 MB(-8%)  Iter   4   16.08%  Refine biparts\r",
      "00:00:09   130 MB(-8%)  Iter   4   16.40%  Refine biparts\r",
      "00:00:09   130 MB(-8%)  Iter   4   16.72%  Refine biparts\r",
      "00:00:09   130 MB(-8%)  Iter   4   17.04%  Refine biparts\r",
      "00:00:09   130 MB(-8%)  Iter   4   17.36%  Refine biparts\r",
      "00:00:09   130 MB(-8%)  Iter   4   17.68%  Refine biparts\r",
      "00:00:09   130 MB(-8%)  Iter   4   18.01%  Refine biparts\r",
      "00:00:09   130 MB(-8%)  Iter   4   18.33%  Refine biparts\r",
      "00:00:09   130 MB(-8%)  Iter   4   18.65%  Refine biparts\r",
      "00:00:09   130 MB(-8%)  Iter   4   18.97%  Refine biparts\r",
      "00:00:09   130 MB(-8%)  Iter   4   19.29%  Refine biparts\r",
      "00:00:09   130 MB(-8%)  Iter   4   19.61%  Refine biparts\r",
      "00:00:09   130 MB(-8%)  Iter   4   19.94%  Refine biparts\r",
      "00:00:09   130 MB(-8%)  Iter   4   20.26%  Refine biparts\r",
      "00:00:09   130 MB(-8%)  Iter   4   20.58%  Refine biparts\r",
      "00:00:09   130 MB(-8%)  Iter   4   20.90%  Refine biparts\r",
      "00:00:09   130 MB(-8%)  Iter   4   21.22%  Refine biparts\r",
      "00:00:09   130 MB(-8%)  Iter   4   21.54%  Refine biparts\r",
      "00:00:09   130 MB(-8%)  Iter   4   21.86%  Refine biparts\r",
      "00:00:09   130 MB(-8%)  Iter   4   22.19%  Refine biparts\r",
      "00:00:09   130 MB(-8%)  Iter   4   22.51%  Refine biparts\r",
      "00:00:09   130 MB(-8%)  Iter   4   22.83%  Refine biparts\r",
      "00:00:09   130 MB(-8%)  Iter   4   23.15%  Refine biparts\r",
      "00:00:09   130 MB(-8%)  Iter   4   23.47%  Refine biparts\r",
      "00:00:10   130 MB(-8%)  Iter   4   23.79%  Refine biparts\r",
      "00:00:10   130 MB(-8%)  Iter   4   24.12%  Refine biparts\r",
      "00:00:10   130 MB(-8%)  Iter   4   24.44%  Refine biparts\r",
      "00:00:10   130 MB(-8%)  Iter   4   24.76%  Refine biparts\r",
      "00:00:10   130 MB(-8%)  Iter   4   25.08%  Refine biparts\r",
      "00:00:10   130 MB(-8%)  Iter   4   25.40%  Refine biparts\r",
      "00:00:10   130 MB(-8%)  Iter   4   25.72%  Refine biparts\r",
      "00:00:10   130 MB(-8%)  Iter   4   26.05%  Refine biparts\r",
      "00:00:10   130 MB(-8%)  Iter   4   26.37%  Refine biparts\r",
      "00:00:10   130 MB(-8%)  Iter   4   26.69%  Refine biparts\r",
      "00:00:10   130 MB(-8%)  Iter   4   27.01%  Refine biparts\r",
      "00:00:10   130 MB(-8%)  Iter   4   27.33%  Refine biparts\r",
      "00:00:10   130 MB(-8%)  Iter   4   27.65%  Refine biparts\r",
      "00:00:10   130 MB(-8%)  Iter   4   27.97%  Refine biparts\r",
      "00:00:10   130 MB(-8%)  Iter   4   28.30%  Refine biparts\r",
      "00:00:10   130 MB(-8%)  Iter   4   28.62%  Refine biparts\r",
      "00:00:10   130 MB(-8%)  Iter   4   28.94%  Refine biparts\r",
      "00:00:10   130 MB(-8%)  Iter   4   29.26%  Refine biparts\r",
      "00:00:10   130 MB(-8%)  Iter   4   29.58%  Refine biparts\r",
      "00:00:10   130 MB(-8%)  Iter   4   29.90%  Refine biparts\r",
      "00:00:10   130 MB(-8%)  Iter   4   30.23%  Refine biparts\r",
      "00:00:10   130 MB(-8%)  Iter   4   30.55%  Refine biparts\r",
      "00:00:10   130 MB(-8%)  Iter   4   30.87%  Refine biparts\r",
      "00:00:10   130 MB(-8%)  Iter   4   31.19%  Refine biparts\r",
      "00:00:10   130 MB(-8%)  Iter   4   31.51%  Refine biparts\r",
      "00:00:10   130 MB(-8%)  Iter   4   31.83%  Refine biparts\r",
      "00:00:10   130 MB(-8%)  Iter   4   32.15%  Refine biparts\r",
      "00:00:10   130 MB(-8%)  Iter   4   32.48%  Refine biparts\r",
      "00:00:10   130 MB(-8%)  Iter   4   32.80%  Refine biparts\r",
      "00:00:10   130 MB(-8%)  Iter   4   33.12%  Refine biparts\r",
      "00:00:10   130 MB(-8%)  Iter   4   33.44%  Refine biparts\r",
      "00:00:10   130 MB(-8%)  Iter   4   33.76%  Refine biparts\r",
      "00:00:10   130 MB(-8%)  Iter   4   34.08%  Refine biparts\r",
      "00:00:10   130 MB(-8%)  Iter   4   34.41%  Refine biparts\r",
      "00:00:10   130 MB(-8%)  Iter   4   34.73%  Refine biparts\r",
      "00:00:10   130 MB(-8%)  Iter   4   35.05%  Refine biparts\r",
      "00:00:10   130 MB(-8%)  Iter   4   35.37%  Refine biparts\r",
      "00:00:10   130 MB(-8%)  Iter   4   35.69%  Refine biparts\r",
      "00:00:10   130 MB(-8%)  Iter   4   36.01%  Refine biparts\r",
      "00:00:10   130 MB(-8%)  Iter   4   36.33%  Refine biparts\r",
      "00:00:10   130 MB(-8%)  Iter   4   36.66%  Refine biparts\r",
      "00:00:10   130 MB(-8%)  Iter   4   36.98%  Refine biparts\r",
      "00:00:10   130 MB(-8%)  Iter   4   37.30%  Refine biparts\r",
      "00:00:10   130 MB(-8%)  Iter   4   37.62%  Refine biparts\r",
      "00:00:10   130 MB(-8%)  Iter   4   37.94%  Refine biparts\r",
      "00:00:10   130 MB(-8%)  Iter   4   38.26%  Refine biparts\r",
      "00:00:10   130 MB(-8%)  Iter   4   38.59%  Refine biparts\r",
      "00:00:10   130 MB(-8%)  Iter   4   38.91%  Refine biparts\r",
      "00:00:10   130 MB(-8%)  Iter   4   39.23%  Refine biparts\r",
      "00:00:10   130 MB(-8%)  Iter   4   39.55%  Refine biparts\r",
      "00:00:10   130 MB(-8%)  Iter   4   39.87%  Refine biparts\r",
      "00:00:10   130 MB(-8%)  Iter   4   40.19%  Refine biparts\r",
      "00:00:10   130 MB(-8%)  Iter   4   40.51%  Refine biparts\r",
      "00:00:10   130 MB(-8%)  Iter   4   40.84%  Refine biparts\r",
      "00:00:10   130 MB(-8%)  Iter   4   41.16%  Refine biparts\r",
      "00:00:10   130 MB(-8%)  Iter   4   41.48%  Refine biparts\r",
      "00:00:10   130 MB(-8%)  Iter   4   41.80%  Refine biparts\r",
      "00:00:11   130 MB(-8%)  Iter   4   42.12%  Refine biparts\r",
      "00:00:11   130 MB(-8%)  Iter   4   42.44%  Refine biparts\r",
      "00:00:11   130 MB(-8%)  Iter   4   42.77%  Refine biparts\r",
      "00:00:11   130 MB(-8%)  Iter   4   43.09%  Refine biparts\r",
      "00:00:11   130 MB(-8%)  Iter   4   43.41%  Refine biparts\r",
      "00:00:11   130 MB(-8%)  Iter   4   43.73%  Refine biparts\r",
      "00:00:11   130 MB(-8%)  Iter   4   44.05%  Refine biparts\r",
      "00:00:11   130 MB(-8%)  Iter   4   44.37%  Refine biparts\r",
      "00:00:11   130 MB(-8%)  Iter   4   44.69%  Refine biparts\r",
      "00:00:11   130 MB(-8%)  Iter   4   45.02%  Refine biparts\r",
      "00:00:11   130 MB(-8%)  Iter   4   45.34%  Refine biparts\r",
      "00:00:11   130 MB(-8%)  Iter   4   45.66%  Refine biparts\r",
      "00:00:11   130 MB(-8%)  Iter   4   45.98%  Refine biparts\r",
      "00:00:11   130 MB(-8%)  Iter   4   46.30%  Refine biparts\r",
      "00:00:11   130 MB(-8%)  Iter   4   46.62%  Refine biparts\r",
      "00:00:11   130 MB(-8%)  Iter   4   46.95%  Refine biparts\r",
      "00:00:11   130 MB(-8%)  Iter   4   47.27%  Refine biparts\r",
      "00:00:11   130 MB(-8%)  Iter   4   47.59%  Refine biparts\r",
      "00:00:11   130 MB(-8%)  Iter   4   47.91%  Refine biparts\r",
      "00:00:11   130 MB(-8%)  Iter   4   48.23%  Refine biparts\r",
      "00:00:11   130 MB(-8%)  Iter   4   48.55%  Refine biparts\r",
      "00:00:11   130 MB(-8%)  Iter   4   48.87%  Refine biparts\r",
      "00:00:11   130 MB(-8%)  Iter   4   49.20%  Refine biparts\r",
      "00:00:11   130 MB(-8%)  Iter   4   49.52%  Refine biparts\r",
      "00:00:11   130 MB(-8%)  Iter   4   49.84%  Refine biparts\r",
      "00:00:11   130 MB(-8%)  Iter   4   50.16%  Refine biparts\r",
      "00:00:11   130 MB(-8%)  Iter   4   50.48%  Refine biparts\r",
      "00:00:11   130 MB(-8%)  Iter   4   50.80%  Refine biparts\r",
      "00:00:11   130 MB(-8%)  Iter   4   51.13%  Refine biparts\r",
      "00:00:11   130 MB(-8%)  Iter   4   51.45%  Refine biparts\r",
      "00:00:11   130 MB(-8%)  Iter   4   51.77%  Refine biparts\r",
      "00:00:11   130 MB(-8%)  Iter   4   52.09%  Refine biparts\r",
      "00:00:11   130 MB(-8%)  Iter   4   52.41%  Refine biparts\r",
      "00:00:11   130 MB(-8%)  Iter   4   52.73%  Refine biparts\r",
      "00:00:11   130 MB(-8%)  Iter   4   53.05%  Refine biparts\r",
      "00:00:11   130 MB(-8%)  Iter   4   53.38%  Refine biparts\r",
      "00:00:11   130 MB(-8%)  Iter   4   53.70%  Refine biparts\r",
      "00:00:11   130 MB(-8%)  Iter   4   54.02%  Refine biparts\r",
      "00:00:11   130 MB(-8%)  Iter   4   54.34%  Refine biparts\r",
      "00:00:11   130 MB(-8%)  Iter   4   54.66%  Refine biparts\r",
      "00:00:11   130 MB(-8%)  Iter   4   54.98%  Refine biparts\r",
      "00:00:11   130 MB(-8%)  Iter   4   55.31%  Refine biparts\r",
      "00:00:11   130 MB(-8%)  Iter   4   55.63%  Refine biparts\r",
      "00:00:11   130 MB(-8%)  Iter   4   55.95%  Refine biparts\r",
      "00:00:11   130 MB(-8%)  Iter   4   56.27%  Refine biparts\r",
      "00:00:11   130 MB(-8%)  Iter   4   56.59%  Refine biparts\r",
      "00:00:11   130 MB(-8%)  Iter   4   56.91%  Refine biparts\r",
      "00:00:11   130 MB(-8%)  Iter   4   57.23%  Refine biparts\r",
      "00:00:11   130 MB(-8%)  Iter   4   57.56%  Refine biparts\r",
      "00:00:11   130 MB(-8%)  Iter   4   57.88%  Refine biparts\r",
      "00:00:11   130 MB(-8%)  Iter   4   58.20%  Refine biparts\r",
      "00:00:11   130 MB(-8%)  Iter   4   58.52%  Refine biparts\r",
      "00:00:11   130 MB(-8%)  Iter   4   58.84%  Refine biparts\r",
      "00:00:11   130 MB(-8%)  Iter   4   59.16%  Refine biparts\r",
      "00:00:11   130 MB(-8%)  Iter   4   59.49%  Refine biparts\r",
      "00:00:11   130 MB(-8%)  Iter   4   59.81%  Refine biparts\r",
      "00:00:11   130 MB(-8%)  Iter   4   60.13%  Refine biparts\r",
      "00:00:12   130 MB(-8%)  Iter   4   60.45%  Refine biparts\r",
      "00:00:12   130 MB(-8%)  Iter   4   60.77%  Refine biparts\r",
      "00:00:12   130 MB(-8%)  Iter   4   61.09%  Refine biparts\r",
      "00:00:12   130 MB(-8%)  Iter   4   61.41%  Refine biparts\r",
      "00:00:12   130 MB(-8%)  Iter   4   61.74%  Refine biparts\r",
      "00:00:12   130 MB(-8%)  Iter   4   62.06%  Refine biparts\r",
      "00:00:12   130 MB(-8%)  Iter   4   62.38%  Refine biparts\r",
      "00:00:12   130 MB(-8%)  Iter   4   62.70%  Refine biparts\r",
      "00:00:12   130 MB(-8%)  Iter   4   63.02%  Refine biparts\r",
      "00:00:12   130 MB(-8%)  Iter   4   63.34%  Refine biparts\r",
      "00:00:12   130 MB(-8%)  Iter   4   63.67%  Refine biparts\r",
      "00:00:12   130 MB(-8%)  Iter   4   63.99%  Refine biparts\r",
      "00:00:12   130 MB(-8%)  Iter   4   64.31%  Refine biparts\r",
      "00:00:12   130 MB(-8%)  Iter   4   64.63%  Refine biparts\r",
      "00:00:12   130 MB(-8%)  Iter   4   64.95%  Refine biparts\r",
      "00:00:12   130 MB(-8%)  Iter   4   65.27%  Refine biparts\r",
      "00:00:12   130 MB(-8%)  Iter   4   65.59%  Refine biparts\r",
      "00:00:12   130 MB(-8%)  Iter   4   65.92%  Refine biparts\r",
      "00:00:12   130 MB(-8%)  Iter   4   66.24%  Refine biparts\r",
      "00:00:12   130 MB(-8%)  Iter   4   66.56%  Refine biparts\r",
      "00:00:12   130 MB(-8%)  Iter   4   66.88%  Refine biparts\r",
      "00:00:12   130 MB(-8%)  Iter   4   67.20%  Refine biparts\r",
      "00:00:12   130 MB(-8%)  Iter   4   67.52%  Refine biparts\r",
      "00:00:12   130 MB(-8%)  Iter   4   67.85%  Refine biparts\r",
      "00:00:12   130 MB(-8%)  Iter   4   68.17%  Refine biparts\r",
      "00:00:12   130 MB(-8%)  Iter   4   68.49%  Refine biparts\r",
      "00:00:12   130 MB(-8%)  Iter   4   68.81%  Refine biparts\r",
      "00:00:12   130 MB(-8%)  Iter   4   69.13%  Refine biparts\r",
      "00:00:12   130 MB(-8%)  Iter   4   69.45%  Refine biparts\r",
      "00:00:12   130 MB(-8%)  Iter   4   69.77%  Refine biparts\r",
      "00:00:12   130 MB(-8%)  Iter   4   70.10%  Refine biparts\r",
      "00:00:12   130 MB(-8%)  Iter   4   70.42%  Refine biparts\r",
      "00:00:12   130 MB(-8%)  Iter   4   70.74%  Refine biparts\r",
      "00:00:12   130 MB(-8%)  Iter   4   71.06%  Refine biparts\r",
      "00:00:12   130 MB(-8%)  Iter   4   71.38%  Refine biparts\r",
      "00:00:12   130 MB(-8%)  Iter   4   71.70%  Refine biparts\r",
      "00:00:12   130 MB(-8%)  Iter   4   72.03%  Refine biparts\r",
      "00:00:12   130 MB(-8%)  Iter   4   72.35%  Refine biparts\r",
      "00:00:12   130 MB(-8%)  Iter   4   72.67%  Refine biparts\r",
      "00:00:12   130 MB(-8%)  Iter   4   72.99%  Refine biparts\r",
      "00:00:12   130 MB(-8%)  Iter   4   73.31%  Refine biparts\r",
      "00:00:12   130 MB(-8%)  Iter   4   73.63%  Refine biparts\r",
      "00:00:12   130 MB(-8%)  Iter   4   73.95%  Refine biparts\r",
      "00:00:12   130 MB(-8%)  Iter   4   74.28%  Refine biparts\r",
      "00:00:12   130 MB(-8%)  Iter   4   74.60%  Refine biparts\r",
      "00:00:12   130 MB(-8%)  Iter   4   74.92%  Refine biparts\r",
      "00:00:12   130 MB(-8%)  Iter   4   75.24%  Refine biparts\r",
      "00:00:12   130 MB(-8%)  Iter   4   75.56%  Refine biparts\r",
      "00:00:12   130 MB(-8%)  Iter   4   75.88%  Refine biparts\r",
      "00:00:12   130 MB(-8%)  Iter   4   76.21%  Refine biparts\r",
      "00:00:12   130 MB(-8%)  Iter   4   76.53%  Refine biparts\r",
      "00:00:12   130 MB(-8%)  Iter   4   76.85%  Refine biparts\r",
      "00:00:12   130 MB(-8%)  Iter   4   77.17%  Refine biparts\r",
      "00:00:12   130 MB(-8%)  Iter   4   77.49%  Refine biparts\r",
      "00:00:12   130 MB(-8%)  Iter   4   77.81%  Refine biparts\r",
      "00:00:12   130 MB(-8%)  Iter   4   78.14%  Refine biparts\r",
      "00:00:12   130 MB(-8%)  Iter   4   78.46%  Refine biparts\r",
      "00:00:13   130 MB(-8%)  Iter   4   78.78%  Refine biparts\r",
      "00:00:13   130 MB(-8%)  Iter   4   79.10%  Refine biparts\r",
      "00:00:13   130 MB(-8%)  Iter   4   79.42%  Refine biparts\r",
      "00:00:13   130 MB(-8%)  Iter   4   79.74%  Refine biparts\r",
      "00:00:13   130 MB(-8%)  Iter   4   80.06%  Refine biparts\r",
      "00:00:13   130 MB(-8%)  Iter   4   80.39%  Refine biparts\r",
      "00:00:13   130 MB(-8%)  Iter   4   80.71%  Refine biparts\r",
      "00:00:13   130 MB(-8%)  Iter   4   81.03%  Refine biparts\r",
      "00:00:13   130 MB(-8%)  Iter   4   81.35%  Refine biparts\r",
      "00:00:13   130 MB(-8%)  Iter   4   81.67%  Refine biparts\r",
      "00:00:13   130 MB(-8%)  Iter   4   81.99%  Refine biparts\r",
      "00:00:13   130 MB(-8%)  Iter   4   82.32%  Refine biparts\r",
      "00:00:13   130 MB(-8%)  Iter   4   82.64%  Refine biparts\r",
      "00:00:13   130 MB(-8%)  Iter   4   82.96%  Refine biparts\r",
      "00:00:13   130 MB(-8%)  Iter   4   83.28%  Refine biparts\r",
      "00:00:13   130 MB(-8%)  Iter   4   83.60%  Refine biparts\r",
      "00:00:13   130 MB(-8%)  Iter   4   83.92%  Refine biparts\r",
      "00:00:13   130 MB(-8%)  Iter   4   84.24%  Refine biparts\r",
      "00:00:13   130 MB(-8%)  Iter   4   84.57%  Refine biparts\r",
      "00:00:13   130 MB(-8%)  Iter   4   84.89%  Refine biparts\r",
      "00:00:13   130 MB(-8%)  Iter   4   85.21%  Refine biparts\r",
      "00:00:13   130 MB(-8%)  Iter   4   85.53%  Refine biparts\r",
      "00:00:13   130 MB(-8%)  Iter   4   85.85%  Refine biparts\r",
      "00:00:13   130 MB(-8%)  Iter   4   86.17%  Refine biparts\r",
      "00:00:13   130 MB(-8%)  Iter   4   86.50%  Refine biparts\r",
      "00:00:13   130 MB(-8%)  Iter   4   86.82%  Refine biparts\r",
      "00:00:13   130 MB(-8%)  Iter   4   87.14%  Refine biparts\r",
      "00:00:13   130 MB(-8%)  Iter   4   87.46%  Refine biparts\r",
      "00:00:13   130 MB(-8%)  Iter   4   87.78%  Refine biparts\r",
      "00:00:13   130 MB(-8%)  Iter   4   88.10%  Refine biparts\r",
      "00:00:13   130 MB(-8%)  Iter   4   88.42%  Refine biparts\r",
      "00:00:13   130 MB(-8%)  Iter   4   88.75%  Refine biparts\r",
      "00:00:13   130 MB(-8%)  Iter   4   89.07%  Refine biparts\r",
      "00:00:13   130 MB(-8%)  Iter   4   89.39%  Refine biparts\r",
      "00:00:13   130 MB(-8%)  Iter   4   89.71%  Refine biparts\r",
      "00:00:13   130 MB(-8%)  Iter   4   90.03%  Refine biparts\r",
      "00:00:13   130 MB(-8%)  Iter   4   90.35%  Refine biparts\r",
      "00:00:13   130 MB(-8%)  Iter   4   90.68%  Refine biparts\r",
      "00:00:13   130 MB(-8%)  Iter   4   91.00%  Refine biparts\r",
      "00:00:13   130 MB(-8%)  Iter   4   91.32%  Refine biparts\r",
      "00:00:13   130 MB(-8%)  Iter   4   91.64%  Refine biparts\r",
      "00:00:13   130 MB(-8%)  Iter   4   91.96%  Refine biparts\r",
      "00:00:13   130 MB(-8%)  Iter   4   92.28%  Refine biparts\r",
      "00:00:13   130 MB(-8%)  Iter   4   92.60%  Refine biparts\r",
      "00:00:13   130 MB(-8%)  Iter   4   92.93%  Refine biparts\r",
      "00:00:13   130 MB(-8%)  Iter   4   93.25%  Refine biparts\r",
      "00:00:13   130 MB(-8%)  Iter   4   93.57%  Refine biparts\r",
      "00:00:13   130 MB(-8%)  Iter   4   93.89%  Refine biparts\r",
      "00:00:13   130 MB(-8%)  Iter   4   94.21%  Refine biparts\r",
      "00:00:13   130 MB(-8%)  Iter   4   94.53%  Refine biparts\r",
      "00:00:13   130 MB(-8%)  Iter   4   94.86%  Refine biparts\r",
      "00:00:13   130 MB(-8%)  Iter   4   95.18%  Refine biparts\r",
      "00:00:13   130 MB(-8%)  Iter   4   95.50%  Refine biparts\r",
      "00:00:13   130 MB(-8%)  Iter   4   95.82%  Refine biparts\r",
      "00:00:13   130 MB(-8%)  Iter   4   96.14%  Refine biparts\r",
      "00:00:13   130 MB(-8%)  Iter   4   96.46%  Refine biparts\r",
      "00:00:13   130 MB(-8%)  Iter   4   96.78%  Refine biparts\r",
      "00:00:14   130 MB(-8%)  Iter   4   97.11%  Refine biparts\r",
      "00:00:14   130 MB(-8%)  Iter   4   97.43%  Refine biparts\r",
      "00:00:14   130 MB(-8%)  Iter   4   97.75%  Refine biparts\r",
      "00:00:14   130 MB(-8%)  Iter   4   98.07%  Refine biparts\r",
      "00:00:14   130 MB(-8%)  Iter   4   98.39%  Refine biparts\r",
      "00:00:14   130 MB(-8%)  Iter   4   98.71%  Refine biparts\r",
      "00:00:14   130 MB(-8%)  Iter   4   99.04%  Refine biparts\r",
      "00:00:14   130 MB(-8%)  Iter   4   99.36%  Refine biparts\r",
      "00:00:14   130 MB(-8%)  Iter   4   99.68%  Refine biparts\r",
      "00:00:14   130 MB(-8%)  Iter   4  100.00%  Refine biparts\r",
      "00:00:14   130 MB(-8%)  Iter   4  100.32%  Refine biparts\r",
      "00:00:14   130 MB(-8%)  Iter   4  100.00%  Refine biparts\r\n"
     ]
    }
   ],
   "source": [
    "%%bash\n",
    "\n",
    "cat globin_alpha-1-full-consensus.fas O_niloticus_HBA_full.fasta > globin_alpha-1-full-consensus.On.fas\n",
    "\n",
    "muscle -in globin_alpha-1-full-consensus.On.fas -out globin_alpha-1-full-consensus.On.ali.fas"
   ]
  },
  {
   "cell_type": "markdown",
   "metadata": {},
   "source": [
    "Check alignment manually. Find exon starts according to O. niloticus exons and remove unknown stretches and O. niloticus so that the alignment only contains intact coding parts of the gene.\n",
    "\n",
    " - `globin_alpha-1-full-consensus.On.exons.fas` - full transcript of O. niloticus with Malawi species aligned to it\n",
    " - `globin_alpha-1-full-consensus.coding.clean.fas` - coding sequence Malawi without O. niloticus."
   ]
  },
  {
   "cell_type": "code",
   "execution_count": null,
   "metadata": {
    "collapsed": true
   },
   "outputs": [],
   "source": []
  },
  {
   "cell_type": "markdown",
   "metadata": {},
   "source": [
    "Select subset of taxa for selection analysis."
   ]
  },
  {
   "cell_type": "code",
   "execution_count": 18,
   "metadata": {
    "collapsed": true
   },
   "outputs": [],
   "source": [
    "!mkdir target_only_01"
   ]
  },
  {
   "cell_type": "code",
   "execution_count": 19,
   "metadata": {
    "collapsed": false
   },
   "outputs": [
    {
     "name": "stdout",
     "output_type": "stream",
     "text": [
      "/home/chrishah/WORKING/Diplotaxodon/per_gene/Hemoglobin-subunit-alpha_s12/target_only_01\n"
     ]
    }
   ],
   "source": [
    "cd target_only_01/"
   ]
  },
  {
   "cell_type": "code",
   "execution_count": 20,
   "metadata": {
    "collapsed": false
   },
   "outputs": [
    {
     "name": "stdout",
     "output_type": "stream",
     "text": [
      "Total length: 315\n",
      "\n",
      "A_calliptera_Bua\n",
      "A_calliptera_Chitimba\n",
      "A_calliptera_Chizumulu\n",
      "A_calliptera_Enukweni\n",
      "A_calliptera_Itupi_1\n",
      "A_calliptera_Itupi_2\n",
      "A_calliptera_Itupi_3\n",
      "A_calliptera_Itupi_4\n",
      "A_calliptera_Kitai_Dam\n",
      "A_calliptera_Lake_Chidya\n",
      "A_calliptera_Lake_Chilwa\n",
      "A_calliptera_Luwawa\n",
      "A_calliptera_Mbaka_river_Female\n",
      "A_calliptera_Near_Kyela\n",
      "A_calliptera_North_Rukuru\n",
      "A_calliptera_Rovuma_river_Female\n",
      "A_calliptera_Salima_Father\n",
      "A_calliptera_Salima_Mother\n",
      "A_calliptera_Salima_Offspring\n",
      "A_calliptera_Songwe_River\n",
      "A_calliptera_South_Rukuru\n",
      "A_calliptera_Upper_Rovuma\n",
      "Alticorpus_geoffreyi\n",
      "Alticorpus_macrocleithrum\n",
      "Astatotilapia_Kingiri\n",
      "Astatotilapia_rujewa\n",
      "Astatotilapia_tweddlei\n",
      "Aulonocara_minutus\n",
      "Aulonocara_steveni\n",
      "Aulonocara_stuartgranti_Father\n",
      "Aulonocara_stuartgranti_Mother\n",
      "Aulonocara_stuartgranti_Offspring\n",
      "Aulonocara_yellow\n",
      "Buccochromis_nototaenia\n",
      "Buccochromis_rhoadesii\n",
      "Champsochromis_caeruelus_1\n",
      "Champsochromis_caeruelus_2\n",
      "Chilotilapia_rhoadesii_1\n",
      "Chilotilapia_rhoadesii_2\n",
      "Chilotilapia_rhoadesii_3\n",
      "Chilotilapia_rhoadesii_4\n",
      "Copadichromis_likomae\n",
      "Copadichromis_mloto\n",
      "Copadichromis_quadrimaculatus\n",
      "Copadichromis_trimaculatus\n",
      "Copadichromis_virginalis\n",
      "Copadichromis_virginalis_2\n",
      "Copadichromis_virginalis_3\n",
      "Copadichromis_virginalis_4\n",
      "Copadichromis_virginalis_5\n",
      "Copadichromis_virginalis_LM_1\n",
      "Copadichromis_virginalis_LM_3\n",
      "Ctenopharynx_intermedius_1\n",
      "Ctenopharynx_intermedius_2\n",
      "Ctenopharynx_intermedius_3\n",
      "Ctenopharynx_nitidus\n",
      "Ctenopharynx_nitidus_2\n",
      "Cyathochromis_obliquidens\n",
      "Cynotilapia_afra\n",
      "Cynotilapia_axelrodi\n",
      "Dimidiochromis_compressiceps\n",
      "Dimidiochromis_dimidiatus\n",
      "Dimidiochromis_kiwinge\n",
      "Dimidiochromis_strigatus\n",
      "Dimidiochromis_strigatus_2\n",
      "Diplotaxodon_greenwoodi\n",
      "Diplotaxodon_limnothrissa\n",
      "Diplotaxodon_macrops\n",
      "Diplotaxodon_macrops_black_dorsal\n",
      "Diplotaxodon_ngulube\n",
      "Diplotaxodon_white_back_similis\n",
      "Fossorochromis_rostratus_3\n",
      "Fossorochromis_rostratus_4\n",
      "Genyochromis_mento\n",
      "Hemitaenichromis_spilopterus\n",
      "Hemitaeniochromis_spilopterus_2\n",
      "Hemitilapia_oxyrhynchus\n",
      "Hemitilapia_oxyrhynchus_2\n",
      "Iodotropheus_sprengerae\n",
      "Labeotropheus_trewavasae\n",
      "Lethrinops_albus\n",
      "Lethrinops_auritus\n",
      "Lethrinops_gossei\n",
      "Lethrinops_lethrinus\n",
      "Lethrinops_lethrinus_Mazinzi_Father\n",
      "Lethrinops_lethrinus_Mazinzi_Mother\n",
      "Lethrinops_lethrinus_Mazinzi_Offspring\n",
      "Lethrinops_longimanus_redhead\n",
      "Lethrinops_sp_oliveri\n",
      "Massoko_benthic_HC_1\n",
      "Massoko_benthic_HC_2\n",
      "Massoko_benthic_HC_3\n",
      "Massoko_benthic_HC_4\n",
      "Massoko_benthic_HC_5\n",
      "Massoko_benthic_HC_6\n",
      "Massoko_littoral_HC_1\n",
      "Massoko_littoral_HC_2\n",
      "Massoko_littoral_HC_3\n",
      "Massoko_littoral_HC_4\n",
      "Massoko_littoral_HC_5\n",
      "Massoko_littoral_HC_6\n",
      "Metriaclima_zebra\n",
      "Mylochromis_anaphyrmus\n",
      "Mylochromis_anaphyrmus_2\n",
      "Mylochromis_anaphyrmus_3\n",
      "Mylochromis_anaphyrmus_4\n",
      "Mylochromis_anaphyrmus_5\n",
      "Mylochromis_ericotaenia\n",
      "Mylochromis_melanotaenia\n",
      "Nimbochromis_linni\n",
      "Nimbochromis_livingstoni\n",
      "Nimbochromis_polystigma\n",
      "Otopharynx_brooksi_nkhata\n",
      "Otopharynx_lithobates\n",
      "Otopharynx_speciosus_1\n",
      "Otopharynx_speciosus_2\n",
      "Otopharynx_tetrastigma\n",
      "Pallidochromis_tokolosh\n",
      "Petrotilapia_genalutea\n",
      "Placidochromis_electra\n",
      "Placidochromis_johnstoni\n",
      "Placidochromis_longimanus_1\n",
      "Placidochromis_longimanus_2\n",
      "Placidochromis_longimanus_3\n",
      "Placidochromis_longimanus_4\n",
      "Placidochromis_longimanus_5\n",
      "Placidochromis_milomo\n",
      "Placidochromis_subocularis_1\n",
      "Placidochromis_subocularis_2\n",
      "Placidochromis_subocularis_3\n",
      "Placidochromis_subocularis_4\n",
      "Placidochromis_subocularis_5\n",
      "Placidochromis_subocularis_6\n",
      "Placidochromis_subocularis_7\n",
      "Placidochromis_subocularis_8\n",
      "Protomelas_ornatus_1\n",
      "Protomelas_ornatus_2\n",
      "Rhamphochromis_esox\n",
      "Rhamphochromis_kingiri_brevis\n",
      "Rhamphochromis_kingiri_dwarf\n",
      "Rhamphochromis_longiceps\n",
      "Rhamphochromis_woodi\n",
      "Serranochromis_robustus\n",
      "Stigmatochromis_guttatus\n",
      "Stigmatochromis_modestus\n",
      "Taeniochromis_holotaenia\n",
      "Taeniolethrinops_furcicauda\n",
      "Taeniolethrinops_macrorhynchus\n",
      "Taeniolethrinops_praeorbitalis\n",
      "Trematocranus_placodon_2\n",
      "Trematocranus_placodon_3\n",
      "Trematocranus_placodon_4\n",
      "Trematocranus_placodon_5\n",
      "Tremitochranus_placodon\n",
      "Tropheops_tropheops\n",
      "Tyrannochromis_nigriventer\n"
     ]
    }
   ],
   "source": [
    "from Bio import AlignIO\n",
    "\n",
    "ali = AlignIO.read(open(\"../globin_alpha-1-full-consensus.coding.clean.fas\", 'r'),'fasta')\n",
    "\n",
    "total_length = len(ali[0, :].seq)\n",
    "print \"Total length: %s\\n\" %total_length\n",
    "\n",
    "sps = []\n",
    "\n",
    "for rec in ali:\n",
    "    sps.append(rec.id)\n",
    "    \n",
    "for sp in sorted(sps):\n",
    "    print sp"
   ]
  },
  {
   "cell_type": "code",
   "execution_count": 21,
   "metadata": {
    "collapsed": true
   },
   "outputs": [],
   "source": [
    "target_list = ['Alticorpus_geoffreyi',\n",
    "               'Alticorpus_macrocleithrum',\n",
    "               'Astatotilapia_tweddlei',\n",
    "               'Aulonocara_minutus',\n",
    "               'Aulonocara_steveni',\n",
    "               'Aulonocara_yellow',\n",
    "               'Buccochromis_nototaenia',\n",
    "               'Buccochromis_rhoadesii',\n",
    "               'Chilotilapia_rhoadesii_1',\n",
    "               'Copadichromis_quadrimaculatus',\n",
    "               'Copadichromis_trimaculatus',\n",
    "               'Copadichromis_virginalis',\n",
    "               'Ctenopharynx_nitidus',\n",
    "               'Ctenopharynx_intermedius_1',\n",
    "               'Cynotilapia_afra',\n",
    "               'Cynotilapia_axelrodi',\n",
    "               'Dimidiochromis_compressiceps',\n",
    "               'Dimidiochromis_dimidiatus',\n",
    "               'Dimidiochromis_strigatus',\n",
    "               'Diplotaxodon_greenwoodi',\n",
    "               'Diplotaxodon_limnothrissa',\n",
    "               'Diplotaxodon_macrops',\n",
    "               'Diplotaxodon_macrops_black_dorsal',\n",
    "               'Diplotaxodon_ngulube',\n",
    "               'Diplotaxodon_white_back_similis',\n",
    "               'Iodotropheus_sprengerae',\n",
    "               'Labeotropheus_trewavasae',\n",
    "               'Lethrinops_albus',\n",
    "               'Lethrinops_auritus',\n",
    "               'Lethrinops_lethrinus',\n",
    "               'Lethrinops_gossei',\n",
    "               'Lethrinops_longimanus_redhead',\n",
    "               'Lethrinops_sp_oliveri',\n",
    "               'Metriaclima_zebra',\n",
    "               'Mylochromis_anaphyrmus',\n",
    "               'Nimbochromis_linni',\n",
    "               'Nimbochromis_livingstoni',\n",
    "               'Nimbochromis_polystigma',\n",
    "               'Otopharynx_lithobates',\n",
    "               'Otopharynx_speciosus_1',\n",
    "               'Pallidochromis_tokolosh',\n",
    "               'Genyochromis_mento',\n",
    "               'Petrotilapia_genalutea',\n",
    "               'Placidochromis_johnstoni',\n",
    "               'Placidochromis_longimanus_1',\n",
    "               'Stigmatochromis_guttatus',\n",
    "               'Tropheops_tropheops',\n",
    "               'Taeniolethrinops_furcicauda',\n",
    "               'Tyrannochromis_nigriventer']"
   ]
  },
  {
   "cell_type": "markdown",
   "metadata": {},
   "source": [
    "Reduce alignment to only target taxa."
   ]
  },
  {
   "cell_type": "code",
   "execution_count": 22,
   "metadata": {
    "collapsed": false
   },
   "outputs": [
    {
     "data": {
      "text/plain": [
       "1"
      ]
     },
     "execution_count": 22,
     "metadata": {},
     "output_type": "execute_result"
    }
   ],
   "source": [
    "from Bio import AlignIO\n",
    "from Bio.Alphabet import generic_dna\n",
    "from Bio.Align import MultipleSeqAlignment\n",
    "\n",
    "reduced_ali = MultipleSeqAlignment([],alphabet=generic_dna)\n",
    "\n",
    "for rec in ali:\n",
    "    if rec.id in target_list:\n",
    "            reduced_ali.append(rec)\n",
    "\n",
    "AlignIO.write(reduced_ali[:,:], 'globin_alpha-1-full-consensus.coding.clean.target_only_01.fas', 'fasta')"
   ]
  },
  {
   "cell_type": "markdown",
   "metadata": {},
   "source": [
    "Convert Alignment to Nexus."
   ]
  },
  {
   "cell_type": "code",
   "execution_count": 23,
   "metadata": {
    "collapsed": false
   },
   "outputs": [
    {
     "data": {
      "text/plain": [
       "1"
      ]
     },
     "execution_count": 23,
     "metadata": {},
     "output_type": "execute_result"
    }
   ],
   "source": [
    "AlignIO.write(reduced_ali[:,:], 'globin_alpha-1-full-consensus.coding.clean.target_only_01.nex', 'nexus')"
   ]
  },
  {
   "cell_type": "markdown",
   "metadata": {},
   "source": [
    "Add tree block to Nexus file."
   ]
  },
  {
   "cell_type": "code",
   "execution_count": 24,
   "metadata": {
    "collapsed": true
   },
   "outputs": [],
   "source": [
    "raxml_tree = open('../../../Phylogeny/s12/target_only_01/RAxML_bipartitions.s12_consensus_target_only_1.nobranchlenghts.nwk', 'r')\n",
    "\n",
    "tree = raxml_tree.next().strip()\n",
    "\n",
    "nex_file = open('globin_alpha-1-full-consensus.coding.clean.target_only_01.nex', 'a')\n",
    "\n",
    "nex_file.write('begin trees;\\n\\ttree tree1 = %s\\nend;' %tree)\n",
    "\n",
    "nex_file.close()"
   ]
  },
  {
   "cell_type": "markdown",
   "metadata": {},
   "source": [
    "Submit to [datamonkey.org](http://datamonkey.org/) for tests of selection."
   ]
  },
  {
   "cell_type": "markdown",
   "metadata": {},
   "source": [
    "## Run PAML."
   ]
  },
  {
   "cell_type": "code",
   "execution_count": 25,
   "metadata": {
    "collapsed": false
   },
   "outputs": [],
   "source": [
    "mkdir PAML"
   ]
  },
  {
   "cell_type": "code",
   "execution_count": 26,
   "metadata": {
    "collapsed": false
   },
   "outputs": [
    {
     "name": "stdout",
     "output_type": "stream",
     "text": [
      "/home/chrishah/WORKING/Diplotaxodon/per_gene/Hemoglobin-subunit-alpha_s12/target_only_01/PAML\n"
     ]
    }
   ],
   "source": [
    "cd PAML/"
   ]
  },
  {
   "cell_type": "code",
   "execution_count": 27,
   "metadata": {
    "collapsed": false
   },
   "outputs": [],
   "source": [
    "%%bash\n",
    "\n",
    "cp ../../../../Phylogeny/s12/target_only_01/RAxML_bipartitions.s12_consensus_target_only_1.nobranchlenghts.nwk .\n",
    "cp ../globin_alpha-1-full-consensus.coding.clean.target_only_01.nex ."
   ]
  },
  {
   "cell_type": "markdown",
   "metadata": {},
   "source": [
    "The M0 model uses a single omega value across all sites in the alignment, and calculates the average omega across all sites."
   ]
  },
  {
   "cell_type": "code",
   "execution_count": 28,
   "metadata": {
    "collapsed": true
   },
   "outputs": [],
   "source": [
    "mkdir M0"
   ]
  },
  {
   "cell_type": "code",
   "execution_count": 51,
   "metadata": {
    "collapsed": false
   },
   "outputs": [
    {
     "name": "stdout",
     "output_type": "stream",
     "text": [
      "/home/chrishah/WORKING/Diplotaxodon/per_gene/Hemoglobin-subunit-alpha_s12/target_only_01/PAML/M0\n"
     ]
    }
   ],
   "source": [
    "cd M0/"
   ]
  },
  {
   "cell_type": "code",
   "execution_count": 30,
   "metadata": {
    "collapsed": false
   },
   "outputs": [],
   "source": [
    "!cp ../codeml.template.ctl codeml.ctl"
   ]
  },
  {
   "cell_type": "markdown",
   "metadata": {},
   "source": [
    "Modify codeml control file."
   ]
  },
  {
   "cell_type": "code",
   "execution_count": 32,
   "metadata": {
    "collapsed": false
   },
   "outputs": [
    {
     "name": "stdout",
     "output_type": "stream",
     "text": [
      "       seqfile = ../globin_alpha-1-full-consensus.coding.clean.target_only_01.nex         * sequence data filename\r\n",
      "\r\n",
      "     treefile = ../RAxML_bipartitions.s12_consensus_target_only_1.nobranchlenghts.nwk      * SET THIS for tree file with ML branch lengths under M0\r\n",
      "\r\n",
      "      outfile = results.txt           * main result file name\r\n",
      "        noisy = 9                     * lots of rubbish on the screen\r\n",
      "      verbose = 1                     * detailed output\r\n",
      "      runmode = 0                     * user defined tree\r\n",
      "      seqtype = 1                     * codons\r\n",
      "    CodonFreq = 2                     * F3X4 for codon ferquencies\r\n",
      "        model = 0                     * one omega ratio for all branches\r\n",
      "\r\n",
      "     NSsites = 0                     * SET THIS for M0\r",
      "\r\n",
      "    * NSsites = 1                     * SET THIS for M1\r",
      "\r\n",
      "    * NSsites = 2                     * SET THIS for M2\r",
      "\r\n",
      "    * NSsites = 3                     * SET THIS for M3\r\n",
      "    * NSsites = 7                     * SET THIS for M7\r",
      "\r\n",
      "    * NSsites = 8                     * SET THIS for M8\r\n",
      "\r\n",
      "        icode = 0                     * universal code\r\n",
      "    fix_kappa = 0                     * kappa fixed\r\n",
      "       kappa = 2               \t      * SET THIS to fix kappa at MLE under M0\r\n",
      "\r\n",
      "    fix_omega = 0                     * omega to be estimated \r\n",
      "        omega = 0.5                     * initial omega\r\n",
      "\r\n",
      "      * ncatG = 3                     * SET THIS for 3 site categories under M3         \r\n",
      "      * ncatG = 10                    * SET THIS for 10 of site categories under M7 and M8\r\n",
      "\r\n",
      "  fix_blength = 0                     * fixed branch lengths from tree file\r\n",
      "  cleandata = 0                       * remove sites with ambiguity data (1: yes, 0:no)?\r\n"
     ]
    }
   ],
   "source": [
    "!cat codeml.ctl"
   ]
  },
  {
   "cell_type": "markdown",
   "metadata": {},
   "source": [
    "Run PAML."
   ]
  },
  {
   "cell_type": "code",
   "execution_count": 68,
   "metadata": {
    "collapsed": false
   },
   "outputs": [
    {
     "name": "stdout",
     "output_type": "stream",
     "text": [
      "\r\n",
      " 15         verbose | verbose                1.00\r\n",
      "  7         runmode | runmode                0.00\r\n",
      "  4         seqtype | seqtype                1.00\r\n",
      " 13       CodonFreq | CodonFreq              2.00\r\n",
      " 16           model | model                  0.00\r\n",
      " 20         NSsites | NSsites                0.00\r\n",
      " 22           icode | icode                  0.00\r\n",
      " 24       fix_kappa | fix_kappa              0.00\r\n",
      " 25           kappa | kappa                  2.00\r\n",
      " 26       fix_omega | fix_omega              0.00\r\n",
      " 27           omega | omega                  0.50\r\n",
      " 37     fix_blength | fix_blength            0.00\r\n",
      "  6       cleandata | cleandata              0.00\r\n",
      "CODONML in paml version 4.8a, August 2014\r\n",
      "\r\n",
      "----------------------------------------------\r\n",
      "Phe F TTT | Ser S TCT | Tyr Y TAT | Cys C TGT\r\n",
      "      TTC |       TCC |       TAC |       TGC\r\n",
      "Leu L TTA |       TCA | *** * TAA | *** * TGA\r\n",
      "      TTG |       TCG |       TAG | Trp W TGG\r\n",
      "----------------------------------------------\r\n",
      "Leu L CTT | Pro P CCT | His H CAT | Arg R CGT\r\n",
      "      CTC |       CCC |       CAC |       CGC\r\n",
      "      CTA |       CCA | Gln Q CAA |       CGA\r\n",
      "      CTG |       CCG |       CAG |       CGG\r\n",
      "----------------------------------------------\r\n",
      "Ile I ATT | Thr T ACT | Asn N AAT | Ser S AGT\r\n",
      "      ATC |       ACC |       AAC |       AGC\r\n",
      "      ATA |       ACA | Lys K AAA | Arg R AGA\r\n",
      "Met M ATG |       ACG |       AAG |       AGG\r\n",
      "----------------------------------------------\r\n",
      "Val V GTT | Ala A GCT | Asp D GAT | Gly G GGT\r\n",
      "      GTC |       GCC |       GAC |       GGC\r\n",
      "      GTA |       GCA | Glu E GAA |       GGA\r\n",
      "      GTG |       GCG |       GAG |       GGG\r\n",
      "----------------------------------------------\r\n",
      "Nice code, uuh?\r\n",
      "\r\n",
      "\r\n",
      "Ambiguity character definition table:\r\n",
      "\r\n",
      "T (1): T \r\n",
      "C (1): C \r\n",
      "A (1): A \r\n",
      "G (1): G \r\n",
      "U (1): T \r\n",
      "Y (2): T C \r\n",
      "R (2): A G \r\n",
      "M (2): C A \r\n",
      "K (2): T G \r\n",
      "S (2): C G \r\n",
      "W (2): T A \r\n",
      "H (3): T C A \r\n",
      "B (3): T C G \r\n",
      "V (3): C A G \r\n",
      "D (3): T A G \r\n",
      "- (4): T C A G \r\n",
      "N (4): T C A G \r\n",
      "? (4): T C A G \r\n",
      "\r\n",
      "seq file is not paml/phylip format.  Trying nexus format.\r\n",
      "ns = 49  \tls = 315\r\n",
      "Reading sequences, sequential format..\r\n",
      "Reading seq # 1: Metriaclima_zebra     \r",
      "Reading seq # 2: Alticorpus_geoffreyi     \r",
      "Reading seq # 3: Alticorpus_macrocleithrum     \r",
      "Reading seq # 4: Astatotilapia_tweddlei     \r",
      "Reading seq # 5: Aulonocara_minutus     \r",
      "Reading seq # 6: Aulonocara_steveni     \r",
      "Reading seq # 7: Aulonocara_yellow     \r",
      "Reading seq # 8: Buccochromis_nototaenia     \r",
      "Reading seq # 9: Buccochromis_rhoadesii     \r",
      "Reading seq #10: Chilotilapia_rhoadesii_1     \r",
      "Reading seq #11: Copadichromis_quadrimaculatus     \r",
      "Reading seq #12: Copadichromis_trimaculatus     \r",
      "Reading seq #13: Copadichromis_virginalis     \r",
      "Reading seq #14: Ctenopharynx_intermedius_1     \r",
      "Reading seq #15: Ctenopharynx_nitidus     \r",
      "Reading seq #16: Cynotilapia_afra     \r",
      "Reading seq #17: Cynotilapia_axelrodi     \r",
      "Reading seq #18: Dimidiochromis_compressiceps     \r",
      "Reading seq #19: Dimidiochromis_dimidiatus     \r",
      "Reading seq #20: Dimidiochromis_strigatus     \r",
      "Reading seq #21: Diplotaxodon_greenwoodi     \r",
      "Reading seq #22: Diplotaxodon_limnothrissa     \r",
      "Reading seq #23: Diplotaxodon_macrops     \r",
      "Reading seq #24: Diplotaxodon_macrops_black_dorsal ATGAGTCTGACTGAGA     \r",
      "\r\n",
      "Error in sequence data file: I at 301 seq 24.\r\n",
      "Make sure to separate the sequence from its name by 2 or more spaces.\r\n"
     ]
    }
   ],
   "source": [
    "!~/src/PAML/paml4.8/bin/codeml codeml.ctl"
   ]
  },
  {
   "cell_type": "markdown",
   "metadata": {},
   "source": [
    "File format issues (see above). Insert second space after D. macrops black dorsal."
   ]
  },
  {
   "cell_type": "code",
   "execution_count": 33,
   "metadata": {
    "collapsed": false
   },
   "outputs": [],
   "source": [
    "!sed -i 's/Diplotaxodon_macrops_black_dorsal /Diplotaxodon_macrops_black_dorsal  /' ../globin_alpha-1-full-consensus.coding.clean.target_only_01.nex"
   ]
  },
  {
   "cell_type": "markdown",
   "metadata": {},
   "source": [
    "Run PAML."
   ]
  },
  {
   "cell_type": "code",
   "execution_count": null,
   "metadata": {
    "collapsed": true
   },
   "outputs": [],
   "source": [
    "!~/src/PAML/paml4.8/bin/codeml codeml.ctl #was actually run in the shell because the user was required to confirm with enter"
   ]
  },
  {
   "cell_type": "markdown",
   "metadata": {},
   "source": [
    "Extract the log likelihood for model M0 from the result."
   ]
  },
  {
   "cell_type": "code",
   "execution_count": 54,
   "metadata": {
    "collapsed": false
   },
   "outputs": [
    {
     "name": "stdout",
     "output_type": "stream",
     "text": [
      "lnL(ntime: 96  np: 98):   -808.421666      +0.000000\r\n"
     ]
    }
   ],
   "source": [
    "!cat results.txt | grep \"lnL\""
   ]
  },
  {
   "cell_type": "code",
   "execution_count": 55,
   "metadata": {
    "collapsed": false
   },
   "outputs": [
    {
     "name": "stdout",
     "output_type": "stream",
     "text": [
      "/home/chrishah/WORKING/Diplotaxodon/per_gene/Hemoglobin-subunit-alpha_s12/target_only_01/PAML\n"
     ]
    }
   ],
   "source": [
    "cd .."
   ]
  },
  {
   "cell_type": "markdown",
   "metadata": {},
   "source": [
    "The M1a model allows for a fraction of sites with ω < 1 and a fraction with ω = 1."
   ]
  },
  {
   "cell_type": "code",
   "execution_count": 36,
   "metadata": {
    "collapsed": false
   },
   "outputs": [],
   "source": [
    "mkdir M1a"
   ]
  },
  {
   "cell_type": "code",
   "execution_count": 56,
   "metadata": {
    "collapsed": false
   },
   "outputs": [
    {
     "name": "stdout",
     "output_type": "stream",
     "text": [
      "/home/chrishah/WORKING/Diplotaxodon/per_gene/Hemoglobin-subunit-alpha_s12/target_only_01/PAML/M1a\n"
     ]
    }
   ],
   "source": [
    "cd M1a/"
   ]
  },
  {
   "cell_type": "code",
   "execution_count": 38,
   "metadata": {
    "collapsed": true
   },
   "outputs": [],
   "source": [
    "!cp ../codeml.template.ctl codeml.ctl"
   ]
  },
  {
   "cell_type": "code",
   "execution_count": 39,
   "metadata": {
    "collapsed": false
   },
   "outputs": [
    {
     "name": "stdout",
     "output_type": "stream",
     "text": [
      "       seqfile = ../globin_alpha-1-full-consensus.coding.clean.target_only_01.nex         * sequence data filename\r\n",
      "\r\n",
      "     treefile = ../RAxML_bipartitions.s12_consensus_target_only_1.nobranchlenghts.nwk      * SET THIS for tree file with ML branch lengths under M0\r\n",
      "\r\n",
      "      outfile = results.txt           * main result file name\r\n",
      "        noisy = 9                     * lots of rubbish on the screen\r\n",
      "      verbose = 1                     * detailed output\r\n",
      "      runmode = 0                     * user defined tree\r\n",
      "      seqtype = 1                     * codons\r\n",
      "    CodonFreq = 2                     * F3X4 for codon ferquencies\r\n",
      "        model = 0                     * one omega ratio for all branches\r\n",
      "\r\n",
      "    * NSsites = 0                     * SET THIS for M0\r",
      "\r\n",
      "     NSsites = 1                     * SET THIS for M1\r",
      "\r\n",
      "    * NSsites = 2                     * SET THIS for M2\r",
      "\r\n",
      "    * NSsites = 3                     * SET THIS for M3\r\n",
      "    * NSsites = 7                     * SET THIS for M7\r",
      "\r\n",
      "    * NSsites = 8                     * SET THIS for M8\r\n",
      "\r\n",
      "        icode = 0                     * universal code\r\n",
      "    fix_kappa = 0                     * kappa fixed\r\n",
      "       kappa = 2               \t      * SET THIS to fix kappa at MLE under M0\r\n",
      "\r\n",
      "    fix_omega = 0                     * omega to be estimated \r\n",
      "        omega = 0.5                     * initial omega\r\n",
      "\r\n",
      "      * ncatG = 3                     * SET THIS for 3 site categories under M3         \r\n",
      "      * ncatG = 10                    * SET THIS for 10 of site categories under M7 and M8\r\n",
      "\r\n",
      "  fix_blength = 0                     * fixed branch lengths from tree file\r\n",
      "  cleandata = 0                       * remove sites with ambiguity data (1: yes, 0:no)?\r\n"
     ]
    }
   ],
   "source": [
    "!cat codeml.ctl"
   ]
  },
  {
   "cell_type": "code",
   "execution_count": null,
   "metadata": {
    "collapsed": true
   },
   "outputs": [],
   "source": [
    "!~/src/PAML/paml4.8/bin/codeml codeml.ctl #was actually run in the shell because the user was required to confirm with enter"
   ]
  },
  {
   "cell_type": "markdown",
   "metadata": {},
   "source": [
    "Extract the log likelihood for model M1 from the result."
   ]
  },
  {
   "cell_type": "code",
   "execution_count": 58,
   "metadata": {
    "collapsed": false
   },
   "outputs": [
    {
     "name": "stdout",
     "output_type": "stream",
     "text": [
      "lnL(ntime: 96  np: 99):   -783.919883      +0.000000\r\n"
     ]
    }
   ],
   "source": [
    "!cat results.txt | grep \"lnL\""
   ]
  },
  {
   "cell_type": "code",
   "execution_count": 59,
   "metadata": {
    "collapsed": false
   },
   "outputs": [
    {
     "name": "stdout",
     "output_type": "stream",
     "text": [
      "/home/chrishah/WORKING/Diplotaxodon/per_gene/Hemoglobin-subunit-alpha_s12/target_only_01/PAML\n"
     ]
    }
   ],
   "source": [
    "cd .."
   ]
  },
  {
   "cell_type": "markdown",
   "metadata": {},
   "source": [
    "Model M0 is nested within model M1, so we can use the likelihood ratio test (LRT) to compare these two models. \n",
    "\n",
    "The LRT statistic is χ2 = 2×(lnLM1 - lnLM0). \n",
    "\n",
    "The degrees of freedom are k = npM1 - npM1. \n",
    "\n",
    "We can use the CHI2 program from the PAML package to assess whether the value χ2 at certain degrees of freedom k is statistically significant."
   ]
  },
  {
   "cell_type": "code",
   "execution_count": 60,
   "metadata": {
    "collapsed": false
   },
   "outputs": [
    {
     "name": "stdout",
     "output_type": "stream",
     "text": [
      "deltaLRT = 49.00\n",
      "degrees of freedom: 1\n",
      "\n",
      "df =  1  prob = 0.000000000 = 2.560e-12\n",
      "\n"
     ]
    }
   ],
   "source": [
    "%%bash\n",
    "\n",
    "H0_file='M0/results.txt'\n",
    "H1_file='M1a/results.txt'\n",
    "\n",
    "dfM0=$(cat $H0_file | grep \"lnL\" | perl -ne 'chomp; @a=split(\" \"); $out=$a[-3]; $out =~ s/\\)\\://; $out =~ s/np\\://; print \"$out\\n\"')\n",
    "dfM1=$(cat $H1_file | grep \"lnL\" | perl -ne 'chomp; @a=split(\" \"); $out=$a[-3]; $out =~ s/\\)\\://; $out =~ s/np\\://; print \"$out\\n\"')\n",
    "\n",
    "lnLM0=$(cat $H0_file | grep \"lnL\" | perl -ne 'chomp; @a=split(\" \"); $out=$a[4]; print \"$out\\n\"')\n",
    "lnLM1=$(cat $H1_file | grep \"lnL\" | perl -ne 'chomp; @a=split(\" \"); $out=$a[4]; print \"$out\\n\"')\n",
    "\n",
    "k=$(($dfM1-$dfM0))\n",
    "\n",
    "\n",
    "dLRT=$(echo -e \"$lnLM0 $lnLM1\" | perl -ne 'chomp; @a=split(\" \"); $LRT=2*($a[1]-$a[0]); $out=sprintf(\"%.2f\",$LRT); print \"$out\\n\"')\n",
    "\n",
    "echo -e \"deltaLRT = $dLRT\"\n",
    "echo -e \"degrees of freedom: $k\"\n",
    "\n",
    "/home/chrishah/src/PAML/paml4.8/bin/chi2 $k $dLRT"
   ]
  },
  {
   "cell_type": "markdown",
   "metadata": {},
   "source": [
    "The chi2 value from the above comparison is statstically significant at the significance level alpha=0.05. Therefore the inclusion of a class of neutral sites with ω = 1 is statistically justified and we can move on to test for positive selection."
   ]
  },
  {
   "cell_type": "markdown",
   "metadata": {},
   "source": [
    "Model M2a allows for a third class of sites with ω > 1."
   ]
  },
  {
   "cell_type": "code",
   "execution_count": 43,
   "metadata": {
    "collapsed": true
   },
   "outputs": [],
   "source": [
    "mkdir M2a"
   ]
  },
  {
   "cell_type": "code",
   "execution_count": 61,
   "metadata": {
    "collapsed": false
   },
   "outputs": [
    {
     "name": "stdout",
     "output_type": "stream",
     "text": [
      "/home/chrishah/WORKING/Diplotaxodon/per_gene/Hemoglobin-subunit-alpha_s12/target_only_01/PAML/M2a\n"
     ]
    }
   ],
   "source": [
    "cd M2a/"
   ]
  },
  {
   "cell_type": "code",
   "execution_count": 45,
   "metadata": {
    "collapsed": true
   },
   "outputs": [],
   "source": [
    "cp ../codeml.template.ctl codeml.ctl"
   ]
  },
  {
   "cell_type": "code",
   "execution_count": 46,
   "metadata": {
    "collapsed": false
   },
   "outputs": [
    {
     "name": "stdout",
     "output_type": "stream",
     "text": [
      "       seqfile = ../globin_alpha-1-full-consensus.coding.clean.target_only_01.nex         * sequence data filename\r\n",
      "\r\n",
      "     treefile = ../RAxML_bipartitions.s12_consensus_target_only_1.nobranchlenghts.nwk      * SET THIS for tree file with ML branch lengths under M0\r\n",
      "\r\n",
      "      outfile = results.txt           * main result file name\r\n",
      "        noisy = 9                     * lots of rubbish on the screen\r\n",
      "      verbose = 1                     * detailed output\r\n",
      "      runmode = 0                     * user defined tree\r\n",
      "      seqtype = 1                     * codons\r\n",
      "    CodonFreq = 2                     * F3X4 for codon ferquencies\r\n",
      "        model = 0                     * one omega ratio for all branches\r\n",
      "\r\n",
      "    * NSsites = 0                     * SET THIS for M0\r",
      "\r\n",
      "    * NSsites = 1                     * SET THIS for M1\r",
      "\r\n",
      "     NSsites = 2                     * SET THIS for M2\r",
      "\r\n",
      "    * NSsites = 3                     * SET THIS for M3\r\n",
      "    * NSsites = 7                     * SET THIS for M7\r",
      "\r\n",
      "    * NSsites = 8                     * SET THIS for M8\r\n",
      "\r\n",
      "        icode = 0                     * universal code\r\n",
      "    fix_kappa = 0                     * kappa fixed\r\n",
      "       kappa = 2               \t      * SET THIS to fix kappa at MLE under M0\r\n",
      "\r\n",
      "    fix_omega = 0                     * omega to be estimated \r\n",
      "        omega = 0.5                     * initial omega\r\n",
      "\r\n",
      "      * ncatG = 3                     * SET THIS for 3 site categories under M3         \r\n",
      "      * ncatG = 10                    * SET THIS for 10 of site categories under M7 and M8\r\n",
      "\r\n",
      "  fix_blength = 0                     * fixed branch lengths from tree file\r\n",
      "  cleandata = 0                       * remove sites with ambiguity data (1: yes, 0:no)?\r\n"
     ]
    }
   ],
   "source": [
    "!cat codeml.ctl"
   ]
  },
  {
   "cell_type": "code",
   "execution_count": null,
   "metadata": {
    "collapsed": true
   },
   "outputs": [],
   "source": [
    "!~/src/PAML/paml4.8/bin/codeml codeml.ctl #was actually run in the shell because the user was required to confirm with enter"
   ]
  },
  {
   "cell_type": "markdown",
   "metadata": {},
   "source": [
    "Extract the log likelihood for model M2 from the result."
   ]
  },
  {
   "cell_type": "code",
   "execution_count": 63,
   "metadata": {
    "collapsed": false
   },
   "outputs": [
    {
     "name": "stdout",
     "output_type": "stream",
     "text": [
      "lnL(ntime: 96  np:101):   -714.667212      +0.000000\r\n"
     ]
    }
   ],
   "source": [
    "!cat results.txt | grep \"lnL\""
   ]
  },
  {
   "cell_type": "code",
   "execution_count": null,
   "metadata": {
    "collapsed": true
   },
   "outputs": [],
   "source": []
  },
  {
   "cell_type": "code",
   "execution_count": 64,
   "metadata": {
    "collapsed": false
   },
   "outputs": [
    {
     "name": "stdout",
     "output_type": "stream",
     "text": [
      "/home/chrishah/WORKING/Diplotaxodon/per_gene/Hemoglobin-subunit-alpha_s12/target_only_01/PAML\n"
     ]
    }
   ],
   "source": [
    "cd .."
   ]
  },
  {
   "cell_type": "markdown",
   "metadata": {},
   "source": [
    "Model M1 is nested within model M2, so we can use the likelihood ratio test (LRT) to compare these two models. \n",
    "\n",
    "The LRT statistic is χ2 = 2×(lnLM2 - lnLM1). \n",
    "\n",
    "The degrees of freedom are k = npM2 - npM1. \n",
    "\n",
    "We can use the CHI2 program from the PAML package to assess whether the value χ2 at certain degrees of freedom k is statistically significant."
   ]
  },
  {
   "cell_type": "code",
   "execution_count": 65,
   "metadata": {
    "collapsed": false
   },
   "outputs": [
    {
     "name": "stdout",
     "output_type": "stream",
     "text": [
      "deltaLRT = 138.51\n",
      "degrees of freedom: 2\n",
      "\n",
      "df =  2  prob = 0.000000000 = 0.000e+00\n",
      "\n"
     ]
    }
   ],
   "source": [
    "%%bash\n",
    "\n",
    "H0_file='M1a/results.txt'\n",
    "H1_file='M2a/results.txt'\n",
    "\n",
    "dfM0=$(cat $H0_file | grep \"lnL\" | perl -ne 'chomp; @a=split(\" \"); $out=$a[-3]; $out =~ s/\\)\\://; $out =~ s/np\\://; print \"$out\\n\"')\n",
    "dfM1=$(cat $H1_file | grep \"lnL\" | perl -ne 'chomp; @a=split(\" \"); $out=$a[-3]; $out =~ s/\\)\\://; $out =~ s/np\\://; print \"$out\\n\"')\n",
    "\n",
    "lnLM0=$(cat $H0_file | grep \"lnL\" | perl -ne 'chomp; @a=split(\" \"); $out=$a[-2]; print \"$out\\n\"')\n",
    "lnLM1=$(cat $H1_file | grep \"lnL\" | perl -ne 'chomp; @a=split(\" \"); $out=$a[-2]; print \"$out\\n\"')\n",
    "\n",
    "k=$(($dfM1-$dfM0))\n",
    "dLRT=$(echo -e \"$lnLM0 $lnLM1\" | perl -ne 'chomp; @a=split(\" \"); $LRT=2*($a[1]-$a[0]); $out=sprintf(\"%.2f\",$LRT); print \"$out\\n\"')\n",
    "\n",
    "echo -e \"deltaLRT = $dLRT\"\n",
    "echo -e \"degrees of freedom: $k\"\n",
    "\n",
    "/home/chrishah/src/PAML/paml4.8/bin/chi2 $k $dLRT"
   ]
  },
  {
   "cell_type": "markdown",
   "metadata": {},
   "source": [
    "The test statistic is highly significant, so the model M2a fits the data better, so including a site class with omega > 1 is statistically justified, which means we've got a signature of positive selection.\n",
    "\n",
    "\n",
    "CODEML will perform Bayesian identification of codon sites (columns in the alignment) that are under positive selection. We will look at the results from the Bayes empirical Bayes (BEB) method in the results file of the model M2a.\n",
    "\n",
    "Bayesian identification of codon sites (columns in the\n",
    "alignment) that are under positive selection"
   ]
  },
  {
   "cell_type": "code",
   "execution_count": 66,
   "metadata": {
    "collapsed": false
   },
   "outputs": [
    {
     "name": "stdout",
     "output_type": "stream",
     "text": [
      "Bayes Empirical Bayes (BEB) analysis (Yang, Wong & Nielsen 2005. Mol. Biol. Evol. 22:1107-1118)\r\n",
      "Positively selected sites (*: P>95%; **: P>99%)\r\n",
      "(amino acids refer to 1st sequence: Metriaclima_zebra)\r\n",
      "\r\n",
      "            Pr(w>1)     post mean +- SE for w\r\n",
      "\r\n",
      "    19 S      1.000**       10.488 +- 0.109\r\n",
      "    21 V      0.991**       10.399 +- 0.927\r\n",
      "    22 V      1.000**       10.487 +- 0.140\r\n",
      "    28 E      1.000**       10.488 +- 0.112\r\n",
      "    66 Q      1.000**       10.487 +- 0.138\r\n",
      "    67 S      1.000**       10.487 +- 0.137\r\n",
      "    68 L      1.000**       10.488 +- 0.109\r\n",
      "    73 A      0.990*        10.389 +- 0.975\r\n",
      "    74 T      1.000**       10.488 +- 0.109\r\n",
      "    84 T      1.000**       10.488 +- 0.109\r\n",
      "    95 V      0.890         9.423 +- 3.026\r\n",
      "    96 A      1.000**       10.488 +- 0.112\r\n",
      "    97 L      0.990**       10.397 +- 0.935\r\n",
      "\r\n",
      "\r\n"
     ]
    }
   ],
   "source": [
    "!cat M2a/results.txt | grep \"BEB\" -A 20"
   ]
  },
  {
   "cell_type": "code",
   "execution_count": 161,
   "metadata": {
    "collapsed": false
   },
   "outputs": [
    {
     "name": "stdout",
     "output_type": "stream",
     "text": [
      "/home/chrishah/WORKING/Diplotaxodon/per_gene/Hemoglobin-subunit-alpha/target_only_01\n"
     ]
    }
   ],
   "source": [
    "cd .."
   ]
  },
  {
   "cell_type": "code",
   "execution_count": null,
   "metadata": {
    "collapsed": true
   },
   "outputs": [],
   "source": []
  }
 ],
 "metadata": {
  "kernelspec": {
   "display_name": "Python 2",
   "language": "python",
   "name": "python2"
  },
  "language_info": {
   "codemirror_mode": {
    "name": "ipython",
    "version": 2
   },
   "file_extension": ".py",
   "mimetype": "text/x-python",
   "name": "python",
   "nbconvert_exporter": "python",
   "pygments_lexer": "ipython2",
   "version": "2.7.12"
  }
 },
 "nbformat": 4,
 "nbformat_minor": 0
}
