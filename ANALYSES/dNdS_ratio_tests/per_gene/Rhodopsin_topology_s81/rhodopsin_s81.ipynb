{
 "cells": [
  {
   "cell_type": "markdown",
   "metadata": {},
   "source": [
    "Extract scaffold 12 from assembly."
   ]
  },
  {
   "cell_type": "code",
   "execution_count": 1,
   "metadata": {
    "collapsed": true
   },
   "outputs": [],
   "source": [
    "from Bio import SeqIO\n",
    "import gzip\n",
    "\n",
    "target = 'scaffold_12'\n",
    "\n",
    "assembly = gzip.open('../../data/REFERENCE_DATA/M_zebra_v0.assembly.fasta.gz')\n",
    "\n",
    "for rec in SeqIO.parse(assembly, 'fasta'):\n",
    "    if rec.id == target:\n",
    "        out = open(target+'.fasta','w')\n",
    "        SeqIO.write(rec, out, 'fasta')\n",
    "        out.close()"
   ]
  },
  {
   "cell_type": "markdown",
   "metadata": {},
   "source": [
    "Extract full length CDS according to gff file for target gene."
   ]
  },
  {
   "cell_type": "markdown",
   "metadata": {},
   "source": [
    "Get coordinates/orientation for rhodopsin gene exons from gtf file. Gene id is: `s12.95`."
   ]
  },
  {
   "cell_type": "code",
   "execution_count": 2,
   "metadata": {
    "collapsed": false
   },
   "outputs": [
    {
     "name": "stdout",
     "output_type": "stream",
     "text": [
      "3793413\t3794477\t-\r\n"
     ]
    }
   ],
   "source": [
    "!zcat ../../data/REFERENCE_DATA/Metriaclima_zebra.BROADMZ2.gtf.gz | grep \"s12.95\\\"\" | grep \"CDS\" | cut -f 4,5,7"
   ]
  },
  {
   "cell_type": "code",
   "execution_count": 3,
   "metadata": {
    "collapsed": false
   },
   "outputs": [],
   "source": [
    "!zcat ../../data/REFERENCE_DATA/Metriaclima_zebra.BROADMZ2.gtf.gz | grep \"s12.95\\\"\" | grep \"CDS\" | cut -f 4,5 > target_exons.tsv"
   ]
  },
  {
   "cell_type": "code",
   "execution_count": 4,
   "metadata": {
    "collapsed": false
   },
   "outputs": [
    {
     "name": "stdout",
     "output_type": "stream",
     "text": [
      "no populationmap provided\n",
      "\n",
      "\n",
      "Target region: 3793413 - 3794477\n",
      "writing haplotypes to fasta\n",
      "\n"
     ]
    }
   ],
   "source": [
    "%%bash\n",
    "\n",
    "vcf='../../data/VCF/Malawi2015_all_sc_12_3750000-3850000_beagle_annotated.vcf.gz'\n",
    "\n",
    "python ../../../../Dropbox/Github/genomisc/popogeno/vcf_2_hap.py $vcf \\\n",
    "--fasta \\\n",
    "--fill_from_ref_fasta scaffold_12.fasta \\\n",
    "--splice target_exons.tsv \\\n",
    "--reverse_complement \\\n",
    "--consensus \\\n",
    "-o rho_full_consensus"
   ]
  },
  {
   "cell_type": "markdown",
   "metadata": {},
   "source": [
    "Select subset of taxa for selection analysis."
   ]
  },
  {
   "cell_type": "code",
   "execution_count": 5,
   "metadata": {
    "collapsed": true
   },
   "outputs": [],
   "source": [
    "!mkdir target_only_01"
   ]
  },
  {
   "cell_type": "code",
   "execution_count": 6,
   "metadata": {
    "collapsed": false
   },
   "outputs": [
    {
     "name": "stdout",
     "output_type": "stream",
     "text": [
      "/home/chrishah/WORKING/Diplotaxodon/per_gene/Rhodopsin_topology_s81/target_only_01\n"
     ]
    }
   ],
   "source": [
    "cd target_only_01/"
   ]
  },
  {
   "cell_type": "code",
   "execution_count": 7,
   "metadata": {
    "collapsed": false
   },
   "outputs": [
    {
     "name": "stdout",
     "output_type": "stream",
     "text": [
      "Total length: 1065\n",
      "\n",
      "A_calliptera_Bua\n",
      "A_calliptera_Chitimba\n",
      "A_calliptera_Chizumulu\n",
      "A_calliptera_Enukweni\n",
      "A_calliptera_Itupi_1\n",
      "A_calliptera_Itupi_2\n",
      "A_calliptera_Itupi_3\n",
      "A_calliptera_Itupi_4\n",
      "A_calliptera_Kitai_Dam\n",
      "A_calliptera_Lake_Chidya\n",
      "A_calliptera_Lake_Chilwa\n",
      "A_calliptera_Luwawa\n",
      "A_calliptera_Mbaka_river_Female\n",
      "A_calliptera_Near_Kyela\n",
      "A_calliptera_North_Rukuru\n",
      "A_calliptera_Rovuma_river_Female\n",
      "A_calliptera_Salima_Father\n",
      "A_calliptera_Salima_Mother\n",
      "A_calliptera_Salima_Offspring\n",
      "A_calliptera_Songwe_River\n",
      "A_calliptera_South_Rukuru\n",
      "A_calliptera_Upper_Rovuma\n",
      "Alticorpus_geoffreyi\n",
      "Alticorpus_macrocleithrum\n",
      "Astatotilapia_Kingiri\n",
      "Astatotilapia_rujewa\n",
      "Astatotilapia_tweddlei\n",
      "Aulonocara_minutus\n",
      "Aulonocara_steveni\n",
      "Aulonocara_stuartgranti_Father\n",
      "Aulonocara_stuartgranti_Mother\n",
      "Aulonocara_stuartgranti_Offspring\n",
      "Aulonocara_yellow\n",
      "Buccochromis_nototaenia\n",
      "Buccochromis_rhoadesii\n",
      "Champsochromis_caeruelus_1\n",
      "Champsochromis_caeruelus_2\n",
      "Chilotilapia_rhoadesii_1\n",
      "Chilotilapia_rhoadesii_2\n",
      "Chilotilapia_rhoadesii_3\n",
      "Chilotilapia_rhoadesii_4\n",
      "Copadichromis_likomae\n",
      "Copadichromis_mloto\n",
      "Copadichromis_quadrimaculatus\n",
      "Copadichromis_trimaculatus\n",
      "Copadichromis_virginalis\n",
      "Copadichromis_virginalis_2\n",
      "Copadichromis_virginalis_3\n",
      "Copadichromis_virginalis_4\n",
      "Copadichromis_virginalis_5\n",
      "Copadichromis_virginalis_LM_1\n",
      "Copadichromis_virginalis_LM_3\n",
      "Ctenopharynx_intermedius_1\n",
      "Ctenopharynx_intermedius_2\n",
      "Ctenopharynx_intermedius_3\n",
      "Ctenopharynx_nitidus\n",
      "Ctenopharynx_nitidus_2\n",
      "Cyathochromis_obliquidens\n",
      "Cynotilapia_afra\n",
      "Cynotilapia_axelrodi\n",
      "Dimidiochromis_compressiceps\n",
      "Dimidiochromis_dimidiatus\n",
      "Dimidiochromis_kiwinge\n",
      "Dimidiochromis_strigatus\n",
      "Dimidiochromis_strigatus_2\n",
      "Diplotaxodon_greenwoodi\n",
      "Diplotaxodon_limnothrissa\n",
      "Diplotaxodon_macrops\n",
      "Diplotaxodon_macrops_black_dorsal\n",
      "Diplotaxodon_ngulube\n",
      "Diplotaxodon_white_back_similis\n",
      "Fossorochromis_rostratus_3\n",
      "Fossorochromis_rostratus_4\n",
      "Genyochromis_mento\n",
      "Hemitaenichromis_spilopterus\n",
      "Hemitaeniochromis_spilopterus_2\n",
      "Hemitilapia_oxyrhynchus\n",
      "Hemitilapia_oxyrhynchus_2\n",
      "Iodotropheus_sprengerae\n",
      "Labeotropheus_trewavasae\n",
      "Lethrinops_albus\n",
      "Lethrinops_auritus\n",
      "Lethrinops_gossei\n",
      "Lethrinops_lethrinus\n",
      "Lethrinops_lethrinus_Mazinzi_Father\n",
      "Lethrinops_lethrinus_Mazinzi_Mother\n",
      "Lethrinops_lethrinus_Mazinzi_Offspring\n",
      "Lethrinops_longimanus_redhead\n",
      "Lethrinops_sp_oliveri\n",
      "Massoko_benthic_HC_1\n",
      "Massoko_benthic_HC_2\n",
      "Massoko_benthic_HC_3\n",
      "Massoko_benthic_HC_4\n",
      "Massoko_benthic_HC_5\n",
      "Massoko_benthic_HC_6\n",
      "Massoko_littoral_HC_1\n",
      "Massoko_littoral_HC_2\n",
      "Massoko_littoral_HC_3\n",
      "Massoko_littoral_HC_4\n",
      "Massoko_littoral_HC_5\n",
      "Massoko_littoral_HC_6\n",
      "Metriaclima_zebra\n",
      "Mylochromis_anaphyrmus\n",
      "Mylochromis_anaphyrmus_2\n",
      "Mylochromis_anaphyrmus_3\n",
      "Mylochromis_anaphyrmus_4\n",
      "Mylochromis_anaphyrmus_5\n",
      "Mylochromis_ericotaenia\n",
      "Mylochromis_melanotaenia\n",
      "Nimbochromis_linni\n",
      "Nimbochromis_livingstoni\n",
      "Nimbochromis_polystigma\n",
      "Otopharynx_brooksi_nkhata\n",
      "Otopharynx_lithobates\n",
      "Otopharynx_speciosus_1\n",
      "Otopharynx_speciosus_2\n",
      "Otopharynx_tetrastigma\n",
      "Pallidochromis_tokolosh\n",
      "Petrotilapia_genalutea\n",
      "Placidochromis_electra\n",
      "Placidochromis_johnstoni\n",
      "Placidochromis_longimanus_1\n",
      "Placidochromis_longimanus_2\n",
      "Placidochromis_longimanus_3\n",
      "Placidochromis_longimanus_4\n",
      "Placidochromis_longimanus_5\n",
      "Placidochromis_milomo\n",
      "Placidochromis_subocularis_1\n",
      "Placidochromis_subocularis_2\n",
      "Placidochromis_subocularis_3\n",
      "Placidochromis_subocularis_4\n",
      "Placidochromis_subocularis_5\n",
      "Placidochromis_subocularis_6\n",
      "Placidochromis_subocularis_7\n",
      "Placidochromis_subocularis_8\n",
      "Protomelas_ornatus_1\n",
      "Protomelas_ornatus_2\n",
      "Rhamphochromis_esox\n",
      "Rhamphochromis_kingiri_brevis\n",
      "Rhamphochromis_kingiri_dwarf\n",
      "Rhamphochromis_longiceps\n",
      "Rhamphochromis_woodi\n",
      "Serranochromis_robustus\n",
      "Stigmatochromis_guttatus\n",
      "Stigmatochromis_modestus\n",
      "Taeniochromis_holotaenia\n",
      "Taeniolethrinops_furcicauda\n",
      "Taeniolethrinops_macrorhynchus\n",
      "Taeniolethrinops_praeorbitalis\n",
      "Trematocranus_placodon_2\n",
      "Trematocranus_placodon_3\n",
      "Trematocranus_placodon_4\n",
      "Trematocranus_placodon_5\n",
      "Tremitochranus_placodon\n",
      "Tropheops_tropheops\n",
      "Tyrannochromis_nigriventer\n"
     ]
    }
   ],
   "source": [
    "from Bio import AlignIO\n",
    "\n",
    "ali = AlignIO.read(open(\"../rho_full_consensus.fas\", 'r'),'fasta')\n",
    "\n",
    "total_length = len(ali[0, :].seq)\n",
    "print \"Total length: %s\\n\" %total_length\n",
    "\n",
    "sps = []\n",
    "\n",
    "for rec in ali:\n",
    "    sps.append(rec.id)\n",
    "    \n",
    "for sp in sorted(sps):\n",
    "    print sp"
   ]
  },
  {
   "cell_type": "code",
   "execution_count": 8,
   "metadata": {
    "collapsed": true
   },
   "outputs": [],
   "source": [
    "target_list = ['Alticorpus_geoffreyi',\n",
    "               'Alticorpus_macrocleithrum',\n",
    "               'Astatotilapia_tweddlei',\n",
    "               'Aulonocara_minutus',\n",
    "               'Aulonocara_steveni',\n",
    "               'Aulonocara_yellow',\n",
    "               'Buccochromis_nototaenia',\n",
    "               'Buccochromis_rhoadesii',\n",
    "               'Chilotilapia_rhoadesii_1',\n",
    "               'Copadichromis_quadrimaculatus',\n",
    "               'Copadichromis_trimaculatus',\n",
    "               'Copadichromis_virginalis',\n",
    "               'Ctenopharynx_nitidus',\n",
    "               'Ctenopharynx_intermedius_1',\n",
    "               'Cynotilapia_afra',\n",
    "               'Cynotilapia_axelrodi',\n",
    "               'Dimidiochromis_compressiceps',\n",
    "               'Dimidiochromis_dimidiatus',\n",
    "               'Dimidiochromis_strigatus',\n",
    "               'Diplotaxodon_greenwoodi',\n",
    "               'Diplotaxodon_limnothrissa',\n",
    "               'Diplotaxodon_macrops',\n",
    "               'Diplotaxodon_macrops_black_dorsal',\n",
    "               'Diplotaxodon_ngulube',\n",
    "               'Diplotaxodon_white_back_similis',\n",
    "               'Iodotropheus_sprengerae',\n",
    "               'Labeotropheus_trewavasae',\n",
    "               'Lethrinops_albus',\n",
    "               'Lethrinops_auritus',\n",
    "               'Lethrinops_lethrinus',\n",
    "               'Lethrinops_gossei',\n",
    "               'Lethrinops_longimanus_redhead',\n",
    "               'Lethrinops_sp_oliveri',\n",
    "               'Metriaclima_zebra',\n",
    "               'Mylochromis_anaphyrmus',\n",
    "               'Nimbochromis_linni',\n",
    "               'Nimbochromis_livingstoni',\n",
    "               'Nimbochromis_polystigma',\n",
    "               'Otopharynx_lithobates',\n",
    "               'Otopharynx_speciosus_1',\n",
    "               'Pallidochromis_tokolosh',\n",
    "               'Genyochromis_mento',\n",
    "               'Petrotilapia_genalutea',\n",
    "               'Placidochromis_johnstoni',\n",
    "               'Placidochromis_longimanus_1',\n",
    "               'Stigmatochromis_guttatus',\n",
    "               'Tropheops_tropheops',\n",
    "               'Taeniolethrinops_furcicauda',\n",
    "               'Tyrannochromis_nigriventer']"
   ]
  },
  {
   "cell_type": "markdown",
   "metadata": {},
   "source": [
    "Reduce alignment to only target taxa."
   ]
  },
  {
   "cell_type": "code",
   "execution_count": 9,
   "metadata": {
    "collapsed": false
   },
   "outputs": [
    {
     "data": {
      "text/plain": [
       "1"
      ]
     },
     "execution_count": 9,
     "metadata": {},
     "output_type": "execute_result"
    }
   ],
   "source": [
    "from Bio import AlignIO\n",
    "from Bio.Alphabet import generic_dna\n",
    "from Bio.Align import MultipleSeqAlignment\n",
    "\n",
    "reduced_ali = MultipleSeqAlignment([],alphabet=generic_dna)\n",
    "\n",
    "for rec in ali:\n",
    "    if rec.id in target_list:\n",
    "            reduced_ali.append(rec)\n",
    "\n",
    "AlignIO.write(reduced_ali[:,:], 'rho_full_consensus_target_only_01.fas', 'fasta')"
   ]
  },
  {
   "cell_type": "markdown",
   "metadata": {},
   "source": [
    "Convert Alignment to Nexus."
   ]
  },
  {
   "cell_type": "code",
   "execution_count": 10,
   "metadata": {
    "collapsed": false
   },
   "outputs": [
    {
     "data": {
      "text/plain": [
       "1"
      ]
     },
     "execution_count": 10,
     "metadata": {},
     "output_type": "execute_result"
    }
   ],
   "source": [
    "AlignIO.write(reduced_ali[:,:], 'rho_full_consensus_target_only_01.nex', 'nexus')"
   ]
  },
  {
   "cell_type": "markdown",
   "metadata": {},
   "source": [
    "PAML has an easier time in reading sequential NEXUS format so I'll reformat it from interleaved to sequential. Interestingly for short alignments it seems to result in an sequential NEXUS file already with the above command. For a long alignment it became interleaved so the below cell makes sure we've got sequential NEXUS."
   ]
  },
  {
   "cell_type": "code",
   "execution_count": 11,
   "metadata": {
    "collapsed": false
   },
   "outputs": [
    {
     "data": {
      "text/plain": [
       "'rho_full_consensus_target_only_01_sequential.nex'"
      ]
     },
     "execution_count": 11,
     "metadata": {},
     "output_type": "execute_result"
    }
   ],
   "source": [
    "from Bio import Nexus\n",
    "\n",
    "Nexus.Nexus.Nexus.read\n",
    "\n",
    "aln = Nexus.Nexus.Nexus()\n",
    "\n",
    "aln.read('rho_full_consensus_target_only_01.nex')\n",
    "\n",
    "aln.write_nexus_data('rho_full_consensus_target_only_01_sequential.nex', \n",
    "                     interleave=False, mrbayes=True)"
   ]
  },
  {
   "cell_type": "markdown",
   "metadata": {},
   "source": [
    "Add tree block to Nexus file."
   ]
  },
  {
   "cell_type": "code",
   "execution_count": 12,
   "metadata": {
    "collapsed": true
   },
   "outputs": [],
   "source": [
    "raxml_tree = open('../../../Phylogeny/s81/target_only_01/RAxML_bipartitions.s81_consensus_target_only_1.nobranchlenghts.nwk', 'r')\n",
    "\n",
    "tree = raxml_tree.next().strip()\n",
    "\n",
    "nex_file = open('rho_full_consensus_target_only_01.nex', 'a')\n",
    "\n",
    "nex_file.write('begin trees;\\n\\ttree tree1 = %s\\nend;' %tree)\n",
    "\n",
    "nex_file.close()"
   ]
  },
  {
   "cell_type": "markdown",
   "metadata": {},
   "source": [
    "Add tree with branchlenghts."
   ]
  },
  {
   "cell_type": "code",
   "execution_count": 13,
   "metadata": {
    "collapsed": true
   },
   "outputs": [],
   "source": [
    "AlignIO.write(reduced_ali[:,:], 'rho_full_consensus_target_only_01.branchlengths.nex', 'nexus')\n",
    "\n",
    "raxml_tree = open('../../../Phylogeny/s81/target_only_01/RAxML_bipartitions.s81_consensus_target_only_1.rooted_branchlenghts.nwk', 'r')\n",
    "\n",
    "tree = raxml_tree.next().strip()\n",
    "\n",
    "nex_file = open('rho_full_consensus_target_only_01.branchlengths.nex', 'a')\n",
    "\n",
    "nex_file.write('begin trees;\\n\\ttree tree1 = %s\\nend;' %tree)\n",
    "\n",
    "nex_file.close()"
   ]
  },
  {
   "cell_type": "markdown",
   "metadata": {},
   "source": [
    "Submit to [datamonkey.org](http://datamonkey.org/) for tests of selection."
   ]
  },
  {
   "cell_type": "code",
   "execution_count": null,
   "metadata": {
    "collapsed": true
   },
   "outputs": [],
   "source": []
  },
  {
   "cell_type": "markdown",
   "metadata": {},
   "source": [
    "## Run PAML."
   ]
  },
  {
   "cell_type": "code",
   "execution_count": 14,
   "metadata": {
    "collapsed": false
   },
   "outputs": [],
   "source": [
    "mkdir PAML"
   ]
  },
  {
   "cell_type": "code",
   "execution_count": 15,
   "metadata": {
    "collapsed": false
   },
   "outputs": [
    {
     "name": "stdout",
     "output_type": "stream",
     "text": [
      "/home/chrishah/WORKING/Diplotaxodon/per_gene/Rhodopsin_topology_s81/target_only_01/PAML\n"
     ]
    }
   ],
   "source": [
    "cd PAML/"
   ]
  },
  {
   "cell_type": "code",
   "execution_count": 16,
   "metadata": {
    "collapsed": false
   },
   "outputs": [],
   "source": [
    "%%bash\n",
    "\n",
    "cp ../../../../Phylogeny/s81/target_only_01/RAxML_bipartitions.s81_consensus_target_only_1.nobranchlenghts.nwk .\n",
    "cp ../../../../Phylogeny/s81/target_only_01/RAxML_bipartitions.s81_consensus_target_only_1.rooted_branchlenghts.nwk .\n",
    "\n",
    "cp ../rho_full_consensus_target_only_01_sequential.nex ."
   ]
  },
  {
   "cell_type": "markdown",
   "metadata": {},
   "source": [
    "The M0 model uses a single omega value across all sites in the alignment, and estimates average omega across the entire alignment."
   ]
  },
  {
   "cell_type": "code",
   "execution_count": 17,
   "metadata": {
    "collapsed": true
   },
   "outputs": [],
   "source": [
    "mkdir M0"
   ]
  },
  {
   "cell_type": "code",
   "execution_count": 40,
   "metadata": {
    "collapsed": false
   },
   "outputs": [
    {
     "name": "stdout",
     "output_type": "stream",
     "text": [
      "/home/chrishah/WORKING/Diplotaxodon/per_gene/Rhodopsin_topology_s81/target_only_01/PAML/M0\n"
     ]
    }
   ],
   "source": [
    "cd M0/"
   ]
  },
  {
   "cell_type": "code",
   "execution_count": 19,
   "metadata": {
    "collapsed": false
   },
   "outputs": [],
   "source": [
    "!cp ../codeml.template.ctl codeml.ctl"
   ]
  },
  {
   "cell_type": "markdown",
   "metadata": {},
   "source": [
    "Modify codeml control file."
   ]
  },
  {
   "cell_type": "code",
   "execution_count": 20,
   "metadata": {
    "collapsed": false
   },
   "outputs": [
    {
     "name": "stdout",
     "output_type": "stream",
     "text": [
      "       seqfile = ../rho_full_consensus_target_only_01_sequential.nex        * sequence data filename\r\n",
      "\r\n",
      "     treefile = ../RAxML_bipartitions.s81_consensus_target_only_1.nobranchlenghts.nwk      * SET THIS for tree file with ML branch lengths under M0\r\n",
      "\r\n",
      "      outfile = results.txt           * main result file name\r\n",
      "        noisy = 9                     * lots of rubbish on the screen\r\n",
      "      verbose = 1                     * detailed output\r\n",
      "      runmode = 0                     * user defined tree\r\n",
      "      seqtype = 1                     * codons\r\n",
      "    CodonFreq = 2                     * F3X4 for codon ferquencies\r\n",
      "        model = 0                     * one omega ratio for all branches\r\n",
      "\r\n",
      "     NSsites = 0                     * SET THIS for M0\r",
      "\r\n",
      "    * NSsites = 1                     * SET THIS for M1\r",
      "\r\n",
      "    * NSsites = 2                     * SET THIS for M2\r",
      "\r\n",
      "    * NSsites = 3                     * SET THIS for M3\r\n",
      "    * NSsites = 7                     * SET THIS for M7\r",
      "\r\n",
      "    * NSsites = 8                     * SET THIS for M8\r\n",
      "\r\n",
      "        icode = 0                     * universal code\r\n",
      "    fix_kappa = 0                     * kappa fixed\r\n",
      "       kappa = 2               \t      * SET THIS to fix kappa at MLE under M0\r\n",
      "\r\n",
      "    fix_omega = 0                     * omega to be estimated \r\n",
      "        omega = 0.5                     * initial omega\r\n",
      "\r\n",
      "      * ncatG = 3                     * SET THIS for 3 site categories under M3         \r\n",
      "      * ncatG = 10                    * SET THIS for 10 of site categories under M7 and M8\r\n",
      "\r\n",
      "  fix_blength = 0                     * fixed branch lengths from tree file\r\n",
      "  cleandata = 0                       * remove sites with ambiguity data (1: yes, 0:no)?\r\n"
     ]
    }
   ],
   "source": [
    "!cat codeml.ctl"
   ]
  },
  {
   "cell_type": "markdown",
   "metadata": {},
   "source": [
    "Run PAML."
   ]
  },
  {
   "cell_type": "code",
   "execution_count": 21,
   "metadata": {
    "collapsed": false
   },
   "outputs": [
    {
     "name": "stdout",
     "output_type": "stream",
     "text": [
      "\r\n",
      " 15         verbose | verbose                1.00\r\n",
      "  7         runmode | runmode                0.00\r\n",
      "  4         seqtype | seqtype                1.00\r\n",
      " 13       CodonFreq | CodonFreq              2.00\r\n",
      " 16           model | model                  0.00\r\n",
      " 20         NSsites | NSsites                0.00\r\n",
      " 22           icode | icode                  0.00\r\n",
      " 24       fix_kappa | fix_kappa              0.00\r\n",
      " 25           kappa | kappa                  2.00\r\n",
      " 26       fix_omega | fix_omega              0.00\r\n",
      " 27           omega | omega                  0.50\r\n",
      " 37     fix_blength | fix_blength            0.00\r\n",
      "  6       cleandata | cleandata              0.00\r\n",
      "CODONML in paml version 4.8a, August 2014\r\n",
      "\r\n",
      "----------------------------------------------\r\n",
      "Phe F TTT | Ser S TCT | Tyr Y TAT | Cys C TGT\r\n",
      "      TTC |       TCC |       TAC |       TGC\r\n",
      "Leu L TTA |       TCA | *** * TAA | *** * TGA\r\n",
      "      TTG |       TCG |       TAG | Trp W TGG\r\n",
      "----------------------------------------------\r\n",
      "Leu L CTT | Pro P CCT | His H CAT | Arg R CGT\r\n",
      "      CTC |       CCC |       CAC |       CGC\r\n",
      "      CTA |       CCA | Gln Q CAA |       CGA\r\n",
      "      CTG |       CCG |       CAG |       CGG\r\n",
      "----------------------------------------------\r\n",
      "Ile I ATT | Thr T ACT | Asn N AAT | Ser S AGT\r\n",
      "      ATC |       ACC |       AAC |       AGC\r\n",
      "      ATA |       ACA | Lys K AAA | Arg R AGA\r\n",
      "Met M ATG |       ACG |       AAG |       AGG\r\n",
      "----------------------------------------------\r\n",
      "Val V GTT | Ala A GCT | Asp D GAT | Gly G GGT\r\n",
      "      GTC |       GCC |       GAC |       GGC\r\n",
      "      GTA |       GCA | Glu E GAA |       GGA\r\n",
      "      GTG |       GCG |       GAG |       GGG\r\n",
      "----------------------------------------------\r\n",
      "Nice code, uuh?\r\n",
      "\r\n",
      "\r\n",
      "Ambiguity character definition table:\r\n",
      "\r\n",
      "T (1): T \r\n",
      "C (1): C \r\n",
      "A (1): A \r\n",
      "G (1): G \r\n",
      "U (1): T \r\n",
      "Y (2): T C \r\n",
      "R (2): A G \r\n",
      "M (2): C A \r\n",
      "K (2): T G \r\n",
      "S (2): C G \r\n",
      "W (2): T A \r\n",
      "H (3): T C A \r\n",
      "B (3): T C G \r\n",
      "V (3): C A G \r\n",
      "D (3): T A G \r\n",
      "- (4): T C A G \r\n",
      "N (4): T C A G \r\n",
      "? (4): T C A G \r\n",
      "\r\n",
      "seq file is not paml/phylip format.  Trying nexus format.\r\n",
      "ns = 49  \tls = 1065\r\n",
      "Reading sequences, sequential format..\r\n",
      "Reading seq # 1: Nimbochromis_polystigma     \r",
      "Reading seq # 2: Buccochromis_nototaenia     \r",
      "Reading seq # 3: Cynotilapia_afra     \r",
      "Reading seq # 4: Lethrinops_gossei     \r",
      "Reading seq # 5: Nimbochromis_livingstoni     \r",
      "Reading seq # 6: Aulonocara_yellow     \r",
      "Reading seq # 7: Diplotaxodon_greenwoodi     \r",
      "Reading seq # 8: Diplotaxodon_limnothrissa     \r",
      "Reading seq # 9: Placidochromis_johnstoni     \r",
      "Reading seq #10: Buccochromis_rhoadesii     \r",
      "Reading seq #11: Diplotaxodon_white_back_similis     \r",
      "Reading seq #12: Alticorpus_macrocleithrum     \r",
      "Reading seq #13: Nimbochromis_linni     \r",
      "Reading seq #14: Chilotilapia_rhoadesii_1     \r",
      "Reading seq #15: Mylochromis_anaphyrmus     \r",
      "Reading seq #16: Placidochromis_longimanus_1     \r",
      "Reading seq #17: Dimidiochromis_dimidiatus     \r",
      "Reading seq #18: Aulonocara_minutus     \r",
      "Reading seq #19: Cynotilapia_axelrodi     \r",
      "Reading seq #20: Otopharynx_speciosus_1     \r",
      "Reading seq #21: Diplotaxodon_macrops     \r",
      "Reading seq #22: Tyrannochromis_nigriventer     \r",
      "Reading seq #23: Lethrinops_longimanus_redhead     \r",
      "Reading seq #24: Copadichromis_quadrimaculatus     \r",
      "Reading seq #25: Astatotilapia_tweddlei     \r",
      "Reading seq #26: Tropheops_tropheops     \r",
      "Reading seq #27: Lethrinops_sp_oliveri     \r",
      "Reading seq #28: Lethrinops_auritus     \r",
      "Reading seq #29: Taeniolethrinops_furcicauda     \r",
      "Reading seq #30: Alticorpus_geoffreyi     \r",
      "Reading seq #31: Iodotropheus_sprengerae     \r",
      "Reading seq #32: Otopharynx_lithobates     \r",
      "Reading seq #33: Dimidiochromis_strigatus     \r",
      "Reading seq #34: Labeotropheus_trewavasae     \r",
      "Reading seq #35: Copadichromis_virginalis     \r",
      "Reading seq #36: Ctenopharynx_intermedius_1     \r",
      "Reading seq #37: Genyochromis_mento     \r",
      "Reading seq #38: Diplotaxodon_ngulube     \r",
      "Reading seq #39: Lethrinops_lethrinus     \r",
      "Reading seq #40: Ctenopharynx_nitidus     \r",
      "Reading seq #41: Metriaclima_zebra     \r",
      "Reading seq #42: Petrotilapia_genalutea     \r",
      "Reading seq #43: Dimidiochromis_compressiceps     \r",
      "Reading seq #44: Diplotaxodon_macrops_black_dorsal ATGAATGGCACAGAGG     \r",
      "\r\n",
      "Error in sequence data file: L at 1052 seq 44.\r\n",
      "Make sure to separate the sequence from its name by 2 or more spaces.\r\n"
     ]
    }
   ],
   "source": [
    "!~/src/PAML/paml4.8/bin/codeml codeml.ctl"
   ]
  },
  {
   "cell_type": "markdown",
   "metadata": {},
   "source": [
    "File format issues (see above). Insert second space after D. macrops black dorsal."
   ]
  },
  {
   "cell_type": "code",
   "execution_count": 21,
   "metadata": {
    "collapsed": false
   },
   "outputs": [],
   "source": [
    "!sed -i 's/Diplotaxodon_macrops_black_dorsal /Diplotaxodon_macrops_black_dorsal  /' ../rho_full_consensus_target_only_01_sequential.nex"
   ]
  },
  {
   "cell_type": "markdown",
   "metadata": {},
   "source": [
    "Run PAML."
   ]
  },
  {
   "cell_type": "code",
   "execution_count": null,
   "metadata": {
    "collapsed": true
   },
   "outputs": [],
   "source": [
    "!~/src/PAML/paml4.8/bin/codeml codeml.ctl #was actually run in the shell because the user was required to confirm with enter"
   ]
  },
  {
   "cell_type": "markdown",
   "metadata": {},
   "source": [
    "Extract the log likelihood for model M0 from the result."
   ]
  },
  {
   "cell_type": "code",
   "execution_count": 41,
   "metadata": {
    "collapsed": false
   },
   "outputs": [
    {
     "name": "stdout",
     "output_type": "stream",
     "text": [
      "lnL(ntime: 96  np: 98):  -1957.968493      +0.000000\r\n"
     ]
    }
   ],
   "source": [
    "!cat results.txt | grep \"lnL\""
   ]
  },
  {
   "cell_type": "code",
   "execution_count": 42,
   "metadata": {
    "collapsed": false
   },
   "outputs": [
    {
     "name": "stdout",
     "output_type": "stream",
     "text": [
      "/home/chrishah/WORKING/Diplotaxodon/per_gene/Rhodopsin_topology_s81/target_only_01/PAML\n"
     ]
    }
   ],
   "source": [
    "cd .."
   ]
  },
  {
   "cell_type": "markdown",
   "metadata": {},
   "source": [
    "The M1a model allows for a fraction of sites with ω < 1 and a fraction with ω = 1."
   ]
  },
  {
   "cell_type": "code",
   "execution_count": 24,
   "metadata": {
    "collapsed": false
   },
   "outputs": [],
   "source": [
    "mkdir M1a"
   ]
  },
  {
   "cell_type": "code",
   "execution_count": 43,
   "metadata": {
    "collapsed": false
   },
   "outputs": [
    {
     "name": "stdout",
     "output_type": "stream",
     "text": [
      "/home/chrishah/WORKING/Diplotaxodon/per_gene/Rhodopsin_topology_s81/target_only_01/PAML/M1a\n"
     ]
    }
   ],
   "source": [
    "cd M1a/"
   ]
  },
  {
   "cell_type": "code",
   "execution_count": 26,
   "metadata": {
    "collapsed": true
   },
   "outputs": [],
   "source": [
    "!cp ../codeml.template.ctl codeml.ctl"
   ]
  },
  {
   "cell_type": "code",
   "execution_count": 27,
   "metadata": {
    "collapsed": false
   },
   "outputs": [
    {
     "name": "stdout",
     "output_type": "stream",
     "text": [
      "       seqfile = ../rho_full_consensus_target_only_01_sequential.nex        * sequence data filename\r\n",
      "\r\n",
      "     treefile = ../RAxML_bipartitions.s81_consensus_target_only_1.nobranchlenghts.nwk      * SET THIS for tree file with ML branch lengths under M0\r\n",
      "\r\n",
      "      outfile = results.txt           * main result file name\r\n",
      "        noisy = 9                     * lots of rubbish on the screen\r\n",
      "      verbose = 1                     * detailed output\r\n",
      "      runmode = 0                     * user defined tree\r\n",
      "      seqtype = 1                     * codons\r\n",
      "    CodonFreq = 2                     * F3X4 for codon ferquencies\r\n",
      "        model = 0                     * one omega ratio for all branches\r\n",
      "\r\n",
      "    * NSsites = 0                     * SET THIS for M0\r",
      "\r\n",
      "     NSsites = 1                     * SET THIS for M1\r",
      "\r\n",
      "    * NSsites = 2                     * SET THIS for M2\r",
      "\r\n",
      "    * NSsites = 3                     * SET THIS for M3\r\n",
      "    * NSsites = 7                     * SET THIS for M7\r",
      "\r\n",
      "    * NSsites = 8                     * SET THIS for M8\r\n",
      "\r\n",
      "        icode = 0                     * universal code\r\n",
      "    fix_kappa = 0                     * kappa fixed\r\n",
      "       kappa = 2               \t      * SET THIS to fix kappa at MLE under M0\r\n",
      "\r\n",
      "    fix_omega = 0                     * omega to be estimated \r\n",
      "        omega = 0.5                     * initial omega\r\n",
      "\r\n",
      "      * ncatG = 3                     * SET THIS for 3 site categories under M3         \r\n",
      "      * ncatG = 10                    * SET THIS for 10 of site categories under M7 and M8\r\n",
      "\r\n",
      "  fix_blength = 0                     * fixed branch lengths from tree file\r\n",
      "  cleandata = 0                       * remove sites with ambiguity data (1: yes, 0:no)?\r\n"
     ]
    }
   ],
   "source": [
    "!cat codeml.ctl"
   ]
  },
  {
   "cell_type": "code",
   "execution_count": null,
   "metadata": {
    "collapsed": true
   },
   "outputs": [],
   "source": [
    "!~/src/PAML/paml4.8/bin/codeml codeml.ctl #was actually run in the shell because the user was required to confirm with enter"
   ]
  },
  {
   "cell_type": "markdown",
   "metadata": {},
   "source": [
    "Extract the log likelihood for model M1 from the result."
   ]
  },
  {
   "cell_type": "code",
   "execution_count": 44,
   "metadata": {
    "collapsed": false
   },
   "outputs": [
    {
     "name": "stdout",
     "output_type": "stream",
     "text": [
      "lnL(ntime: 96  np: 99):  -1925.774096      +0.000000\r\n"
     ]
    }
   ],
   "source": [
    "!cat results.txt | grep \"lnL\""
   ]
  },
  {
   "cell_type": "code",
   "execution_count": 45,
   "metadata": {
    "collapsed": false
   },
   "outputs": [
    {
     "name": "stdout",
     "output_type": "stream",
     "text": [
      "/home/chrishah/WORKING/Diplotaxodon/per_gene/Rhodopsin_topology_s81/target_only_01/PAML\n"
     ]
    }
   ],
   "source": [
    "cd .."
   ]
  },
  {
   "cell_type": "markdown",
   "metadata": {},
   "source": [
    "Model M0 is nested within model M1, so we can use the likelihood ratio test (LRT) to compare these two models. \n",
    "\n",
    "The LRT statistic is χ2 = 2×(lnLM1 - lnLM0). \n",
    "\n",
    "The degrees of freedom are k = npM1 - npM1. \n",
    "\n",
    "We can use the CHI2 program from the PAML package to assess whether the value χ2 at certain degrees of freedom k is statistically significant."
   ]
  },
  {
   "cell_type": "code",
   "execution_count": 46,
   "metadata": {
    "collapsed": false
   },
   "outputs": [
    {
     "name": "stdout",
     "output_type": "stream",
     "text": [
      "deltaLRT = 64.39\n",
      "degrees of freedom: 1\n",
      "\n",
      "df =  1  prob = 0.000000000 = 9.992e-16\n",
      "\n"
     ]
    }
   ],
   "source": [
    "%%bash\n",
    "\n",
    "H0_file='M0/results.txt'\n",
    "H1_file='M1a/results.txt'\n",
    "\n",
    "dfM0=$(cat $H0_file | grep \"lnL\" | perl -ne 'chomp; @a=split(\" \"); $out=$a[-3]; $out =~ s/\\)\\://; $out =~ s/np\\://; print \"$out\\n\"')\n",
    "dfM1=$(cat $H1_file | grep \"lnL\" | perl -ne 'chomp; @a=split(\" \"); $out=$a[-3]; $out =~ s/\\)\\://; $out =~ s/np\\://; print \"$out\\n\"')\n",
    "\n",
    "lnLM0=$(cat $H0_file | grep \"lnL\" | perl -ne 'chomp; @a=split(\" \"); $out=$a[4]; print \"$out\\n\"')\n",
    "lnLM1=$(cat $H1_file | grep \"lnL\" | perl -ne 'chomp; @a=split(\" \"); $out=$a[4]; print \"$out\\n\"')\n",
    "\n",
    "k=$(($dfM1-$dfM0))\n",
    "\n",
    "\n",
    "dLRT=$(echo -e \"$lnLM0 $lnLM1\" | perl -ne 'chomp; @a=split(\" \"); $LRT=2*($a[1]-$a[0]); $out=sprintf(\"%.2f\",$LRT); print \"$out\\n\"')\n",
    "\n",
    "echo -e \"deltaLRT = $dLRT\"\n",
    "echo -e \"degrees of freedom: $k\"\n",
    "\n",
    "/home/chrishah/src/PAML/paml4.8/bin/chi2 $k $dLRT"
   ]
  },
  {
   "cell_type": "markdown",
   "metadata": {},
   "source": [
    "The chi2 value from the above comparison is statstically significant at the significance level alpha=0.05. Therefore the inclusion of a class of neutral sites with ω = 1 is statistically justified and we can move on to test for positive selection."
   ]
  },
  {
   "cell_type": "markdown",
   "metadata": {},
   "source": [
    "Model M2a allows for a third class of sites with ω > 1."
   ]
  },
  {
   "cell_type": "code",
   "execution_count": 31,
   "metadata": {
    "collapsed": true
   },
   "outputs": [],
   "source": [
    "mkdir M2a"
   ]
  },
  {
   "cell_type": "code",
   "execution_count": 47,
   "metadata": {
    "collapsed": false
   },
   "outputs": [
    {
     "name": "stdout",
     "output_type": "stream",
     "text": [
      "/home/chrishah/WORKING/Diplotaxodon/per_gene/Rhodopsin_topology_s81/target_only_01/PAML/M2a\n"
     ]
    }
   ],
   "source": [
    "cd M2a/"
   ]
  },
  {
   "cell_type": "code",
   "execution_count": 33,
   "metadata": {
    "collapsed": true
   },
   "outputs": [],
   "source": [
    "cp ../codeml.template.ctl codeml.ctl"
   ]
  },
  {
   "cell_type": "code",
   "execution_count": 34,
   "metadata": {
    "collapsed": false
   },
   "outputs": [
    {
     "name": "stdout",
     "output_type": "stream",
     "text": [
      "       seqfile = ../rho_full_consensus_target_only_01_sequential.nex        * sequence data filename\r\n",
      "\r\n",
      "     treefile = ../RAxML_bipartitions.s81_consensus_target_only_1.nobranchlenghts.nwk      * SET THIS for tree file with ML branch lengths under M0\r\n",
      "\r\n",
      "      outfile = results.txt           * main result file name\r\n",
      "        noisy = 9                     * lots of rubbish on the screen\r\n",
      "      verbose = 1                     * detailed output\r\n",
      "      runmode = 0                     * user defined tree\r\n",
      "      seqtype = 1                     * codons\r\n",
      "    CodonFreq = 2                     * F3X4 for codon ferquencies\r\n",
      "        model = 0                     * one omega ratio for all branches\r\n",
      "\r\n",
      "    * NSsites = 0                     * SET THIS for M0\r",
      "\r\n",
      "    * NSsites = 1                     * SET THIS for M1\r",
      "\r\n",
      "     NSsites = 2                     * SET THIS for M2\r",
      "\r\n",
      "    * NSsites = 3                     * SET THIS for M3\r\n",
      "    * NSsites = 7                     * SET THIS for M7\r",
      "\r\n",
      "    * NSsites = 8                     * SET THIS for M8\r\n",
      "\r\n",
      "        icode = 0                     * universal code\r\n",
      "    fix_kappa = 0                     * kappa fixed\r\n",
      "       kappa = 2               \t      * SET THIS to fix kappa at MLE under M0\r\n",
      "\r\n",
      "    fix_omega = 0                     * omega to be estimated \r\n",
      "        omega = 0.5                     * initial omega\r\n",
      "\r\n",
      "      * ncatG = 3                     * SET THIS for 3 site categories under M3         \r\n",
      "      * ncatG = 10                    * SET THIS for 10 of site categories under M7 and M8\r\n",
      "\r\n",
      "  fix_blength = 0                     * fixed branch lengths from tree file\r\n",
      "  cleandata = 0                       * remove sites with ambiguity data (1: yes, 0:no)?\r\n"
     ]
    }
   ],
   "source": [
    "!cat codeml.ctl"
   ]
  },
  {
   "cell_type": "code",
   "execution_count": null,
   "metadata": {
    "collapsed": true
   },
   "outputs": [],
   "source": [
    "!~/src/PAML/paml4.8/bin/codeml codeml.ctl #was actually run in the shell because the user was required to confirm with enter"
   ]
  },
  {
   "cell_type": "markdown",
   "metadata": {},
   "source": [
    "Extract the log likelihood for model M2 from the result."
   ]
  },
  {
   "cell_type": "code",
   "execution_count": 49,
   "metadata": {
    "collapsed": false
   },
   "outputs": [
    {
     "name": "stdout",
     "output_type": "stream",
     "text": [
      "lnL(ntime: 96  np:101):  -1804.732703      +0.000000\r\n"
     ]
    }
   ],
   "source": [
    "!cat results.txt | grep \"lnL\""
   ]
  },
  {
   "cell_type": "code",
   "execution_count": 50,
   "metadata": {
    "collapsed": false
   },
   "outputs": [
    {
     "name": "stdout",
     "output_type": "stream",
     "text": [
      "/home/chrishah/WORKING/Diplotaxodon/per_gene/Rhodopsin_topology_s81/target_only_01/PAML\n"
     ]
    }
   ],
   "source": [
    "cd .."
   ]
  },
  {
   "cell_type": "markdown",
   "metadata": {},
   "source": [
    "Model M1 is nested within model M2, so we can use the likelihood ratio test (LRT) to compare these two models. \n",
    "\n",
    "The LRT statistic is χ2 = 2×(lnLM2 - lnLM1). \n",
    "\n",
    "The degrees of freedom are k = npM2 - npM1. \n",
    "\n",
    "We can use the CHI2 program from the PAML package to assess whether the value χ2 at certain degrees of freedom k is statistically significant."
   ]
  },
  {
   "cell_type": "code",
   "execution_count": 51,
   "metadata": {
    "collapsed": false
   },
   "outputs": [
    {
     "name": "stdout",
     "output_type": "stream",
     "text": [
      "deltaLRT = 242.08\n",
      "degrees of freedom: 2\n",
      "\n",
      "df =  2  prob = 0.000000000 = 0.000e+00\n",
      "\n"
     ]
    }
   ],
   "source": [
    "%%bash\n",
    "\n",
    "H0_file='M1a/results.txt'\n",
    "H1_file='M2a/results.txt'\n",
    "\n",
    "dfM0=$(cat $H0_file | grep \"lnL\" | perl -ne 'chomp; @a=split(\" \"); $out=$a[-3]; $out =~ s/\\)\\://; $out =~ s/np\\://; print \"$out\\n\"')\n",
    "dfM1=$(cat $H1_file | grep \"lnL\" | perl -ne 'chomp; @a=split(\" \"); $out=$a[-3]; $out =~ s/\\)\\://; $out =~ s/np\\://; print \"$out\\n\"')\n",
    "\n",
    "lnLM0=$(cat $H0_file | grep \"lnL\" | perl -ne 'chomp; @a=split(\" \"); $out=$a[-2]; print \"$out\\n\"')\n",
    "lnLM1=$(cat $H1_file | grep \"lnL\" | perl -ne 'chomp; @a=split(\" \"); $out=$a[-2]; print \"$out\\n\"')\n",
    "\n",
    "k=$(($dfM1-$dfM0))\n",
    "dLRT=$(echo -e \"$lnLM0 $lnLM1\" | perl -ne 'chomp; @a=split(\" \"); $LRT=2*($a[1]-$a[0]); $out=sprintf(\"%.2f\",$LRT); print \"$out\\n\"')\n",
    "\n",
    "echo -e \"deltaLRT = $dLRT\"\n",
    "echo -e \"degrees of freedom: $k\"\n",
    "\n",
    "/home/chrishah/src/PAML/paml4.8/bin/chi2 $k $dLRT"
   ]
  },
  {
   "cell_type": "markdown",
   "metadata": {},
   "source": [
    "The test statistic is highly significant, so the model M2a fits the data better, so including a site class with omega > 1 is statistically justified, which means we've got a signature of positive selection.\n",
    "\n",
    "CODEML will perform Bayesian identification of codon sites (columns in the alignment) that are under positive selection. We will look at the results from the Bayes empirical Bayes (BEB) method in the results file of the model M2a.\n",
    "\n",
    "Bayesian identification of codon sites (columns in the\n",
    "alignment) that are under positive selection"
   ]
  },
  {
   "cell_type": "code",
   "execution_count": 52,
   "metadata": {
    "collapsed": false
   },
   "outputs": [
    {
     "name": "stdout",
     "output_type": "stream",
     "text": [
      "Bayes Empirical Bayes (BEB) analysis (Yang, Wong & Nielsen 2005. Mol. Biol. Evol. 22:1107-1118)\r\n",
      "Positively selected sites (*: P>95%; **: P>99%)\r\n",
      "(amino acids refer to 1st sequence: Nimbochromis_polystigma)\r\n",
      "\r\n",
      "            Pr(w>1)     post mean +- SE for w\r\n",
      "\r\n",
      "    22 S      1.000**       10.493 +- 0.125\r\n",
      "    29 H      0.986*        10.361 +- 1.123\r\n",
      "    37 Y      1.000**       10.493 +- 0.124\r\n",
      "    39 A      0.986*        10.361 +- 1.123\r\n",
      "    83 D      0.999**       10.482 +- 0.350\r\n",
      "    95 V      0.999**       10.482 +- 0.342\r\n",
      "   133 I      1.000**       10.494 +- 0.078\r\n",
      "   166 A      1.000**       10.494 +- 0.078\r\n",
      "   173 V      0.829         8.819 +- 3.686\r\n",
      "   189 V      0.999**       10.481 +- 0.359\r\n",
      "   213 I      1.000**       10.494 +- 0.078\r\n",
      "   217 T      0.845         8.975 +- 3.542\r\n",
      "   297 G      1.000**       10.494 +- 0.078\r\n",
      "   298 A      1.000**       10.494 +- 0.079\r\n",
      "   299 S      1.000**       10.494 +- 0.078\r\n",
      "\r\n"
     ]
    }
   ],
   "source": [
    "!cat M2a/results.txt | grep \"BEB\" -A 21"
   ]
  },
  {
   "cell_type": "code",
   "execution_count": null,
   "metadata": {
    "collapsed": false
   },
   "outputs": [],
   "source": []
  }
 ],
 "metadata": {
  "kernelspec": {
   "display_name": "Python 2",
   "language": "python",
   "name": "python2"
  },
  "language_info": {
   "codemirror_mode": {
    "name": "ipython",
    "version": 2
   },
   "file_extension": ".py",
   "mimetype": "text/x-python",
   "name": "python",
   "nbconvert_exporter": "python",
   "pygments_lexer": "ipython2",
   "version": "2.7.12"
  }
 },
 "nbformat": 4,
 "nbformat_minor": 0
}
