{
 "cells": [
  {
   "cell_type": "markdown",
   "metadata": {},
   "source": [
    "Extract scaffold 81 from assembly."
   ]
  },
  {
   "cell_type": "code",
   "execution_count": 1,
   "metadata": {
    "collapsed": true
   },
   "outputs": [],
   "source": [
    "from Bio import SeqIO\n",
    "import gzip\n",
    "\n",
    "target = 'scaffold_81'\n",
    "\n",
    "assembly = gzip.open('../../data/REFERENCE_DATA/M_zebra_v0.assembly.fasta.gz')\n",
    "\n",
    "for rec in SeqIO.parse(assembly, 'fasta'):\n",
    "    if rec.id == target:\n",
    "        out = open(target+'.fasta','w')\n",
    "        SeqIO.write(rec, out, 'fasta')\n",
    "        out.close()"
   ]
  },
  {
   "cell_type": "markdown",
   "metadata": {},
   "source": [
    "Extract intergenic region between Hbb and Hba according to gff file.\n",
    "\n",
    "Hbb is located between 426562 and 427170 (reverse) and Hba is located 429302 and 430391.\n",
    "\n",
    "So intergenic is 427170 - 429302."
   ]
  },
  {
   "cell_type": "code",
   "execution_count": 2,
   "metadata": {
    "collapsed": false
   },
   "outputs": [
    {
     "name": "stdout",
     "output_type": "stream",
     "text": [
      "no populationmap provided\n",
      "\n",
      "\n",
      "Target region: 427170 - 429302\n",
      "writing haplotypes to fasta\n",
      "\n"
     ]
    }
   ],
   "source": [
    "%%bash\n",
    "\n",
    "vcf='../../data/VCF/Malawi2015_all_sc_81_324832-500718_beagle_annotatedAllGenes.vcf.gz'\n",
    "\n",
    "python ../../../../Dropbox/Github/genomisc/popogeno/vcf_2_hap.py $vcf \\\n",
    "--fasta \\\n",
    "--fill_from_ref_fasta scaffold_81.fasta \\\n",
    "--start 427170 \\\n",
    "--end 429302 \\\n",
    "-o intergenic_Hbb-Hba"
   ]
  },
  {
   "cell_type": "markdown",
   "metadata": {},
   "source": [
    "Select subset of taxa for selection analysis."
   ]
  },
  {
   "cell_type": "code",
   "execution_count": 21,
   "metadata": {
    "collapsed": true
   },
   "outputs": [],
   "source": [
    "!mkdir target_only_01"
   ]
  },
  {
   "cell_type": "code",
   "execution_count": 158,
   "metadata": {
    "collapsed": false
   },
   "outputs": [
    {
     "name": "stdout",
     "output_type": "stream",
     "text": [
      "/home/chrishah/WORKING/Diplotaxodon/per_gene/Hemoglobin-subunit-beta/target_only_01\n"
     ]
    }
   ],
   "source": [
    "cd target_only_01/"
   ]
  },
  {
   "cell_type": "code",
   "execution_count": 159,
   "metadata": {
    "collapsed": false
   },
   "outputs": [
    {
     "name": "stdout",
     "output_type": "stream",
     "text": [
      "Total length: 444\n",
      "\n",
      "A_calliptera_Bua\n",
      "A_calliptera_Chitimba\n",
      "A_calliptera_Chizumulu\n",
      "A_calliptera_Enukweni\n",
      "A_calliptera_Itupi_1\n",
      "A_calliptera_Itupi_2\n",
      "A_calliptera_Itupi_3\n",
      "A_calliptera_Itupi_4\n",
      "A_calliptera_Kitai_Dam\n",
      "A_calliptera_Lake_Chidya\n",
      "A_calliptera_Lake_Chilwa\n",
      "A_calliptera_Luwawa\n",
      "A_calliptera_Mbaka_river_Female\n",
      "A_calliptera_Near_Kyela\n",
      "A_calliptera_North_Rukuru\n",
      "A_calliptera_Rovuma_river_Female\n",
      "A_calliptera_Salima_Father\n",
      "A_calliptera_Salima_Mother\n",
      "A_calliptera_Salima_Offspring\n",
      "A_calliptera_Songwe_River\n",
      "A_calliptera_South_Rukuru\n",
      "A_calliptera_Upper_Rovuma\n",
      "Alticorpus_geoffreyi\n",
      "Alticorpus_macrocleithrum\n",
      "Astatotilapia_Kingiri\n",
      "Astatotilapia_rujewa\n",
      "Astatotilapia_tweddlei\n",
      "Aulonocara_minutus\n",
      "Aulonocara_steveni\n",
      "Aulonocara_stuartgranti_Father\n",
      "Aulonocara_stuartgranti_Mother\n",
      "Aulonocara_stuartgranti_Offspring\n",
      "Aulonocara_yellow\n",
      "Buccochromis_nototaenia\n",
      "Buccochromis_rhoadesii\n",
      "Champsochromis_caeruelus_1\n",
      "Champsochromis_caeruelus_2\n",
      "Chilotilapia_rhoadesii_1\n",
      "Chilotilapia_rhoadesii_2\n",
      "Chilotilapia_rhoadesii_3\n",
      "Chilotilapia_rhoadesii_4\n",
      "Copadichromis_likomae\n",
      "Copadichromis_mloto\n",
      "Copadichromis_quadrimaculatus\n",
      "Copadichromis_trimaculatus\n",
      "Copadichromis_virginalis\n",
      "Copadichromis_virginalis_2\n",
      "Copadichromis_virginalis_3\n",
      "Copadichromis_virginalis_4\n",
      "Copadichromis_virginalis_5\n",
      "Copadichromis_virginalis_LM_1\n",
      "Copadichromis_virginalis_LM_3\n",
      "Ctenopharynx_intermedius_1\n",
      "Ctenopharynx_intermedius_2\n",
      "Ctenopharynx_intermedius_3\n",
      "Ctenopharynx_nitidus\n",
      "Ctenopharynx_nitidus_2\n",
      "Cyathochromis_obliquidens\n",
      "Cynotilapia_afra\n",
      "Cynotilapia_axelrodi\n",
      "Dimidiochromis_compressiceps\n",
      "Dimidiochromis_dimidiatus\n",
      "Dimidiochromis_kiwinge\n",
      "Dimidiochromis_strigatus\n",
      "Dimidiochromis_strigatus_2\n",
      "Diplotaxodon_greenwoodi\n",
      "Diplotaxodon_limnothrissa\n",
      "Diplotaxodon_macrops\n",
      "Diplotaxodon_macrops_black_dorsal\n",
      "Diplotaxodon_ngulube\n",
      "Diplotaxodon_white_back_similis\n",
      "Fossorochromis_rostratus_3\n",
      "Fossorochromis_rostratus_4\n",
      "Genyochromis_mento\n",
      "Hemitaenichromis_spilopterus\n",
      "Hemitaeniochromis_spilopterus_2\n",
      "Hemitilapia_oxyrhynchus\n",
      "Hemitilapia_oxyrhynchus_2\n",
      "Iodotropheus_sprengerae\n",
      "Labeotropheus_trewavasae\n",
      "Lethrinops_albus\n",
      "Lethrinops_auritus\n",
      "Lethrinops_gossei\n",
      "Lethrinops_lethrinus\n",
      "Lethrinops_lethrinus_Mazinzi_Father\n",
      "Lethrinops_lethrinus_Mazinzi_Mother\n",
      "Lethrinops_lethrinus_Mazinzi_Offspring\n",
      "Lethrinops_longimanus_redhead\n",
      "Lethrinops_sp_oliveri\n",
      "Massoko_benthic_HC_1\n",
      "Massoko_benthic_HC_2\n",
      "Massoko_benthic_HC_3\n",
      "Massoko_benthic_HC_4\n",
      "Massoko_benthic_HC_5\n",
      "Massoko_benthic_HC_6\n",
      "Massoko_littoral_HC_1\n",
      "Massoko_littoral_HC_2\n",
      "Massoko_littoral_HC_3\n",
      "Massoko_littoral_HC_4\n",
      "Massoko_littoral_HC_5\n",
      "Massoko_littoral_HC_6\n",
      "Metriaclima_zebra\n",
      "Mylochromis_anaphyrmus\n",
      "Mylochromis_anaphyrmus_2\n",
      "Mylochromis_anaphyrmus_3\n",
      "Mylochromis_anaphyrmus_4\n",
      "Mylochromis_anaphyrmus_5\n",
      "Mylochromis_ericotaenia\n",
      "Mylochromis_melanotaenia\n",
      "Nimbochromis_linni\n",
      "Nimbochromis_livingstoni\n",
      "Nimbochromis_polystigma\n",
      "Otopharynx_brooksi_nkhata\n",
      "Otopharynx_lithobates\n",
      "Otopharynx_speciosus_1\n",
      "Otopharynx_speciosus_2\n",
      "Otopharynx_tetrastigma\n",
      "Pallidochromis_tokolosh\n",
      "Petrotilapia_genalutea\n",
      "Placidochromis_electra\n",
      "Placidochromis_johnstoni\n",
      "Placidochromis_longimanus_1\n",
      "Placidochromis_longimanus_2\n",
      "Placidochromis_longimanus_3\n",
      "Placidochromis_longimanus_4\n",
      "Placidochromis_longimanus_5\n",
      "Placidochromis_milomo\n",
      "Placidochromis_subocularis_1\n",
      "Placidochromis_subocularis_2\n",
      "Placidochromis_subocularis_3\n",
      "Placidochromis_subocularis_4\n",
      "Placidochromis_subocularis_5\n",
      "Placidochromis_subocularis_6\n",
      "Placidochromis_subocularis_7\n",
      "Placidochromis_subocularis_8\n",
      "Protomelas_ornatus_1\n",
      "Protomelas_ornatus_2\n",
      "Rhamphochromis_esox\n",
      "Rhamphochromis_kingiri_brevis\n",
      "Rhamphochromis_kingiri_dwarf\n",
      "Rhamphochromis_longiceps\n",
      "Rhamphochromis_woodi\n",
      "Serranochromis_robustus\n",
      "Stigmatochromis_guttatus\n",
      "Stigmatochromis_modestus\n",
      "Taeniochromis_holotaenia\n",
      "Taeniolethrinops_furcicauda\n",
      "Taeniolethrinops_macrorhynchus\n",
      "Taeniolethrinops_praeorbitalis\n",
      "Trematocranus_placodon_2\n",
      "Trematocranus_placodon_3\n",
      "Trematocranus_placodon_4\n",
      "Trematocranus_placodon_5\n",
      "Tremitochranus_placodon\n",
      "Tropheops_tropheops\n",
      "Tyrannochromis_nigriventer\n"
     ]
    }
   ],
   "source": [
    "from Bio import AlignIO\n",
    "\n",
    "ali = AlignIO.read(open(\"../hemoglobin-subunit-beta_full_consensus.fas\", 'r'),'fasta')\n",
    "\n",
    "total_length = len(ali[0, :].seq)\n",
    "print \"Total length: %s\\n\" %total_length\n",
    "\n",
    "sps = []\n",
    "\n",
    "for rec in ali:\n",
    "    sps.append(rec.id)\n",
    "    \n",
    "for sp in sorted(sps):\n",
    "    print sp"
   ]
  },
  {
   "cell_type": "code",
   "execution_count": 160,
   "metadata": {
    "collapsed": true
   },
   "outputs": [],
   "source": [
    "target_list = ['Alticorpus_geoffreyi',\n",
    "               'Alticorpus_macrocleithrum',\n",
    "               'Astatotilapia_tweddlei',\n",
    "               'Aulonocara_minutus',\n",
    "               'Aulonocara_steveni',\n",
    "               'Aulonocara_yellow',\n",
    "               'Buccochromis_nototaenia',\n",
    "               'Buccochromis_rhoadesii',\n",
    "               'Chilotilapia_rhoadesii_1',\n",
    "#               'Copadichromis_likomae',\n",
    "#               'Copadichromis_mloto',\n",
    "               'Copadichromis_quadrimaculatus',\n",
    "               'Copadichromis_trimaculatus',\n",
    "               'Copadichromis_virginalis',\n",
    "               'Ctenopharynx_nitidus',\n",
    "               'Ctenopharynx_intermedius_1',\n",
    "               'Cynotilapia_afra',\n",
    "               'Cynotilapia_axelrodi',\n",
    "               'Dimidiochromis_compressiceps',\n",
    "               'Dimidiochromis_dimidiatus',\n",
    "#               'Dimidiochromis_kiwinge',\n",
    "               'Dimidiochromis_strigatus',\n",
    "               'Diplotaxodon_greenwoodi',\n",
    "               'Diplotaxodon_limnothrissa',\n",
    "               'Diplotaxodon_macrops',\n",
    "               'Diplotaxodon_macrops_black_dorsal',\n",
    "               'Diplotaxodon_ngulube',\n",
    "               'Diplotaxodon_white_back_similis',\n",
    "#               'Hemitaenichromis_spilopterus',\n",
    "#               'Hemitilapia_oxyrhynchus',\n",
    "               'Iodotropheus_sprengerae',\n",
    "               'Labeotropheus_trewavasae',\n",
    "               'Lethrinops_albus',\n",
    "               'Lethrinops_auritus',\n",
    "               'Lethrinops_lethrinus',\n",
    "               'Lethrinops_gossei',\n",
    "               'Lethrinops_longimanus_redhead',\n",
    "               'Lethrinops_sp_oliveri',\n",
    "               'Metriaclima_zebra',\n",
    "               'Mylochromis_anaphyrmus',\n",
    "#               'Mylochromis_ericotaenia',\n",
    "#               'Mylochromis_melanotaenia',\n",
    "               'Nimbochromis_linni',\n",
    "               'Nimbochromis_livingstoni',\n",
    "               'Nimbochromis_polystigma',\n",
    "               'Otopharynx_lithobates',\n",
    "               'Otopharynx_speciosus_1',\n",
    "               'Pallidochromis_tokolosh',\n",
    "               'Genyochromis_mento',\n",
    "               'Petrotilapia_genalutea',\n",
    "               'Placidochromis_johnstoni',\n",
    "               'Placidochromis_longimanus_1',\n",
    "#               'Placidochromis_subocularis_1',\n",
    "               'Stigmatochromis_guttatus',\n",
    "               'Tropheops_tropheops',\n",
    "               'Taeniolethrinops_furcicauda',\n",
    "               'Tyrannochromis_nigriventer']"
   ]
  },
  {
   "cell_type": "markdown",
   "metadata": {},
   "source": [
    "Reduce alignment to only target taxa."
   ]
  },
  {
   "cell_type": "code",
   "execution_count": 161,
   "metadata": {
    "collapsed": false
   },
   "outputs": [
    {
     "data": {
      "text/plain": [
       "1"
      ]
     },
     "execution_count": 161,
     "metadata": {},
     "output_type": "execute_result"
    }
   ],
   "source": [
    "from Bio import AlignIO\n",
    "from Bio.Alphabet import generic_dna\n",
    "from Bio.Align import MultipleSeqAlignment\n",
    "\n",
    "reduced_ali = MultipleSeqAlignment([],alphabet=generic_dna)\n",
    "\n",
    "for rec in ali:\n",
    "    if rec.id in target_list:\n",
    "            reduced_ali.append(rec)\n",
    "\n",
    "AlignIO.write(reduced_ali[:,:], 'hemoglobin-subunit-beta_full_consensus_target_only_01.fas', 'fasta')"
   ]
  },
  {
   "cell_type": "markdown",
   "metadata": {},
   "source": [
    "Convert Alignment to Nexus."
   ]
  },
  {
   "cell_type": "code",
   "execution_count": 162,
   "metadata": {
    "collapsed": false
   },
   "outputs": [
    {
     "data": {
      "text/plain": [
       "1"
      ]
     },
     "execution_count": 162,
     "metadata": {},
     "output_type": "execute_result"
    }
   ],
   "source": [
    "AlignIO.write(reduced_ali[:,:], 'hemoglobin-subunit-beta_full_consensus_target_only_01.nex', 'nexus')"
   ]
  },
  {
   "cell_type": "markdown",
   "metadata": {},
   "source": [
    "Add tree block to Nexus file."
   ]
  },
  {
   "cell_type": "code",
   "execution_count": 163,
   "metadata": {
    "collapsed": true
   },
   "outputs": [],
   "source": [
    "raxml_tree = open('../../../Phylogeny/s215/target_only_01/RAxML_bipartitions.s215_consensus_target_only_1.nobranchlenghts.nwk', 'r')\n",
    "\n",
    "tree = raxml_tree.next().strip()\n",
    "\n",
    "nex_file = open('hemoglobin-subunit-beta_full_consensus_target_only_01.nex', 'a')\n",
    "\n",
    "nex_file.write('begin trees;\\n\\ttree tree1 = %s\\nend;' %tree)\n",
    "\n",
    "nex_file.close()"
   ]
  },
  {
   "cell_type": "markdown",
   "metadata": {},
   "source": [
    "Add tree with branchlenghts."
   ]
  },
  {
   "cell_type": "code",
   "execution_count": 164,
   "metadata": {
    "collapsed": true
   },
   "outputs": [],
   "source": [
    "AlignIO.write(reduced_ali[:,:], 'hemoglobin-subunit-beta_full_consensus_target_only_01.branchlengths.nex', 'nexus')\n",
    "\n",
    "raxml_tree = open('../../../Phylogeny/s215/target_only_01/RAxML_bipartitions.s215_consensus_target_only_1.rooted_branchlenghts.nwk', 'r')\n",
    "\n",
    "tree = raxml_tree.next().strip()\n",
    "\n",
    "nex_file = open('hemoglobin-subunit-beta_full_consensus_target_only_01.branchlengths.nex', 'a')\n",
    "\n",
    "nex_file.write('begin trees;\\n\\ttree tree1 = %s\\nend;' %tree)\n",
    "\n",
    "nex_file.close()"
   ]
  },
  {
   "cell_type": "markdown",
   "metadata": {},
   "source": [
    "Submit to [datamonkey.org](http://datamonkey.org/) for tests of selection."
   ]
  },
  {
   "cell_type": "markdown",
   "metadata": {},
   "source": [
    "## Run PAML."
   ]
  },
  {
   "cell_type": "code",
   "execution_count": 29,
   "metadata": {
    "collapsed": false
   },
   "outputs": [],
   "source": [
    "mkdir PAML"
   ]
  },
  {
   "cell_type": "code",
   "execution_count": 165,
   "metadata": {
    "collapsed": false
   },
   "outputs": [
    {
     "name": "stdout",
     "output_type": "stream",
     "text": [
      "/home/chrishah/WORKING/Diplotaxodon/per_gene/Hemoglobin-subunit-beta/target_only_01/PAML\n"
     ]
    }
   ],
   "source": [
    "cd PAML/"
   ]
  },
  {
   "cell_type": "code",
   "execution_count": 166,
   "metadata": {
    "collapsed": false
   },
   "outputs": [],
   "source": [
    "%%bash\n",
    "\n",
    "cp ../../../../Phylogeny/s215/target_only_01/RAxML_bipartitions.s215_consensus_target_only_1.nobranchlenghts.nwk .\n",
    "cp ../../../../Phylogeny/s215/target_only_01/RAxML_bipartitions.s215_consensus_target_only_1.rooted_branchlenghts.nwk .\n",
    "\n",
    "cp ../hemoglobin-subunit-beta_full_consensus_target_only_01.nex ."
   ]
  },
  {
   "cell_type": "markdown",
   "metadata": {},
   "source": [
    "The M0 model uses a single omega value across all sites in the alignment, in other words the M0 model assumes neutrality."
   ]
  },
  {
   "cell_type": "code",
   "execution_count": 33,
   "metadata": {
    "collapsed": true
   },
   "outputs": [],
   "source": [
    "mkdir M0"
   ]
  },
  {
   "cell_type": "code",
   "execution_count": 167,
   "metadata": {
    "collapsed": false
   },
   "outputs": [
    {
     "name": "stdout",
     "output_type": "stream",
     "text": [
      "/home/chrishah/WORKING/Diplotaxodon/per_gene/Hemoglobin-subunit-beta/target_only_01/PAML/M0\n"
     ]
    }
   ],
   "source": [
    "cd M0/"
   ]
  },
  {
   "cell_type": "code",
   "execution_count": 36,
   "metadata": {
    "collapsed": false
   },
   "outputs": [],
   "source": [
    "!cp ../codeml.template.ctl codeml.ctl"
   ]
  },
  {
   "cell_type": "markdown",
   "metadata": {},
   "source": [
    "Modify codeml control file."
   ]
  },
  {
   "cell_type": "code",
   "execution_count": 38,
   "metadata": {
    "collapsed": false
   },
   "outputs": [
    {
     "name": "stdout",
     "output_type": "stream",
     "text": [
      "       seqfile = ../hemoglobin-subunit-beta_full_consensus_target_only.nex          * sequence data filename\r\n",
      "\r\n",
      "     treefile = ../RAxML_bipartitions.s215_consensus_target_only_1.nobranchlenghts.nwk      * SET THIS for tree file with ML branch lengths under M0\r\n",
      "\r\n",
      "      outfile = results.txt           * main result file name\r\n",
      "        noisy = 9                     * lots of rubbish on the screen\r\n",
      "      verbose = 1                     * detailed output\r\n",
      "      runmode = 0                     * user defined tree\r\n",
      "      seqtype = 1                     * codons\r\n",
      "    CodonFreq = 2                     * F3X4 for codon ferquencies\r\n",
      "        model = 0                     * one omega ratio for all branches\r\n",
      "\r\n",
      "     NSsites = 0                     * SET THIS for M0\r",
      "\r\n",
      "    * NSsites = 1                     * SET THIS for M1\r",
      "\r\n",
      "    * NSsites = 2                     * SET THIS for M2\r",
      "\r\n",
      "    * NSsites = 3                     * SET THIS for M3\r\n",
      "    * NSsites = 7                     * SET THIS for M7\r",
      "\r\n",
      "    * NSsites = 8                     * SET THIS for M8\r\n",
      "\r\n",
      "        icode = 0                     * universal code\r\n",
      "    fix_kappa = 0                     * kappa fixed\r\n",
      "       kappa = 2               \t      * SET THIS to fix kappa at MLE under M0\r\n",
      "\r\n",
      "    fix_omega = 0                     * omega to be estimated \r\n",
      "        omega = 0.5                     * initial omega\r\n",
      "\r\n",
      "      * ncatG = 3                     * SET THIS for 3 site categories under M3         \r\n",
      "      * ncatG = 10                    * SET THIS for 10 of site categories under M7 and M8\r\n",
      "\r\n",
      "  fix_blength = 0                     * fixed branch lengths from tree file\r\n",
      "  cleandata = 0                       * remove sites with ambiguity data (1: yes, 0:no)?\r\n"
     ]
    }
   ],
   "source": [
    "!cat codeml.ctl"
   ]
  },
  {
   "cell_type": "markdown",
   "metadata": {},
   "source": [
    "Run PAML."
   ]
  },
  {
   "cell_type": "code",
   "execution_count": 40,
   "metadata": {
    "collapsed": false
   },
   "outputs": [
    {
     "name": "stdout",
     "output_type": "stream",
     "text": [
      "\r\n",
      " 15         verbose | verbose                1.00\r\n",
      "  7         runmode | runmode                0.00\r\n",
      "  4         seqtype | seqtype                1.00\r\n",
      " 13       CodonFreq | CodonFreq              2.00\r\n",
      " 16           model | model                  0.00\r\n",
      " 20         NSsites | NSsites                0.00\r\n",
      " 22           icode | icode                  0.00\r\n",
      " 24       fix_kappa | fix_kappa              0.00\r\n",
      " 25           kappa | kappa                  2.00\r\n",
      " 26       fix_omega | fix_omega              0.00\r\n",
      " 27           omega | omega                  0.50\r\n",
      " 37     fix_blength | fix_blength            0.00\r\n",
      "  6       cleandata | cleandata              0.00\r\n",
      "CODONML in paml version 4.8a, August 2014\r\n",
      "\r\n",
      "----------------------------------------------\r\n",
      "Phe F TTT | Ser S TCT | Tyr Y TAT | Cys C TGT\r\n",
      "      TTC |       TCC |       TAC |       TGC\r\n",
      "Leu L TTA |       TCA | *** * TAA | *** * TGA\r\n",
      "      TTG |       TCG |       TAG | Trp W TGG\r\n",
      "----------------------------------------------\r\n",
      "Leu L CTT | Pro P CCT | His H CAT | Arg R CGT\r\n",
      "      CTC |       CCC |       CAC |       CGC\r\n",
      "      CTA |       CCA | Gln Q CAA |       CGA\r\n",
      "      CTG |       CCG |       CAG |       CGG\r\n",
      "----------------------------------------------\r\n",
      "Ile I ATT | Thr T ACT | Asn N AAT | Ser S AGT\r\n",
      "      ATC |       ACC |       AAC |       AGC\r\n",
      "      ATA |       ACA | Lys K AAA | Arg R AGA\r\n",
      "Met M ATG |       ACG |       AAG |       AGG\r\n",
      "----------------------------------------------\r\n",
      "Val V GTT | Ala A GCT | Asp D GAT | Gly G GGT\r\n",
      "      GTC |       GCC |       GAC |       GGC\r\n",
      "      GTA |       GCA | Glu E GAA |       GGA\r\n",
      "      GTG |       GCG |       GAG |       GGG\r\n",
      "----------------------------------------------\r\n",
      "Nice code, uuh?\r\n",
      "\r\n",
      "\r\n",
      "Ambiguity character definition table:\r\n",
      "\r\n",
      "T (1): T \r\n",
      "C (1): C \r\n",
      "A (1): A \r\n",
      "G (1): G \r\n",
      "U (1): T \r\n",
      "Y (2): T C \r\n",
      "R (2): A G \r\n",
      "M (2): C A \r\n",
      "K (2): T G \r\n",
      "S (2): C G \r\n",
      "W (2): T A \r\n",
      "H (3): T C A \r\n",
      "B (3): T C G \r\n",
      "V (3): C A G \r\n",
      "D (3): T A G \r\n",
      "- (4): T C A G \r\n",
      "N (4): T C A G \r\n",
      "? (4): T C A G \r\n",
      "\r\n",
      "seq file is not paml/phylip format.  Trying nexus format.\r\n",
      "ns = 49  \tls = 444\r\n",
      "Reading sequences, sequential format..\r\n",
      "Reading seq # 1: Nimbochromis_polystigma     \r",
      "Reading seq # 2: Buccochromis_nototaenia     \r",
      "Reading seq # 3: Cynotilapia_afra     \r",
      "Reading seq # 4: Lethrinops_gossei     \r",
      "Reading seq # 5: Nimbochromis_livingstoni     \r",
      "Reading seq # 6: Aulonocara_yellow     \r",
      "Reading seq # 7: Diplotaxodon_greenwoodi     \r",
      "Reading seq # 8: Diplotaxodon_limnothrissa     \r",
      "Reading seq # 9: Placidochromis_johnstoni     \r",
      "Reading seq #10: Buccochromis_rhoadesii     \r",
      "Reading seq #11: Diplotaxodon_white_back_similis     \r",
      "Reading seq #12: Alticorpus_macrocleithrum     \r",
      "Reading seq #13: Nimbochromis_linni     \r",
      "Reading seq #14: Chilotilapia_rhoadesii_1     \r",
      "Reading seq #15: Mylochromis_anaphyrmus     \r",
      "Reading seq #16: Placidochromis_longimanus_1     \r",
      "Reading seq #17: Dimidiochromis_dimidiatus     \r",
      "Reading seq #18: Aulonocara_minutus     \r",
      "Reading seq #19: Cynotilapia_axelrodi     \r",
      "Reading seq #20: Otopharynx_speciosus_1     \r",
      "Reading seq #21: Diplotaxodon_macrops     \r",
      "Reading seq #22: Tyrannochromis_nigriventer     \r",
      "Reading seq #23: Lethrinops_longimanus_redhead     \r",
      "Reading seq #24: Copadichromis_quadrimaculatus     \r",
      "Reading seq #25: Astatotilapia_tweddlei     \r",
      "Reading seq #26: Tropheops_tropheops     \r",
      "Reading seq #27: Lethrinops_sp_oliveri     \r",
      "Reading seq #28: Lethrinops_auritus     \r",
      "Reading seq #29: Taeniolethrinops_furcicauda     \r",
      "Reading seq #30: Alticorpus_geoffreyi     \r",
      "Reading seq #31: Iodotropheus_sprengerae     \r",
      "Reading seq #32: Otopharynx_lithobates     \r",
      "Reading seq #33: Dimidiochromis_strigatus     \r",
      "Reading seq #34: Labeotropheus_trewavasae     \r",
      "Reading seq #35: Copadichromis_virginalis     \r",
      "Reading seq #36: Ctenopharynx_intermedius_1     \r",
      "Reading seq #37: Genyochromis_mento     \r",
      "Reading seq #38: Diplotaxodon_ngulube     \r",
      "Reading seq #39: Lethrinops_lethrinus     \r",
      "Reading seq #40: Ctenopharynx_nitidus     \r",
      "Reading seq #41: Metriaclima_zebra     \r",
      "Reading seq #42: Petrotilapia_genalutea     \r",
      "Reading seq #43: Dimidiochromis_compressiceps     \r",
      "Reading seq #44: Diplotaxodon_macrops_black_dorsal ATGGTTGAGTGGAGCG     \r",
      "\r\n",
      "Error in sequence data file: L at 431 seq 44.\r\n",
      "Make sure to separate the sequence from its name by 2 or more spaces.\r\n"
     ]
    }
   ],
   "source": [
    "!~/src/PAML/paml4.8/bin/codeml codeml.ctl"
   ]
  },
  {
   "cell_type": "markdown",
   "metadata": {},
   "source": [
    "File format issues (see above). Insert second space after D. macrops black dorsal."
   ]
  },
  {
   "cell_type": "code",
   "execution_count": 168,
   "metadata": {
    "collapsed": false
   },
   "outputs": [],
   "source": [
    "!sed -i 's/Diplotaxodon_macrops_black_dorsal /Diplotaxodon_macrops_black_dorsal  /' ../hemoglobin-subunit-beta_full_consensus_target_only_01.nex"
   ]
  },
  {
   "cell_type": "markdown",
   "metadata": {},
   "source": [
    "Run PAML."
   ]
  },
  {
   "cell_type": "code",
   "execution_count": null,
   "metadata": {
    "collapsed": true
   },
   "outputs": [],
   "source": [
    "!~/src/PAML/paml4.8/bin/codeml codeml.ctl #was actually run in the shell because the user was required to confirm with enter"
   ]
  },
  {
   "cell_type": "markdown",
   "metadata": {},
   "source": [
    "Extract the log likelihood for model M0 from the result."
   ]
  },
  {
   "cell_type": "code",
   "execution_count": 51,
   "metadata": {
    "collapsed": false
   },
   "outputs": [
    {
     "name": "stdout",
     "output_type": "stream",
     "text": [
      "lnL(ntime: 96  np: 98):   -735.885011      +0.000000\r\n"
     ]
    }
   ],
   "source": [
    "!cat results.txt | grep \"lnL\""
   ]
  },
  {
   "cell_type": "code",
   "execution_count": 169,
   "metadata": {
    "collapsed": false
   },
   "outputs": [
    {
     "name": "stdout",
     "output_type": "stream",
     "text": [
      "/home/chrishah/WORKING/Diplotaxodon/per_gene/Hemoglobin-subunit-beta/target_only_01/PAML\n"
     ]
    }
   ],
   "source": [
    "cd .."
   ]
  },
  {
   "cell_type": "markdown",
   "metadata": {},
   "source": [
    "The M1a model allows for a fraction of sites with ω < 1 and a fraction with ω = 1."
   ]
  },
  {
   "cell_type": "code",
   "execution_count": 44,
   "metadata": {
    "collapsed": false
   },
   "outputs": [],
   "source": [
    "mkdir M1a"
   ]
  },
  {
   "cell_type": "code",
   "execution_count": 55,
   "metadata": {
    "collapsed": false
   },
   "outputs": [
    {
     "name": "stdout",
     "output_type": "stream",
     "text": [
      "/home/chrishah/WORKING/Diplotaxodon/per_gene/Hemoglobin-subunit-beta/target_only_01/PAML/M1a\n"
     ]
    }
   ],
   "source": [
    "cd M1a/"
   ]
  },
  {
   "cell_type": "code",
   "execution_count": 46,
   "metadata": {
    "collapsed": true
   },
   "outputs": [],
   "source": [
    "!cp ../codeml.template.ctl codeml.ctl"
   ]
  },
  {
   "cell_type": "code",
   "execution_count": null,
   "metadata": {
    "collapsed": true
   },
   "outputs": [],
   "source": [
    "!~/src/PAML/paml4.8/bin/codeml codeml.ctl #was actually run in the shell because the user was required to confirm with enter"
   ]
  },
  {
   "cell_type": "markdown",
   "metadata": {},
   "source": [
    "Extract the log likelihood for model M1 from the result."
   ]
  },
  {
   "cell_type": "code",
   "execution_count": 58,
   "metadata": {
    "collapsed": false
   },
   "outputs": [
    {
     "name": "stdout",
     "output_type": "stream",
     "text": [
      "lnL(ntime: 96  np: 99):   -730.781871      +0.000000\r\n"
     ]
    }
   ],
   "source": [
    "!cat results.txt | grep \"lnL\""
   ]
  },
  {
   "cell_type": "code",
   "execution_count": 59,
   "metadata": {
    "collapsed": false
   },
   "outputs": [
    {
     "name": "stdout",
     "output_type": "stream",
     "text": [
      "/home/chrishah/WORKING/Diplotaxodon/per_gene/Hemoglobin-subunit-beta/target_only_01/PAML\n"
     ]
    }
   ],
   "source": [
    "cd .."
   ]
  },
  {
   "cell_type": "markdown",
   "metadata": {},
   "source": [
    "Model M0 is nested within model M1, so we can use the likelihood ratio test (LRT) to compare these two models. \n",
    "\n",
    "The LRT statistic is χ2 = 2×(lnLM1 - lnLM0). \n",
    "\n",
    "The degrees of freedom are k = npM1 - npM1. \n",
    "\n",
    "We can use the CHI2 program from the PAML package to assess whether the value χ2 at certain degrees of freedom k is statistically significant."
   ]
  },
  {
   "cell_type": "code",
   "execution_count": 86,
   "metadata": {
    "collapsed": false
   },
   "outputs": [
    {
     "name": "stdout",
     "output_type": "stream",
     "text": [
      "deltaLRT = 10.21\n",
      "degrees of freedom: 1\n",
      "\n",
      "df =  1  prob = 0.001396812 = 1.397e-03\n",
      "\n"
     ]
    }
   ],
   "source": [
    "%%bash\n",
    "\n",
    "H0_file='M0/results.txt'\n",
    "H1_file='M1a/results.txt'\n",
    "\n",
    "dfM0=$(cat $H0_file | grep \"lnL\" | perl -ne 'chomp; @a=split(\" \"); $out=$a[-3]; $out =~ s/\\)\\://; $out =~ s/np\\://; print \"$out\\n\"')\n",
    "dfM1=$(cat $H1_file | grep \"lnL\" | perl -ne 'chomp; @a=split(\" \"); $out=$a[-3]; $out =~ s/\\)\\://; $out =~ s/np\\://; print \"$out\\n\"')\n",
    "\n",
    "lnLM0=$(cat $H0_file | grep \"lnL\" | perl -ne 'chomp; @a=split(\" \"); $out=$a[4]; print \"$out\\n\"')\n",
    "lnLM1=$(cat $H1_file | grep \"lnL\" | perl -ne 'chomp; @a=split(\" \"); $out=$a[4]; print \"$out\\n\"')\n",
    "\n",
    "k=$(($dfM1-$dfM0))\n",
    "\n",
    "\n",
    "dLRT=$(echo -e \"$lnLM0 $lnLM1\" | perl -ne 'chomp; @a=split(\" \"); $LRT=2*($a[1]-$a[0]); $out=sprintf(\"%.2f\",$LRT); print \"$out\\n\"')\n",
    "\n",
    "echo -e \"deltaLRT = $dLRT\"\n",
    "echo -e \"degrees of freedom: $k\"\n",
    "\n",
    "/home/chrishah/src/PAML/paml4.8/bin/chi2 $k $dLRT"
   ]
  },
  {
   "cell_type": "markdown",
   "metadata": {},
   "source": [
    "The chi2 value from the above comparison is statstically significant at the significance level alpha=0.05. Therefore the inclusion of a class of neutral sites with ω = 1 is statistically justified and we can move on to test for positive selection."
   ]
  },
  {
   "cell_type": "markdown",
   "metadata": {},
   "source": [
    "Model M2a allows for a third class of sites with ω > 1."
   ]
  },
  {
   "cell_type": "code",
   "execution_count": 87,
   "metadata": {
    "collapsed": true
   },
   "outputs": [],
   "source": [
    "mkdir M2a"
   ]
  },
  {
   "cell_type": "code",
   "execution_count": 88,
   "metadata": {
    "collapsed": false
   },
   "outputs": [
    {
     "name": "stdout",
     "output_type": "stream",
     "text": [
      "/home/chrishah/WORKING/Diplotaxodon/per_gene/Hemoglobin-subunit-beta/target_only_01/PAML/M2a\n"
     ]
    }
   ],
   "source": [
    "cd M2a/"
   ]
  },
  {
   "cell_type": "code",
   "execution_count": 89,
   "metadata": {
    "collapsed": true
   },
   "outputs": [],
   "source": [
    "cp ../codeml.template.ctl codeml.ctl"
   ]
  },
  {
   "cell_type": "code",
   "execution_count": null,
   "metadata": {
    "collapsed": true
   },
   "outputs": [],
   "source": [
    "!~/src/PAML/paml4.8/bin/codeml codeml.ctl #was actually run in the shell because the user was required to confirm with enter"
   ]
  },
  {
   "cell_type": "markdown",
   "metadata": {},
   "source": [
    "Extract the log likelihood for model M2 from the result."
   ]
  },
  {
   "cell_type": "code",
   "execution_count": 92,
   "metadata": {
    "collapsed": false
   },
   "outputs": [
    {
     "name": "stdout",
     "output_type": "stream",
     "text": [
      "lnL(ntime: 96  np:101):   -711.565307      +0.000000\r\n"
     ]
    }
   ],
   "source": [
    "!cat results.txt | grep \"lnL\""
   ]
  },
  {
   "cell_type": "code",
   "execution_count": null,
   "metadata": {
    "collapsed": true
   },
   "outputs": [],
   "source": []
  },
  {
   "cell_type": "code",
   "execution_count": 93,
   "metadata": {
    "collapsed": false
   },
   "outputs": [
    {
     "name": "stdout",
     "output_type": "stream",
     "text": [
      "/home/chrishah/WORKING/Diplotaxodon/per_gene/Hemoglobin-subunit-beta/target_only_01/PAML\n"
     ]
    }
   ],
   "source": [
    "cd .."
   ]
  },
  {
   "cell_type": "markdown",
   "metadata": {},
   "source": [
    "Model M1 is nested within model M2, so we can use the likelihood ratio test (LRT) to compare these two models. \n",
    "\n",
    "The LRT statistic is χ2 = 2×(lnLM2 - lnLM1). \n",
    "\n",
    "The degrees of freedom are k = npM2 - npM1. \n",
    "\n",
    "We can use the CHI2 program from the PAML package to assess whether the value χ2 at certain degrees of freedom k is statistically significant."
   ]
  },
  {
   "cell_type": "code",
   "execution_count": 105,
   "metadata": {
    "collapsed": false
   },
   "outputs": [
    {
     "name": "stdout",
     "output_type": "stream",
     "text": [
      "deltaLRT = 38.43\n",
      "degrees of freedom: 2\n",
      "\n",
      "df =  2  prob = 0.000000005 = 4.519e-09\n",
      "\n"
     ]
    }
   ],
   "source": [
    "%%bash\n",
    "\n",
    "H0_file='M1a/results.txt'\n",
    "H1_file='M2a/results.txt'\n",
    "\n",
    "dfM0=$(cat $H0_file | grep \"lnL\" | perl -ne 'chomp; @a=split(\" \"); $out=$a[-3]; $out =~ s/\\)\\://; $out =~ s/np\\://; print \"$out\\n\"')\n",
    "dfM1=$(cat $H1_file | grep \"lnL\" | perl -ne 'chomp; @a=split(\" \"); $out=$a[-3]; $out =~ s/\\)\\://; $out =~ s/np\\://; print \"$out\\n\"')\n",
    "\n",
    "lnLM0=$(cat $H0_file | grep \"lnL\" | perl -ne 'chomp; @a=split(\" \"); $out=$a[-2]; print \"$out\\n\"')\n",
    "lnLM1=$(cat $H1_file | grep \"lnL\" | perl -ne 'chomp; @a=split(\" \"); $out=$a[-2]; print \"$out\\n\"')\n",
    "\n",
    "k=$(($dfM1-$dfM0))\n",
    "dLRT=$(echo -e \"$lnLM0 $lnLM1\" | perl -ne 'chomp; @a=split(\" \"); $LRT=2*($a[1]-$a[0]); $out=sprintf(\"%.2f\",$LRT); print \"$out\\n\"')\n",
    "\n",
    "echo -e \"deltaLRT = $dLRT\"\n",
    "echo -e \"degrees of freedom: $k\"\n",
    "\n",
    "/home/chrishah/src/PAML/paml4.8/bin/chi2 $k $dLRT"
   ]
  },
  {
   "cell_type": "markdown",
   "metadata": {},
   "source": [
    "The test statistic is highly significant, so the model M2a fits the data better, which means we've got a signature of positive selection.\n",
    "\n",
    "CODEML will perform Bayesian identification of codon sites (columns in the alignment) that are under positive selection. We will look at the results from the Bayes empirical Bayes (BEB) method in the results file of the model M2a.\n",
    "\n",
    "Bayesian identification of codon sites (columns in the\n",
    "alignment) that are under positive selection"
   ]
  },
  {
   "cell_type": "code",
   "execution_count": 109,
   "metadata": {
    "collapsed": false
   },
   "outputs": [
    {
     "name": "stdout",
     "output_type": "stream",
     "text": [
      "Bayes Empirical Bayes (BEB) analysis (Yang, Wong & Nielsen 2005. Mol. Biol. Evol. 22:1107-1118)\r\n",
      "Positively selected sites (*: P>95%; **: P>99%)\r\n",
      "(amino acids refer to 1st sequence: Nimbochromis_polystigma)\r\n",
      "\r\n",
      "            Pr(w>1)     post mean +- SE for w\r\n",
      "\r\n",
      "    18 N      0.960*        9.530 +- 1.973\r\n",
      "    24 I      0.997**       9.865 +- 1.012\r\n",
      "    28 A      0.974*        9.654 +- 1.693\r\n",
      "    34 I      0.673         6.901 +- 4.337\r\n",
      "    44 T      1.000**       9.886 +- 0.917\r\n",
      "    70 H      0.708         7.219 +- 4.213\r\n",
      "    74 R      0.735         7.470 +- 4.096\r\n",
      "   115 V      0.765         7.744 +- 3.945\r\n",
      "   127 V      0.997**       9.866 +- 1.012\r\n",
      "   129 A      0.974*        9.656 +- 1.688\r\n",
      "   135 L      0.972*        9.642 +- 1.723\r\n",
      "\r\n",
      "\r\n",
      "\r\n"
     ]
    }
   ],
   "source": [
    "!cat M2a/results.txt | grep \"BEB\" -A 19"
   ]
  },
  {
   "cell_type": "markdown",
   "metadata": {},
   "source": [
    "## Statistical tests of adaptive evolution among sites and lineages (branch-site models)."
   ]
  },
  {
   "cell_type": "markdown",
   "metadata": {},
   "source": [
    "We'll test if positive selection acts at the branch separating D. limnothrissa from the remainder of the Diplotaxodon species."
   ]
  },
  {
   "cell_type": "code",
   "execution_count": 110,
   "metadata": {
    "collapsed": true
   },
   "outputs": [],
   "source": [
    "!mkdir branch-site"
   ]
  },
  {
   "cell_type": "code",
   "execution_count": 112,
   "metadata": {
    "collapsed": false
   },
   "outputs": [
    {
     "name": "stdout",
     "output_type": "stream",
     "text": [
      "/home/chrishah/WORKING/Diplotaxodon/per_gene/Hemoglobin-subunit-beta/target_only_01/PAML/branch-site\n"
     ]
    }
   ],
   "source": [
    "cd branch-site/"
   ]
  },
  {
   "cell_type": "markdown",
   "metadata": {},
   "source": [
    "Get tree and indicate the branch to be tested."
   ]
  },
  {
   "cell_type": "code",
   "execution_count": 114,
   "metadata": {
    "collapsed": false
   },
   "outputs": [],
   "source": [
    "!cp ../../../../../Phylogeny/s215/target_only_01/RAxML_bipartitions.s215_consensus_target_only_1.nobranchlenghts.nwk test.tree.nwk"
   ]
  },
  {
   "cell_type": "markdown",
   "metadata": {},
   "source": [
    "Indicate the branch to be tested with '#1' in the tree."
   ]
  },
  {
   "cell_type": "code",
   "execution_count": 115,
   "metadata": {
    "collapsed": false
   },
   "outputs": [
    {
     "name": "stdout",
     "output_type": "stream",
     "text": [
      "(Astatotilapia_tweddlei,((Cynotilapia_afra,(Labeotropheus_trewavasae,(Genyochromis_mento,(Cynotilapia_axelrodi,(Tropheops_tropheops,((Petrotilapia_genalutea,Metriaclima_zebra),Iodotropheus_sprengerae)))))),((Diplotaxodon_limnothrissa,(Diplotaxodon_macrops,(Diplotaxodon_macrops_black_dorsal,((Diplotaxodon_greenwoodi,Pallidochromis_tokolosh),(Diplotaxodon_ngulube,Diplotaxodon_white_back_similis)))#1)),((Lethrinops_gossei,(Alticorpus_geoffreyi,((Aulonocara_minutus,(Lethrinops_sp_oliveri,(Lethrinops_longimanus_redhead,Aulonocara_yellow))),Alticorpus_macrocleithrum))),(Aulonocara_steveni,((Copadichromis_quadrimaculatus,(Copadichromis_trimaculatus,Copadichromis_virginalis)),(Mylochromis_anaphyrmus,(((Buccochromis_nototaenia,Buccochromis_rhoadesii),(Ctenopharynx_nitidus,Ctenopharynx_intermedius_1)),(((Placidochromis_longimanus_1,(Otopharynx_speciosus_1,(Taeniolethrinops_furcicauda,Stigmatochromis_guttatus))),Otopharynx_lithobates),((Placidochromis_johnstoni,Chilotilapia_rhoadesii_1),((Tyrannochromis_nigriventer,Lethrinops_auritus),((Lethrinops_albus,Lethrinops_lethrinus),((Nimbochromis_linni,(Nimbochromis_polystigma,Nimbochromis_livingstoni)),((Dimidiochromis_dimidiatus,Dimidiochromis_compressiceps),Dimidiochromis_strigatus))))))))))))));\r\n"
     ]
    }
   ],
   "source": [
    "!cat test.tree.nwk"
   ]
  },
  {
   "cell_type": "markdown",
   "metadata": {},
   "source": [
    "Get control file and set up to run H0. \n",
    "\n",
    "This will run the null model of the branch-site test of positive selection. We allow ω to vary among sites, but we have a fixed class of sites where ω = 1 for the background and foreground (the P. falciparum) branches. No sites with ω > 1 are allowed. "
   ]
  },
  {
   "cell_type": "code",
   "execution_count": 123,
   "metadata": {
    "collapsed": false
   },
   "outputs": [
    {
     "name": "stdout",
     "output_type": "stream",
     "text": [
      "mkdir: cannot create directory ‘H0’: File exists\r\n"
     ]
    }
   ],
   "source": [
    "!mkdir H0"
   ]
  },
  {
   "cell_type": "code",
   "execution_count": 124,
   "metadata": {
    "collapsed": false
   },
   "outputs": [
    {
     "name": "stdout",
     "output_type": "stream",
     "text": [
      "/home/chrishah/WORKING/Diplotaxodon/per_gene/Hemoglobin-subunit-beta/target_only_01/PAML/branch-site/H0\n"
     ]
    }
   ],
   "source": [
    "cd H0"
   ]
  },
  {
   "cell_type": "code",
   "execution_count": 116,
   "metadata": {
    "collapsed": true
   },
   "outputs": [],
   "source": [
    "!cp ../../codeml.template.ctl codeml-H0.ctl"
   ]
  },
  {
   "cell_type": "code",
   "execution_count": 125,
   "metadata": {
    "collapsed": false
   },
   "outputs": [
    {
     "name": "stdout",
     "output_type": "stream",
     "text": [
      "       seqfile = ../hemoglobin-subunit-beta_full_consensus_target_only_01.nex          * sequence data filename\r\n",
      "\r\n",
      "     treefile = ../test.tree.nwk      * SET THIS for tree file with ML branch lengths under M0\r\n",
      "\r\n",
      "      outfile = results-H0.txt           * main result file name\r\n",
      "        noisy = 9                     * lots of rubbish on the screen\r\n",
      "      verbose = 1                     * detailed output\r\n",
      "      runmode = 0                     * user defined tree\r\n",
      "      seqtype = 1                     * codons\r\n",
      "    CodonFreq = 2                     * F3X4 for codon ferquencies\r\n",
      "        model = 2                     * 2 or more dN/dS ratios for branches\r\n",
      "\r\n",
      "    * NSsites = 0                     * SET THIS for M0\r",
      "\r\n",
      "    * NSsites = 1                     * SET THIS for M1\r",
      "\r\n",
      "     NSsites = 2                     * SET THIS for M2\r",
      "\r\n",
      "    * NSsites = 3                     * SET THIS for M3\r\n",
      "    * NSsites = 7                     * SET THIS for M7\r",
      "\r\n",
      "    * NSsites = 8                     * SET THIS for M8\r\n",
      "\r\n",
      "        icode = 0                     * universal code\r\n",
      "    fix_kappa = 0                     * kappa fixed\r\n",
      "       kappa = 2               \t      * SET THIS to fix kappa at MLE under M0\r\n",
      "\r\n",
      "    fix_omega = 1                     * omega fixed \r\n",
      "        omega = 1                     * initial omega\r\n",
      "\r\n",
      "      * ncatG = 3                     * SET THIS for 3 site categories under M3         \r\n",
      "      * ncatG = 10                    * SET THIS for 10 of site categories under M7 and M8\r\n",
      "\r\n",
      "  fix_blength = 0                     * fixed branch lengths from tree file\r\n",
      "  cleandata = 0                       * remove sites with ambiguity data (1: yes, 0:no)?\r\n"
     ]
    }
   ],
   "source": [
    "!cat codeml-H0.ctl"
   ]
  },
  {
   "cell_type": "code",
   "execution_count": null,
   "metadata": {
    "collapsed": true
   },
   "outputs": [],
   "source": [
    "!~/src/PAML/paml4.8/bin/codeml codeml-H0.ctl #was actually run in the shell because the user was required to confirm with enter"
   ]
  },
  {
   "cell_type": "code",
   "execution_count": 126,
   "metadata": {
    "collapsed": false
   },
   "outputs": [
    {
     "name": "stdout",
     "output_type": "stream",
     "text": [
      "/home/chrishah/WORKING/Diplotaxodon/per_gene/Hemoglobin-subunit-beta/target_only_01/PAML/branch-site\n"
     ]
    }
   ],
   "source": [
    "cd .."
   ]
  },
  {
   "cell_type": "markdown",
   "metadata": {},
   "source": [
    "Prepare control file for H1.\n",
    "\n"
   ]
  },
  {
   "cell_type": "code",
   "execution_count": 127,
   "metadata": {
    "collapsed": false
   },
   "outputs": [
    {
     "name": "stdout",
     "output_type": "stream",
     "text": [
      "mkdir: cannot create directory ‘H1’: File exists\r\n"
     ]
    }
   ],
   "source": [
    "mkdir H1"
   ]
  },
  {
   "cell_type": "code",
   "execution_count": 128,
   "metadata": {
    "collapsed": false
   },
   "outputs": [
    {
     "name": "stdout",
     "output_type": "stream",
     "text": [
      "/home/chrishah/WORKING/Diplotaxodon/per_gene/Hemoglobin-subunit-beta/target_only_01/PAML/branch-site/H1\n"
     ]
    }
   ],
   "source": [
    "cd H1/"
   ]
  },
  {
   "cell_type": "code",
   "execution_count": 119,
   "metadata": {
    "collapsed": true
   },
   "outputs": [],
   "source": [
    "!cp ../H0/codeml-H0.ctl codeml-H1.ctl"
   ]
  },
  {
   "cell_type": "markdown",
   "metadata": {},
   "source": [
    "We now allow ω > 1 for some sites in the foreground branch, but ω = 1 for the same sites in the background branch. \n",
    "\n",
    "For the control file this means that we need to change the value for 'fix_omega' to 'fix_omega=0'. With model=2.  'omega=1' specifies the omega in the background branches, i.e. the branches of the tree 'above' the branch to be tested. via 'fix_omega=0' we specify that the omega in the background branch can differ from the initial omega and should be estimated.\n",
    "\n",
    "Also we'll make sure to write the result into a different file."
   ]
  },
  {
   "cell_type": "code",
   "execution_count": 129,
   "metadata": {
    "collapsed": false
   },
   "outputs": [
    {
     "name": "stdout",
     "output_type": "stream",
     "text": [
      "       seqfile = ../../hemoglobin-subunit-beta_full_consensus_target_only_01.nex          * sequence data filename\r\n",
      "\r\n",
      "     treefile = ../test.tree.nwk      * SET THIS for tree file with ML branch lengths under M0\r\n",
      "\r\n",
      "      outfile = results-H1.txt           * main result file name\r\n",
      "        noisy = 9                     * lots of rubbish on the screen\r\n",
      "      verbose = 1                     * detailed output\r\n",
      "      runmode = 0                     * user defined tree\r\n",
      "      seqtype = 1                     * codons\r\n",
      "    CodonFreq = 2                     * F3X4 for codon ferquencies\r\n",
      "        model = 2                     * 2 or more dN/dS ratios for branches\r\n",
      "\r\n",
      "    * NSsites = 0                     * SET THIS for M0\r",
      "\r\n",
      "    * NSsites = 1                     * SET THIS for M1\r",
      "\r\n",
      "     NSsites = 2                     * SET THIS for M2\r",
      "\r\n",
      "    * NSsites = 3                     * SET THIS for M3\r\n",
      "    * NSsites = 7                     * SET THIS for M7\r",
      "\r\n",
      "    * NSsites = 8                     * SET THIS for M8\r\n",
      "\r\n",
      "        icode = 0                     * universal code\r\n",
      "    fix_kappa = 0                     * kappa fixed\r\n",
      "       kappa = 2               \t      * SET THIS to fix kappa at MLE under M0\r\n",
      "\r\n",
      "    fix_omega = 0                     * omega_1, omega at the foreground branch. 0=estimate omega for sites in the foreground branch 1=omega is fixed so that omega_1(foreground branch) = omega (background branch)\r\n",
      "        omega = 1                     * fixed omega in the background branch\r\n",
      "\r\n",
      "      * ncatG = 3                     * SET THIS for 3 site categories under M3         \r\n",
      "      * ncatG = 10                    * SET THIS for 10 of site categories under M7 and M8\r\n",
      "\r\n",
      "  fix_blength = 0                     * fixed branch lengths from tree file\r\n",
      "  cleandata = 0                       * remove sites with ambiguity data (1: yes, 0:no)?\r\n"
     ]
    }
   ],
   "source": [
    "!cat codeml-H1.ctl"
   ]
  },
  {
   "cell_type": "code",
   "execution_count": null,
   "metadata": {
    "collapsed": true
   },
   "outputs": [],
   "source": [
    "!~/src/PAML/paml4.8/bin/codeml codeml-H1.ctl #was actually run in the shell because the user was required to confirm with enter"
   ]
  },
  {
   "cell_type": "code",
   "execution_count": 130,
   "metadata": {
    "collapsed": false
   },
   "outputs": [
    {
     "name": "stdout",
     "output_type": "stream",
     "text": [
      "/home/chrishah/WORKING/Diplotaxodon/per_gene/Hemoglobin-subunit-beta/target_only_01/PAML/branch-site\n"
     ]
    }
   ],
   "source": [
    "cd .."
   ]
  },
  {
   "cell_type": "markdown",
   "metadata": {},
   "source": [
    "Perform LRT between the results from the two runs."
   ]
  },
  {
   "cell_type": "code",
   "execution_count": 131,
   "metadata": {
    "collapsed": false
   },
   "outputs": [
    {
     "name": "stdout",
     "output_type": "stream",
     "text": [
      "deltaLRT = 0.00\n",
      "degrees of freedom: 1\n",
      "\n",
      "df =  1  prob = 1.000000000 = 1.000e+00\n",
      "\n"
     ]
    }
   ],
   "source": [
    "%%bash\n",
    "\n",
    "H0_file='H0/results-H0.txt'\n",
    "H1_file='H1/results-H1.txt'\n",
    "\n",
    "dfM0=$(cat $H0_file | grep \"lnL\" | perl -ne 'chomp; @a=split(\" \"); $out=$a[-3]; $out =~ s/\\)\\://; $out =~ s/np\\://; print \"$out\\n\"')\n",
    "dfM1=$(cat $H1_file | grep \"lnL\" | perl -ne 'chomp; @a=split(\" \"); $out=$a[-3]; $out =~ s/\\)\\://; $out =~ s/np\\://; print \"$out\\n\"')\n",
    "\n",
    "lnLM0=$(cat $H0_file | grep \"lnL\" | perl -ne 'chomp; @a=split(\" \"); $out=$a[-2]; print \"$out\\n\"')\n",
    "lnLM1=$(cat $H1_file | grep \"lnL\" | perl -ne 'chomp; @a=split(\" \"); $out=$a[-2]; print \"$out\\n\"')\n",
    "\n",
    "k=$(($dfM1-$dfM0))\n",
    "dLRT=$(echo -e \"$lnLM0 $lnLM1\" | perl -ne 'chomp; @a=split(\" \"); $LRT=2*($a[1]-$a[0]); $out=sprintf(\"%.2f\",$LRT); print \"$out\\n\"')\n",
    "\n",
    "echo -e \"deltaLRT = $dLRT\"\n",
    "echo -e \"degrees of freedom: $k\"\n",
    "\n",
    "/home/chrishah/src/PAML/paml4.8/bin/chi2 $k $dLRT"
   ]
  },
  {
   "cell_type": "code",
   "execution_count": 132,
   "metadata": {
    "collapsed": true
   },
   "outputs": [],
   "source": [
    "mkdir H1b"
   ]
  },
  {
   "cell_type": "code",
   "execution_count": 133,
   "metadata": {
    "collapsed": false
   },
   "outputs": [
    {
     "name": "stdout",
     "output_type": "stream",
     "text": [
      "/home/chrishah/WORKING/Diplotaxodon/per_gene/Hemoglobin-subunit-beta/target_only_01/PAML/branch-site/H1b\n"
     ]
    }
   ],
   "source": [
    "cd H1b/"
   ]
  },
  {
   "cell_type": "markdown",
   "metadata": {},
   "source": [
    "Label all branches in the sister lineage to D. limnothrissa. The '#1' sign labels only a single node. Replacing it with '$1' extends the test to all other branches in the sister group to D. limnothrissa."
   ]
  },
  {
   "cell_type": "code",
   "execution_count": 134,
   "metadata": {
    "collapsed": true
   },
   "outputs": [],
   "source": [
    "!cp ../test.tree.nwk test.tree.nwk"
   ]
  },
  {
   "cell_type": "code",
   "execution_count": 135,
   "metadata": {
    "collapsed": false
   },
   "outputs": [
    {
     "name": "stdout",
     "output_type": "stream",
     "text": [
      "(Astatotilapia_tweddlei,((Cynotilapia_afra,(Labeotropheus_trewavasae,(Genyochromis_mento,(Cynotilapia_axelrodi,(Tropheops_tropheops,((Petrotilapia_genalutea,Metriaclima_zebra),Iodotropheus_sprengerae)))))),((Diplotaxodon_limnothrissa,(Diplotaxodon_macrops,(Diplotaxodon_macrops_black_dorsal,((Diplotaxodon_greenwoodi,Pallidochromis_tokolosh),(Diplotaxodon_ngulube,Diplotaxodon_white_back_similis)))$1)),((Lethrinops_gossei,(Alticorpus_geoffreyi,((Aulonocara_minutus,(Lethrinops_sp_oliveri,(Lethrinops_longimanus_redhead,Aulonocara_yellow))),Alticorpus_macrocleithrum))),(Aulonocara_steveni,((Copadichromis_quadrimaculatus,(Copadichromis_trimaculatus,Copadichromis_virginalis)),(Mylochromis_anaphyrmus,(((Buccochromis_nototaenia,Buccochromis_rhoadesii),(Ctenopharynx_nitidus,Ctenopharynx_intermedius_1)),(((Placidochromis_longimanus_1,(Otopharynx_speciosus_1,(Taeniolethrinops_furcicauda,Stigmatochromis_guttatus))),Otopharynx_lithobates),((Placidochromis_johnstoni,Chilotilapia_rhoadesii_1),((Tyrannochromis_nigriventer,Lethrinops_auritus),((Lethrinops_albus,Lethrinops_lethrinus),((Nimbochromis_linni,(Nimbochromis_polystigma,Nimbochromis_livingstoni)),((Dimidiochromis_dimidiatus,Dimidiochromis_compressiceps),Dimidiochromis_strigatus))))))))))))));\r\n"
     ]
    }
   ],
   "source": [
    "!cat test.tree.nwk"
   ]
  },
  {
   "cell_type": "code",
   "execution_count": 136,
   "metadata": {
    "collapsed": true
   },
   "outputs": [],
   "source": [
    "!cp ../H1/codeml-H1.ctl ."
   ]
  },
  {
   "cell_type": "code",
   "execution_count": 137,
   "metadata": {
    "collapsed": false
   },
   "outputs": [
    {
     "name": "stdout",
     "output_type": "stream",
     "text": [
      "       seqfile = ../../hemoglobin-subunit-beta_full_consensus_target_only_01.nex          * sequence data filename\r\n",
      "\r\n",
      "     treefile = test.tree.nwk      * SET THIS for tree file with ML branch lengths under M0\r\n",
      "\r\n",
      "      outfile = results-H1b.txt           * main result file name\r\n",
      "        noisy = 9                     * lots of rubbish on the screen\r\n",
      "      verbose = 1                     * detailed output\r\n",
      "      runmode = 0                     * user defined tree\r\n",
      "      seqtype = 1                     * codons\r\n",
      "    CodonFreq = 2                     * F3X4 for codon ferquencies\r\n",
      "        model = 2                     * 2 or more dN/dS ratios for branches\r\n",
      "\r\n",
      "    * NSsites = 0                     * SET THIS for M0\r",
      "\r\n",
      "    * NSsites = 1                     * SET THIS for M1\r",
      "\r\n",
      "     NSsites = 2                     * SET THIS for M2\r",
      "\r\n",
      "    * NSsites = 3                     * SET THIS for M3\r\n",
      "    * NSsites = 7                     * SET THIS for M7\r",
      "\r\n",
      "    * NSsites = 8                     * SET THIS for M8\r\n",
      "\r\n",
      "        icode = 0                     * universal code\r\n",
      "    fix_kappa = 0                     * kappa fixed\r\n",
      "       kappa = 2               \t      * SET THIS to fix kappa at MLE under M0\r\n",
      "\r\n",
      "    fix_omega = 0                     * omega_1, omega at the foreground branch. 0=estimate omega for sites in the foreground branch 1=omega is fixed so that omega_1(foreground branch) = omega (background branch)\r\n",
      "        omega = 1                     * fixed omega in the background branch\r\n",
      "\r\n",
      "      * ncatG = 3                     * SET THIS for 3 site categories under M3         \r\n",
      "      * ncatG = 10                    * SET THIS for 10 of site categories under M7 and M8\r\n",
      "\r\n",
      "  fix_blength = 0                     * fixed branch lengths from tree file\r\n",
      "  cleandata = 0                       * remove sites with ambiguity data (1: yes, 0:no)?\r\n"
     ]
    }
   ],
   "source": [
    "!cat codeml-H1.ctl"
   ]
  },
  {
   "cell_type": "code",
   "execution_count": null,
   "metadata": {
    "collapsed": true
   },
   "outputs": [],
   "source": [
    "!~/src/PAML/paml4.8/bin/codeml codeml-H1.ctl #was actually run in the shell because the user was required to confirm with enter"
   ]
  },
  {
   "cell_type": "code",
   "execution_count": 138,
   "metadata": {
    "collapsed": false
   },
   "outputs": [
    {
     "name": "stdout",
     "output_type": "stream",
     "text": [
      "/home/chrishah/WORKING/Diplotaxodon/per_gene/Hemoglobin-subunit-beta/target_only_01/PAML/branch-site\n"
     ]
    }
   ],
   "source": [
    "cd .."
   ]
  },
  {
   "cell_type": "code",
   "execution_count": 155,
   "metadata": {
    "collapsed": false
   },
   "outputs": [
    {
     "name": "stdout",
     "output_type": "stream",
     "text": [
      "deltaLRT = 0.00\n",
      "degrees of freedom: 1\n",
      "\n",
      "df =  1  prob = 1.000000000 = 1.000e+00\n",
      "\n"
     ]
    }
   ],
   "source": [
    "%%bash\n",
    "\n",
    "H0_file='H0/results-H0.txt'\n",
    "H1_file='H1b/results-H1b.txt'\n",
    "\n",
    "dfM0=$(cat $H0_file | grep \"lnL\" | perl -ne 'chomp; @a=split(\" \"); $out=$a[-3]; $out =~ s/\\)\\://; $out =~ s/np\\://; print \"$out\\n\"')\n",
    "dfM1=$(cat $H1_file | grep \"lnL\" | perl -ne 'chomp; @a=split(\" \"); $out=$a[-3]; $out =~ s/\\)\\://; $out =~ s/np\\://; print \"$out\\n\"')\n",
    "\n",
    "lnLM0=$(cat $H0_file | grep \"lnL\" | perl -ne 'chomp; @a=split(\" \"); $out=$a[-2]; print \"$out\\n\"')\n",
    "lnLM1=$(cat $H1_file | grep \"lnL\" | perl -ne 'chomp; @a=split(\" \"); $out=$a[-2]; print \"$out\\n\"')\n",
    "\n",
    "k=$(($dfM1-$dfM0))\n",
    "dLRT=$(echo -e \"$lnLM0 $lnLM1\" | perl -ne 'chomp; @a=split(\" \"); $LRT=2*($a[1]-$a[0]); $out=sprintf(\"%.2f\",$LRT); print \"$out\\n\"')\n",
    "\n",
    "echo -e \"deltaLRT = $dLRT\"\n",
    "echo -e \"degrees of freedom: $k\"\n",
    "\n",
    "/home/chrishah/src/PAML/paml4.8/bin/chi2 $k $dLRT"
   ]
  },
  {
   "cell_type": "code",
   "execution_count": 141,
   "metadata": {
    "collapsed": false
   },
   "outputs": [
    {
     "name": "stdout",
     "output_type": "stream",
     "text": [
      "/home/chrishah/WORKING/Diplotaxodon/per_gene/Hemoglobin-subunit-beta\n"
     ]
    }
   ],
   "source": [
    "cd ../../.."
   ]
  },
  {
   "cell_type": "code",
   "execution_count": null,
   "metadata": {
    "collapsed": false
   },
   "outputs": [],
   "source": []
  },
  {
   "cell_type": "code",
   "execution_count": 142,
   "metadata": {
    "collapsed": true
   },
   "outputs": [],
   "source": [
    "mkdir target_only_02"
   ]
  },
  {
   "cell_type": "code",
   "execution_count": 143,
   "metadata": {
    "collapsed": false
   },
   "outputs": [
    {
     "name": "stdout",
     "output_type": "stream",
     "text": [
      "/home/chrishah/WORKING/Diplotaxodon/per_gene/Hemoglobin-subunit-beta/target_only_02\n"
     ]
    }
   ],
   "source": [
    "cd target_only_02/"
   ]
  },
  {
   "cell_type": "code",
   "execution_count": 144,
   "metadata": {
    "collapsed": false
   },
   "outputs": [
    {
     "name": "stdout",
     "output_type": "stream",
     "text": [
      "Total length: 444\n",
      "\n",
      "A_calliptera_Bua\n",
      "A_calliptera_Chitimba\n",
      "A_calliptera_Chizumulu\n",
      "A_calliptera_Enukweni\n",
      "A_calliptera_Itupi_1\n",
      "A_calliptera_Itupi_2\n",
      "A_calliptera_Itupi_3\n",
      "A_calliptera_Itupi_4\n",
      "A_calliptera_Kitai_Dam\n",
      "A_calliptera_Lake_Chidya\n",
      "A_calliptera_Lake_Chilwa\n",
      "A_calliptera_Luwawa\n",
      "A_calliptera_Mbaka_river_Female\n",
      "A_calliptera_Near_Kyela\n",
      "A_calliptera_North_Rukuru\n",
      "A_calliptera_Rovuma_river_Female\n",
      "A_calliptera_Salima_Father\n",
      "A_calliptera_Salima_Mother\n",
      "A_calliptera_Salima_Offspring\n",
      "A_calliptera_Songwe_River\n",
      "A_calliptera_South_Rukuru\n",
      "A_calliptera_Upper_Rovuma\n",
      "Alticorpus_geoffreyi\n",
      "Alticorpus_macrocleithrum\n",
      "Astatotilapia_Kingiri\n",
      "Astatotilapia_rujewa\n",
      "Astatotilapia_tweddlei\n",
      "Aulonocara_minutus\n",
      "Aulonocara_steveni\n",
      "Aulonocara_stuartgranti_Father\n",
      "Aulonocara_stuartgranti_Mother\n",
      "Aulonocara_stuartgranti_Offspring\n",
      "Aulonocara_yellow\n",
      "Buccochromis_nototaenia\n",
      "Buccochromis_rhoadesii\n",
      "Champsochromis_caeruelus_1\n",
      "Champsochromis_caeruelus_2\n",
      "Chilotilapia_rhoadesii_1\n",
      "Chilotilapia_rhoadesii_2\n",
      "Chilotilapia_rhoadesii_3\n",
      "Chilotilapia_rhoadesii_4\n",
      "Copadichromis_likomae\n",
      "Copadichromis_mloto\n",
      "Copadichromis_quadrimaculatus\n",
      "Copadichromis_trimaculatus\n",
      "Copadichromis_virginalis\n",
      "Copadichromis_virginalis_2\n",
      "Copadichromis_virginalis_3\n",
      "Copadichromis_virginalis_4\n",
      "Copadichromis_virginalis_5\n",
      "Copadichromis_virginalis_LM_1\n",
      "Copadichromis_virginalis_LM_3\n",
      "Ctenopharynx_intermedius_1\n",
      "Ctenopharynx_intermedius_2\n",
      "Ctenopharynx_intermedius_3\n",
      "Ctenopharynx_nitidus\n",
      "Ctenopharynx_nitidus_2\n",
      "Cyathochromis_obliquidens\n",
      "Cynotilapia_afra\n",
      "Cynotilapia_axelrodi\n",
      "Dimidiochromis_compressiceps\n",
      "Dimidiochromis_dimidiatus\n",
      "Dimidiochromis_kiwinge\n",
      "Dimidiochromis_strigatus\n",
      "Dimidiochromis_strigatus_2\n",
      "Diplotaxodon_greenwoodi\n",
      "Diplotaxodon_limnothrissa\n",
      "Diplotaxodon_macrops\n",
      "Diplotaxodon_macrops_black_dorsal\n",
      "Diplotaxodon_ngulube\n",
      "Diplotaxodon_white_back_similis\n",
      "Fossorochromis_rostratus_3\n",
      "Fossorochromis_rostratus_4\n",
      "Genyochromis_mento\n",
      "Hemitaenichromis_spilopterus\n",
      "Hemitaeniochromis_spilopterus_2\n",
      "Hemitilapia_oxyrhynchus\n",
      "Hemitilapia_oxyrhynchus_2\n",
      "Iodotropheus_sprengerae\n",
      "Labeotropheus_trewavasae\n",
      "Lethrinops_albus\n",
      "Lethrinops_auritus\n",
      "Lethrinops_gossei\n",
      "Lethrinops_lethrinus\n",
      "Lethrinops_lethrinus_Mazinzi_Father\n",
      "Lethrinops_lethrinus_Mazinzi_Mother\n",
      "Lethrinops_lethrinus_Mazinzi_Offspring\n",
      "Lethrinops_longimanus_redhead\n",
      "Lethrinops_sp_oliveri\n",
      "Massoko_benthic_HC_1\n",
      "Massoko_benthic_HC_2\n",
      "Massoko_benthic_HC_3\n",
      "Massoko_benthic_HC_4\n",
      "Massoko_benthic_HC_5\n",
      "Massoko_benthic_HC_6\n",
      "Massoko_littoral_HC_1\n",
      "Massoko_littoral_HC_2\n",
      "Massoko_littoral_HC_3\n",
      "Massoko_littoral_HC_4\n",
      "Massoko_littoral_HC_5\n",
      "Massoko_littoral_HC_6\n",
      "Metriaclima_zebra\n",
      "Mylochromis_anaphyrmus\n",
      "Mylochromis_anaphyrmus_2\n",
      "Mylochromis_anaphyrmus_3\n",
      "Mylochromis_anaphyrmus_4\n",
      "Mylochromis_anaphyrmus_5\n",
      "Mylochromis_ericotaenia\n",
      "Mylochromis_melanotaenia\n",
      "Nimbochromis_linni\n",
      "Nimbochromis_livingstoni\n",
      "Nimbochromis_polystigma\n",
      "Otopharynx_brooksi_nkhata\n",
      "Otopharynx_lithobates\n",
      "Otopharynx_speciosus_1\n",
      "Otopharynx_speciosus_2\n",
      "Otopharynx_tetrastigma\n",
      "Pallidochromis_tokolosh\n",
      "Petrotilapia_genalutea\n",
      "Placidochromis_electra\n",
      "Placidochromis_johnstoni\n",
      "Placidochromis_longimanus_1\n",
      "Placidochromis_longimanus_2\n",
      "Placidochromis_longimanus_3\n",
      "Placidochromis_longimanus_4\n",
      "Placidochromis_longimanus_5\n",
      "Placidochromis_milomo\n",
      "Placidochromis_subocularis_1\n",
      "Placidochromis_subocularis_2\n",
      "Placidochromis_subocularis_3\n",
      "Placidochromis_subocularis_4\n",
      "Placidochromis_subocularis_5\n",
      "Placidochromis_subocularis_6\n",
      "Placidochromis_subocularis_7\n",
      "Placidochromis_subocularis_8\n",
      "Protomelas_ornatus_1\n",
      "Protomelas_ornatus_2\n",
      "Rhamphochromis_esox\n",
      "Rhamphochromis_kingiri_brevis\n",
      "Rhamphochromis_kingiri_dwarf\n",
      "Rhamphochromis_longiceps\n",
      "Rhamphochromis_woodi\n",
      "Serranochromis_robustus\n",
      "Stigmatochromis_guttatus\n",
      "Stigmatochromis_modestus\n",
      "Taeniochromis_holotaenia\n",
      "Taeniolethrinops_furcicauda\n",
      "Taeniolethrinops_macrorhynchus\n",
      "Taeniolethrinops_praeorbitalis\n",
      "Trematocranus_placodon_2\n",
      "Trematocranus_placodon_3\n",
      "Trematocranus_placodon_4\n",
      "Trematocranus_placodon_5\n",
      "Tremitochranus_placodon\n",
      "Tropheops_tropheops\n",
      "Tyrannochromis_nigriventer\n"
     ]
    }
   ],
   "source": [
    "from Bio import AlignIO\n",
    "\n",
    "ali = AlignIO.read(open(\"../hemoglobin-subunit-beta_full_consensus.fas\", 'r'),'fasta')\n",
    "\n",
    "total_length = len(ali[0, :].seq)\n",
    "print \"Total length: %s\\n\" %total_length\n",
    "\n",
    "sps = []\n",
    "\n",
    "for rec in ali:\n",
    "    sps.append(rec.id)\n",
    "    \n",
    "for sp in sorted(sps):\n",
    "    print sp"
   ]
  },
  {
   "cell_type": "code",
   "execution_count": 145,
   "metadata": {
    "collapsed": true
   },
   "outputs": [],
   "source": [
    "target_list = ['Alticorpus_geoffreyi',\n",
    "               'Alticorpus_macrocleithrum',\n",
    "               'Astatotilapia_rujewa',\n",
    "               'Astatotilapia_tweddlei',\n",
    "               'Aulonocara_minutus',\n",
    "               'Aulonocara_steveni',\n",
    "               'Aulonocara_yellow',\n",
    "               'Buccochromis_nototaenia',\n",
    "               'Buccochromis_rhoadesii',\n",
    "               'Chilotilapia_rhoadesii_1',\n",
    "               'Copadichromis_likomae',\n",
    "               'Copadichromis_mloto',\n",
    "               'Copadichromis_quadrimaculatus',\n",
    "               'Copadichromis_trimaculatus',\n",
    "               'Copadichromis_virginalis',\n",
    "               'Ctenopharynx_nitidus',\n",
    "               'Ctenopharynx_intermedius_1',\n",
    "               'Cynotilapia_afra',\n",
    "               'Cynotilapia_axelrodi',\n",
    "               'Dimidiochromis_compressiceps',\n",
    "               'Dimidiochromis_dimidiatus',\n",
    "               'Dimidiochromis_kiwinge',\n",
    "               'Dimidiochromis_strigatus',\n",
    "               'Diplotaxodon_greenwoodi',\n",
    "               'Diplotaxodon_limnothrissa',\n",
    "               'Diplotaxodon_macrops',\n",
    "               'Diplotaxodon_macrops_black_dorsal',\n",
    "               'Diplotaxodon_ngulube',\n",
    "               'Diplotaxodon_white_back_similis',\n",
    "               'Hemitaenichromis_spilopterus',\n",
    "               'Hemitilapia_oxyrhynchus',\n",
    "               'Iodotropheus_sprengerae',\n",
    "               'Labeotropheus_trewavasae',\n",
    "               'Lethrinops_albus',\n",
    "               'Lethrinops_auritus',\n",
    "               'Lethrinops_lethrinus',\n",
    "               'Lethrinops_gossei',\n",
    "               'Lethrinops_longimanus_redhead',\n",
    "               'Lethrinops_sp_oliveri',\n",
    "               'Metriaclima_zebra',\n",
    "               'Mylochromis_anaphyrmus',\n",
    "               'Mylochromis_ericotaenia',\n",
    "               'Mylochromis_melanotaenia',\n",
    "               'Nimbochromis_linni',\n",
    "               'Nimbochromis_livingstoni',\n",
    "               'Nimbochromis_polystigma',\n",
    "               'Otopharynx_lithobates',\n",
    "               'Otopharynx_speciosus_1',\n",
    "               'Pallidochromis_tokolosh',\n",
    "               'Genyochromis_mento',\n",
    "               'Petrotilapia_genalutea',\n",
    "               'Placidochromis_johnstoni',\n",
    "               'Placidochromis_longimanus_1',\n",
    "               'Placidochromis_subocularis_1',\n",
    "               'Stigmatochromis_guttatus',\n",
    "               'Tropheops_tropheops',\n",
    "               'Taeniolethrinops_furcicauda',\n",
    "               'Tyrannochromis_nigriventer']"
   ]
  },
  {
   "cell_type": "code",
   "execution_count": 146,
   "metadata": {
    "collapsed": false
   },
   "outputs": [
    {
     "data": {
      "text/plain": [
       "1"
      ]
     },
     "execution_count": 146,
     "metadata": {},
     "output_type": "execute_result"
    }
   ],
   "source": [
    "from Bio import AlignIO\n",
    "from Bio.Alphabet import generic_dna\n",
    "from Bio.Align import MultipleSeqAlignment\n",
    "\n",
    "reduced_ali = MultipleSeqAlignment([],alphabet=generic_dna)\n",
    "\n",
    "for rec in ali:\n",
    "    if rec.id in target_list:\n",
    "            reduced_ali.append(rec)\n",
    "\n",
    "AlignIO.write(reduced_ali[:,:], 'hemoglobin-subunit-beta_full_consensus_target_only_02.fas', 'fasta')"
   ]
  },
  {
   "cell_type": "code",
   "execution_count": 151,
   "metadata": {
    "collapsed": false
   },
   "outputs": [
    {
     "data": {
      "text/plain": [
       "1"
      ]
     },
     "execution_count": 151,
     "metadata": {},
     "output_type": "execute_result"
    }
   ],
   "source": [
    "AlignIO.write(reduced_ali[:,:], 'hemoglobin-subunit-beta_full_consensus_target_only_02.nex', 'nexus')"
   ]
  },
  {
   "cell_type": "code",
   "execution_count": 152,
   "metadata": {
    "collapsed": true
   },
   "outputs": [],
   "source": [
    "raxml_tree = open('../../../Phylogeny/s215/target_only_02/RAxML_bipartitions.s215_consensus_target_only_2.nobranchlenghts.nwk', 'r')\n",
    "\n",
    "tree = raxml_tree.next().strip()\n",
    "\n",
    "nex_file = open('hemoglobin-subunit-beta_full_consensus_target_only_02.nex', 'a')\n",
    "\n",
    "nex_file.write('begin trees;\\n\\ttree tree1 = %s\\nend;' %tree)\n",
    "\n",
    "nex_file.close()"
   ]
  },
  {
   "cell_type": "markdown",
   "metadata": {},
   "source": [
    "Submit to [datamonkey.org](http://datamonkey.org/) for tests of selection."
   ]
  },
  {
   "cell_type": "code",
   "execution_count": 153,
   "metadata": {
    "collapsed": false
   },
   "outputs": [
    {
     "name": "stdout",
     "output_type": "stream",
     "text": [
      "/home/chrishah/WORKING/Diplotaxodon/per_gene/Hemoglobin-subunit-beta\n"
     ]
    }
   ],
   "source": [
    "cd .."
   ]
  },
  {
   "cell_type": "code",
   "execution_count": null,
   "metadata": {
    "collapsed": true
   },
   "outputs": [],
   "source": []
  },
  {
   "cell_type": "code",
   "execution_count": 170,
   "metadata": {
    "collapsed": true
   },
   "outputs": [],
   "source": [
    "!mkdir branch-site-incl_branchlenths"
   ]
  },
  {
   "cell_type": "code",
   "execution_count": 171,
   "metadata": {
    "collapsed": false
   },
   "outputs": [
    {
     "name": "stdout",
     "output_type": "stream",
     "text": [
      "/home/chrishah/WORKING/Diplotaxodon/per_gene/Hemoglobin-subunit-beta/target_only_01/PAML/branch-site-incl_branchlenths\n"
     ]
    }
   ],
   "source": [
    "cd branch-site-incl_branchlenths/"
   ]
  },
  {
   "cell_type": "code",
   "execution_count": null,
   "metadata": {
    "collapsed": true
   },
   "outputs": [],
   "source": []
  },
  {
   "cell_type": "code",
   "execution_count": 172,
   "metadata": {
    "collapsed": false
   },
   "outputs": [],
   "source": [
    "!cp ../../../../../Phylogeny/s215/target_only_01/RAxML_bipartitions.s215_consensus_target_only_1.rooted_branchlenghts.nwk test.tree.nwk"
   ]
  },
  {
   "cell_type": "code",
   "execution_count": 174,
   "metadata": {
    "collapsed": false
   },
   "outputs": [],
   "source": [
    "!sed -i 's/NoName//g' test.tree.nwk"
   ]
  },
  {
   "cell_type": "code",
   "execution_count": 175,
   "metadata": {
    "collapsed": false
   },
   "outputs": [
    {
     "name": "stdout",
     "output_type": "stream",
     "text": [
      "(Astatotilapia_tweddlei:0.00356717,((Cynotilapia_afra:0.000268777,(Labeotropheus_trewavasae:0.000643404,(Genyochromis_mento:0.000429019,(Cynotilapia_axelrodi:0.000345994,(Tropheops_tropheops:0.000426432,((Petrotilapia_genalutea:0.000272623,Metriaclima_zebra:0.000286101):0.000124803,Iodotropheus_sprengerae:0.000425813):5.41121e-05):8.29717e-05):0.000177447):7.31269e-05):0.00015762):0.000233069,((Diplotaxodon_limnothrissa:0.000101939,(Diplotaxodon_macrops:0.000103663,(Diplotaxodon_macrops_black_dorsal:5.12076e-05,((Diplotaxodon_greenwoodi:8.36796e-05,Pallidochromis_tokolosh:0.000147369):6.64246e-05,(Diplotaxodon_ngulube:1.98722e-05,Diplotaxodon_white_back_similis:7.25909e-06):6.26565e-05):0.00012382):0.000204328)#1:7.3003e-05):0.000449746,((Lethrinops_gossei:0.000193048,(Alticorpus_geoffreyi:0.000280209,((Aulonocara_minutus:0.000126783,(Lethrinops_sp_oliveri:0.000225469,(Lethrinops_longimanus_redhead:6.56817e-05,Aulonocara_yellow:0.000135217):5.01447e-05):6.66433e-05):0.000111952,Alticorpus_macrocleithrum:0.000560478):0.000112476):6.39747e-05):0.000132495,(Aulonocara_steveni:0.000288032,((Copadichromis_quadrimaculatus:0.000184141,(Copadichromis_trimaculatus:0.000424938,Copadichromis_virginalis:0.000138561):9.01625e-05):9.47923e-05,(Mylochromis_anaphyrmus:0.000659741,(((Buccochromis_nototaenia:4.50882e-05,Buccochromis_rhoadesii:3.91118e-05):0.000365014,(Ctenopharynx_nitidus:3.73339e-05,Ctenopharynx_intermedius_1:9.59749e-05):0.00028775):9.08048e-05,(((Placidochromis_longimanus_1:0.000119022,(Otopharynx_speciosus_1:0.000173376,(Taeniolethrinops_furcicauda:0.000146995,Stigmatochromis_guttatus:0.000465443):4.83235e-05):0.000105572):9.35753e-05,Otopharynx_lithobates:0.000755886):9.80863e-05,((Placidochromis_johnstoni:0.000494607,Chilotilapia_rhoadesii_1:0.000380136):0.000224804,((Tyrannochromis_nigriventer:0.000409408,Lethrinops_auritus:0.000151134):4.08679e-05,((Lethrinops_albus:0.000123382,Lethrinops_lethrinus:0.000280184):0.000146626,((Nimbochromis_linni:3.79614e-05,(Nimbochromis_polystigma:6.64282e-06,Nimbochromis_livingstoni:2.51987e-05):5.06467e-05):0.000242777,((Dimidiochromis_dimidiatus:2.40579e-05,Dimidiochromis_compressiceps:6.47e-05):0.000102801,Dimidiochromis_strigatus:5.02439e-05):0.000238187):0.000186522):7.47727e-05):0.000118262):5.05054e-05):0.00020291):0.000141396):0.000121749):7.65426e-05):6.09544e-05):0.000219278):0.000125995):0.00356717);\r\n"
     ]
    }
   ],
   "source": [
    "!cat test.tree.nwk"
   ]
  },
  {
   "cell_type": "code",
   "execution_count": 176,
   "metadata": {
    "collapsed": true
   },
   "outputs": [],
   "source": [
    "mkdir H0"
   ]
  },
  {
   "cell_type": "code",
   "execution_count": 180,
   "metadata": {
    "collapsed": false
   },
   "outputs": [
    {
     "name": "stdout",
     "output_type": "stream",
     "text": [
      "/home/chrishah/WORKING/Diplotaxodon/per_gene/Hemoglobin-subunit-beta/target_only_01/PAML/branch-site-incl_branchlenths/H0\n"
     ]
    }
   ],
   "source": [
    "cd H0"
   ]
  },
  {
   "cell_type": "code",
   "execution_count": 178,
   "metadata": {
    "collapsed": true
   },
   "outputs": [],
   "source": [
    "!cp ../../branch-site/H0/codeml-H0.ctl ."
   ]
  },
  {
   "cell_type": "code",
   "execution_count": 181,
   "metadata": {
    "collapsed": false
   },
   "outputs": [
    {
     "name": "stdout",
     "output_type": "stream",
     "text": [
      "       seqfile = ../../hemoglobin-subunit-beta_full_consensus_target_only_01.nex          * sequence data filename\r\n",
      "\r\n",
      "     treefile = ../test.tree.nwk      * SET THIS for tree file with ML branch lengths under M0\r\n",
      "\r\n",
      "      outfile = results-H0.txt           * main result file name\r\n",
      "        noisy = 9                     * lots of rubbish on the screen\r\n",
      "      verbose = 1                     * detailed output\r\n",
      "      runmode = 0                     * user defined tree\r\n",
      "      seqtype = 1                     * codons\r\n",
      "    CodonFreq = 2                     * F3X4 for codon ferquencies\r\n",
      "        model = 2                     * 2 or more dN/dS ratios for branches\r\n",
      "\r\n",
      "    * NSsites = 0                     * SET THIS for M0\r",
      "\r\n",
      "    * NSsites = 1                     * SET THIS for M1\r",
      "\r\n",
      "     NSsites = 2                     * SET THIS for M2\r",
      "\r\n",
      "    * NSsites = 3                     * SET THIS for M3\r\n",
      "    * NSsites = 7                     * SET THIS for M7\r",
      "\r\n",
      "    * NSsites = 8                     * SET THIS for M8\r\n",
      "\r\n",
      "        icode = 0                     * universal code\r\n",
      "    fix_kappa = 0                     * kappa fixed\r\n",
      "       kappa = 2               \t      * SET THIS to fix kappa at MLE under M0\r\n",
      "\r\n",
      "    fix_omega = 1                     * omega fixed \r\n",
      "        omega = 1                     * initial omega\r\n",
      "\r\n",
      "      * ncatG = 3                     * SET THIS for 3 site categories under M3         \r\n",
      "      * ncatG = 10                    * SET THIS for 10 of site categories under M7 and M8\r\n",
      "\r\n",
      "  fix_blength = 2                     * use branch lengths in provided tree\r\n",
      "  cleandata = 0                       * remove sites with ambiguity data (1: yes, 0:no)?\r\n"
     ]
    }
   ],
   "source": [
    "!cat codeml-H0.ctl"
   ]
  },
  {
   "cell_type": "code",
   "execution_count": null,
   "metadata": {
    "collapsed": true
   },
   "outputs": [],
   "source": [
    "!~/src/PAML/paml4.8/bin/codeml codeml-H0.ctl #was actually run in the shell because the user was required to confirm with enter"
   ]
  },
  {
   "cell_type": "code",
   "execution_count": 182,
   "metadata": {
    "collapsed": false
   },
   "outputs": [
    {
     "name": "stdout",
     "output_type": "stream",
     "text": [
      "/home/chrishah/WORKING/Diplotaxodon/per_gene/Hemoglobin-subunit-beta/target_only_01/PAML/branch-site-incl_branchlenths\n"
     ]
    }
   ],
   "source": [
    "cd .."
   ]
  },
  {
   "cell_type": "code",
   "execution_count": 183,
   "metadata": {
    "collapsed": true
   },
   "outputs": [],
   "source": [
    "!mkdir H1"
   ]
  },
  {
   "cell_type": "code",
   "execution_count": 184,
   "metadata": {
    "collapsed": false
   },
   "outputs": [
    {
     "name": "stdout",
     "output_type": "stream",
     "text": [
      "/home/chrishah/WORKING/Diplotaxodon/per_gene/Hemoglobin-subunit-beta/target_only_01/PAML/branch-site-incl_branchlenths/H1\n"
     ]
    }
   ],
   "source": [
    "cd H1"
   ]
  },
  {
   "cell_type": "code",
   "execution_count": 185,
   "metadata": {
    "collapsed": true
   },
   "outputs": [],
   "source": [
    "!cp ../H0/codeml-H0.ctl codeml-H1.ctl"
   ]
  },
  {
   "cell_type": "code",
   "execution_count": 186,
   "metadata": {
    "collapsed": false
   },
   "outputs": [
    {
     "name": "stdout",
     "output_type": "stream",
     "text": [
      "       seqfile = ../../hemoglobin-subunit-beta_full_consensus_target_only_01.nex          * sequence data filename\r\n",
      "\r\n",
      "     treefile = ../test.tree.nwk      * SET THIS for tree file with ML branch lengths under M0\r\n",
      "\r\n",
      "      outfile = results-H1.txt           * main result file name\r\n",
      "        noisy = 9                     * lots of rubbish on the screen\r\n",
      "      verbose = 1                     * detailed output\r\n",
      "      runmode = 0                     * user defined tree\r\n",
      "      seqtype = 1                     * codons\r\n",
      "    CodonFreq = 2                     * F3X4 for codon ferquencies\r\n",
      "        model = 2                     * 2 or more dN/dS ratios for branches\r\n",
      "\r\n",
      "    * NSsites = 0                     * SET THIS for M0\r",
      "\r\n",
      "    * NSsites = 1                     * SET THIS for M1\r",
      "\r\n",
      "     NSsites = 2                     * SET THIS for M2\r",
      "\r\n",
      "    * NSsites = 3                     * SET THIS for M3\r\n",
      "    * NSsites = 7                     * SET THIS for M7\r",
      "\r\n",
      "    * NSsites = 8                     * SET THIS for M8\r\n",
      "\r\n",
      "        icode = 0                     * universal code\r\n",
      "    fix_kappa = 0                     * kappa fixed\r\n",
      "       kappa = 2               \t      * SET THIS to fix kappa at MLE under M0\r\n",
      "\r\n",
      "    fix_omega = 0                     * omega_1, omega at the foreground branch. 0=estimate omega for sites in the foreground branch 1=omega is fixed so that omega_1(foreground branch) = omega (background branch)\r\n",
      "        omega = 1                     * initial omega\r\n",
      "\r\n",
      "      * ncatG = 3                     * SET THIS for 3 site categories under M3         \r\n",
      "      * ncatG = 10                    * SET THIS for 10 of site categories under M7 and M8\r\n",
      "\r\n",
      "  fix_blength = 2                     * use branch lengths in provided tree\r\n",
      "  cleandata = 0                       * remove sites with ambiguity data (1: yes, 0:no)?\r\n"
     ]
    }
   ],
   "source": [
    "!cat codeml-H1.ctl"
   ]
  },
  {
   "cell_type": "code",
   "execution_count": null,
   "metadata": {
    "collapsed": true
   },
   "outputs": [],
   "source": [
    "!~/src/PAML/paml4.8/bin/codeml codeml-H1.ctl #was actually run in the shell because the user was required to confirm with enter"
   ]
  },
  {
   "cell_type": "code",
   "execution_count": 187,
   "metadata": {
    "collapsed": false
   },
   "outputs": [
    {
     "name": "stdout",
     "output_type": "stream",
     "text": [
      "/home/chrishah/WORKING/Diplotaxodon/per_gene/Hemoglobin-subunit-beta/target_only_01/PAML/branch-site-incl_branchlenths\n"
     ]
    }
   ],
   "source": [
    "cd .."
   ]
  },
  {
   "cell_type": "code",
   "execution_count": 188,
   "metadata": {
    "collapsed": false
   },
   "outputs": [
    {
     "name": "stdout",
     "output_type": "stream",
     "text": [
      "deltaLRT = 0.03\n",
      "degrees of freedom: 1\n",
      "\n",
      "df =  1  prob = 0.862490230 = 8.625e-01\n",
      "\n"
     ]
    }
   ],
   "source": [
    "%%bash\n",
    "\n",
    "H0_file='H0/results-H0.txt'\n",
    "H1_file='H1/results-H1.txt'\n",
    "\n",
    "dfM0=$(cat $H0_file | grep \"lnL\" | perl -ne 'chomp; @a=split(\" \"); $out=$a[-3]; $out =~ s/\\)\\://; $out =~ s/np\\://; print \"$out\\n\"')\n",
    "dfM1=$(cat $H1_file | grep \"lnL\" | perl -ne 'chomp; @a=split(\" \"); $out=$a[-3]; $out =~ s/\\)\\://; $out =~ s/np\\://; print \"$out\\n\"')\n",
    "\n",
    "lnLM0=$(cat $H0_file | grep \"lnL\" | perl -ne 'chomp; @a=split(\" \"); $out=$a[-2]; print \"$out\\n\"')\n",
    "lnLM1=$(cat $H1_file | grep \"lnL\" | perl -ne 'chomp; @a=split(\" \"); $out=$a[-2]; print \"$out\\n\"')\n",
    "\n",
    "k=$(($dfM1-$dfM0))\n",
    "dLRT=$(echo -e \"$lnLM0 $lnLM1\" | perl -ne 'chomp; @a=split(\" \"); $LRT=2*($a[1]-$a[0]); $out=sprintf(\"%.2f\",$LRT); print \"$out\\n\"')\n",
    "\n",
    "echo -e \"deltaLRT = $dLRT\"\n",
    "echo -e \"degrees of freedom: $k\"\n",
    "\n",
    "/home/chrishah/src/PAML/paml4.8/bin/chi2 $k $dLRT"
   ]
  }
 ],
 "metadata": {
  "kernelspec": {
   "display_name": "Python 2",
   "language": "python",
   "name": "python2"
  },
  "language_info": {
   "codemirror_mode": {
    "name": "ipython",
    "version": 2
   },
   "file_extension": ".py",
   "mimetype": "text/x-python",
   "name": "python",
   "nbconvert_exporter": "python",
   "pygments_lexer": "ipython2",
   "version": "2.7.12"
  }
 },
 "nbformat": 4,
 "nbformat_minor": 0
}
